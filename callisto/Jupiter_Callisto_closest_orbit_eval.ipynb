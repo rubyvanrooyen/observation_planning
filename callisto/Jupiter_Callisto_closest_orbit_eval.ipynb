{
  "nbformat": 4,
  "nbformat_minor": 0,
  "metadata": {
    "colab": {
      "name": "Jupiter/Callisto closest orbit eval.ipynb",
      "provenance": [],
      "authorship_tag": "ABX9TyNOOszpFET8DU6xtodQRLG3",
      "include_colab_link": true
    },
    "kernelspec": {
      "name": "python3",
      "display_name": "Python 3"
    },
    "language_info": {
      "name": "python"
    }
  },
  "cells": [
    {
      "cell_type": "markdown",
      "metadata": {
        "id": "view-in-github",
        "colab_type": "text"
      },
      "source": [
        "<a href=\"https://colab.research.google.com/github/rubyvanrooyen/observation_planning/blob/main/callisto/Jupiter_Callisto_closest_orbit_eval.ipynb\" target=\"_parent\"><img src=\"https://colab.research.google.com/assets/colab-badge.svg\" alt=\"Open In Colab\"/></a>"
      ]
    },
    {
      "cell_type": "code",
      "metadata": {
        "id": "AgdjPGGsmVCI"
      },
      "source": [
        "import ephem\n",
        "import numpy as np\n",
        "from pprint import pprint\n",
        "from datetime import datetime"
      ],
      "execution_count": 1,
      "outputs": []
    },
    {
      "cell_type": "code",
      "metadata": {
        "id": "HwtIU4J9qOAV",
        "colab": {
          "base_uri": "https://localhost:8080/"
        },
        "outputId": "0efdddb5-2ae0-469b-ffd0-f6e53f95b635"
      },
      "source": [
        "# print known planets and planet moons in ephem\n",
        "pprint(ephem._libastro.builtin_planets())"
      ],
      "execution_count": 2,
      "outputs": [
        {
          "output_type": "stream",
          "name": "stdout",
          "text": [
            "[(0, 'Planet', 'Mercury'),\n",
            " (1, 'Planet', 'Venus'),\n",
            " (2, 'Planet', 'Mars'),\n",
            " (3, 'Planet', 'Jupiter'),\n",
            " (4, 'Planet', 'Saturn'),\n",
            " (5, 'Planet', 'Uranus'),\n",
            " (6, 'Planet', 'Neptune'),\n",
            " (7, 'Planet', 'Pluto'),\n",
            " (8, 'Planet', 'Sun'),\n",
            " (9, 'Planet', 'Moon'),\n",
            " (10, 'PlanetMoon', 'Phobos'),\n",
            " (11, 'PlanetMoon', 'Deimos'),\n",
            " (12, 'PlanetMoon', 'Io'),\n",
            " (13, 'PlanetMoon', 'Europa'),\n",
            " (14, 'PlanetMoon', 'Ganymede'),\n",
            " (15, 'PlanetMoon', 'Callisto'),\n",
            " (16, 'PlanetMoon', 'Mimas'),\n",
            " (17, 'PlanetMoon', 'Enceladus'),\n",
            " (18, 'PlanetMoon', 'Tethys'),\n",
            " (19, 'PlanetMoon', 'Dione'),\n",
            " (20, 'PlanetMoon', 'Rhea'),\n",
            " (21, 'PlanetMoon', 'Titan'),\n",
            " (22, 'PlanetMoon', 'Hyperion'),\n",
            " (23, 'PlanetMoon', 'Iapetus'),\n",
            " (24, 'PlanetMoon', 'Ariel'),\n",
            " (25, 'PlanetMoon', 'Umbriel'),\n",
            " (26, 'PlanetMoon', 'Titania'),\n",
            " (27, 'PlanetMoon', 'Oberon'),\n",
            " (28, 'PlanetMoon', 'Miranda')]\n"
          ]
        }
      ]
    },
    {
      "cell_type": "markdown",
      "metadata": {
        "id": "oXvBvW_EmhcS"
      },
      "source": [
        "ASCII art for simple display of Jovian moon orbital distance from Jupiter"
      ]
    },
    {
      "cell_type": "code",
      "metadata": {
        "id": "LOjSII9FrS_Q",
        "colab": {
          "base_uri": "https://localhost:8080/"
        },
        "outputId": "e5d9ccf3-fbb4-4dab-a3d4-a7dadb36e8f9"
      },
      "source": [
        "import ephem\n",
        "\n",
        "moons = ((ephem.Io(), 'i'),\n",
        "         (ephem.Europa(), 'e'),\n",
        "         (ephem.Ganymede(), 'g'),\n",
        "         (ephem.Callisto(), 'c'))\n",
        "\n",
        "# How to place discrete characters on a line that actually represents\n",
        "# the real numbers -maxradii to +maxradii.\n",
        "\n",
        "linelen = 65\n",
        "maxradii = 30.\n",
        "\n",
        "def put(line, character, radii):\n",
        "    if abs(radii) > maxradii:\n",
        "        return\n",
        "    offset = radii / maxradii * (linelen - 1) / 2\n",
        "    i = int(linelen / 2 + offset)\n",
        "    line[i] = character\n",
        "\n",
        "interval = ephem.hour * 3\n",
        "\n",
        "now = ephem.now()\n",
        "# or set a date\n",
        "# date_str = '{}/{:02d}/{:02d}'.format(2021, 9, 3)\n",
        "# date_str = '{}/{:02d}/{:02d}'.format(2021, 9, 21)\n",
        "# date_str = '{}/{:02d}/{:02d}'.format(2021, 10, 7)\n",
        "# date_str = '{}/{:02d}/{:02d}'.format(2021, 10, 16)\n",
        "# date_str = '{}/{:02d}/{:02d}'.format(2021, 11, 1)\n",
        "# date_str = '{}/{:02d}/{:02d}'.format(2021, 11, 18)\n",
        "date_str = '{}/{:02d}/{:02d}'.format(2021, 12, 5)\n",
        "today = datetime.strptime(date_str, '%Y/%m/%d')\n",
        "now = ephem.Date(today)\n",
        "\n",
        "now -= now % interval\n",
        "\n",
        "t = now\n",
        "#while t < now + 2:\n",
        "while t < now + 17:\n",
        "    line = [' '] * linelen\n",
        "    put(line, 'J', 0)\n",
        "    for moon, character in moons:\n",
        "        moon.compute(t)\n",
        "        put(line, character, moon.x)\n",
        "    print(str(ephem.date(t))[5:], ''.join(line).rstrip())\n",
        "    t += interval\n",
        "\n",
        "print('East is to the right;')\n",
        "print(', '.join([ '%s = %s' % (c, m.name) for m, c in moons ]))"
      ],
      "execution_count": 3,
      "outputs": [
        {
          "output_type": "stream",
          "name": "stdout",
          "text": [
            "12/5 00:00:00                         e    i  J    g                  c\n",
            "12/5 03:00:00                          e     iJ      g                c\n",
            "12/5 06:00:00                            e    J i     g                c\n",
            "12/5 09:00:00                              e  J   i     g              c\n",
            "12/5 12:00:00                                eJ     i    g             c\n",
            "12/5 15:00:00                                 Je    i     g             c\n",
            "12/5 18:00:00                                 J  e i       g            c\n",
            "12/5 21:00:00                                 J  i e        g           c\n",
            "12/6 00:00:00                                 Ji    e       g           c\n",
            "12/6 03:00:00                               i J       e      g          c\n",
            "12/6 06:00:00                             i   J        e     g          c\n",
            "12/6 09:00:00                            i    J        e     g          c\n",
            "12/6 12:00:00                           i     J        e     g          c\n",
            "12/6 15:00:00                            i    J        e     g          c\n",
            "12/6 18:00:00                              i  J       e     g          c\n",
            "12/6 21:00:00                                iJ      e     g           c\n",
            "12/7 00:00:00                                 Ji   e       g           c\n",
            "12/7 03:00:00                                 J  ei       g           c\n",
            "12/7 06:00:00                                 Je   i     g            c\n",
            "12/7 09:00:00                                eJ     i  g             c\n",
            "12/7 12:00:00                              e  J    i  g              c\n",
            "12/7 15:00:00                            e    J   i  g              c\n",
            "12/7 18:00:00                           e     Ji   g                c\n",
            "12/7 21:00:00                         e      iJ   g                c\n",
            "12/8 00:00:00                        e    i   J g                 c\n",
            "12/8 03:00:00                        e   i    Jg                 c\n",
            "12/8 06:00:00                        e  i    gJ                 c\n",
            "12/8 09:00:00                        e   i g  J                 c\n",
            "12/8 12:00:00                         e   g   J                c\n",
            "12/8 15:00:00                          eg   i J               c\n",
            "12/8 18:00:00                          ge     Ji             c\n",
            "12/8 21:00:00                        g    e   J  i          c\n",
            "12/9 00:00:00                       g       e J    i       c\n",
            "12/9 03:00:00                      g          e     i     c\n",
            "12/9 06:00:00                     g           J e  i     c\n",
            "12/9 09:00:00                    g            J   e    c\n",
            "12/9 12:00:00                   g             J i   e c\n",
            "12/9 15:00:00                   g            iJ      c\n",
            "12/9 18:00:00                  g           i  J     c e\n",
            "12/9 21:00:00                  g         i    J    c   e\n",
            "12/10 00:00:00                  g        i     J   c    e\n",
            "12/10 03:00:00                  g        i     J c      e\n",
            "12/10 06:00:00                   g         i   Jc      e\n",
            "12/10 09:00:00                   g           i c      e\n",
            "12/10 12:00:00                    g           cJi    e\n",
            "12/10 15:00:00                     g        c  J  ie\n",
            "12/10 18:00:00                      g      c   J e  i\n",
            "12/10 21:00:00                       g    c    e     i\n",
            "12/11 00:00:00                        g  c   e J     i\n",
            "12/11 03:00:00                         gc  e   J   i\n",
            "12/11 06:00:00                         c g     J i\n",
            "12/11 09:00:00                       c  e g    i\n",
            "12/11 12:00:00                      c  e    g  J\n",
            "12/11 15:00:00                     c  e   i  g J\n",
            "12/11 18:00:00                    c   e  i     g\n",
            "12/11 21:00:00                   c    e  i     J g\n",
            "12/12 00:00:00                  c     e    i   J  g\n",
            "12/12 03:00:00                 c       e     i J    g\n",
            "12/12 06:00:00                c          e     i     g\n",
            "12/12 09:00:00               c            e    J  i    g\n",
            "12/12 12:00:00              c               e  J    i   g\n",
            "12/12 15:00:00             c                  eJ     i   g\n",
            "12/12 18:00:00             c                   Je    i    g\n",
            "12/12 21:00:00            c                    J  e i      g\n",
            "12/13 00:00:00           c                     J  i e       g\n",
            "12/13 03:00:00           c                     i      e      g\n",
            "12/13 06:00:00          c                    i J       e     g\n",
            "12/13 09:00:00         c                   i   J        e     g\n",
            "12/13 12:00:00         c                 i     J        e     g\n",
            "12/13 15:00:00        c                  i     J        e     g\n",
            "12/13 18:00:00        c                   i    J        e     g\n",
            "12/13 21:00:00        c                     i  J       e     g\n",
            "12/14 00:00:00       c                         i      e      g\n",
            "12/14 03:00:00       c                         J i  e       g\n",
            "12/14 06:00:00       c                         J  ei       g\n",
            "12/14 09:00:00       c                         Je    i    g\n",
            "12/14 12:00:00       c                        eJ     i   g\n",
            "12/14 15:00:00       c                      e  J    i   g\n",
            "12/14 18:00:00       c                    e    J  i   g\n",
            "12/14 21:00:00       c                   e     Ji    g\n",
            "12/15 00:00:00       c                 e     i J   g\n",
            "12/15 03:00:00       c                e    i   J  g\n",
            "12/15 06:00:00       c                e  i     Jg\n",
            "12/15 09:00:00        c               e  i     g\n",
            "12/15 12:00:00        c               e   i  g J\n",
            "12/15 15:00:00         c               e   gi  J\n",
            "12/15 18:00:00         c                e g   iJ\n",
            "12/15 21:00:00          c               ge     J i\n",
            "12/16 00:00:00          c              g   e   J   i\n",
            "12/16 03:00:00           c            g      e J    i\n",
            "12/16 06:00:00            c         g          e     i\n",
            "12/16 09:00:00            c        g           J e  i\n",
            "12/16 12:00:00             c      g            J  ie\n",
            "12/16 15:00:00              c     g            Ji    e\n",
            "12/16 18:00:00               c   g           i J      e\n",
            "12/16 21:00:00                c  g         i   J       e\n",
            "12/17 00:00:00                c g         i    J        e\n",
            "12/17 03:00:00                 cg        i     J        e\n",
            "12/17 06:00:00                  c         i    J        e\n",
            "12/17 09:00:00                  g c         i  J       e\n",
            "12/17 12:00:00                   g c          iJ      e\n",
            "12/17 15:00:00                   g  c          Ji    e\n",
            "12/17 18:00:00                    g  c         J   e\n",
            "12/17 21:00:00                     g  c        J e  i\n",
            "12/18 00:00:00                      g  c       e     i\n",
            "12/18 03:00:00                       g  c    e J    i\n",
            "12/18 06:00:00                         g c e   J   i\n",
            "12/18 09:00:00                          ge c   Ji\n",
            "12/18 12:00:00                          e g c iJ\n",
            "12/18 15:00:00                         e   g c J\n",
            "12/18 18:00:00                        e   i  gcJ\n",
            "12/18 21:00:00                        e  i    gJc\n",
            "12/19 00:00:00                        e   i    Jgc\n",
            "12/19 03:00:00                        e    i   J  c\n",
            "12/19 06:00:00                         e     i J   c\n",
            "12/19 09:00:00                           e     Ji   cg\n",
            "12/19 12:00:00                            e    J  i   c\n",
            "12/19 15:00:00                              e  J    i  c\n",
            "12/19 18:00:00                                eJ     i  cg\n",
            "12/19 21:00:00                                 Je   i    cg\n",
            "12/20 00:00:00                                 J  ei      cg\n",
            "12/20 03:00:00                                 J i  e      cg\n",
            "12/20 06:00:00                                iJ      e     cg\n",
            "12/20 09:00:00                              i  J       e     c\n",
            "12/20 12:00:00                            i    J        e     c\n",
            "12/20 15:00:00                           i     J        e     gc\n",
            "12/20 18:00:00                            i    J        e     g c\n",
            "12/20 21:00:00                             i   J        e     g  c\n",
            "12/21 00:00:00                               i J       e     g    c\n",
            "12/21 03:00:00                                 Ji    e       g     c\n",
            "12/21 06:00:00                                 J  i e       g       c\n",
            "12/21 09:00:00                                 J  e i       g       c\n",
            "12/21 12:00:00                                 Je    i     g         c\n",
            "12/21 15:00:00                                eJ     i   g            c\n",
            "12/21 18:00:00                              e  J   i    g             c\n",
            "12/21 21:00:00                            e    J i     g               c\n",
            "East is to the right;\n",
            "i = Io, e = Europa, g = Ganymede, c = Callisto\n"
          ]
        }
      ]
    },
    {
      "cell_type": "code",
      "metadata": {
        "id": "uDJHlHL3pt56"
      },
      "source": [
        "interval = ephem.hour * 1.5\n",
        "#date_str = '{}/{:02d}/{:02d}'.format(2021, 8, 27)\n",
        "#date_str = '{}/{:02d}/{:02d}'.format(2021, 8, 25)\n",
        "#date_str = '{}/{:02d}/{:02d}'.format(2021, 9, 13)\n",
        "#date_str = '{}/{:02d}/{:02d}'.format(2021, 9, 29)\n",
        "#date_str = '{}/{:02d}/{:02d}'.format(2021, 10, 16)\n",
        "date_str = '{}/{:02d}/{:02d}'.format(2021, 10,31)\n",
        "today = datetime.strptime(date_str, '%Y/%m/%d')\n",
        "now = ephem.Date(today)\n",
        "now -= now % interval\n",
        "\n",
        "t = now\n",
        "#while t < now + 2:i\n",
        "while t < now + 5:\n",
        "    line = [' '] * linelen\n",
        "    put(line, 'J', 0)\n",
        "    for moon, character in moons:\n",
        "        moon.compute(t)\n",
        "        put(line, character, moon.x)\n",
        "    print(str(ephem.date(t))[5:], ''.join(line).rstrip())\n",
        "    t += interval\n",
        "\n",
        "print('East is to the right;')\n",
        "print(', '.join([ '%s = %s' % (c, m.name) for m, c in moons ]))"
      ],
      "execution_count": null,
      "outputs": []
    },
    {
      "cell_type": "code",
      "metadata": {
        "id": "FTVWY8w4Is19"
      },
      "source": [
        "# set MeerKAT as observer\n",
        "# Observer\n",
        "MKT = ephem.Observer()\n",
        "MKT.lat = '-30:42:39.8'\n",
        "MKT.lon = '21:26:38.0'\n",
        "MKT.elevation = 1086.6\n",
        "MKT.horizon= '15'\n",
        "#MKT.horizon = ephem.degrees(15.0)\n",
        "MKT.epoch = ephem.J2000"
      ],
      "execution_count": 5,
      "outputs": []
    },
    {
      "cell_type": "code",
      "metadata": {
        "colab": {
          "base_uri": "https://localhost:8080/"
        },
        "id": "DrrAg4u-UB_4",
        "outputId": "cee6da94-ce87-4402-b02d-c0593fd8dfdb"
      },
      "source": [
        "print(MKT)"
      ],
      "execution_count": 6,
      "outputs": [
        {
          "output_type": "stream",
          "name": "stdout",
          "text": [
            "<ephem.Observer date='2021/10/5 10:29:38' epoch='2000/1/1 12:00:00' lon='21:26:38.0' lat='-30:42:39.8' elevation=1086.6m horizon=15:00:00.0 temp=15.0C pressure=1010.0mBar>\n"
          ]
        }
      ]
    },
    {
      "cell_type": "code",
      "metadata": {
        "colab": {
          "base_uri": "https://localhost:8080/"
        },
        "id": "rDD8YkhUIssD",
        "outputId": "ed341af0-071e-4ab3-93df-650574d8d0bd"
      },
      "source": [
        "def rise_set_time(date_str):\n",
        "    obs_date = datetime.strptime(date_str, '%Y/%m/%d %H:%M')\n",
        "    MKT.date = ephem.Date(obs_date)\n",
        " \n",
        "    jupiter = ephem.Jupiter(MKT)\n",
        "    callisto = ephem.Callisto(MKT)\n",
        "\n",
        "    jupiter.compute(MKT)\n",
        "    callisto.compute(MKT)\n",
        "    phi = np.array(jupiter.radius)  # radius as an angle [rad]\n",
        "    D = np.array(jupiter.earth_distance)  # ristance to Earth [AU]\n",
        "    R = D*np.tan(phi)  # Jupiter radius [AU]\n",
        "\n",
        "    risetime = MKT.next_rising(jupiter)\n",
        "    settime = MKT.next_setting(jupiter, risetime)\n",
        "    transittime = MKT.next_transit(jupiter, risetime)\n",
        "\n",
        "#     MKT.date = risetime\n",
        "#     jupiter.compute(MKT)\n",
        "#     print(MKT.date, np.degrees(jupiter.alt), jupiter.ra, jupiter.dec)\n",
        "#     MKT.date = settime\n",
        "#     jupiter.compute(MKT)\n",
        "#     print(MKT.date, np.degrees(jupiter.alt), jupiter.ra, jupiter.dec)\n",
        " \n",
        "    print(f\"Jupiter rises at {risetime} and sets at {settime}\")\n",
        "    print(f\"Transit at {jupiter.transit_time}, {np.degrees(jupiter.transit_alt):.2f} [deg] elevation\")\n",
        "\n",
        "    MKT.date = risetime\n",
        "    callisto.compute(MKT)\n",
        "    r = callisto.x * R  # frac of radius, separation distance [AU]\n",
        "    phi = np.degrees(np.arctan(r/D))  # deg\n",
        "    print(f\"  Callisto separation at {MKT.date} = {phi*60.:.2f} [arcmin]\")\n",
        "    MKT.date = transittime\n",
        "    callisto.compute(MKT)\n",
        "    r = callisto.x * R  # frac of radius, separation distance [AU]\n",
        "    phi = np.degrees(np.arctan(r/D))  # deg\n",
        "    print(f\"  Callisto separation at {MKT.date} = {phi*60.:.2f} [arcmin]\")\n",
        "    MKT.date = settime\n",
        "    callisto.compute(MKT)\n",
        "    r = callisto.x * R  # frac of radius, separation distance [AU]\n",
        "    phi = np.degrees(np.arctan(r/D))  # deg\n",
        "    print(f\"  Callisto separation at {MKT.date} = {phi*60.:.2f} [arcmin]\")\n",
        "\n",
        "\n",
        "# set observation date/time\n",
        "def showtimes(elong_year, elong_month, elong_day):\n",
        "    for day_ in range(elong_day-3, elong_day+4):\n",
        "        if day_ > 30:\n",
        "            day_ = day_ - 30\n",
        "            month_ = elong_month + 1\n",
        "            date_str = '{}/{:02d}/{:02d} {}:{}'.format(elong_year, month_, day_, 0, 0)\n",
        "        elif day_ < 1:\n",
        "            day_ = day_ + 31\n",
        "            month_ = elong_month - 1\n",
        "            date_str = '{}/{:02d}/{:02d} {}:{}'.format(elong_year, month_, day_, 0, 0)\n",
        "        else:\n",
        "            date_str = '{}/{:02d}/{:02d} {}:{}'.format(elong_year, elong_month, day_, 0, 0)\n",
        "        rise_set_time(date_str)\n",
        "        print()\n",
        "\n",
        "# showtimes(2021, 8, 27)\n",
        "# showtimes(2021, 9, 13)\n",
        "# showtimes(2021, 9, 30)\n",
        "# showtimes(2021, 11, 2)\n",
        "# showtimes(2021, 11, 18)\n",
        "showtimes(2021, 12, 5)\n",
        "\n",
        "# once decided create datestring for calculation\n",
        "date_str = '{}/{:02d}/{:02d} {}:{}'.format(2021, 11, 2, 0, 0)"
      ],
      "execution_count": 7,
      "outputs": [
        {
          "output_type": "stream",
          "name": "stdout",
          "text": [
            "Jupiter rises at 2021/12/2 10:18:11 and sets at 2021/12/2 21:02:27\n",
            "Transit at 2021/12/2 15:40:21, 73.26 [deg] elevation\n",
            "  Callisto separation at 2021/12/2 10:18:11 = 1.23 [arcmin]\n",
            "  Callisto separation at 2021/12/2 15:40:21 = 1.87 [arcmin]\n",
            "  Callisto separation at 2021/12/2 21:02:27 = 2.50 [arcmin]\n",
            "\n",
            "Jupiter rises at 2021/12/3 10:14:54 and sets at 2021/12/3 20:58:57\n",
            "Transit at 2021/12/3 15:36:57, 73.21 [deg] elevation\n",
            "  Callisto separation at 2021/12/3 10:14:54 = 3.96 [arcmin]\n",
            "  Callisto separation at 2021/12/3 15:36:57 = 4.51 [arcmin]\n",
            "  Callisto separation at 2021/12/3 20:58:57 = 5.02 [arcmin]\n",
            "\n",
            "Jupiter rises at 2021/12/4 10:11:37 and sets at 2021/12/4 20:55:27\n",
            "Transit at 2021/12/4 15:33:33, 73.16 [deg] elevation\n",
            "  Callisto separation at 2021/12/4 10:11:37 = 6.11 [arcmin]\n",
            "  Callisto separation at 2021/12/4 15:33:33 = 6.49 [arcmin]\n",
            "  Callisto separation at 2021/12/4 20:55:27 = 6.82 [arcmin]\n",
            "\n",
            "Jupiter rises at 2021/12/5 10:08:20 and sets at 2021/12/5 20:51:57\n",
            "Transit at 2021/12/5 15:30:10, 73.11 [deg] elevation\n",
            "  Callisto separation at 2021/12/5 10:08:20 = 7.40 [arcmin]\n",
            "  Callisto separation at 2021/12/5 15:30:10 = 7.56 [arcmin]\n",
            "  Callisto separation at 2021/12/5 20:51:57 = 7.66 [arcmin]\n",
            "\n",
            "Jupiter rises at 2021/12/6 10:05:04 and sets at 2021/12/6 20:48:28\n",
            "Transit at 2021/12/6 15:26:47, 73.06 [deg] elevation\n",
            "  Callisto separation at 2021/12/6 10:05:04 = 7.65 [arcmin]\n",
            "  Callisto separation at 2021/12/6 15:26:48 = 7.56 [arcmin]\n",
            "  Callisto separation at 2021/12/6 20:48:28 = 7.42 [arcmin]\n",
            "\n",
            "Jupiter rises at 2021/12/7 10:01:49 and sets at 2021/12/7 20:44:59\n",
            "Transit at 2021/12/7 15:23:26, 73.01 [deg] elevation\n",
            "  Callisto separation at 2021/12/7 10:01:49 = 6.83 [arcmin]\n",
            "  Callisto separation at 2021/12/7 15:23:26 = 6.52 [arcmin]\n",
            "  Callisto separation at 2021/12/7 20:44:59 = 6.16 [arcmin]\n",
            "\n",
            "Jupiter rises at 2021/12/8 09:58:35 and sets at 2021/12/8 20:41:31\n",
            "Transit at 2021/12/8 15:20:04, 72.96 [deg] elevation\n",
            "  Callisto separation at 2021/12/8 09:58:35 = 5.08 [arcmin]\n",
            "  Callisto separation at 2021/12/8 15:20:04 = 4.58 [arcmin]\n",
            "  Callisto separation at 2021/12/8 20:41:31 = 4.06 [arcmin]\n",
            "\n"
          ]
        },
        {
          "output_type": "stream",
          "name": "stderr",
          "text": [
            "/usr/local/lib/python3.7/dist-packages/ipykernel_launcher.py:26: DeprecationWarning: the ephem.Body attributes 'rise_time', 'rise_az', 'transit_time', 'transit_alt', 'set_time', 'set_az', 'circumpolar', and 'never_up' are deprecated; please convert your program to use the ephem.Observer functions next_rising(), previous_rising(), next_transit(), and so forth\n",
            "\n"
          ]
        }
      ]
    },
    {
      "cell_type": "code",
      "metadata": {
        "id": "OnUOy8aat2K0",
        "colab": {
          "base_uri": "https://localhost:8080/"
        },
        "outputId": "6e4ceb14-d39b-4e23-a098-871285e60985"
      },
      "source": [
        "jupiter = ephem.Jupiter(MKT)\n",
        "obs_date = datetime.strptime(date_str, '%Y/%m/%d %H:%M')\n",
        "MKT.date = ephem.Date(obs_date)\n",
        "jupiter.compute(MKT)\n",
        "\n",
        "risetime = MKT.next_rising(jupiter)\n",
        "settime = MKT.next_setting(jupiter, risetime)\n",
        "\n",
        "print(f\"Jupiter rises at {risetime} and sets at {settime}\")\n",
        "print(f\"Transet at {jupiter.transit_time}, {np.degrees(jupiter.transit_alt):.2f} [deg] elevation\")"
      ],
      "execution_count": 8,
      "outputs": [
        {
          "output_type": "stream",
          "name": "stdout",
          "text": [
            "Jupiter rises at 2021/11/2 12:02:52 and sets at 2021/11/2 22:51:33\n",
            "Transet at 2021/11/2 17:27:13, 74.28 [deg] elevation\n"
          ]
        }
      ]
    },
    {
      "cell_type": "code",
      "metadata": {
        "id": "6nzcpIMqrS3N",
        "colab": {
          "base_uri": "https://localhost:8080/"
        },
        "outputId": "40745011-abe7-4380-c7cd-1b0a27212d6a"
      },
      "source": [
        "# apparent Earth distance calculations\n",
        "def orbit(observer,  # ephem.Observer()\n",
        "          solarbody,  # ephem.Body()\n",
        "          obs_date=None,  # string CCYY-mm-dd HH:MM\n",
        "          obs_period=1,  # period to calculate orbit over\n",
        "          days=False,  # increment in days\n",
        "          hours=False,  # increment in hours\n",
        "          minutes=False,  # increment in minutes\n",
        "          ):\n",
        "    \n",
        "    if obs_date is None:\n",
        "        obs_date = datetime.now().replace(second=0, microsecond=0)\n",
        "    # initiate observer date\n",
        "    observer.date = ephem.Date(obs_date)\n",
        "\n",
        "    # range increments\n",
        "    if days:\n",
        "        dt = 1\n",
        "    elif hours:\n",
        "        dt = ephem.hour\n",
        "    else:  # default assumes hours\n",
        "        dt = ephem.minute\n",
        "\n",
        "    date_range = []\n",
        "    solarbody_altitude = []  # altitude above the horizon\n",
        "    solarbody_earth_distance = []  # Earth distance is in AU\n",
        "\n",
        "    for inc_ in range(obs_period):\n",
        "        date_range.append(ephem.Date(observer.date).datetime())\n",
        "        solarbody.compute(observer)\n",
        "        solarbody_altitude.append(np.degrees(solarbody.alt))\n",
        "        solarbody_earth_distance.append(solarbody.earth_distance)\n",
        "        # update observer date\n",
        "        observer.date += dt\n",
        "\n",
        "    return date_range, solarbody_altitude, solarbody_earth_distance\n",
        "\n",
        "# Jupiter perigee\n",
        "MKT.date = ephem.Date(obs_date)\n",
        "jupiter = ephem.Jupiter(MKT)\n",
        "[date_range,\n",
        " solarbody_altitude,\n",
        " solarbody_earth_distance] = orbit(MKT,\n",
        "                                   jupiter,\n",
        "                                   obs_date=obs_date,\n",
        "                                   obs_period=1800,\n",
        "                                   minutes=True)\n",
        "print(date_range[0], date_range[-1])\n",
        "print(solarbody_altitude)\n"
      ],
      "execution_count": 9,
      "outputs": [
        {
          "output_type": "stream",
          "name": "stdout",
          "text": [
            "2021-11-02 00:00:00 2021-11-03 05:59:00.000351\n",
            "[1.675712421111993, 1.486978499532085, 1.2998680285405244, 1.1145234816145295, 0.931097364071662, 0.7497515727395921, 0.5706552081611309, 0.3939824935209663, 0.21990897268489568, 0.04860665102715898, -0.11976231115536219, -0.28505338265756003, -0.44714881942247775, -0.6059677664177728, -0.7614505128490604, -0.9136570096345633, -1.0626743416861992, -1.208691406423201, -1.3520133212023984, -1.4930333555095956, -1.6323489374537572, -1.770764001644535, -1.909290803461266, -2.0493720069227037, -2.19302838752782, -2.3432980987968013, -2.5050256658418903, -2.6869639760844586, -2.907605339815493, -3.2166906096656103, -3.7419494457559277, -4.295411200146285, -4.691455877188067, -5.0126207634721744, -5.295904993732569, -5.556842979462798, -5.803193388673171, -6.039425299514994, -6.268283167374142, -6.491578273041138, -6.71056139490774, -6.926149058983198, -7.138944883235416, -7.349482476193296, -7.558137925148016, -7.765205355120708, -7.970917846316798, -8.175460667617523, -8.37453933758224, -8.57271727635016, -8.77068774812204, -8.96844648402965, -9.165994337846637, -9.363327040704768, -9.560444592604043, -9.75734528599717, -9.954025705789565, -10.150484998207581, -10.346721455703925, -10.542732516957658, -10.738517328195135, -10.93407247432177, -11.129397955337563, -11.32449035614793, -11.519348822979223, -11.71396994073686, -11.908352855647191, -12.102495860162927, -12.29639553918948, -12.49005189272685, -12.68346065190681, -12.876620962955709, -13.069531118326257, -13.262188556697513, -13.454590716748541, -13.646735890932048, -13.83862237170074, -14.030247597733679, -14.221609007709926, -14.41270489408219, -14.603531841755883, -14.794090704504653, -14.984376359686623, -15.174387099754501, -15.364121217160992, -15.553575296811514, -15.742749338706064, -15.931638220202768, -16.12024194130162, -16.30855537936075, -16.496578534380156, -16.68430969881254, -16.87174375001603, -17.058878980443332, -17.245715390094446, -17.4322461487802, -17.618472964047893, -17.80439071325564, -17.98999598130886, -18.175290475754842, -18.36026736640442, -18.5449249457103, -18.729261506125187, -18.913275340101794, -19.096959617450946, -19.28031775326723, -19.463341209814185, -19.646029987091808, -19.82838237755281, -20.010393258555307, -20.192060922552017, -20.373381954448345, -20.554354646697004, -20.734973876656113, -20.915239644325673, -21.095146827063807, -21.274693717323228, -21.45387690000934, -21.63269296002757, -21.811138482283322, -21.98921175922931, -22.16690766822365, -22.344226209266353, -22.52116055216824, -22.697710696929317, -22.873873228454993, -23.0496413165561, -23.225016668779933, -23.39999245493732, -23.57456696748097, -23.748735083769, -23.92249680380142, -24.095845297389047, -24.2687788569846, -24.44129406749349, -24.61338751382113, -24.78505578087294, -24.956293746007038, -25.12709970167613, -25.29747023278564, -25.467400216693676, -25.636886238305664, -25.80592659007431, -25.974516149357736, -26.142651501061355, -26.31032752254329, -26.47754250625625, -26.644291329558357, -26.810572284902317, -26.97637854209896, -27.141706686053706, -27.306555009219256, -27.470918388953734, -27.634791702615264, -27.798173242656556, -27.961056178888434, -28.12343880376361, -28.2853177021875, -28.446686043970924, -28.60754041401931, -28.76787910478536, -28.927691870985317, -29.08698212771377, -29.24574304478155, -29.403967791999477, -29.561652954272976, -29.71879511650746, -29.87539086360834, -30.031433365386455, -30.18691920674721, -30.341844972596025, -30.496203832743728, -30.64999578719032, -30.803210590652046, -30.955848243128905, -31.10790191443173, -31.259364774371345, -31.41023682294776, -31.560511229971794, -31.710181165254284, -31.859246628795226, -32.00769737531087, -32.15553340480121, -32.30274447198249, -32.44933057685472, -32.59528830432331, -32.7406074091045, -32.88528447610371, -33.02931609022636, -33.172695421283265, -33.31541905417985, -33.457480158726945, -33.598875319829965, -33.73959770729974, -33.87964390604168, -34.01900708586662, -34.15768724677456, -34.29567072838716, -34.432957530704414, -34.56954082353715, -34.70541719179081, -34.8405763901816, -34.975021833804135, -35.10873986228006, -35.24172706051479, -35.37398001341375, -35.50549189078776, -35.63625927754224, -35.76627192839343, -35.895529843341336, -36.024026192196786, -36.151750729676024, -36.27870345577905, -36.4048775403167, -36.530266153099795, -36.65486587903375, -36.778666472834814, -36.901664519408406, -37.02385660365994, -37.145235895400226, -37.265795564440126, -37.38553219568503, -37.5044355438512, -37.622505608938624, -37.73973214566355, -37.8561117389314, -37.97163414345841, -38.086302774339174, -38.20010397119534, -38.31303431893233, -38.42508698736098, -38.53626197648127, -38.64654562591488, -38.75593452056722, -38.8644252453437, -38.97200755496058, -39.078681449417836, -39.18443668343173, -39.28926984190767, -39.39317409465649, -39.49614261148901, -39.59817197731066, -39.699255361932266, -39.79938593516466, -39.89855686681865, -39.99676815689427, -40.094006145013154, -40.19027083117531, -40.28555538519158, -40.37985639196736, -40.473160191124315, -40.565466782662455, -40.65677275148718, -40.74706785231476, -40.836348670050576, -40.92460837450548, -41.011843550584885, -41.09804395300503, -41.183209581765915, -41.26733360667838, -41.35040919755325, -41.43243293929593, -41.513394586622674, -41.593294139533484, -41.672124767839186, -41.74987964135061, -41.82655192987859, -41.90214163342312, -41.976641921795036, -42.050045964805165, -42.12234693226433, -42.19354482417254, -42.26363281034063, -42.33260406057942, -42.400455159794326, -42.46717927779618, -42.5327729994904, -42.59723290978239, -42.660555593577584, -42.72273080559221, -42.783758545826274, -42.84363539918519, -42.902351120385205, -42.959905709426316, -43.01629575121394, -43.07151100046433, -43.12555487227205, -43.178420536447945, -43.230101162802846, -43.28059675133675, -43.32990047186049, -43.37800890927947, -43.424922063593705, -43.470629689519434, -43.515135202151235, -43.55843177129995, -43.600512566776395, -43.641381003675164, -43.681026836712505, -43.719453480983, -43.756654106297475, -43.792625297561344, -43.82736705477461, -43.8608759628427, -43.89314519157642, -43.924178156070376, -43.953968026135385, -43.98251480177145, -44.00981165278941, -44.035865409378424, -44.06066241116015, -44.08420948832377, -44.106503225774695, -44.12753679332375, -44.147313606065524, -44.16583366400001, -44.183086721843466, -44.199079609785045, -44.21380891273018, -44.227271215584274, -44.239466518347335, -44.250391405924766, -44.260052708505754, -44.26844018080653, -44.275560653016264, -44.28141071004038, -44.28598693678429, -44.289292748342575, -44.291324729620655, -44.29208629571311, -44.29157744661995, -44.28979476724657, -44.286738257592994, -44.28241474784837, -44.27681399272896, -44.26994623751852, -44.261808067122445, -44.252399481540756, -44.24172048077344, -44.22977789500967, -44.216564894060284, -44.20208489301985, -44.18634472207756, -44.16933755104423, -44.151070210109026, -44.13153928417738, -44.11075501853303, -44.08871058298681, -44.06540939263331, -44.040858277661705, -44.01505382297739, -43.98799944367497, -43.95969855484903, -43.93015457159414, -43.899367493910304, -43.86734073689211, -43.83407771563415, -43.799578430136414, -43.76384971058808, -43.726891556989145, -43.68870738443419, -43.649300608017796, -43.60867464283456, -43.56683290397906, -43.5237753914513, -43.47950893544045, -43.43403695104109, -43.38736285334781, -43.33949005745519, -43.290421978457815, -43.240162031450275, -43.18871363152716, -43.13608360887763, -43.082271963501675, -43.02728552558849, -42.97112771023264, -42.91380193252873, -42.85531502266591, -42.795666980644185, -42.73486805174732, -42.6729182359753, -42.60982094842273, -42.54558643437334, -42.48021469382715, -42.41371255697332, -42.34608343890644, -42.277334169815674, -42.207468164795614, -42.13648883894084, -42.06440302244053, -41.99121754548384, -41.916932408070785, -41.84155785548511, -41.7650973028214, -41.68755758026883, -41.6089386878274, -41.52925087078086, -41.4484975442238, -41.3666821232508, -41.28381485314562, -41.199899149002846, -41.11493842591705, -41.02893951407742, -40.94190924367312, -40.85385102979873, -40.76477170264343, -40.67467809239638, -40.58357361415216, -40.49146168300537, -40.39835254423975, -40.3042496129499, -40.20915971932499, -40.11308969355417, -40.01603953563746, -39.918022905953194, -39.819039804501365, -39.71909706147115, -39.61820150705173, -39.51635997143225, -39.413575869707316, -39.30985603206609, -39.205207288697736, -39.099633054696845, -38.993140160252594, -38.885735435554146, -38.777425710790666, -38.66821440105675, -38.558104921446976, -38.44711093233968, -38.335229018640284, -38.22247284072713, -38.10884239860022, -37.994344522448706, -37.87898945755636, -37.76277720392318, -37.645718006832915, -37.52781528138016, -37.40907585775407, -37.28950656614382, -37.16910740654942, -37.04789203934921, -36.92586046454318, -36.803019512320496, -36.67937601287034, -36.55493679638188, -36.429705277949694, -36.30368487266838, -36.17688582582167, -36.04931155250417, -35.92096888290505, -35.79186123211888, -35.66199884542943, -35.53137830774211, -35.40001327943525, -35.26790717560345, -35.135063411341285, -35.001488816837934, -34.86719022228256, -34.73217104276974, -34.59643810848867, -34.45999141943932, -34.32284463600005, -34.18499775817085, -34.0464576161409, -33.90722762500477, -33.76731803004623, -33.626728831265275, -33.48546685885107, -33.343535527898204, -33.20094166859585, -33.05769211113317, -32.91379027060476, -32.76924297719978, -32.624050230918236, -32.478218861949294, -32.33175911557671, -32.1846675767059, -32.036957905715205, -31.888626687510037, -31.739684167374154, -31.59013376040214, -31.439978881688578, -31.289226361422642, -31.137879614698914, -30.985942056611982, -30.833420517351012, -30.680321827105175, -30.526645985874474, -30.37239640875349, -30.217583341025982, -30.06220678269195, -29.90627697903514, -29.749790514960978, -29.592757635753216, -29.435178341411852, -29.277059462126054, -29.118407828085, -28.95922343928868, -28.799513125926275, -28.63927859554507, -28.47852497078694, -28.317259081841062, -28.155482636254725, -27.993200756669808, -27.830415150633602, -27.667134355882567, -27.50335837241671, -27.339092322877903, -27.174339622360733, -27.00910710105437, -26.843394758958812, -26.677209426263232, -26.510554518062214, -26.34343174190305, -26.175846220427616, -26.007803076277792, -25.83930401700087, -25.670354165238727, -25.50095693608595, -25.331114037089826, -25.16083229843953, -24.990113427682356, -24.818960839912883, -24.6473779502257, -24.475369881262683, -24.302938340571128, -24.130088450792908, -23.956821919475317, -23.783143869260233, -23.609056007694946, -23.43456345742134, -23.2596679259867, -23.084372828485616, -22.90868158001267, -22.732599303209742, -22.55612770562412, -22.379268494803103, -22.202026793388566, -22.02440601647509, -21.846409579157267, -21.668037481435093, -21.489296553497734, -21.3101867953452, -21.130713329619358, -20.950877863867508, -20.770685520731522, -20.590136300211405, -20.409233617401743, -20.227982594944404, -20.04638494038669, -19.86444236127589, -19.682159980253882, -19.49953950486796, -19.316582642665413, -19.13329280874083, -18.94967341818879, -18.765726178556594, -18.58145450493882, -18.396860104882762, -18.2119481010303, -18.02671849338143, -17.841176404578036, -17.655320127072816, -17.46915649105495, -17.282687204071724, -17.095913973670434, -16.908838507398368, -16.721464220350118, -16.533794527620262, -16.345831136756097, -16.15757575530491, -15.969030090814002, -15.780199265925244, -15.591083280638639, -15.40168555004877, -15.212009489250224, -15.022053390695707, -14.83182408457439, -14.641321570886271, -14.450549264725938, -14.259508019867035, -14.068201251404147, -13.876629813110922, -13.684797120081944, -13.492704879864505, -13.300354800005898, -13.10775029560071, -12.914891366648936, -12.721782282018813, -12.52842474925763, -12.334819622139033, -12.140969461983962, -11.946876830113355, -11.752543434074507, -11.557970981414707, -11.36316117968125, -11.16811744396872, -10.972839774277116, -10.777331585701024, -10.581594585787737, -10.385630482084549, -10.189440128365103, -9.993026939723984, -9.796392623708487, -9.599538034092257, -9.402465732196234, -9.205177425567706, -9.007674821753973, -8.809959628302321, -8.612033552760044, -8.413898302674438, -8.215556439366438, -8.011617236033612, -7.806152339194934, -7.599373484714675, -7.391056983897518, -7.180922798987491, -6.968612771939991, -6.7536253107378466, -6.535385398830307, -6.313035420589712, -6.085408267441635, -5.850825420397547, -5.606771662295591, -5.34921077822311, -5.071260498817673, -4.759540910382046, -4.383405380997206, -3.8662687070470914, -3.2990372912899883, -2.959299199661911, -2.7268471581954556, -2.5391975291462874, -2.374337039706278, -2.2222504981180733, -2.0775744983359212, -1.9369701450727426, -1.7982686398236474, -1.6599247590106259, -1.5208595461882275, -1.3802240301869608, -1.237404454476877, -1.0919549357712206, -0.9435549887875305, -0.7919958658692979, -0.637176448200295, -0.4790176016356846, -0.31757164649172626, -0.15291082002302078, 0.01484317834025461, 0.18558181595837353, 0.35911435112762474, 0.5352806979542828, 0.7139055660366017, 0.8948141719009377, 1.0778360809831582, 1.2628079557125642, 1.4495753164200373, 1.637993448472538, 1.8279285228510163, 2.0192566356550596, 2.2118647685982458, 2.405649615069378, 2.600516833080546, 2.796381258710536, 2.993164985114127, 3.1907982162957382, 3.389217132675313, 3.5883645314185513, 3.7881881188896216, 3.9886409375379785, 4.189679871794488, 4.391266501845068, 4.593342344194949, 4.7959253280907035, 4.9989591044716795, 5.202417633241666, 5.406276154964921, 5.610512898413465, 5.815107799906612, 6.0200420764241445, 6.225299079379959, 6.430862587074778, 6.636718512243439, 6.842853621394424, 7.049255107923039, 7.255912299658707, 7.462814097544026, 7.669950683182064, 7.877313518836358, 8.084893212996802, 8.292682935474222, 8.500674148532157, 8.708860021981438, 8.917234579406541, 9.12579184439194, 9.33452498674847, 9.543429737607894, 9.752500974328338, 9.961732720494279, 10.171120707237481, 10.380661519463365, 10.590350034530049, 10.800182837342948, 11.01015651280748, 11.220266792055412, 11.430511113765807, 11.640885209070431, 11.851386516648345, 12.062011621404968, 12.272758815793004, 12.483623830944223, 12.694605813084978, 12.905700493347037, 13.116906164183112, 13.328220264272257, 13.539641086067187, 13.751166068246958, 13.962792649490632, 14.174519122250919, 14.386343778980525, 14.598369926290646, 14.81058902644482, 15.022876428490694, 15.235230424880974, 15.447649308068371, 15.66000842710053, 15.872413649909587, 16.084902542535975, 16.297473397432405, 16.510127922146168, 16.722860994035383, 16.935672613100056, 17.148562779340185, 17.36152637011389, 17.574565092968463, 17.787675532809324, 18.000855982089178, 18.214108148355315, 18.42742690896586, 18.640812263920814, 18.854264213220176, 19.06777934176936, 19.281357649568367, 19.4949974290699, 19.70869868027397, 19.922456280538686, 20.136273644958646, 20.350147358439255, 20.564075713433223, 20.778058709940552, 20.99209464041395, 21.206181797306122, 21.420320180617068, 21.6345080827995, 21.848743796306117, 22.063025613589637, 22.277355242197345, 22.491727559487362, 22.706144273006988, 22.920603675208927, 23.135105766093176, 23.349647130565156, 23.56422776862486, 23.778845972725, 23.99350174286558, 24.208193371499295, 24.422919151078865, 24.637679081604283, 24.85247145552826, 25.067296272850793, 25.282150118477297, 25.49703469995507, 25.71194660218952, 25.92688582518065, 26.141852368928465, 26.356842818338368, 26.571857173410372, 26.786893726597174, 27.001954185446074, 27.21703342731519, 27.432133159751817, 27.64725167520866, 27.86238726613843, 28.07753822499383, 28.29270625932216, 28.507887954028824, 28.723083309113832, 28.938288909482594, 29.15350475513511, 29.368730846071383, 29.58396718229141, 29.799210348700605, 30.01446034529897, 30.22971717208651, 30.444973998874048, 30.660237655850754, 30.87550131282746, 31.090764969804166, 31.306032041875458, 31.52129228375758, 31.736552525639702, 31.95180935242724, 32.16705934902561, 32.38230593052939, 32.597542266749414, 32.81277177278027, 33.02799103352737, 33.24319663389613, 33.45839540407572, 33.673577098782395, 33.888741718016135, 34.10389267687154, 34.31902656025402, 34.53414336816356, 34.749236270411025, 34.964312097185555, 35.17936401829799, 35.39439203374833, 35.60939272844199, 35.824369517473556, 36.039318985748444, 36.254237718172064, 36.46912571474442, 36.68398297546551, 36.89880608524076, 37.113595044070145, 37.32834985195369, 37.54306367870221, 37.75773993941029, 37.97237521898336, 38.1869695174214, 38.40151941962984, 38.616021510514095, 38.830482620263325, 39.04489250359378, 39.259251160505464, 39.473558590998366, 39.6878147950725, 39.902016357633265, 40.11615986358609, 40.33024872802556, 40.54427612076249, 40.7582420417969, 40.972143076034186, 41.185982638568944, 41.399753899212, 41.613456857963364, 41.827088099728435, 42.04064762450722, 42.25413543229973, 42.467544692916775, 42.68087540635837, 42.894130987719095, 43.10730119171519, 43.32038601834666, 43.533388882708095, 43.74630295461032, 43.95912481895874, 44.17185447575338, 44.384491924994215, 44.59703375158667, 44.809473125341576, 45.02181346135352, 45.23405134452791, 45.44618335977017, 45.658206091985704, 45.87011954117452, 46.08191687714744, 46.29360151499906, 46.50517003963479, 46.71661562086546, 46.92793825869107, 47.13913453801704, 47.35020445884336, 47.56114119098086, 47.771944734429546, 47.982611674094834, 48.19313859488214, 48.40352208169687, 48.61376213453904, 48.82385192321946, 49.03378803264356, 49.24357046281133, 49.45319579862819, 49.66266062499955, 49.871958111736255, 50.081091673932875, 50.290047651211076, 50.49883287376002, 50.70743709629597, 50.91586031881891, 51.124099126234256, 51.33214668835284, 51.539999590080086, 51.7476544163214, 51.95511116707678, 52.162359597062476, 52.369396291183904, 52.57622124944106, 52.78282764164478, 52.989212052700466, 53.195367652418966, 53.401294440800264, 53.60698217256061, 53.812427432605425, 54.017630220934706, 54.222576877170106, 54.42727081640622, 54.631701793359284, 54.83586639293472, 55.039761200037944, 55.24337596938519, 55.446707285881885, 55.64975173443344, 55.8524990697561, 56.054945876755276, 56.2570853252418, 56.4589140001211, 56.66041824101481, 56.861601463017536, 57.06244659065635, 57.26295703902583, 57.46311914774763, 57.66292267153802, 57.86237102549156, 58.061450549229924, 58.260154412563935, 58.45846895511525, 58.656394176883886, 58.853923247680655, 59.05104250712722, 59.24773829484525, 59.4440174410239, 59.63985945509568, 59.835250676682236, 60.03019793597274, 60.224680742399684, 60.41868543558472, 60.61221201552787, 60.805246821850766, 60.99777619417508, 61.18979330231165, 61.38128448588213, 61.57224291469735, 61.76264809818979, 61.95250003635947, 62.14177823863886, 62.33046904464963, 62.51857245439178, 62.70605431691946, 62.89292146242184, 63.07915340033141, 63.26472964008065, 63.44964335148041, 63.63388087415233, 63.817421717528916, 64.00025905142098, 64.18236555507187, 64.3637343982924, 64.54434509051504, 64.7241771411723, 64.90322372007502, 65.08145750646649, 65.25886483996841, 65.4354320602024, 65.61112501622264, 65.78594370802912, 65.95985398467599, 66.1328421857849, 66.30488099059919, 66.47595673874049, 66.64604893964132, 66.81513027254499, 66.98317341669481, 67.15016471171245, 67.31607000665205, 67.4808756411353, 67.64455429440548, 67.80707181551676, 67.9684145440908, 68.12854149899259, 68.28743901984376, 68.44507295569849, 68.60141598580007, 68.75644078939186, 68.91011321552797, 69.06240594345175, 69.2132916524065, 69.36272936125721, 69.51069857943637, 69.65715832580895, 69.80208127961828, 69.94542645972933, 70.08716654538544, 70.22726055545158, 70.36567433898188, 70.50237374503051, 70.63732462265163, 70.7704859907102, 70.90181686807121, 71.0312831037888, 71.15885054691712, 71.284471386132, 71.4081046402984, 71.52971615847048, 71.64927178970238, 71.76671006229158, 71.88201048567056, 71.99511841832597, 72.10599970931196, 72.21460654730433, 72.32090478135724, 72.42483976995733, 72.52637736215874, 72.62547657682646, 72.72209643282545, 72.81618228864238, 72.90770682352054, 72.9966153959466, 73.08288068516387, 73.16644804965897, 73.24728333848607, 73.32535240069932, 73.40060742497452, 73.47300743017665, 73.54252509554904, 73.6091126097675, 73.67274265207534, 73.73338107152671, 73.79098005679742, 73.84552594750915, 73.89697093233768, 73.94529452071552, 73.990469391886, 74.03246139490322, 74.07125003919973, 74.10681483420798, 74.13912845917132, 74.16817042352221, 74.19392706688232, 74.21637789868416, 74.23550925854937, 74.25131431628877, 74.26377941152406, 74.27289088387684, 74.27865556353633, 74.28105295993501, 74.28009673345122, 74.27578688408494, 74.268116581647, 74.2570926563266, 74.24272876850208, 74.2250249181734, 74.2040015959081, 74.17967246208451, 74.15203751670263, 74.12113091070833, 74.08696630447993, 74.04957101877412, 74.00895188378004, 73.96514305044359, 73.9181718395214, 73.86806557177019, 73.8148583981358, 73.75856397899655, 73.69923695586581, 73.63689098912194, 73.57157389008911, 73.503312979524, 73.43214923856164, 73.35811681814786, 73.28125669941771, 73.20160986350619, 73.11921046135916, 73.03409947411163, 72.9463247130878, 72.85592032923351, 72.76293413387296, 72.66740027795198, 72.56936657279479, 72.4688739995364, 72.36596353931182, 72.26067617325607, 72.15305971269335, 72.0431483085695, 71.9309966023979, 71.8166319149352, 71.70010888769478, 71.58146167162249, 71.46073124785335, 71.33795859752237, 71.21318470176458, 71.08645054171498, 70.95779709850862, 70.82726535328051, 70.69488262678733, 70.56070356054242, 70.42474864511333, 70.28706569182421, 70.14768885162093, 70.00665227544933, 69.86399011425527, 69.71974334917378, 69.57394613115069, 69.42661895075351, 69.27780961930644, 69.12753862737699, 68.97584695610018, 68.82276192623269, 68.66831768872035, 68.5125347341307, 68.35545404359875, 68.197096107692, 68.03748824716715, 67.87666461297003, 67.71464569566815, 67.55146564620738, 67.38713812496604, 67.22169728288999, 67.0551704407359, 66.88757125888213, 66.71893388827452, 66.54927881948058, 66.37861971287865, 66.20699071941456, 66.03440549946667, 65.86088454360251, 65.68645517257872, 65.51113104677366, 65.33493265675484, 65.15788732327894, 64.98000187653513, 64.80129680709092, 64.62179943570298, 64.44151659256049, 64.26047559842013, 64.0786764532819, 63.896153308091655, 63.71291299303855, 63.528969168500936, 63.34434232504633, 63.15904612305305, 62.97308739271028, 62.7864934547747, 62.599264309246315, 62.411427276881795, 62.22298235768114, 62.03395004221187, 61.844343990852316, 61.65417103379165, 61.46344483140821, 61.272179044080346, 61.08038733218639, 60.88806969572634, 60.69524662526771, 60.50193178118884, 60.30812516348973, 60.11384043254871, 59.91909124874414, 59.723884442265174, 59.52822684330099, 59.33213211222992, 59.13561390943032, 58.93867223490217, 58.74131391883465, 58.5435526216061, 58.34540200359486, 58.14685523461176, 57.94793280522431, 57.74864154562168, 57.54898145580387, 57.348973026338385, 57.148606011941474, 56.94789748808606, 56.74685428496132, 56.545483232756425, 56.343787746565944, 56.14177807167365, 55.939457623174114, 55.73683323125652, 55.53391172611003, 55.33069652282922, 55.12719786669786, 54.923419172810526, 54.7193672713564, 54.51504216233547, 54.31045750612608, 54.10560988763364, 53.900512967236494, 53.695166744934646, 53.48957463582268, 53.28374688518434, 53.07768349301964, 52.871391289517746, 52.66487710486783, 52.458137523975296, 52.251186207218495, 52.044019739502836, 51.83664836611208, 51.629072087046225, 51.42129773249444, 51.21332530245672, 51.005165042216824, 50.79681695177476, 50.588281031130514, 50.37956752556784, 50.17067643508676, 49.961614589876426, 49.75238198993684, 49.54298205036259, 49.33341818624826, 49.12369722778302, 48.91381917496687, 48.70378744289439, 48.49360544666017, 48.2832766013588, 48.072804322084856, 47.86219202393293, 47.65143970690301, 47.440554201184284, 47.22953209168215, 47.01838362368038, 46.80710879717896, 46.5957076121779, 46.38418689886636, 46.17254324214976, 45.960786887311855, 45.74891441925806, 45.53693266817754, 45.32483821897572, 45.11264131693635, 44.90033513187026, 44.687929909061204, 44.47542564850918, 44.26282235021419, 44.050123429270826, 43.83733230077366, 43.6244489647227, 43.411480251307125, 43.19841933033774, 42.98527644709833, 42.77205160158887, 42.55874479380937, 42.345359438854416, 42.13189895181859, 41.91835991760732, 41.70475258150434, 41.49107011332049, 41.27731934324494, 41.06350368637227, 40.84961972760791, 40.63567088204643, 40.42166056478242, 40.20759219091047, 39.993462345335985, 39.779277858248136, 39.56503531455235, 39.35074154443778, 39.13639313280986, 38.92199690985774, 38.70754946048685, 38.493057614886354, 38.27851795796167, 38.06393390480738, 37.84930545542348, 37.634639439999155, 37.419929028345216, 37.20518446574543, 36.99040233710521, 36.77558264242455, 36.560732211892635, 36.34584763041486, 36.13092889799124, 35.91598284481094, 35.701009470873956, 35.4860087761803, 35.270980760729955, 35.05592883961752, 34.840853012842985, 34.62575669550095, 34.410639887591394, 34.195506004208916, 33.98035163025893, 33.76518018083602, 33.549995071034765, 33.33479288576059, 33.11958045520266, 32.90435777936097, 32.68912144314095, 32.473874861637164, 32.2586248650388, 32.04336462315668, 31.828100966179967, 31.612830479014093, 31.39755657675363, 31.182282674493166, 30.96700535713812, 30.75173145487766, 30.536457552617197, 30.321183650356737, 30.105916578285445, 29.890652921308735, 29.675392679426615, 29.46014268282825, 29.24489951641905, 29.02966659529361, 28.81444391945192, 28.599233196441283, 28.384034426261692, 28.168847608913147, 27.953677867037527, 27.73852349308754, 27.523384487063186, 27.30826426405905, 27.093164531622424, 26.878083582206013, 26.663023123357117, 26.44798657017031, 26.23297221509831, 26.017983473235695, 25.80302034458247, 25.58808282913863, 25.373174341998766, 25.15829317561558, 24.943442745083658, 24.728624757950296, 24.513837506668196, 24.299082698784655, 24.084362041846965, 23.86967895094971, 23.655030010998303, 23.440420344634624, 23.225848244311383, 23.011315417575865, 22.79682357197537, 22.58237441505719, 22.367967946821317, 22.153607582362344, 21.939289906585685, 21.725020042133217, 21.510797989004935, 21.296623747200844, 21.082500731815532, 20.8684272353017, 20.654408380301227, 20.440440751719528, 20.226529472198486, 20.012672834190802, 19.798874252791062, 19.585133727999267, 19.37145296736271, 19.157831970881393, 18.944274153649896, 18.73077951566822, 18.517349764483665, 18.303986607643512, 18.09069175269506, 17.87746349209102, 17.66430694847326, 17.451222121841788, 17.238210719743893, 17.025272742179578, 16.812411604243422, 16.599629013482723, 16.38692496989748, 16.17430118103498, 15.961759354442524, 15.749302905214691, 15.536936955993363, 15.324499289785749, 15.112100897165861, 14.89976739134309, 14.687502187412019, 14.475329191034744, 14.263446477697192, 14.051661094555316, 13.839973895382755, 13.628387441500454, 13.416905148002996, 13.205527868664026, 12.994257311030838, 12.783097743971663, 12.572049167486501, 12.361116704217228, 12.150301207937492, 11.93960523996823, 11.72903221540403, 11.518585549339475, 11.308267803095504, 11.098081537993055, 10.88803102290036, 10.678118819138358, 10.468350049348926, 10.258727274853005, 10.049254764518821, 9.839936787214612, 9.630777611808602, 9.42178321471632, 9.212957011032351, 9.004304977172216, 8.795833089551442, 8.587546470811903, 8.379452804916417, 8.171557214506862, 7.963868237319699, 7.7563927035440985, 7.549139150916524, 7.342116970947084, 7.135335128259063, 6.928803868136218, 6.722534716522772, 6.516539199362949, 6.310830123261444, 6.105421575483419, 5.900328923954508, 5.695568390373988, 5.491157903988431, 5.287116674704879, 5.083466473751309, 4.880230779902995, 4.677433925708853, 4.475104939472858, 4.27330401223707, 4.072010226547154, 3.871285907879289, 3.6711724642553167, 3.4717153591219003, 3.272964324793934, 3.0749746431150125, 2.877807145457431, 2.681529279939244, 2.486215538311087, 2.291947882842999, 2.0988170269848956, 1.9069222219231525, 1.7163728574061963, 1.527288034857679, 1.3397977413152422, 1.1540419956568713, 0.9701712754877182, 0.7883460368924252, 0.6087338863099222, 0.4315082998729568, 0.2568449148288189, 0.08491705389780416, -0.08411035786401541, -0.2500882569140896, -0.4128922724445433, -0.5724328182534796, -0.7286423928619917, -0.8815617372812619, -1.031263048745251, -1.1779151076316525, -1.3218073432065458, -1.463260987804333, -1.6029106086875906, -1.7414671858602346, -1.8798817164424835, -2.0195078585504693, -2.1622197520594195, -2.3107853311304827, -2.4695848814557517, -2.646196711362768, -2.8562034705560926, -3.1390642290879462, -3.6106130188662218, -4.195156402848369, -4.616343006224967, -4.9490069428636145, -5.2386018410302775, -5.503468893080556, -5.752463439273371, -5.990584324307526, -6.220848357362049, -6.445223913578377, -6.665059528430761, -6.881337468499215, -7.094695929584311, -7.3057035249344535, -7.514758539955619, -7.722169186934104, -7.928180498906382, -8.1329871362638, -8.333308046883811, -8.531562825279893, -8.729608429132645, -8.92744571221571, -9.125070405660859, -9.322482509468092, -9.519678608542822, -9.716657849111405, -9.913419377400194, -10.109958924540956, -10.30627734430734, -10.502370367831114, -10.69823714133863, -10.893876811056245, -11.08928596188937, -11.284462886290717, -11.479405876712988, -11.674113225608897, -11.868583225431145, -12.062812461085151, -12.256800932570915, -12.450544371020204, -12.64404277643302, -12.837293587488421, -13.030293389091826, -13.223042181243231, -13.415535695074409, -13.607773930585356, -13.79975347268149, -13.99147176004187, -14.18292793889285, -14.374119447913495, -14.56504372578286, -14.755698211180011, -14.946081196557655, -15.136189266821205, -15.326022421970661, -15.515577246911441, -15.704850326548955, -15.89384166088321, -16.08254612727232, -16.270963725716292, -16.45909104112054, -16.646924658390475, -16.8344645775261, -17.02170567588554, -17.208646245921493, -17.39528628763397, -17.581620678381086, -17.76764600306826, -17.953362261695492, -18.138766039168196, -18.323855627939082, -18.508625905366266, -18.69307516390246, -18.87720169600037, -19.061002086565413, -19.2444746280503, -19.427614197813142, -19.610420795853948, -19.79289100707813, -19.975019708843814, -20.156808608698288, -20.33824916890509, -20.519343097011518, -20.70008697792298, -20.8804756889976, -21.060505815140797, -21.24017906389986, -21.419486897538327, -21.598429316056198, -21.777002904358888, -21.955205954899107, -22.133031637487683, -22.310479952124613, -22.487547483715314, -22.664230817165205, -22.840524829832404, -23.016429521716912, -23.19193977017685, -23.36705216011764, -23.54176327644469, -23.716071411610706, -23.889971442973817, -24.063459955439434, -24.236535241460263, -24.409193885941722, -24.581430766241937, -24.753242467266315, -24.924627281467565, -25.095580086203814, -25.266097466380476, -25.436177714450256, -25.605814000223983, -25.77500461615437, -25.94374614714683, -26.11203347055948, -26.279864878845032, -26.44723524936161, -26.614141167014626, -26.780577509162207, -26.946544275804346, -27.112032929204585, -27.277041761815628, -27.441567358542898, -27.60560459674451, -27.769148353778586, -27.932198629645132, -28.09474859415497, -28.25679312466623, -28.418330513631616, -28.579357345956545, -28.739865083904554, -28.899855435022932, -29.059316446480633, -29.218251533372246, -29.376653865508597, -29.534516612700518, -29.691836359853422, -29.848613106967306, -30.004836608758424, -30.160506865226772, -30.31561363108859, -30.470160321438467, -30.62413669099265, -30.77753932465655, -30.930364807335586, -31.08260972393517, -31.23426382917155, -31.38532712304472, -31.535796190460104, -31.685664201228523, -31.83492432516081, -31.983573147162385, -32.13160725213866, -32.27902322499504, -32.425810820447786, -32.571970038496886, -32.71749404895318, -32.86237602162749, -33.006615956519816, -33.15020360834641, -33.29313897710727, -33.435411817518634, -33.577018714485924, -33.717956252914554, -33.85821760261535, -33.99779934849373, -34.136694660360526, -34.27490012312115, -34.41240890658643, -34.5492141805672, -34.68531594506346, -34.820700539696865, -34.95537137956201, -35.08931821937513, -35.22253764404164, -35.35502282337238, -35.48676692717817, -35.61776654036443, -35.74801824783657, -35.87751180431084, -36.00624379469266, -36.134210803887434, -36.26140600170599, -36.387822557959176, -36.513453642457804, -36.638299255201886, -36.76234573581307, -36.885593084291365, -37.00803788554219, -37.129666479187186, -37.25047886522637, -37.37046821347057, -37.4896311088252, -37.607953890911915, -37.725439974825306, -37.842079115281614, -37.957867897186254, -38.07279607525547, -38.18686364948927, -38.30006037460389, -38.41237942041017, -38.5238207869081, -38.63437422881392, -38.74403633103306, -38.852800263376345, -38.9606591956546, -39.06760629767866, -39.17364156944852, -39.27875135058585, -39.38293564109064, -39.48618761077372, -39.58849701435134, -39.6898638518235, -39.79028129300103, -39.889739092600166, -39.98823725062092, -40.08576893687412, -40.18232390607601, -40.27789874313199, -40.372493448042086, -40.466090945333356, -40.558694650100385, -40.650297732154016, -40.74089336130506, -40.83047129226978, -40.91903494014275, -41.00657064454563, -41.09307840547843, -41.17854797765738, -41.26297594598791, -41.34635889537543, -41.42868999563076, -41.50996241656474, -41.59017274308279, -41.669314144995724, -41.74737979211439, -41.82436968443877, -41.90027357668512, -41.97509146885344, -42.048809700565386, -42.12143168691555, -42.192950597714756, -42.26335618767924, -42.332648456809025, -42.400820574914924, -42.46786912690235, -42.533787282582146, -42.5985750419543, -42.662222159735066, -42.72472522082985, -42.78608081014408, -42.84628209748857, -42.905329082863325, -42.96321493607918, -43.01993282694697, -43.07548275546669, -43.129857891449156, -43.1830548197998, -43.23507012542403, -43.285900393227266, -43.33553879302033, -43.383985324803234, -43.4312331583868, -43.477278878676444, -43.522119070577574, -43.56575031899562, -43.608172623930564, -43.64937915519325, -43.689363082594504, -43.7281312363235, -43.76566995600189, -43.80198265672426, -43.83706592339603, -43.87091292582803, -43.903523664020256, -43.93489813797271, -43.96502951749622, -43.993914387496204, -44.021556163067245, -44.04794801402018, -44.07308994035499, -44.09697852697711, -44.119613773886535, -44.14098885089409, -44.16111058818895, -44.179968740487354, -44.1975633077893, -44.21389770518939, -44.228968517593025, -44.24277232990562, -44.25530914212718, -44.266575539163114, -44.27657493610801, -44.28530391786729, -44.29276589953553, -44.29895405092356, -44.30386837203138, -44.307512277953585, -44.309885768690165, -44.310985429146534, -44.310811259322705, -44.309366674313246, -44.30664825902358, -44.302656013453706, -44.297393352698215, -44.290860276757094, -44.28305337053577, -44.27397946422341, -44.26363514272543, -44.252020406041815, -44.23913866926717, -44.22498993240149, -44.209577610539355, -44.192898288586186, -44.17495879673115, -44.15575571987966, -44.13529588822088, -44.11357588666024, -44.09059913029232, -44.066369034211704, -44.04088901351297, -44.01415565310154, -43.98617578316658, -43.956949403708094, -43.92647992982067, -43.89477077659888, -43.861821944042745, -43.82763684724683, -43.79221890130573, -43.755571521314025, -43.71769812236631, -43.678602119557155, -43.63828351288657, -43.59674571744913]\n"
          ]
        }
      ]
    },
    {
      "cell_type": "code",
      "metadata": {
        "colab": {
          "base_uri": "https://localhost:8080/",
          "height": 242
        },
        "id": "r7xI1T6fnsOc",
        "outputId": "6af6ba83-d934-4e2a-f6d9-d68802ed379e"
      },
      "source": [
        "import matplotlib.pyplot as plt\n",
        "import matplotlib.dates as mdates\n",
        "\n",
        "fig, ax = plt.subplots(nrows=1, ncols=1,\n",
        "                       figsize=(17, 3),\n",
        "                       facecolor='white')\n",
        "ax.plot(date_range, solarbody_altitude)\n",
        "plt.gcf().autofmt_xdate()\n",
        "myFmt = mdates.DateFormatter('%Y/%m/%d %H:%M')\n",
        "ax.xaxis.set_major_formatter(myFmt)\n",
        "ax.set_ylabel('Altitude [deg]', fontsize=10)\n",
        "plt.show()"
      ],
      "execution_count": 10,
      "outputs": [
        {
          "output_type": "display_data",
          "data": {
            "image/png": "[encoded data removed]",
            "text/plain": [
              "<Figure size 1224x216 with 1 Axes>"
            ]
          },
          "metadata": {}
        }
      ]
    },
    {
      "cell_type": "code",
      "metadata": {
        "colab": {
          "base_uri": "https://localhost:8080/"
        },
        "id": "ibfY7N3NnsDj",
        "outputId": "07fa52f9-b5e4-4dea-e45f-e2d1527624d7"
      },
      "source": [
        "print(np.degrees(MKT.horizon))\n",
        "print(MKT)"
      ],
      "execution_count": 11,
      "outputs": [
        {
          "output_type": "stream",
          "name": "stdout",
          "text": [
            "14.999999999999998\n",
            "<ephem.Observer date='2021/11/3 06:00:00' epoch='2000/1/1 12:00:00' lon='21:26:38.0' lat='-30:42:39.8' elevation=1086.6m horizon=15:00:00.0 temp=15.0C pressure=1010.0mBar>\n"
          ]
        }
      ]
    },
    {
      "cell_type": "code",
      "metadata": {
        "id": "oUtqjVyHnrza"
      },
      "source": [
        ""
      ],
      "execution_count": 11,
      "outputs": []
    }
  ]
}