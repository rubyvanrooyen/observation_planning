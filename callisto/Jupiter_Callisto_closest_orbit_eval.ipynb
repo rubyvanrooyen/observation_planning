{
  "nbformat": 4,
  "nbformat_minor": 0,
  "metadata": {
    "colab": {
      "name": "Jupiter/Callisto closest orbit eval.ipynb",
      "provenance": [],
      "authorship_tag": "ABX9TyNrlYRdCQa94chnPMwjoTvh",
      "include_colab_link": true
    },
    "kernelspec": {
      "name": "python3",
      "display_name": "Python 3"
    },
    "language_info": {
      "name": "python"
    }
  },
  "cells": [
    {
      "cell_type": "markdown",
      "metadata": {
        "id": "view-in-github",
        "colab_type": "text"
      },
      "source": [
        "<a href=\"https://colab.research.google.com/github/rubyvanrooyen/observation_planning/blob/main/callisto/Jupiter_Callisto_closest_orbit_eval.ipynb\" target=\"_parent\"><img src=\"https://colab.research.google.com/assets/colab-badge.svg\" alt=\"Open In Colab\"/></a>"
      ]
    },
    {
      "cell_type": "code",
      "metadata": {
        "id": "AgdjPGGsmVCI"
      },
      "source": [
        "import ephem\n",
        "import numpy as np\n",
        "from pprint import pprint\n",
        "from datetime import datetime"
      ],
      "execution_count": null,
      "outputs": []
    },
    {
      "cell_type": "code",
      "metadata": {
        "id": "HwtIU4J9qOAV",
        "colab": {
          "base_uri": "https://localhost:8080/"
        },
        "outputId": "1e5b7bb5-842f-4095-b5fb-b13c866756dd"
      },
      "source": [
        "# print known planets and planet moons in ephem\n",
        "pprint(ephem._libastro.builtin_planets())"
      ],
      "execution_count": null,
      "outputs": [
        {
          "output_type": "stream",
          "text": [
            "[(0, 'Planet', 'Mercury'),\n",
            " (1, 'Planet', 'Venus'),\n",
            " (2, 'Planet', 'Mars'),\n",
            " (3, 'Planet', 'Jupiter'),\n",
            " (4, 'Planet', 'Saturn'),\n",
            " (5, 'Planet', 'Uranus'),\n",
            " (6, 'Planet', 'Neptune'),\n",
            " (7, 'Planet', 'Pluto'),\n",
            " (8, 'Planet', 'Sun'),\n",
            " (9, 'Planet', 'Moon'),\n",
            " (10, 'PlanetMoon', 'Phobos'),\n",
            " (11, 'PlanetMoon', 'Deimos'),\n",
            " (12, 'PlanetMoon', 'Io'),\n",
            " (13, 'PlanetMoon', 'Europa'),\n",
            " (14, 'PlanetMoon', 'Ganymede'),\n",
            " (15, 'PlanetMoon', 'Callisto'),\n",
            " (16, 'PlanetMoon', 'Mimas'),\n",
            " (17, 'PlanetMoon', 'Enceladus'),\n",
            " (18, 'PlanetMoon', 'Tethys'),\n",
            " (19, 'PlanetMoon', 'Dione'),\n",
            " (20, 'PlanetMoon', 'Rhea'),\n",
            " (21, 'PlanetMoon', 'Titan'),\n",
            " (22, 'PlanetMoon', 'Hyperion'),\n",
            " (23, 'PlanetMoon', 'Iapetus'),\n",
            " (24, 'PlanetMoon', 'Ariel'),\n",
            " (25, 'PlanetMoon', 'Umbriel'),\n",
            " (26, 'PlanetMoon', 'Titania'),\n",
            " (27, 'PlanetMoon', 'Oberon'),\n",
            " (28, 'PlanetMoon', 'Miranda')]\n"
          ],
          "name": "stdout"
        }
      ]
    },
    {
      "cell_type": "markdown",
      "metadata": {
        "id": "oXvBvW_EmhcS"
      },
      "source": [
        "ASCII art for simple display of Jovian moon orbital distance from Jupiter"
      ]
    },
    {
      "cell_type": "code",
      "metadata": {
        "id": "LOjSII9FrS_Q",
        "colab": {
          "base_uri": "https://localhost:8080/"
        },
        "outputId": "e604a988-6f58-4481-e669-9a4419a44e41"
      },
      "source": [
        "import ephem\n",
        "\n",
        "moons = ((ephem.Io(), 'i'),\n",
        "         (ephem.Europa(), 'e'),\n",
        "         (ephem.Ganymede(), 'g'),\n",
        "         (ephem.Callisto(), 'c'))\n",
        "\n",
        "# How to place discrete characters on a line that actually represents\n",
        "# the real numbers -maxradii to +maxradii.\n",
        "\n",
        "linelen = 65\n",
        "maxradii = 30.\n",
        "\n",
        "def put(line, character, radii):\n",
        "    if abs(radii) > maxradii:\n",
        "        return\n",
        "    offset = radii / maxradii * (linelen - 1) / 2\n",
        "    i = int(linelen / 2 + offset)\n",
        "    line[i] = character\n",
        "\n",
        "interval = ephem.hour * 3\n",
        "\n",
        "now = ephem.now()\n",
        "# or set a date\n",
        "# date_str = '{}/{:02d}/{:02d}'.format(2021, 9, 3)\n",
        "# date_str = '{}/{:02d}/{:02d}'.format(2021, 9, 21)\n",
        "date_str = '{}/{:02d}/{:02d}'.format(2021, 10, 7)\n",
        "today = datetime.strptime(date_str, '%Y/%m/%d')\n",
        "now = ephem.Date(today)\n",
        "\n",
        "now -= now % interval\n",
        "\n",
        "t = now\n",
        "#while t < now + 2:\n",
        "while t < now + 17:\n",
        "    line = [' '] * linelen\n",
        "    put(line, 'J', 0)\n",
        "    for moon, character in moons:\n",
        "        moon.compute(t)\n",
        "        put(line, character, moon.x)\n",
        "    print(str(ephem.date(t))[5:], ''.join(line).rstrip())\n",
        "    t += interval\n",
        "\n",
        "print('East is to the right;')\n",
        "print(', '.join([ '%s = %s' % (c, m.name) for m, c in moons ]))"
      ],
      "execution_count": null,
      "outputs": [
        {
          "output_type": "stream",
          "text": [
            "10/7 00:00:00           c        g         i  J        e\n",
            "10/7 03:00:00           c        g       i    J        e\n",
            "10/7 06:00:00          c          g     i     J        e\n",
            "10/7 09:00:00         c            g    i     J       e\n",
            "10/7 12:00:00         c              g   i    J     e\n",
            "10/7 15:00:00        c                g    i  J    e\n",
            "10/7 18:00:00        c                 g      i  e\n",
            "10/7 21:00:00        c                   g    Jei\n",
            "10/8 00:00:00       c                      g eJ    i\n",
            "10/8 03:00:00       c                      eg J     i\n",
            "10/8 06:00:00       c                    e    g     i\n",
            "10/8 09:00:00       c                  e      Jg   i\n",
            "10/8 12:00:00       c                 e       J  g\n",
            "10/8 15:00:00       c                e        i    g\n",
            "10/8 18:00:00       c                e      i J     g\n",
            "10/8 21:00:00       c                e    i   J       g\n",
            "10/9 00:00:00       c                e  i     J        g\n",
            "10/9 03:00:00       c                 e i     J         g\n",
            "10/9 06:00:00       c                  e i    J          g\n",
            "10/9 09:00:00        c                   e i  J           g\n",
            "10/9 12:00:00        c                     e iJ            g\n",
            "10/9 15:00:00        c                       eJ i           g\n",
            "10/9 18:00:00         c                       Je  i         g\n",
            "10/9 21:00:00         c                       J  e  i        g\n",
            "10/10 00:00:00          c                      J    ei        g\n",
            "10/10 03:00:00           c                     J    ie        g\n",
            "10/10 06:00:00           c                     J  i    e      g\n",
            "10/10 09:00:00            c                    Ji       e    g\n",
            "10/10 12:00:00             c                 i J        e    g\n",
            "10/10 15:00:00              c              i   J        e   g\n",
            "10/10 18:00:00               c            i    J        e  g\n",
            "10/10 21:00:00               c           i     J       e  g\n",
            "10/11 00:00:00                c           i    J      e  g\n",
            "10/11 03:00:00                 c            i  J    e   g\n",
            "10/11 06:00:00                  c             iJ   e  g\n",
            "10/11 09:00:00                    c            J e   g\n",
            "10/11 12:00:00                     c          eJ   g\n",
            "10/11 15:00:00                      c       e  J  g i\n",
            "10/11 18:00:00                       c     e   Jg    i\n",
            "10/11 21:00:00                        c  e     g    i\n",
            "10/12 00:00:00                         c     g J   i\n",
            "10/12 03:00:00                        e c  g   Ji\n",
            "10/12 06:00:00                        e   c   iJ\n",
            "10/12 09:00:00                        e g  c   J\n",
            "10/12 12:00:00                        eg  i c  J\n",
            "10/12 15:00:00                        ge i   c J\n",
            "10/12 18:00:00                      g   e i    c\n",
            "10/12 21:00:00                     g     e i   Jc\n",
            "10/13 00:00:00                    g        e  iJ c\n",
            "10/13 03:00:00                   g           e Ji c\n",
            "10/13 06:00:00                   g             e   ic\n",
            "10/13 09:00:00                  g              J e  ic\n",
            "10/13 12:00:00                  g              J   e ic\n",
            "10/13 15:00:00                  g              J    ie c\n",
            "10/13 18:00:00                  g              J   i  e c\n",
            "10/13 21:00:00                  g              J i     e c\n",
            "10/14 00:00:00                   g            iJ        e  c\n",
            "10/14 03:00:00                   g          i  J        e   c\n",
            "10/14 06:00:00                    g       i    J        e    c\n",
            "10/14 09:00:00                     g     i     J        e     c\n",
            "10/14 12:00:00                      g     i    J       e       c\n",
            "10/14 15:00:00                       g     i   J     e          c\n",
            "10/14 18:00:00                         g     i J   e             c\n",
            "10/14 21:00:00                          g      Jie                c\n",
            "10/15 00:00:00                            g    e  i                c\n",
            "10/15 03:00:00                             g e J    i              c\n",
            "10/15 06:00:00                             e g J     i              c\n",
            "10/15 09:00:00                           e    gJ     i               c\n",
            "10/15 12:00:00                          e      Jg  i                 c\n",
            "10/15 15:00:00                         e       J ig                   c\n",
            "10/15 18:00:00                        e       iJ   g                   c\n",
            "10/15 21:00:00                        e     i  J     g                 c\n",
            "10/16 00:00:00                        e   i    J      g                 c\n",
            "10/16 03:00:00                        e  i     J        g               c\n",
            "10/16 06:00:00                         e i     J         g              c\n",
            "10/16 09:00:00                          e  i   J          g              c\n",
            "10/16 12:00:00                            e  i J           g             c\n",
            "10/16 15:00:00                              e  Ji           g            c\n",
            "10/16 18:00:00                                eJ  i          g           c\n",
            "10/16 21:00:00                                 Je   i        g           c\n",
            "10/17 00:00:00                                 J  e  i        g          c\n",
            "10/17 03:00:00                                 J    ei        g          c\n",
            "10/17 06:00:00                                 J   i  e       g          c\n",
            "10/17 09:00:00                                 J i     e      g          c\n",
            "10/17 12:00:00                                 i        e     g          c\n",
            "10/17 15:00:00                              i  J        e    g          c\n",
            "10/17 18:00:00                            i    J        e   g           c\n",
            "10/17 21:00:00                           i     J        e  g            c\n",
            "10/18 00:00:00                           i     J       e   g           c\n",
            "10/18 03:00:00                            i    J      e  g             c\n",
            "10/18 06:00:00                               i J    e   g             c\n",
            "10/18 09:00:00                                 i  e    g             c\n",
            "10/18 12:00:00                                 Je i  g               c\n",
            "10/18 15:00:00                                eJ    g               c\n",
            "10/18 18:00:00                              e  J  g  i             c\n",
            "10/18 21:00:00                            e    J g   i            c\n",
            "10/19 00:00:00                           e     g    i             c\n",
            "10/19 03:00:00                         e     g J  i              c\n",
            "10/19 06:00:00                        e     g  i                c\n",
            "10/19 09:00:00                        e   g  i J               c\n",
            "10/19 12:00:00                        e  g i   J              c\n",
            "10/19 15:00:00                        eg i     J             c\n",
            "10/19 18:00:00                        ge i     J            c\n",
            "10/19 21:00:00                       g  e i    J           c\n",
            "10/20 00:00:00                     g     e  i  J         c\n",
            "10/20 03:00:00                    g        e   i        c\n",
            "10/20 06:00:00                    g          e J i     c\n",
            "10/20 09:00:00                   g             e   i  c\n",
            "10/20 12:00:00                  g              J e   c\n",
            "10/20 15:00:00                  g              J   c i\n",
            "10/20 18:00:00                  g              J  c ie\n",
            "10/20 21:00:00                  g              J ci   e\n",
            "10/21 00:00:00                  g              Jc      e\n",
            "10/21 03:00:00                   g           i c        e\n",
            "10/21 06:00:00                   g         i c J        e\n",
            "10/21 09:00:00                    g      i  c  J        e\n",
            "10/21 12:00:00                     g     i c   J       e\n",
            "10/21 15:00:00                      g     c    J      e\n",
            "10/21 18:00:00                       g  c   i  J     e\n",
            "10/21 21:00:00                        gc      iJ   e\n",
            "10/22 00:00:00                        c g      J e\n",
            "10/22 03:00:00                       c   g     e   i\n",
            "10/22 06:00:00                      c      g e J     i\n",
            "10/22 09:00:00                     c       eg  J     i\n",
            "10/22 12:00:00                    c      e    gJ    i\n",
            "10/22 15:00:00                   c      e      Jg i\n",
            "10/22 18:00:00                  c      e       Jig\n",
            "10/22 21:00:00                 c      e      i J   g\n",
            "10/23 00:00:00                c       e    i   J    g\n",
            "10/23 03:00:00               c        e   i    J      g\n",
            "10/23 06:00:00              c         e  i     J       g\n",
            "10/23 09:00:00             c           e  i    J         g\n",
            "10/23 12:00:00            c              e  i  J          g\n",
            "10/23 15:00:00            c               e   iJ           g\n",
            "10/23 18:00:00           c                  e  Ji           g\n",
            "10/23 21:00:00          c                     eJ   i         g\n",
            "East is to the right;\n",
            "i = Io, e = Europa, g = Ganymede, c = Callisto\n"
          ],
          "name": "stdout"
        }
      ]
    },
    {
      "cell_type": "code",
      "metadata": {
        "colab": {
          "base_uri": "https://localhost:8080/"
        },
        "id": "uDJHlHL3pt56",
        "outputId": "29bd5347-d95a-4a08-c97b-4fd5cc7a24e4"
      },
      "source": [
        "interval = ephem.hour * 1.5\n",
        "date_str = '{}/{:02d}/{:02d}'.format(2021, 8, 27)\n",
        "date_str = '{}/{:02d}/{:02d}'.format(2021, 8, 25)\n",
        "#date_str = '{}/{:02d}/{:02d}'.format(2021, 9, 13)\n",
        "#date_str = '{}/{:02d}/{:02d}'.format(2021, 9, 29)\n",
        "#date_str = '{}/{:02d}/{:02d}'.format(2021, 10, 16)\n",
        "today = datetime.strptime(date_str, '%Y/%m/%d')\n",
        "now = ephem.Date(today)\n",
        "now -= now % interval\n",
        "\n",
        "t = now\n",
        "#while t < now + 2:\n",
        "while t < now + 5:\n",
        "    line = [' '] * linelen\n",
        "    put(line, 'J', 0)\n",
        "    for moon, character in moons:\n",
        "        moon.compute(t)\n",
        "        put(line, character, moon.x)\n",
        "    print(str(ephem.date(t))[5:], ''.join(line).rstrip())\n",
        "    t += interval\n",
        "\n",
        "print('East is to the right;')\n",
        "print(', '.join([ '%s = %s' % (c, m.name) for m, c in moons ]))"
      ],
      "execution_count": null,
      "outputs": [
        {
          "output_type": "stream",
          "text": [
            "8/25 00:00:00                   g             J     e   c\n",
            "8/25 01:30:00                   g             J     ie   c\n",
            "8/25 03:00:00                    g            J    i  e   c\n",
            "8/25 04:30:00                    g            J   i   e   c\n",
            "8/25 06:00:00                    g            J   i    e   c\n",
            "8/25 07:30:00                     g           J i      e   c\n",
            "8/25 09:00:00                     g           Ji       e    c\n",
            "8/25 10:30:00                      g          i        e    c\n",
            "8/25 12:00:00                      g         iJ        e     c\n",
            "8/25 13:30:00                       g      i  J        e     c\n",
            "8/25 15:00:00                       g     i   J        e      c\n",
            "8/25 16:30:00                        g   i    J        e      c\n",
            "8/25 18:00:00                         g  i    J       e        c\n",
            "8/25 19:30:00                         g i     J       e        c\n",
            "8/25 21:00:00                          gi     J      e          c\n",
            "8/25 22:30:00                           g     J     e           c\n",
            "8/26 00:00:00                            g    J    e             c\n",
            "8/26 01:30:00                            g    J    e             c\n",
            "8/26 03:00:00                             g   J   e              c\n",
            "8/26 04:30:00                              g  J  e                c\n",
            "8/26 06:00:00                               giJ e                 c\n",
            "8/26 07:30:00                                gie                   c\n",
            "8/26 09:00:00                                gei                   c\n",
            "8/26 10:30:00                                eg i                  c\n",
            "8/26 12:00:00                              e  Jg  i                 c\n",
            "8/26 13:30:00                              e  J g  i                c\n",
            "8/26 15:00:00                             e   J  g i                c\n",
            "8/26 16:30:00                            e    J   g i                c\n",
            "8/26 18:00:00                           e     J   g i                c\n",
            "8/26 19:30:00                          e      J    gi                c\n",
            "8/26 21:00:00                         e       J    ig                 c\n",
            "8/26 22:30:00                         e       J    i g                c\n",
            "8/27 00:00:00                        e        J   i  g                c\n",
            "8/27 01:30:00                        e        J  i    g               c\n",
            "8/27 03:00:00                        e        J i      g              c\n",
            "8/27 04:30:00                        e        i        g               c\n",
            "8/27 06:00:00                        e       iJ         g              c\n",
            "8/27 07:30:00                        e      i J          g             c\n",
            "8/27 09:00:00                        e     i  J          g             c\n",
            "8/27 10:30:00                        e    i   J           g            c\n",
            "8/27 12:00:00                         e  i    J           g             c\n",
            "8/27 13:30:00                         e i     J            g            c\n",
            "8/27 15:00:00                          ei     J            g            c\n",
            "8/27 16:30:00                           e     J            g            c\n",
            "8/27 18:00:00                           ei    J             g           c\n",
            "8/27 19:30:00                            e    J             g           c\n",
            "8/27 21:00:00                             e   J             g           c\n",
            "8/27 22:30:00                              e  J              g          c\n",
            "8/28 00:00:00                               e J              g          c\n",
            "8/28 01:30:00                                ei              g          c\n",
            "8/28 03:00:00                                 ei             g          c\n",
            "8/28 04:30:00                                 Jei            g          c\n",
            "8/28 06:00:00                                 J ei           g          c\n",
            "8/28 07:30:00                                 J  ei          g          c\n",
            "8/28 09:00:00                                 J   ei         g          c\n",
            "8/28 10:30:00                                 J    ei        g          c\n",
            "8/28 12:00:00                                 J     e       g           c\n",
            "8/28 13:30:00                                 J     ie      g           c\n",
            "8/28 15:00:00                                 J    i e      g          c\n",
            "8/28 16:30:00                                 J    i  e     g          c\n",
            "8/28 18:00:00                                 J   i   e    g           c\n",
            "8/28 19:30:00                                 J  i     e   g           c\n",
            "8/28 21:00:00                                 J i      e  g            c\n",
            "8/28 22:30:00                                 Ji       e  g            c\n",
            "8/29 00:00:00                                iJ        e g            c\n",
            "8/29 01:30:00                               i J        e g            c\n",
            "8/29 03:00:00                              i  J        eg             c\n",
            "8/29 04:30:00                             i   J        eg             c\n",
            "8/29 06:00:00                            i    J        g             c\n",
            "8/29 07:30:00                           i     J       g              c\n",
            "8/29 09:00:00                           i     J      eg              c\n",
            "8/29 10:30:00                           i     J      g              c\n",
            "8/29 12:00:00                           i     J     g               c\n",
            "8/29 13:30:00                            i    J    g                c\n",
            "8/29 15:00:00                             i   J   eg               c\n",
            "8/29 16:30:00                              i  J  eg                c\n",
            "8/29 18:00:00                               i J eg                 c\n",
            "8/29 19:30:00                                iJeg                 c\n",
            "8/29 21:00:00                                 eg                  c\n",
            "8/29 22:30:00                                eJgi                 c\n",
            "East is to the right;\n",
            "i = Io, e = Europa, g = Ganymede, c = Callisto\n"
          ],
          "name": "stdout"
        }
      ]
    },
    {
      "cell_type": "code",
      "metadata": {
        "id": "FTVWY8w4Is19"
      },
      "source": [
        "# set MeerKAT as observer\n",
        "# Observer\n",
        "MKT = ephem.Observer()\n",
        "MKT.lat = '-30:42:39.8'\n",
        "MKT.lon = '21:26:38.0'\n",
        "MKT.elevation = 1086.6\n",
        "MKT.horizon= '15'\n",
        "#MKT.horizon = ephem.degrees(15.0)\n",
        "MKT.epoch = ephem.J2000"
      ],
      "execution_count": null,
      "outputs": []
    },
    {
      "cell_type": "code",
      "metadata": {
        "colab": {
          "base_uri": "https://localhost:8080/"
        },
        "id": "DrrAg4u-UB_4",
        "outputId": "e722be37-01c0-4fa3-c263-ba3ce42ac375"
      },
      "source": [
        "print(MKT)"
      ],
      "execution_count": null,
      "outputs": [
        {
          "output_type": "stream",
          "text": [
            "<ephem.Observer date='2021/8/18 09:36:54' epoch='2000/1/1 12:00:00' lon='21:26:38.0' lat='-30:42:39.8' elevation=1086.6m horizon=15:00:00.0 temp=15.0C pressure=1010.0mBar>\n"
          ],
          "name": "stdout"
        }
      ]
    },
    {
      "cell_type": "code",
      "metadata": {
        "colab": {
          "base_uri": "https://localhost:8080/"
        },
        "id": "rDD8YkhUIssD",
        "outputId": "d667ba3c-6ff3-45cb-a3a8-f866e2396f91"
      },
      "source": [
        "def rise_set_time(date_str):\n",
        "    obs_date = datetime.strptime(date_str, '%Y/%m/%d %H:%M')\n",
        "    MKT.date = ephem.Date(obs_date)\n",
        " \n",
        "    jupiter = ephem.Jupiter(MKT)\n",
        "    callisto = ephem.Callisto(MKT)\n",
        "\n",
        "    jupiter.compute(MKT)\n",
        "    callisto.compute(MKT)\n",
        "    phi = np.array(jupiter.radius)  # radius as an angle [rad]\n",
        "    D = np.array(jupiter.earth_distance)  # ristance to Earth [AU]\n",
        "    R = D*np.tan(phi)  # Jupiter radius [AU]\n",
        "\n",
        "    risetime = MKT.next_rising(jupiter)\n",
        "    settime = MKT.next_setting(jupiter, risetime)\n",
        "    transittime = MKT.next_transit(jupiter, risetime)\n",
        "\n",
        "#     MKT.date = risetime\n",
        "#     jupiter.compute(MKT)\n",
        "#     print(MKT.date, np.degrees(jupiter.alt), jupiter.ra, jupiter.dec)\n",
        "#     MKT.date = settime\n",
        "#     jupiter.compute(MKT)\n",
        "#     print(MKT.date, np.degrees(jupiter.alt), jupiter.ra, jupiter.dec)\n",
        " \n",
        "    print(f\"Jupiter rises at {risetime} and sets at {settime}\")\n",
        "    print(f\"Transit at {jupiter.transit_time}, {np.degrees(jupiter.transit_alt):.2f} [deg] elevation\")\n",
        "\n",
        "    MKT.date = risetime\n",
        "    callisto.compute(MKT)\n",
        "    r = callisto.x * R  # frac of radius, separation distance [AU]\n",
        "    phi = np.degrees(np.arctan(r/D))  # deg\n",
        "    print(f\"  Callisto separation at {MKT.date} = {phi*60.:.2f} [arcmin]\")\n",
        "    MKT.date = transittime\n",
        "    callisto.compute(MKT)\n",
        "    r = callisto.x * R  # frac of radius, separation distance [AU]\n",
        "    phi = np.degrees(np.arctan(r/D))  # deg\n",
        "    print(f\"  Callisto separation at {MKT.date} = {phi*60.:.2f} [arcmin]\")\n",
        "    MKT.date = settime\n",
        "    callisto.compute(MKT)\n",
        "    r = callisto.x * R  # frac of radius, separation distance [AU]\n",
        "    phi = np.degrees(np.arctan(r/D))  # deg\n",
        "    print(f\"  Callisto separation at {MKT.date} = {phi*60.:.2f} [arcmin]\")\n",
        "\n",
        "\n",
        "# set observation date/time\n",
        "def showtimes(elong_year, elong_month, elong_day):\n",
        "    for day_ in range(elong_day-3, elong_day+4):\n",
        "        if day_ > 30:\n",
        "            day_ = day_ - 30\n",
        "            month_ = elong_month + 1\n",
        "            date_str = '{}/{:02d}/{:02d} {}:{}'.format(elong_year, month_, day_, 0, 0)\n",
        "        else:\n",
        "            date_str = '{}/{:02d}/{:02d} {}:{}'.format(elong_year, elong_month, day_, 0, 0)\n",
        "        rise_set_time(date_str)\n",
        "        print()\n",
        "\n",
        "# showtimes(2021, 8, 27)\n",
        "# showtimes(2021, 9, 13)\n",
        "# showtimes(2021, 9, 30)\n",
        "showtimes(2021, 10, 16)\n",
        "\n",
        "#date_str = '{}/{:02d}/{:02d} {}:{}'.format(2021, 10, 16, 0, 0)\n",
        "#rise_set_time(date_str)\n",
        "\n",
        "\n"
      ],
      "execution_count": 100,
      "outputs": [
        {
          "output_type": "stream",
          "text": [
            "Jupiter rises at 2021/10/13 13:19:50 and sets at 2021/10/14 00:09:08\n",
            "Transit at 2021/10/13 18:44:29, 74.44 [deg] elevation\n",
            "  Callisto separation at 2021/10/13 13:19:50 = 2.62 [arcmin]\n",
            "  Callisto separation at 2021/10/13 18:44:29 = 3.36 [arcmin]\n",
            "  Callisto separation at 2021/10/14 00:09:08 = 4.08 [arcmin]\n",
            "\n",
            "Jupiter rises at 2021/10/14 13:15:50 and sets at 2021/10/15 00:05:10\n",
            "Transit at 2021/10/14 18:40:29, 74.45 [deg] elevation\n",
            "  Callisto separation at 2021/10/14 13:15:50 = 5.66 [arcmin]\n",
            "  Callisto separation at 2021/10/14 18:40:30 = 6.26 [arcmin]\n",
            "  Callisto separation at 2021/10/15 00:05:10 = 6.80 [arcmin]\n",
            "\n",
            "Jupiter rises at 2021/10/15 13:11:52 and sets at 2021/10/16 00:01:11\n",
            "Transit at 2021/10/15 18:36:31, 74.45 [deg] elevation\n",
            "  Callisto separation at 2021/10/15 13:11:52 = 7.89 [arcmin]\n",
            "  Callisto separation at 2021/10/15 18:36:31 = 8.25 [arcmin]\n",
            "  Callisto separation at 2021/10/16 00:01:11 = 8.54 [arcmin]\n",
            "\n",
            "Jupiter rises at 2021/10/16 13:07:54 and sets at 2021/10/16 23:57:14\n",
            "Transit at 2021/10/16 18:32:34, 74.45 [deg] elevation\n",
            "  Callisto separation at 2021/10/16 13:07:54 = 8.98 [arcmin]\n",
            "  Callisto separation at 2021/10/16 18:32:34 = 9.05 [arcmin]\n",
            "  Callisto separation at 2021/10/16 23:57:14 = 9.07 [arcmin]\n",
            "\n",
            "Jupiter rises at 2021/10/17 13:03:57 and sets at 2021/10/17 23:53:17\n",
            "Transit at 2021/10/17 18:28:37, 74.45 [deg] elevation\n",
            "  Callisto separation at 2021/10/17 13:03:57 = 8.79 [arcmin]\n",
            "  Callisto separation at 2021/10/17 18:28:37 = 8.58 [arcmin]\n",
            "  Callisto separation at 2021/10/17 23:53:17 = 8.30 [arcmin]\n",
            "\n",
            "Jupiter rises at 2021/10/18 13:00:01 and sets at 2021/10/18 23:49:21\n",
            "Transit at 2021/10/18 18:24:41, 74.44 [deg] elevation\n",
            "  Callisto separation at 2021/10/18 13:00:01 = 7.37 [arcmin]\n",
            "  Callisto separation at 2021/10/18 18:24:41 = 6.90 [arcmin]\n",
            "  Callisto separation at 2021/10/18 23:49:21 = 6.39 [arcmin]\n",
            "\n",
            "Jupiter rises at 2021/10/19 12:56:06 and sets at 2021/10/19 23:45:25\n",
            "Transit at 2021/10/19 18:20:45, 74.44 [deg] elevation\n",
            "  Callisto separation at 2021/10/19 12:56:06 = 4.93 [arcmin]\n",
            "  Callisto separation at 2021/10/19 18:20:46 = 4.28 [arcmin]\n",
            "  Callisto separation at 2021/10/19 23:45:25 = 3.59 [arcmin]\n",
            "\n"
          ],
          "name": "stdout"
        }
      ]
    },
    {
      "cell_type": "code",
      "metadata": {
        "id": "OnUOy8aat2K0",
        "colab": {
          "base_uri": "https://localhost:8080/"
        },
        "outputId": "0e97d595-056a-4282-c49b-5f6b0c54f779"
      },
      "source": [
        "jupiter = ephem.Jupiter(MKT)\n",
        "obs_date = datetime.strptime(date_str, '%Y/%m/%d %H:%M')\n",
        "MKT.date = ephem.Date(obs_date)\n",
        "jupiter.compute(MKT)\n",
        "\n",
        "risetime = MKT.next_rising(jupiter)\n",
        "settime = MKT.next_setting(jupiter, risetime)\n",
        "\n",
        "print(f\"Jupiter rises at {risetime} and sets at {settime}\")\n",
        "print(f\"Transet at {jupiter.transit_time}, {np.degrees(jupiter.transit_alt):.2f} [deg] elevation\")"
      ],
      "execution_count": null,
      "outputs": [
        {
          "output_type": "stream",
          "text": [
            "Jupiter rises at 2021/8/27 16:42:29 and sets at 2021/8/28 03:26:02\n",
            "Transet at 2021/8/28 21:59:48, 73.24 [deg] elevation\n"
          ],
          "name": "stdout"
        }
      ]
    },
    {
      "cell_type": "code",
      "metadata": {
        "id": "6nzcpIMqrS3N",
        "colab": {
          "base_uri": "https://localhost:8080/"
        },
        "outputId": "15b4e9ea-729f-4d49-cbd3-156ee8783438"
      },
      "source": [
        "# apparent Earth distance calculations\n",
        "def orbit(observer,  # ephem.Observer()\n",
        "          solarbody,  # ephem.Body()\n",
        "          obs_date=None,  # string CCYY-mm-dd HH:MM\n",
        "          obs_period=1,  # period to calculate orbit over\n",
        "          days=False,  # increment in days\n",
        "          hours=False,  # increment in hours\n",
        "          minutes=False,  # increment in minutes\n",
        "          ):\n",
        "    \n",
        "    if obs_date is None:\n",
        "        obs_date = datetime.now().replace(second=0, microsecond=0)\n",
        "    # initiate observer date\n",
        "    observer.date = ephem.Date(obs_date)\n",
        "\n",
        "    # range increments\n",
        "    if days:\n",
        "        dt = 1\n",
        "    elif hours:\n",
        "        dt = ephem.hour\n",
        "    else:  # default assumes hours\n",
        "        dt = ephem.minute\n",
        "\n",
        "    date_range = []\n",
        "    solarbody_altitude = []  # altitude above the horizon\n",
        "    solarbody_earth_distance = []  # Earth distance is in AU\n",
        "\n",
        "    for inc_ in range(obs_period):\n",
        "        date_range.append(ephem.Date(observer.date).datetime())\n",
        "        solarbody.compute(observer)\n",
        "        solarbody_altitude.append(np.degrees(solarbody.alt))\n",
        "        solarbody_earth_distance.append(solarbody.earth_distance)\n",
        "        # update observer date\n",
        "        observer.date += dt\n",
        "\n",
        "    return date_range, solarbody_altitude, solarbody_earth_distance\n",
        "\n",
        "# Jupiter perigee\n",
        "MKT.date = ephem.Date(obs_date)\n",
        "jupiter = ephem.Jupiter(MKT)\n",
        "[date_range,\n",
        " solarbody_altitude,\n",
        " solarbody_earth_distance] = orbit(MKT,\n",
        "                                   jupiter,\n",
        "                                   obs_date=obs_date,\n",
        "                                   obs_period=1800,\n",
        "                                   minutes=True)\n",
        "print(date_range[0], date_range[-1])\n",
        "print(solarbody_altitude)\n"
      ],
      "execution_count": null,
      "outputs": [
        {
          "output_type": "stream",
          "text": [
            "2021-08-27 00:00:00 2021-08-28 05:59:00.000351\n",
            "[59.317706752702854, 59.12551888983704, 58.93283925335098, 58.73968150362302, 58.546045640653155, 58.3519521550089, 58.15740104669026, 57.962405976075566, 57.76697377335399, 57.571118098903874, 57.37483895272522, 57.17814658010178, 56.98105464141189, 56.78356655175014, 56.5856891413057, 56.387432655362325, 56.18880392410919, 55.98980977773545, 55.7904536313357, 55.590749145288285, 55.3906963195932, 55.19030881462878, 54.989586630395024, 54.78853659708112, 54.587172375065386, 54.38549054925325, 54.18350478002305, 53.98121506737478, 53.778628241497614, 53.57575454767532, 53.37259398590787, 53.16915680147904, 52.96544299438882, 52.761459394826396, 52.5572162480755, 52.35271013904156, 52.147951313008335, 51.94294660016499, 51.73769600051152, 51.53220292914252, 51.32647763134173, 51.12052010710917, 50.91433718663399, 50.70793228501079, 50.501308817334156, 50.294470198698654, 50.08742325929347, 49.880171414213194, 49.6727180785524, 49.46506666740567, 49.257220595867594, 49.04918327903276, 48.84096154709034, 48.632555400040324, 48.4239682529773, 48.215203520995864, 48.00626803428518, 47.79716520793982, 47.587891626865215, 47.37845753634512, 47.16886293637952, 46.95911124206301, 46.74920928358476, 46.53915023075561, 46.32894774395388, 46.118598408085, 45.90810905333813, 45.697479679713275, 45.486713702305025, 45.27581453620795, 45.06478218142207, 44.85362346813654, 44.64233839635136, 44.43093038116113, 44.21940283766042, 44.00775576584924, 43.79599258082216, 43.58411669767378, 43.37212811640409, 43.16003366720227, 42.94782993497373, 42.73552374990764, 42.523115112004, 42.310607436357394, 42.09800413806241, 41.88530180202445, 41.67251067352729, 41.45962392238175, 41.24665179387158, 41.0335908729022, 40.8204445745682, 40.60721631396416, 40.393906091090074, 40.18051732104053, 39.967050003815544, 39.75350755450968, 39.53989338821753, 39.3262075049391, 39.11244990467438, 38.898624002517955, 38.68473321356442, 38.470777537813774, 38.25675697526601, 38.0426783561103, 37.828538265252064, 37.61434011778587, 37.40008732880633, 37.18577989831343, 36.97141782630716, 36.75700452788212, 36.54254341813289, 36.32803108196489, 36.11347434956728, 35.89886980584547, 35.68422428098865, 35.46953777499681, 35.25480687277537, 35.04003840451348, 34.82523237021117, 34.610388769868415, 34.39551101857982, 34.18059911634536, 33.965656478259646, 33.750679689228086, 33.53567899453442, 33.32064414889491, 33.1055853975933, 32.8905027406296, 32.67539617800381, 32.46026570971591, 32.24511133576593, 32.029939886343016, 31.814747946352593, 31.599538930889246, 31.38431625504756, 31.16907650373295, 30.953823092039997, 30.738556019968705, 30.52327870261366, 30.307991139974856, 30.092696747146885, 29.877392109035156, 29.66208064073426, 29.446765757338778, 29.23144745884871, 29.01612574526406, 28.800800616584823, 28.585477195452878, 28.370153774320933, 28.154832060736283, 27.939513762246214, 27.724200586398023, 27.50889082564442, 27.29358960262728, 27.078295209799307, 26.863009354707795, 26.647735452447336, 26.432470087923335, 26.217218383777677, 26.001980340010356, 25.78675766416867, 25.571548648705324, 25.356358416262193, 25.14118525929199, 24.926032592889296, 24.710898709506818, 24.495787024239146, 24.280697537086272, 24.065631955595496, 23.850590279766816, 23.635575924694812, 23.42058889037949, 23.205630884368144, 22.990700199113476, 22.775801957257364, 22.560934451252518, 22.34610109619352, 22.13130018453308, 21.916535131365787, 21.701807644238926, 21.4871177231525, 21.27246536810651, 21.05785399419554, 20.84328360141959, 20.628755897325952, 20.41427258946192, 20.199833677827492, 19.98544086996996, 19.771095873436618, 19.55680039577476, 19.342552729437095, 19.128357997065496, 18.91421619865996, 18.70012904176779, 18.486096526388977, 18.27212036007082, 18.058202250360605, 17.844343904805626, 17.63054703095318, 17.416811628803266, 17.203141113450464, 16.989535484894777, 16.77599815823079, 16.562527425911213, 16.34912841057792, 16.135799404683617, 15.922545530870188, 15.709366789137627, 15.496261471938645, 15.28305199435482, 15.069898865831647, 14.856802086369125, 14.64376336351455, 14.43085782934879, 14.218190498030335, 14.005611105397442, 13.793121358997407, 13.580724673924813, 13.368422757726954, 13.15621731795112, 12.944110062144604, 12.73210525917564, 12.520204616591519, 12.308409841939532, 12.09672349654062, 11.885149849263012, 11.673691461427648, 11.462350040581821, 11.251129001820116, 11.040032614010762, 10.829064292248347, 10.618226597853809, 10.407523799695378, 10.19695931286764, 9.986538260012471, 9.77626405622446, 9.566142677919126, 9.356177540191057, 9.146374619455775, 8.936739038355158, 8.727276773304732, 8.517993800720017, 8.308896950790185, 8.099993053704406, 7.891289793425497, 7.682794853916272, 7.4745176266868425, 7.266466649473669, 7.058651740673684, 6.851083999344289, 6.643775378316532, 6.436737403534636, 6.229984162263765, 6.023530168655905, 5.817391217523512, 5.611584811226334, 5.406130159671412, 5.201046899652609, 4.996358509945197, 4.792088896211272, 4.588265379207514, 4.38494516176822, 4.182110314646821, 3.9798201751117306, 3.778114870524322, 3.577038156783966, 3.376638058658265, 3.1769683638869317, 2.9780879828515583, 2.7800624426794944, 2.5829636738004362, 2.386871930937132, 2.1918751527751454, 1.9980702426233263, 1.8055643490742788, 1.6144740122307164, 1.4249274048612828, 1.2370627315749647, 1.0510292960381507, 0.8669868606443951, 0.6851036721628628, 0.5055552877995642, 0.3285210800614914, 0.15418027471329113, -0.017293783846894402, -0.18574069789785566, -0.35102169753907037, -0.5130296491856737, -0.671699852803536, -0.8269874585958021, -0.9789949194000226, -1.1278437378782296, -1.2737724370428445, -1.4171305304803017, -1.5584435158698688, -1.6983676249803963, -1.837833150921181, -1.9780876704328079, -2.120839264416309, -2.2686296170165754, -2.425358979693096, -2.5976547703748993, -2.7985135583920493, -3.059086129001682, -3.4739633451324807, -4.07771001940953, -4.534763226778335, -4.884044159893977, -5.183149242706237, -5.454423865971633, -5.708217046943205, -5.950222175180981, -6.183803545738016, -6.41112718235485, -6.633660721929389, -6.852464978217101, -7.068222543248165, -7.281541730745533, -7.492845585550926, -7.70245896853674, -7.91064057311779, -8.11759445119553, -8.320369961048515, -8.520659282043614, -8.720753942647368, -8.920650527765194, -9.120349037397087, -9.319846056448466, -9.519139877372037, -9.7182305001678, -9.91711450974117, -10.115791052318501, -10.314257566578855, -10.512513198748582, -10.710554533733102, -10.908381571532413, -11.105991750825575, -11.303382510291652, -11.500552996156994, -11.69749979332702, -11.894222901801728, -12.090719760260178, -12.286987807381433, -12.4830253356182, -12.67882978364954, -12.874401151475455, -13.06973517022771, -13.264830986132662, -13.459686037869371, -13.654298617890545, -13.84866701864889, -14.042788678823468, -14.236661037093342, -14.430282385911216, -14.623650163956155, -14.816763517454511, -15.009619031311699, -15.202214997980425, -15.394549709913399, -15.586618044468743, -15.778421709193749, -15.96995728899383, -16.161219661227115, -16.352210533440886, -16.542924782993275, -16.733360702336988, -16.923516583924727, -17.113390720209203, -17.30297798854854, -17.492280096490028, -17.6812902138445, -17.87000663306466, -18.05842935415051, -18.246554962007462, -18.434380041540933, -18.621902885203635, -18.809118370353684, -18.996028204538376, -19.18262726511583, -19.368912136991465, -19.554881112617988, -19.740532484448106, -19.925862837387232, -20.110867048793487, -20.29554682621417, -20.479895339460107, -20.6639125885313, -20.84759515833316, -21.03093792622381, -21.213940892203254, -21.396600641176907, -21.578912050502886, -21.760875120181197, -21.94248472756996, -22.12373916512188, -22.304635017742374, -22.48516887033686, -22.66533730781075, -22.845136915069457, -23.024567692112985, -23.20362280875216, -23.382300557439695, -23.560597523081, -23.73851029058149, -23.916037152393876, -24.09317298587628, -24.269914375934118, -24.4462579074728, -24.622203580492325, -24.79774285725624, -24.972875737764536, -25.14759880692263, -25.321905234541358, -25.49579502062071, -25.669264750066112, -25.842307592688385, -26.01492354848753, -26.187105787274383, -26.358854309048937, -26.530160576074735, -26.701026295899066, -26.87144293078547, -27.041410480733944, -27.21092211555532, -27.379976127702307, -27.548567394533023, -27.716692500952888, -27.884348031867315, -28.051528864634424, -28.218231584159632, -28.384452775348354, -28.550187315558713, -28.715433497243417, -28.880184490213296, -29.044433464279177, -29.208183834535646, -29.371425355698953, -29.53415802776909, -29.696375020556893, -29.85806950387319, -30.01924147771798, -30.179884111902098, -30.339997406425535, -30.499571116004542, -30.658601825544537, -30.81708953504551, -30.975023999223716, -31.132401802984564, -31.289222946328056, -31.44547718397044, -31.60116451591171, -31.7562781119627, -31.91081114193424, -32.06476019073174, -32.21812184326062, -32.370892684426295, -32.523062468945014, -32.67463119681676, -32.82559545294697, -32.97594157695729, -33.12567298394231, -33.274782843712856, -33.42326432607977, -33.571114015948446, -33.718321668035145, -33.864890697434454, -34.010810858862605, -34.156078737225016, -34.30068750233253, -34.444630323995966, -34.58790720221532, -34.73050789170685, -34.872428977375954, -35.01366704412806, -35.15421184667942, -35.294063385030015, -35.433211413896096, -35.571652518183086, -35.709383282796395, -35.84639687754685, -35.9826830571507, -36.11824523670253, -36.253069755823994, -36.38715319942052, -36.5204921523975, -36.65307978456579, -36.784909265736204, -36.91597718081417, -37.0462766996105, -37.175797576841454, -37.304539812507024, -37.43249657641804, -37.559661038385336, -37.68602978331433, -37.81159256592126, -37.93634597111154, -38.06028316869601, -38.18339732848549, -38.305685035385395, -38.427139459206565, -38.547753769759815, -38.66752455195058, -38.786441560495085, -38.904501380298754, -39.02169718117242, -39.138022132926906, -39.25347282046763, -39.36804241360542, -39.48172408215112, -39.59450758082095, -39.706396324709516, -39.817376653438465, -39.927441736818636, -40.03659157485003, -40.14481592224888, -40.25211136392061, -40.35846765458146, -40.46388137913686, -40.56834570739762, -40.67185722426916, -40.77440568446773, -40.875987672898745, -40.97659635937303, -41.076224913701424, -41.174866505694744, -41.27251772025842, -41.36917172720327, -41.46482169634013, -41.55946079747982, -41.65308561552777, -41.74568932029481, -41.83726508159175, -41.92780606922944, -42.01730886811329, -42.10576664805413, -42.1931691637682, -42.27951983035008, -42.364804987421444, -42.449021219887705, -42.53216511265427, -42.61422642043738, -42.69520172814247, -42.77508762067494, -42.853877267845625, -42.931560424370765, -43.00814050534495, -43.08360385038983, -43.15794704441083, -43.23116667231337, -43.303259319002855, -43.37421473919553, -43.44402951779682, -43.51269682461754, -43.5802166596577, -43.64657877763355, -43.711783178545076, -43.775819617108525, -43.83868467822933, -43.90037494681288, -43.96088700776461, -44.02021403089534, -44.078349186015906, -44.1352924731263, -44.19103364694277, -44.24557612255991, -44.29890965469396, -44.35103082825032, -44.401936228134424, -44.451622439251686, -44.50008604650751, -44.54732021971273, -44.59332154377277, -44.63809001868762, -44.681618814268106, -44.72390110032507, -44.764940291953096, -44.804729558963004, -44.843265486260215, -44.880544658750146, -44.91656707643279, -44.9513224940244, -44.984817741714146, -45.017039159123684, -45.04799357644218, -45.077670748385884, -45.10607409004938, -45.13320018633809, -45.15904220706283, -45.183603567318194, -45.206877436915015, -45.22886381585329, -45.24956270413301, -45.2689706866596, -45.287084348338475, -45.30390368916963, -45.31942870915307, -45.333652578099624, -45.346582126198456, -45.358210523260404, -45.36853776928546, -45.37756386427363, -45.38528880822492, -45.39170918604473, -45.39682499773307, -45.40063965838452, -45.403149752904504, -45.404351866198425, -45.404252828455455, -45.402845809486436, -45.400137639480526, -45.39612148824856, -45.390804185979704, -45.38418231757937, -45.37625929814216, -45.36703171257347, -45.3565029759679, -45.344676503420025, -45.33154546474067, -45.317120105213604, -45.301397009744235, -45.28437959342715, -45.26606444116776, -45.246458383155236, -45.225561419389585, -45.203376964965386, -45.17990501988263, -45.15514558414134, -45.129105487930666, -45.10178473125061, -45.073183314101186, -45.04330806667155, -45.01215898896171, -44.97973949606624, -44.94605300307974, -44.911099510002195, -44.87488584702279, -44.83741201414151, -44.79868142645296, -44.75870091414629, -44.717470477221504, -44.6749935307732, -44.631273489895946, -44.58631718477892, -44.54012461542212, -44.49269919692014, -44.44404775946214, -44.39417371814271, -44.34308048805643, -44.290771484297885, -44.23725353705625, -44.182526646331524, -44.12659764231287, -44.06946994009488, -44.01115036986673, -43.951642346723, -43.89094928575826, -43.829078017161706, -43.76602854093331, -43.70181451745144, -43.636432531621494, -43.569889413632644, -43.50219199367406, -43.43334710193492, -43.36335473841521, -43.2922251483987, -43.21995833188538, -43.14656453415901, -43.07204717031417, -42.99641307054004, -42.9196622348366, -42.84180832358221, -42.76285133677686, -42.68279468951514, -42.60165204217539, -42.51942339475761, -42.43611216235638, -42.35173200535004, -42.26628292373859, -42.179768332616625, -42.09220189236248, -42.00358360297615, -41.91392029464681, -41.82321879756362, -41.73148252682118, -41.638721727703235, -41.54493981530438, -41.45014361981377, -41.354339971420586, -41.25753228521941, -41.159727391399414, -41.060932120149765, -40.961149886565046, -40.86039093592902, -40.758662098430854, -40.65596337407054, -40.55230500813184, -40.44769383080393, -40.34213325718138, -40.23563011745337, -40.12819124180907, -40.01982346043765, -39.91053360352827, -39.80032508617553, -39.68920132347401, -39.57717597580204, -39.46425245825422, -39.35043418592513, -39.23572798900394, -39.12014069767981, -39.00367914214193, -38.886350152579446, -38.768157144086956, -38.649106946853635, -38.52920639106865, -38.408462306921166, -38.286878109505764, -38.16446062901163, -38.041220110722506, -37.91715313954381, -37.79227679094846, -37.66658764984189, -37.54009937660242, -37.41280855613548, -37.28473226391399, -37.15586708484336, -37.026223264207346, -36.89580421710053, -36.76462018880668, -36.63267117932579, -36.49996743394161, -36.36651236774873, -36.23231281093633, -36.09737217859897, -35.96170071602042, -35.82529842320068, -35.68817213032892, -35.55033208268889, -35.41178169537518, -35.272520968387795, -35.13256356210506, -34.99190947652699, -34.85056554184275, -34.7085385882415, -34.56583203081784, -34.42245269976093, -34.27840401016536, -34.1336927922203, -33.98832246102034, -33.84230326184922, -33.69563177961236, -33.54832167468812, -33.40037636217105, -33.251795842061185, -33.10259035964225, -32.95276333000885, -32.80231816825557, -32.65126170457157, -32.49959735405143, -32.34733194688434, -32.194468898164864, -32.04101503808219, -31.886973781730894, -31.73234854420556, -31.57714615569536, -31.421370031294877, -31.26502700119329, -31.108117065390584, -30.950650469170526, -30.792630627627695, -30.634057540762093, -30.47494145385748, -30.315282366913845, -30.155087110120366, -29.994359098571625, -29.833105162456793, -29.671328716870455, -29.509029761812613, -29.34621854256702, -29.182895059133674, -29.01906614170175, -28.854738620460413, -28.68990908031508, -28.524586059002214, -28.35877467916369, -28.192476648346805, -28.025698796740727, -27.858441124345454, -27.690712168897452, -27.522513637944012, -27.353847239032422, -27.184721509899152, -27.015136450544198, -26.84509889115673, -26.674610539284043, -26.50367481002072, -26.332296826008637, -26.160480002342382, -25.988227754116537, -25.81554520397298, -25.64243405945901, -25.468897735669202, -25.294941355245438, -25.120566625735012, -24.945778669779802, -24.77058090247439, -24.59497503136607, -24.418967886644012, -24.242559468308215, -24.065753191453265, -23.888555886268332, -23.710967552753416, -23.5329916060031, -23.354633168659266, -23.175893948269202, -22.996779067474787, -22.817290233823314, -22.637429154862076, -22.45720095323295, -22.27660904403052, -22.09565684234937, -21.914344348189505, -21.7326766841928, -21.550657265453836, -21.368289507067203, -21.185575116580193, -21.002515801540095, -20.819116684588792, -20.635381180820865, -20.451309290236313, -20.266906135477015, -20.082173424090264, -19.897114571170647, -19.711732991812745, -19.526028686016563, -19.340006776423973, -19.15367067812956, -18.96702039113333, -18.780061038077157, -18.592794326508333, -18.40522196397415, -18.217347365569193, -18.029172238840758, -17.840699998883427, -17.651934060791785, -17.462876132113124, -17.273527920394738, -17.08389113318392, -16.893970893122543, -16.703767200210613, -16.513285177090005, -16.322523116213425, -16.131487847770046, -15.940177664212575, -15.748597688182889, -15.556749627228276, -15.364635188896036, -15.17225778828075, -14.979617425382417, -14.786719222842917, -14.593561473114956, -14.400151006387706, -14.206486115113872, -14.012571068161686, -13.81840757307844, -13.62399733741143, -13.42934292248159, -13.234446035836214, -13.039308385022597, -12.84393338513532, -12.648321889948033, -12.452476460781671, -12.256398805183531, -12.060091484474547, -11.86355535242837, -11.666792970365934, -11.469806045834536, -11.272597140155112, -11.075167107101308, -10.87751936176771, -10.679654757927965, -10.481574149355717, -10.2832818049192, -10.084777724618412, -9.886063616000646, -9.687142894160488, -9.488015559097935, -9.288685025907576, -9.089151294589408, -8.889417780238018, -8.689484482853404, -8.489354817530153, -8.28902963804191, -8.085298755478771, -7.878158754746147, -7.669762852979888, -7.45989760676843, -7.248296638734143, -7.03462057385264, -6.8183989828448395, -6.599083316143022, -6.37587059963289, -6.147671418141826, -5.912930196086358, -5.669333633771969, -5.413258315843966, -5.138472121571537, -4.833452948711693, -4.4725201397588314, -3.9891771073878246, -3.39123524013164, -3.011725810740225, -2.764210427389541, -2.5691673320072455, -2.3999357349418395, -2.2449529797021377, -2.0981606884943393, -1.9559365131808102, -1.8159180620823718, -1.6764319388523716, -1.536342837984706, -1.3947470400748179, -1.2510046417748417, -1.1046323004792933, -0.9552945898669015, -0.8027699556764641, -0.6469489547987022, -0.4877456228996088, -0.3252111330371062, -0.15941768244515542, 0.00952270693699597, 0.1814648927557219, 0.3562482063167317, 0.5336971612838977, 0.7136321450263896, 0.895874185243612, 1.0802485251423477, 1.2665882519747547, 1.4547352041728647, 1.6445418923392878, 1.8358711790820947, 2.028597559675287, 2.222605241068091, 2.4177889956586065, 2.614053627685277, 2.8113120522361834, 3.009485508692461, 3.2085031338414693, 3.4083006812163283, 3.6088196673222703, 3.8100075850800503, 4.011817050052302, 4.214204946669888, 4.417131574458259, 4.62053887680947, 4.824444356083269, 5.02879123633218, 5.233553477459992, 5.438706320030964, 5.644227992817117, 5.850098005250941, 6.056298001199041, 6.262810478301669, 6.46961964174637, 6.676711831154803, 6.884072959261805, 7.091690646349505, 7.2995546471341495, 7.507652581897867, 7.715975912904194, 7.924515248643024, 8.133262051377892, 8.342207783372338, 8.551345614437189, 8.760668714383277, 8.970171106795078, 9.179845107709776, 9.389685594485494, 9.599688298253998, 9.80984638882612, 10.020155597333629, 10.23061250868194, 10.441211146455528, 10.651948095559808, 10.862819940900197, 11.073821559834816, 11.284951244816373, 11.496203873202989, 11.707576883673728, 11.919067714907648, 12.130672951810167, 12.342390033060346, 12.554215543563597, 12.766146921998983, 12.978182460819214, 13.190318744929701, 13.402554066783154, 13.614885865058632, 13.827312432208846, 14.039830353139207, 14.25243877407607, 14.4651351336985, 14.678103847114082, 14.891168183178044, 15.10428886830266, 15.317465902487928, 15.530680502713631, 15.743804602932832, 15.957012372969364, 16.17029527508677, 16.38365160173775, 16.597077937827724, 16.81057599090398, 17.02414234587194, 17.237775295184306, 17.45147313129379, 17.665235854200382, 17.87906004880951, 18.092945715121168, 18.30689114558806, 18.520894632662902, 18.734954468798392, 18.949068946447245, 19.16323806560946, 19.377460118737737, 19.59173339828479, 19.806057904250622, 20.02042851399335, 20.23484864260756, 20.449314874998667, 20.663825503619382, 20.878380528469698, 21.09297824200233, 21.30761693666998, 21.52229490492536, 21.737012146768464, 21.9517686621993, 22.166559328575982, 22.3813875609931, 22.596248236808776, 22.811143063570302, 23.026070333730388, 23.241026632194444, 23.456013666509765, 23.671028021581765, 23.88606969741045, 24.101138693995807, 24.316231596243266, 24.531348404152816, 24.74648911772446, 24.96165032186362, 25.176832016570287, 25.392032494297172, 25.607251755044274, 25.8224880912643, 26.03773979540996, 26.25300515993396, 26.46828589238359, 26.68357857766427, 26.898883215775996, 27.114196391624187, 27.32951981275613, 27.544850064077245, 27.76018885313482, 27.975531057286982, 28.190878384081024, 28.40622912596965, 28.621581575405564, 28.836935732388774, 29.052288181824693, 29.26764063126061, 29.48298966560194, 29.69833528484869, 29.91367748900085, 30.129009447869258, 30.34433799164308, 30.559656290133145, 30.77496434333946, 30.99025873616743, 31.20554629880623, 31.420816785972107, 31.636073612759645, 31.851313364074258, 32.066536039915945, 32.28173822519012, 32.49692333499137, 32.71208795422511, 32.92722525270217, 33.142342060611725, 33.35743496285918, 33.57250054434996, 33.78753538998947, 34.0025429148723, 34.21751970390387, 34.432465757084174, 34.64737765931862, 34.862255410607226, 35.07709559585539, 35.29189821506312, 35.50666326823042, 35.721387340262694, 35.936067016065365, 36.150705710733014, 36.36530000917106, 36.579846496284915, 36.79434517207458, 37.00879262144547, 37.22319225949217, 37.43753725602551, 37.65182761104549, 37.866059909457526, 38.0802375663562, 38.29435716664693, 38.50841188014054, 38.72240853702621, 38.936336892020186, 39.150200360217035, 39.36399552652219, 39.57772239093565, 39.791377538362816, 40.0049609688037, 40.21846585206913, 40.431895603253686, 40.64524680726279, 40.85851604900185, 41.071703328470875, 41.28480523057527, 41.497821755315044, 41.710749487595606, 41.92358501232238, 42.13632832949535, 42.34897602401994, 42.56152809589615, 42.773977714934816, 42.98632829623051, 43.19857642468865, 43.41071527012008, 43.62274824761937, 43.834671942091944, 44.04647952334862, 44.258174406483995, 44.4697497613089, 44.68120217272874, 44.8925350558381, 45.103741580447824, 45.3148217465579, 45.525768723979155, 45.73658592780618, 45.94726311275522, 46.15780369392087, 46.36820425620853, 46.57845796942903, 46.78856483358238, 46.998521433573984, 47.20832435430927, 47.41797018069364, 47.6274589127271, 47.83678372022048, 48.0459411880792, 48.25493131630324, 48.46374727470346, 48.67238906327984, 48.880849851843216, 49.08912964039358, 49.29722159874178, 49.50512572688779, 49.712835194642466, 49.92034658691121, 50.127656488599435, 50.334761484612564, 50.541658159856006, 50.74834309923517, 50.95480605746632, 51.16105044964402, 51.36706944557912, 51.57285621508243, 51.77841075815397, 51.983726244604554, 52.188795844245014, 52.39361614198077, 52.59818713781182, 52.80249858645441, 53.00654365771938, 53.210322351606706, 53.413827837927236, 53.61705670158638, 53.819998697300385, 54.02265382506925, 54.225011839609216, 54.427069325825705, 54.62881945352954, 54.830255392531555, 55.03137372773717, 55.2321676289572, 55.43263026600249, 55.63275480868386, 55.83253442681215, 56.03196229019818, 56.23103156865279, 56.42973884708139, 56.62807046510563, 56.826023007630944, 57.023589644468146, 57.22076013033349, 57.4175276350378, 57.61388191329733, 57.80982638020665, 58.005333715009094, 58.200410747893834, 58.39504381848251, 58.58921926639681, 58.78293709163671, 58.97617680363471, 59.16894523257998, 59.36121505771584, 59.55298627904229, 59.74424523618099, 59.93498509894276, 60.12519220694927, 60.31485289982219, 60.5039671775615, 60.692507719410536, 60.88048135555845, 61.06786076524858, 61.254639118291756, 61.44080275430962, 61.62634484311302, 61.81124489413443, 61.9954960771847, 62.179077901696296, 62.36198353748007, 62.544199324157674, 62.72569794097242, 62.906479387924314, 63.08652317444585, 63.265815640158685, 63.44433629449531, 63.622071477077384, 63.79900752752656, 63.97512395527534, 64.1504002697562, 64.32482281059083, 64.49837791740084, 64.67104509961877, 64.84279703648791, 65.0136268978191, 65.18350053266649, 65.3524111108409, 65.52033814177484, 65.68724747452244, 65.85312544870537, 66.01795840394529, 66.18170535910717, 66.34435948400186, 66.50589345787266, 66.66627995996289, 66.82549849970506, 66.98352175634248, 67.14032923930763, 67.29588679765467, 67.45017394081609, 67.60316334803521, 67.75482769855533, 67.9051396716198, 68.05406511628277, 68.2015835419767, 68.34766079775576, 68.49226956286327, 68.63538251654255, 68.77695867765857, 68.91697755564384, 69.0554049995525, 69.1922000282495, 69.32734215116737, 69.46079038717109, 69.59251741550395, 69.72248225503095, 69.85065075480624, 69.97699559407313, 70.10147579169661, 70.22405719673084, 70.34470565822994, 70.46338019505892, 70.5800466562719, 70.69467089092306, 70.80721874806653, 70.91764241637813, 71.02590774491199, 71.13198058272229, 71.23582677886317, 71.3374053521996, 71.43667532159657, 71.53360253610822, 71.62814601459952, 71.72027843631383, 71.80995198992693, 71.89713252449297, 71.98179271925528, 72.06388476288966, 72.14337450445026, 72.22022779299125, 72.29441730775594, 72.36590206760928, 72.43464792160546, 72.5006275489878, 72.5638067988104, 72.62415835031663, 72.68164122237147, 72.73624175459655, 72.78791896585686, 72.83665919577408, 72.88242829340233, 72.92519893798494, 72.9649574691436, 73.00167656612159, 73.03534256854057, 73.06593498583307, 73.09343332743154, 73.11782393295765, 73.13909314203308, 73.15722729427945, 73.1722263896968, 73.18406993771761, 73.19275110815269, 73.19827673119123, 73.20063314645489, 73.19982035394365, 73.1958451838467, 73.18870080597488, 73.17840088070649, 73.16494540804158, 73.14834121816926, 73.12859514127877, 73.10572766793756, 73.07974562833483, 73.05066268284891, 73.01849932204732, 72.98326920630839, 72.94498599601047, 72.90368384209941, 72.85937640495354, 72.81208417514037, 72.76184130360575, 72.70866145072803, 72.65258559764223, 72.59362740472667, 72.53182785311641, 72.46721426356808, 72.3998139568384, 72.3296610838732, 72.25678979561833, 72.18123424301965, 72.10302857702301, 72.02220011838507, 71.93879667843005, 71.85284557791461, 71.7643809677846, 71.67344382917506, 71.58007514322098, 71.48430906086823, 71.38617973306266, 71.28572814093928, 71.18298843544395, 71.07799476752251, 70.97079494849916, 70.86142312931975, 70.74991346093012, 70.63630009427612, 70.52063084068196, 70.4029330209043, 70.28324761607817, 70.16160877714941, 70.03805748525305, 69.91262106114577, 69.78534048596258, 69.65624991064934, 69.5253834861519, 69.39277536341609, 69.25845969338779, 69.12247062701285, 68.98483548504791, 68.84559524862803, 68.70478406869906, 68.56242243582848, 68.41854450096216, 68.27318441504595, 68.12636949883652, 67.97812707309056, 67.82849128875392, 67.67748946658328, 67.52514892733532, 67.37149699176672, 67.21656098063414, 67.0603682146943, 66.90294601470384, 66.74430804104112, 66.58449527484116, 66.42352820667148, 66.26142049691039, 66.09820629650376, 65.93391292620828, 65.7685472162131, 65.60214331746408, 65.43471489033956, 65.2662892555962, 65.09689373399073, 64.9265283255231, 64.75523401132835, 64.58301762159564, 64.40990647708168, 64.2359074079756, 64.06105456522327, 63.885347948824695, 63.70882170972572, 63.5314826781155, 63.353351344561574, 63.174441369442256, 62.99477324332507, 62.81436062658835, 62.633210349421276, 62.45134973258052, 62.268792436444414, 62.085545291202145, 61.90162878742121, 61.71704975529079, 61.53182868537838, 61.345979238062334, 61.15950824353182, 60.972429362165165, 60.784749424151556, 60.59649575024766, 60.40766834045349, 60.21828768533655, 60.02835378489684, 59.83788029951269, 59.64688088956245, 59.45536921542446, 59.26335210728789, 59.070836395341914, 58.877835739964866, 58.684363801535085, 58.49042058005257, 58.29601973589567, 58.10116809925355, 57.90587933050454, 57.71016025983783, 57.51401771744257, 57.317458533507946, 57.12049636841228, 56.9231312221556, 56.725380170210805, 56.5272432125779, 56.32873059454065, 56.12984914628822, 55.93060569800978, 55.73101049498908, 55.53106353722613, 55.33077848509926, 55.13015875370306, 54.9292111732267, 54.72793915876476, 54.526356370695595, 54.3244593939246, 54.12226188883013, 53.91976385541218, 53.7169755389545, 53.51390035455168, 53.3105417172983, 53.10690987247813, 52.903004820091155, 52.69883680542113, 52.49440582846807, 52.289722134515706, 52.08478572356406, 51.879603425802294, 51.67418207141957, 51.4685216604159, 51.262629022980455, 51.056510989302396, 50.850167559381724, 50.64360556340761, 50.436825001380065, 50.229836118582824, 50.02264233011049, 49.81524363596305, 49.60764686632969, 49.399852021210386, 49.19186593079433, 48.98369542527068, 48.775337089544855, 48.56679775380603, 48.358084248243365, 48.14919315776228, 47.94013131255194, 47.73090554280153, 47.52151243341645, 47.311962229680454, 47.10225151649897, 46.89238712406116, 46.68236905236702, 46.47220413160573, 46.26189236177728, 46.05143715797626, 45.840845350391845, 45.63011352392944, 45.419245093683635, 45.20825030493819, 44.997122327503924, 44.785867991570015, 44.57449071223105, 44.36299048948701, 44.151374153527094, 43.93964170435128, 43.72779314195958, 43.51583188144658, 43.30376133790685, 43.09158834152957, 42.87930606212558, 42.66692132988403, 42.454437559899525, 42.24185816726663, 42.029179736890775, 41.81640909896112, 41.603546253477674, 41.390594615535015, 41.17755418513315, 40.96442837736665, 40.751217192235536, 40.537927459928966, 40.32455576535235, 40.11110893869487, 39.897583564861925, 39.683986474042705, 39.47031425114261, 39.256573726350815, 39.042764899667326, 38.82888777109213, 38.614949170814405, 38.40094226864498, 38.18687730986761, 37.97275087938771, 37.75856639229986, 37.54432384860407, 37.33003007848951, 37.115678251767, 36.9012786137203, 36.686827749254824, 36.47232565837057, 36.257779171256715, 36.04318487281867, 35.828549593245604, 35.61386991744293, 35.39914926050525, 35.18438762243253, 34.96958841831939, 34.75475506326039, 34.53988414216096, 34.32497907011568, 34.110043262219136, 33.89507330337674, 33.68007602377766, 33.46504800832732, 33.24999608721488, 33.03491684534577, 32.81981369781455, 32.604686644621246, 32.38953910086043, 32.1743710665321, 31.959182541636267, 31.743976941267505, 31.52875426542582, 31.313517929205794, 31.098264517512842, 30.883000860536136, 30.667726958275672, 30.45243939563687, 30.237145002808898, 30.021840364697173, 29.806528896396273, 29.591214013000794, 29.375895714510726, 29.16057058583149, 28.945248872246836, 28.7299237435676, 28.51459690734107, 28.299273486209124, 28.083953480171765, 27.86863688922899, 27.653325420928095, 27.438020782816366, 27.22272297489381, 27.007433704707715, 26.79215467980538, 26.57688590018679, 26.361629073399257, 26.14638590699006, 25.931156400959203, 25.71594397040127, 25.50074690776897, 25.285568628156888, 25.070407424017734, 24.855266710446084, 24.64014819498924, 24.4250518776472, 24.20997775841996, 23.99492925240211, 23.779906359593646, 23.56490907999457, 23.349940828699467, 23.135001605708336, 22.92009311856847, 22.705215367279866, 22.490371766937116, 22.275560609992922, 22.06078360399458, 21.84604416403667, 21.631342290119196, 21.41667798224216, 21.202052947952847, 20.98747060234585, 20.77292923787387, 20.558430562084208, 20.34397799007144, 20.129569814288278, 19.915209449829305, 19.70089689669452, 19.486633862431223, 19.272422054586695, 19.058263180708238, 18.844157240795848, 18.63010594239682, 18.416110993058442, 18.202174100328012, 17.988295264205522, 17.774477899785566, 17.56072200706814, 17.34702929360054, 17.13340146693005, 16.919840234603967, 16.706345596622292, 16.492922675626904, 16.27956976407051, 16.066288569500397, 15.853082507011157, 15.63995328415008, 15.426841136761928, 15.213676055407706, 15.000565615566847, 14.787514939881223, 14.574520613256254, 14.361741437590139, 14.149128747785044, 13.936605704212804, 13.72417486819436, 13.51183623972971, 13.299594087687089, 13.087450119613784, 12.875405189283446, 12.663463565564305, 12.451626956003652, 12.239897921922426, 12.028279878415214, 11.816774533029307, 11.605384447085642, 11.394114743226101, 11.182966275224327, 10.971944165722197, 10.761050122267006, 10.55028926750063, 10.339665016517655, 10.129181638186312, 9.918842547601184, 9.708652013630504, 9.498616012689794, 9.288738813647289, 9.079025539144864, 8.869481311824396, 8.660112961875058, 8.450927319486015, 8.24192950729915, 8.033127209277275, 7.824528963156854, 7.616141599127057, 7.40797536247164, 7.200038790927064, 6.992341702890262, 6.7848960511922805, 6.577713361777345, 6.370806014363326, 6.164188523102209, 5.957874975259157, 5.751882446307096, 5.546228865492598, 5.340933015835878, 5.136016241678094, 4.9315015949076955, 4.727414688734068, 4.523783270800716, 4.320666678376053, 4.11804570155304, 3.9159813851473833, 3.714515564067748, 3.5136932748739755, 3.313564249880959, 3.1141833440454705, 2.91561202907004, 2.7179171127424873, 2.5211737271436814, 2.325463834543663, 2.1308783618357583, 1.9375169870931668, 1.7454900605596664, 1.5549174307108498, 1.3659301518014166, 1.1786699502566447, 0.9932895448375073, 0.8099510458150863, 0.6288252612794849, 0.45008918917974183, 0.27392249550753994, 0.10050302531545757, -0.06999917369855585, -0.2374295951849552, -0.4016583188071648, -0.5625903022160796, -0.7201539618275469, -0.8743845958457536, -1.0253522670705455, -1.1732249021059695, -1.3182947049824554, -1.4608850424685207, -1.6016410472756146, -1.7412887471681682, -1.880799949999027, -2.021562678273585, -2.1655037923897265, -2.31548428783604, -2.4760338606927133, -2.65517093960193, -2.869397901928676, -3.1616311741056684, -3.655007114037189, -4.23455122643371, -4.648649800999127, -4.978866395480795, -5.267828647375586, -5.532907862176957, -5.7825832928526575, -6.021668942107077, -6.2530877040181565, -6.478754165987615, -6.699982285657036, -6.9177287163970425, -7.1326235431585685, -7.345220438151209, -7.555907868384007, -7.764991057935498, -7.972708209652987, -8.179250568833234, -8.380190465346779, -8.580345743879416, -8.780303800699771, -8.980064635807842, -9.179623980335396, -9.378982688056084, -9.578137343875314, -9.7770862402458, -9.975828523393892, -10.174361631998654, -10.37268385851279, -10.570794349162655, -10.768689688853666, -10.966369023812176, -11.16383064649089, -11.361071995568873, -11.558091363498828, -11.754887042733467, -11.951457325725496, -12.147799651153974, -12.343912311471612, -12.539793599131116, -12.735441806585191, -12.930853518739257, -13.126027881819663, -13.32096318827912, -13.515656023023041, -13.71010553227778, -13.904309154722398, -14.098265182809605, -14.29197105521846, -14.485424210628022, -14.678622941491003, -14.871565540260107, -15.064250299388044, -15.256672096232936, -15.448832638342076, -15.640726803073584, -15.83235288288017, -16.023709170214538, -16.214793957529402, -16.40560382973017]\n"
          ],
          "name": "stdout"
        }
      ]
    },
    {
      "cell_type": "code",
      "metadata": {
        "colab": {
          "base_uri": "https://localhost:8080/",
          "height": 238
        },
        "id": "r7xI1T6fnsOc",
        "outputId": "038aa6ee-49e3-4f73-d2f4-9091834c4edb"
      },
      "source": [
        "import matplotlib.pyplot as plt\n",
        "import matplotlib.dates as mdates\n",
        "\n",
        "fig, ax = plt.subplots(nrows=1, ncols=1,\n",
        "                       figsize=(17, 3),\n",
        "                       facecolor='white')\n",
        "ax.plot(date_range, solarbody_altitude)\n",
        "plt.gcf().autofmt_xdate()\n",
        "myFmt = mdates.DateFormatter('%Y/%m/%d %H:%M')\n",
        "ax.xaxis.set_major_formatter(myFmt)\n",
        "ax.set_ylabel('Altitude [deg]', fontsize=10)\n",
        "plt.show()"
      ],
      "execution_count": null,
      "outputs": [
        {
          "output_type": "display_data",
          "data": {
            "image/png": "[encoded data removed]",
            "text/plain": [
              "<Figure size 1224x216 with 1 Axes>"
            ]
          },
          "metadata": {
            "tags": []
          }
        }
      ]
    },
    {
      "cell_type": "code",
      "metadata": {
        "colab": {
          "base_uri": "https://localhost:8080/"
        },
        "id": "ibfY7N3NnsDj",
        "outputId": "44ebf5d9-1d60-42a4-9e75-fc12425529cb"
      },
      "source": [
        "print(np.degrees(MKT.horizon))\n",
        "print(MKT)"
      ],
      "execution_count": null,
      "outputs": [
        {
          "output_type": "stream",
          "text": [
            "14.999999999999998\n",
            "<ephem.Observer date='2021/8/27 16:42:29' epoch='2000/1/1 12:00:00' lon='21:26:38.0' lat='-30:42:39.8' elevation=1086.6m horizon=15:00:00.0 temp=15.0C pressure=1010.0mBar>\n"
          ],
          "name": "stdout"
        }
      ]
    },
    {
      "cell_type": "code",
      "metadata": {
        "id": "oUtqjVyHnrza"
      },
      "source": [
        ""
      ],
      "execution_count": null,
      "outputs": []
    }
  ]
}