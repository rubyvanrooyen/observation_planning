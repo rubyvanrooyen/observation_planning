{
  "nbformat": 4,
  "nbformat_minor": 0,
  "metadata": {
    "colab": {
      "name": "MeerKAT spectral and spatial resolution.ipynb",
      "provenance": [],
      "include_colab_link": true
    },
    "kernelspec": {
      "name": "python3",
      "display_name": "Python 3"
    },
    "widgets": {
      "application/vnd.jupyter.widget-state+json": {
        "6731e1c6cd8b4ab6b7264526383de3bb": {
          "model_module": "@jupyter-widgets/controls",
          "model_name": "HBoxModel",
          "model_module_version": "1.5.0",
          "state": {
            "_view_name": "HBoxView",
            "_dom_classes": [],
            "_model_name": "HBoxModel",
            "_view_module": "@jupyter-widgets/controls",
            "_model_module_version": "1.5.0",
            "_view_count": null,
            "_view_module_version": "1.5.0",
            "box_style": "",
            "layout": "IPY_MODEL_e8e1c8649da04fab9756ad54e6f847f5",
            "_model_module": "@jupyter-widgets/controls",
            "children": [
              "IPY_MODEL_14b5a85d1d2a42b49528e855a088070e",
              "IPY_MODEL_f050f34b057d4ffb88b3adb686f37cc3",
              "IPY_MODEL_7bf80e3c3108427e82ebddda2faa503b"
            ]
          }
        },
        "e8e1c8649da04fab9756ad54e6f847f5": {
          "model_module": "@jupyter-widgets/base",
          "model_name": "LayoutModel",
          "model_module_version": "1.2.0",
          "state": {
            "_view_name": "LayoutView",
            "grid_template_rows": null,
            "right": null,
            "justify_content": null,
            "_view_module": "@jupyter-widgets/base",
            "overflow": null,
            "_model_module_version": "1.2.0",
            "_view_count": null,
            "flex_flow": null,
            "width": null,
            "min_width": null,
            "border": null,
            "align_items": null,
            "bottom": null,
            "_model_module": "@jupyter-widgets/base",
            "top": null,
            "grid_column": null,
            "overflow_y": null,
            "overflow_x": null,
            "grid_auto_flow": null,
            "grid_area": null,
            "grid_template_columns": null,
            "flex": null,
            "_model_name": "LayoutModel",
            "justify_items": null,
            "grid_row": null,
            "max_height": null,
            "align_content": null,
            "visibility": null,
            "align_self": null,
            "height": null,
            "min_height": null,
            "padding": null,
            "grid_auto_rows": null,
            "grid_gap": null,
            "max_width": null,
            "order": null,
            "_view_module_version": "1.2.0",
            "grid_template_areas": null,
            "object_position": null,
            "object_fit": null,
            "grid_auto_columns": null,
            "margin": null,
            "display": null,
            "left": null
          }
        },
        "14b5a85d1d2a42b49528e855a088070e": {
          "model_module": "@jupyter-widgets/controls",
          "model_name": "TextModel",
          "model_module_version": "1.5.0",
          "state": {
            "_view_name": "TextView",
            "style": "IPY_MODEL_10d7b95d1ffc4e42b9ae34b52841e4c3",
            "_dom_classes": [],
            "description": "",
            "_model_name": "TextModel",
            "placeholder": "​",
            "_view_module": "@jupyter-widgets/controls",
            "_model_module_version": "1.5.0",
            "value": "Centre Frequency ",
            "_view_count": null,
            "disabled": true,
            "_view_module_version": "1.5.0",
            "continuous_update": true,
            "description_tooltip": null,
            "_model_module": "@jupyter-widgets/controls",
            "layout": "IPY_MODEL_cabf1f8b496c46d9ac341eb68734347c"
          }
        },
        "f050f34b057d4ffb88b3adb686f37cc3": {
          "model_module": "@jupyter-widgets/controls",
          "model_name": "TextModel",
          "model_module_version": "1.5.0",
          "state": {
            "_view_name": "TextView",
            "style": "IPY_MODEL_3df73cb1c82647109144b6592d42b909",
            "_dom_classes": [],
            "description": "",
            "_model_name": "TextModel",
            "placeholder": "MHz",
            "_view_module": "@jupyter-widgets/controls",
            "_model_module_version": "1.5.0",
            "value": "1284",
            "_view_count": null,
            "disabled": false,
            "_view_module_version": "1.5.0",
            "continuous_update": true,
            "description_tooltip": null,
            "_model_module": "@jupyter-widgets/controls",
            "layout": "IPY_MODEL_a08fd389d5d545b986994ac59288fdd0"
          }
        },
        "7bf80e3c3108427e82ebddda2faa503b": {
          "model_module": "@jupyter-widgets/controls",
          "model_name": "TextModel",
          "model_module_version": "1.5.0",
          "state": {
            "_view_name": "TextView",
            "style": "IPY_MODEL_0ccf1270aebc40dea79014d3f2418bbf",
            "_dom_classes": [],
            "description": "",
            "_model_name": "TextModel",
            "placeholder": "​",
            "_view_module": "@jupyter-widgets/controls",
            "_model_module_version": "1.5.0",
            "value": "[MHz]",
            "_view_count": null,
            "disabled": true,
            "_view_module_version": "1.5.0",
            "continuous_update": true,
            "description_tooltip": null,
            "_model_module": "@jupyter-widgets/controls",
            "layout": "IPY_MODEL_03099b2f2a4b40a5a7edbb14aaef7dda"
          }
        },
        "10d7b95d1ffc4e42b9ae34b52841e4c3": {
          "model_module": "@jupyter-widgets/controls",
          "model_name": "DescriptionStyleModel",
          "model_module_version": "1.5.0",
          "state": {
            "_view_name": "StyleView",
            "_model_name": "DescriptionStyleModel",
            "description_width": "",
            "_view_module": "@jupyter-widgets/base",
            "_model_module_version": "1.5.0",
            "_view_count": null,
            "_view_module_version": "1.2.0",
            "_model_module": "@jupyter-widgets/controls"
          }
        },
        "cabf1f8b496c46d9ac341eb68734347c": {
          "model_module": "@jupyter-widgets/base",
          "model_name": "LayoutModel",
          "model_module_version": "1.2.0",
          "state": {
            "_view_name": "LayoutView",
            "grid_template_rows": null,
            "right": null,
            "justify_content": null,
            "_view_module": "@jupyter-widgets/base",
            "overflow": null,
            "_model_module_version": "1.2.0",
            "_view_count": null,
            "flex_flow": null,
            "width": "130px",
            "min_width": null,
            "border": null,
            "align_items": null,
            "bottom": null,
            "_model_module": "@jupyter-widgets/base",
            "top": null,
            "grid_column": null,
            "overflow_y": null,
            "overflow_x": null,
            "grid_auto_flow": null,
            "grid_area": null,
            "grid_template_columns": null,
            "flex": null,
            "_model_name": "LayoutModel",
            "justify_items": null,
            "grid_row": null,
            "max_height": null,
            "align_content": null,
            "visibility": null,
            "align_self": null,
            "height": null,
            "min_height": null,
            "padding": null,
            "grid_auto_rows": null,
            "grid_gap": null,
            "max_width": null,
            "order": null,
            "_view_module_version": "1.2.0",
            "grid_template_areas": null,
            "object_position": null,
            "object_fit": null,
            "grid_auto_columns": null,
            "margin": null,
            "display": null,
            "left": null
          }
        },
        "3df73cb1c82647109144b6592d42b909": {
          "model_module": "@jupyter-widgets/controls",
          "model_name": "DescriptionStyleModel",
          "model_module_version": "1.5.0",
          "state": {
            "_view_name": "StyleView",
            "_model_name": "DescriptionStyleModel",
            "description_width": "",
            "_view_module": "@jupyter-widgets/base",
            "_model_module_version": "1.5.0",
            "_view_count": null,
            "_view_module_version": "1.2.0",
            "_model_module": "@jupyter-widgets/controls"
          }
        },
        "a08fd389d5d545b986994ac59288fdd0": {
          "model_module": "@jupyter-widgets/base",
          "model_name": "LayoutModel",
          "model_module_version": "1.2.0",
          "state": {
            "_view_name": "LayoutView",
            "grid_template_rows": null,
            "right": null,
            "justify_content": null,
            "_view_module": "@jupyter-widgets/base",
            "overflow": null,
            "_model_module_version": "1.2.0",
            "_view_count": null,
            "flex_flow": null,
            "width": "55px",
            "min_width": null,
            "border": null,
            "align_items": null,
            "bottom": null,
            "_model_module": "@jupyter-widgets/base",
            "top": null,
            "grid_column": null,
            "overflow_y": null,
            "overflow_x": null,
            "grid_auto_flow": null,
            "grid_area": null,
            "grid_template_columns": null,
            "flex": null,
            "_model_name": "LayoutModel",
            "justify_items": null,
            "grid_row": null,
            "max_height": null,
            "align_content": null,
            "visibility": null,
            "align_self": null,
            "height": null,
            "min_height": null,
            "padding": null,
            "grid_auto_rows": null,
            "grid_gap": null,
            "max_width": null,
            "order": null,
            "_view_module_version": "1.2.0",
            "grid_template_areas": null,
            "object_position": null,
            "object_fit": null,
            "grid_auto_columns": null,
            "margin": null,
            "display": null,
            "left": null
          }
        },
        "0ccf1270aebc40dea79014d3f2418bbf": {
          "model_module": "@jupyter-widgets/controls",
          "model_name": "DescriptionStyleModel",
          "model_module_version": "1.5.0",
          "state": {
            "_view_name": "StyleView",
            "_model_name": "DescriptionStyleModel",
            "description_width": "",
            "_view_module": "@jupyter-widgets/base",
            "_model_module_version": "1.5.0",
            "_view_count": null,
            "_view_module_version": "1.2.0",
            "_model_module": "@jupyter-widgets/controls"
          }
        },
        "03099b2f2a4b40a5a7edbb14aaef7dda": {
          "model_module": "@jupyter-widgets/base",
          "model_name": "LayoutModel",
          "model_module_version": "1.2.0",
          "state": {
            "_view_name": "LayoutView",
            "grid_template_rows": null,
            "right": null,
            "justify_content": null,
            "_view_module": "@jupyter-widgets/base",
            "overflow": null,
            "_model_module_version": "1.2.0",
            "_view_count": null,
            "flex_flow": null,
            "width": "55px",
            "min_width": null,
            "border": null,
            "align_items": null,
            "bottom": null,
            "_model_module": "@jupyter-widgets/base",
            "top": null,
            "grid_column": null,
            "overflow_y": null,
            "overflow_x": null,
            "grid_auto_flow": null,
            "grid_area": null,
            "grid_template_columns": null,
            "flex": null,
            "_model_name": "LayoutModel",
            "justify_items": null,
            "grid_row": null,
            "max_height": null,
            "align_content": null,
            "visibility": null,
            "align_self": null,
            "height": null,
            "min_height": null,
            "padding": null,
            "grid_auto_rows": null,
            "grid_gap": null,
            "max_width": null,
            "order": null,
            "_view_module_version": "1.2.0",
            "grid_template_areas": null,
            "object_position": null,
            "object_fit": null,
            "grid_auto_columns": null,
            "margin": null,
            "display": null,
            "left": null
          }
        }
      }
    }
  },
  "cells": [
    {
      "cell_type": "markdown",
      "metadata": {
        "id": "view-in-github",
        "colab_type": "text"
      },
      "source": [
        "<a href=\"https://colab.research.google.com/github/rubyvanrooyen/observation_planning/blob/main/MeerKAT_spectral_and_spatial_resolution.ipynb\" target=\"_parent\"><img src=\"https://colab.research.google.com/assets/colab-badge.svg\" alt=\"Open In Colab\"/></a>"
      ]
    },
    {
      "cell_type": "code",
      "metadata": {
        "id": "bWzU8QxVZ35N"
      },
      "source": [
        "import numpy as np\n",
        "import scipy.constants as phys\n",
        "\n",
        "from IPython.display import display\n",
        "from ipywidgets import interact, widgets"
      ],
      "execution_count": null,
      "outputs": []
    },
    {
      "cell_type": "markdown",
      "metadata": {
        "id": "DKP-9eWdwIrC"
      },
      "source": [
        "## Spectral resolution\n",
        "\n",
        "MeerKAT spectral line modes:\n",
        "* **32k wide band** has a bandwidth of 856 MHz and 32k channels\n",
        "* **32k narrow band** has a bandwidth of 107 MHz and 32k channels\n",
        "\n",
        "Zoom modes with much narrower bandwidth have had some engineering tests, but remain untested for science."
      ]
    },
    {
      "cell_type": "code",
      "metadata": {
        "id": "xr-fdJnMvrlU"
      },
      "source": [
        "dtype=[('Name', 'S15'),\n",
        "       ('CentreFreq', float),  # MHz\n",
        "       ('Bandwidth', float),  # MHz\n",
        "       ('Channels', int),\n",
        "       ('ChannelWidth', float),  # kHz\n",
        "      ]\n",
        "MKT_modes = np.array([('c856M32k', 1284.000 , 856.000, 32768, 26.123),\n",
        "                      ('c856M32k_n107M', 1400.000, 107.000, 32768, 3.265)],\n",
        "                    dtype=dtype)"
      ],
      "execution_count": null,
      "outputs": []
    },
    {
      "cell_type": "markdown",
      "metadata": {
        "id": "rSUdA-gewg6Z"
      },
      "source": [
        "Spectral resolution for 32k modes = $\\Delta v$ the velocity span (km/s):    \n",
        "$\\Delta v \\approx \\Delta f \\frac{c}{f}$    \n",
        "with $\\Delta f$ the channel width, $f$ the centre frequency and $c$ the speed of light in a vacuum."
      ]
    },
    {
      "cell_type": "code",
      "metadata": {
        "id": "R7tKMrTWv_7v",
        "colab": {
          "base_uri": "https://localhost:8080/"
        },
        "outputId": "c74d9775-3a7f-4038-db5a-0feaccfc755e"
      },
      "source": [
        "c = phys.c/1e3  # km/s\n",
        "for MKT_mode in MKT_modes:\n",
        "    df = MKT_mode['ChannelWidth'] * 1e3\n",
        "    f =  MKT_mode['CentreFreq'] * 1e6\n",
        "    dv = df/f*c  # km/s\n",
        "    print('Bandwidth {} MHz over {} channels for channel width {} km/s at {} GHz'\n",
        "          .format(MKT_mode['Bandwidth'],\n",
        "                  MKT_mode['Channels'],\n",
        "                  dv,\n",
        "                  MKT_mode['CentreFreq']/1e3))"
      ],
      "execution_count": null,
      "outputs": [
        {
          "output_type": "stream",
          "text": [
            "Bandwidth 856.0 MHz over 32768 channels for channel width 6.099282227674455 km/s at 1.284 GHz\n",
            "Bandwidth 107.0 MHz over 32768 channels for channel width 0.69915883955 km/s at 1.4 GHz\n"
          ],
          "name": "stdout"
        }
      ]
    },
    {
      "cell_type": "markdown",
      "metadata": {
        "id": "2DbQiunvw-tz"
      },
      "source": [
        "OH maser frequencies of interest, are the strong 1665 MHz and weaker 1667 MHz lines, as well as the 1612 MHz satellite line.\n",
        "\n",
        "Assuming the narrowband mode allow for the observation centre frequency to be selected, setting $f_c\\approx 1640\\,$MHz will allow simultaneous observations of all 3 lines.\n",
        "\n",
        "The MeerKAT passband needs to be taken into account as well, since the 1667 MHz line is very close to the MeerKAT L-band (900 MHz - 1670 MHz) upper frequency."
      ]
    },
    {
      "cell_type": "code",
      "metadata": {
        "id": "wTirvvk0w2SI",
        "colab": {
          "base_uri": "https://localhost:8080/"
        },
        "outputId": "214f67f7-2a27-4ce6-e008-bfd4f5d70a7c"
      },
      "source": [
        "center = (1667.+1612.)/2.\n",
        "start = center - (107./2.)\n",
        "end = center + (107./2.)\n",
        "\n",
        "print('Frequency range covered during narrow band observation [{}, {}] MHz @ fc={} MHz center frequence'\n",
        "       .format(start, end, center))\n",
        "\n",
        "end = 1670\n",
        "center = end - (107./2.)\n",
        "start = center - (107./2.)\n",
        "\n",
        "print('Proposed settings fc={} MHz for frequency range [{}, {}] MHz'\n",
        "       .format(center, start, end))"
      ],
      "execution_count": null,
      "outputs": [
        {
          "output_type": "stream",
          "text": [
            "Frequency range covered during narrow band observation [1586.0, 1693.0] MHz @ fc=1639.5 MHz center frequence\n",
            "Proposed settings fc=1616.5 MHz for frequency range [1563.0, 1670] MHz\n"
          ],
          "name": "stdout"
        }
      ]
    },
    {
      "cell_type": "markdown",
      "metadata": {
        "id": "NLsQn_aHzxQb"
      },
      "source": [
        "## Spatial resolution"
      ]
    },
    {
      "cell_type": "code",
      "metadata": {
        "id": "M1DlctZyz_F2"
      },
      "source": [
        "# basic constants\n",
        "degrad=180./np.pi\n",
        "arcminute_deg=60.\n",
        "arcsecond_deg=3600.\n",
        "rad_arcmin = degrad * arcminute_deg\n",
        "rad_arcsec = degrad * arcsecond_deg\n",
        "\n",
        "D = 13.5  # m -- dish diameter\n",
        "Bmax = 7.7  # km"
      ],
      "execution_count": null,
      "outputs": []
    },
    {
      "cell_type": "markdown",
      "metadata": {
        "id": "IROW83U0z6KI"
      },
      "source": [
        "### Field of view\n",
        "FWHM of primary beam"
      ]
    },
    {
      "cell_type": "code",
      "metadata": {
        "id": "CgXmQ0nX0gEH",
        "colab": {
          "base_uri": "https://localhost:8080/",
          "height": 49,
          "referenced_widgets": [
            "6731e1c6cd8b4ab6b7264526383de3bb",
            "e8e1c8649da04fab9756ad54e6f847f5",
            "14b5a85d1d2a42b49528e855a088070e",
            "f050f34b057d4ffb88b3adb686f37cc3",
            "7bf80e3c3108427e82ebddda2faa503b",
            "10d7b95d1ffc4e42b9ae34b52841e4c3",
            "cabf1f8b496c46d9ac341eb68734347c",
            "3df73cb1c82647109144b6592d42b909",
            "a08fd389d5d545b986994ac59288fdd0",
            "0ccf1270aebc40dea79014d3f2418bbf",
            "03099b2f2a4b40a5a7edbb14aaef7dda"
          ]
        },
        "outputId": "c75cac5d-9dd8-4a01-8174-6efe29b4db97"
      },
      "source": [
        "# observation centre frequency\n",
        "label = widgets.Text(value='Centre Frequency ', disabled=True, layout={'width':'130px'})\n",
        "cen_freq = widgets.Text(value='1284', placeholder='MHz', disabled=False, layout={'width':'55px'})\n",
        "unit = widgets.Text(value='[MHz]', disabled=True, layout={'width':'55px'})\n",
        "ui = widgets.HBox([label, cen_freq, unit])\n",
        "display(ui)"
      ],
      "execution_count": null,
      "outputs": [
        {
          "output_type": "display_data",
          "data": {
            "application/vnd.jupyter.widget-view+json": {
              "model_id": "6731e1c6cd8b4ab6b7264526383de3bb",
              "version_minor": 0,
              "version_major": 2
            },
            "text/plain": [
              "HBox(children=(Text(value='Centre Frequency ', disabled=True, layout=Layout(width='130px')), Text(value='1284'…"
            ]
          },
          "metadata": {
            "tags": []
          }
        }
      ]
    },
    {
      "cell_type": "code",
      "metadata": {
        "id": "ii7Z4Ojb0gnG"
      },
      "source": [
        "f = float(cen_freq.value)*1e6  # Hz\n",
        "wavelength = phys.c/f  # m"
      ],
      "execution_count": null,
      "outputs": []
    },
    {
      "cell_type": "code",
      "metadata": {
        "id": "T3K9Xfdt1zZo",
        "colab": {
          "base_uri": "https://localhost:8080/"
        },
        "outputId": "68a3b6c0-1b62-4992-d45d-6f27a4dab483"
      },
      "source": [
        "Dl = D / wavelength  # diameter in wavelengths\n",
        "FWHMpb = 1.02 * (rad_arcmin/Dl)  # [arcmin]\n",
        "print('MeerKAT FOV {:.3} [arcmin] (generally assumed to be around 1 deg)'.format(FWHMpb))  # FOV of the interferometer"
      ],
      "execution_count": null,
      "outputs": [
        {
          "output_type": "stream",
          "text": [
            "MeerKAT FOV 60.6 [arcmin] (generally assumed to be around 1 deg)\n"
          ],
          "name": "stdout"
        }
      ]
    },
    {
      "cell_type": "markdown",
      "metadata": {
        "id": "JOIyNx5a2ar-"
      },
      "source": [
        "### Resolution\n",
        "FWHM of synthesized beam"
      ]
    },
    {
      "cell_type": "code",
      "metadata": {
        "id": "sIIkKuU92LaN",
        "colab": {
          "base_uri": "https://localhost:8080/"
        },
        "outputId": "064e67cc-2466-40e7-93f8-fb25159dc05a"
      },
      "source": [
        "B = Bmax*1e3  # m\n",
        "Bl = B / wavelength\n",
        "FWHMsb = 1.02 * (rad_arcsec/Bl)  # [arcmin]\n",
        "print('MeerKAT Resolution @ {} [MHz] = {:.3} [arcsec]'\n",
        "      .format(f/1e6, FWHMsb))  # equivalent to the interferometer resolution"
      ],
      "execution_count": null,
      "outputs": [
        {
          "output_type": "stream",
          "text": [
            "MeerKAT Resolution @ 1284.0 [MHz] = 6.38 [arcsec]\n"
          ],
          "name": "stdout"
        }
      ]
    },
    {
      "cell_type": "markdown",
      "metadata": {
        "id": "3kG9sOs24dXn"
      },
      "source": [
        "Apparent size = 3438 [arcmin] * $\\frac{\\mbox{Diameter [km]}}{\\mbox{Distance [km]}}$"
      ]
    },
    {
      "cell_type": "code",
      "metadata": {
        "id": "Bjp_OmaC3OuV",
        "colab": {
          "base_uri": "https://localhost:8080/"
        },
        "outputId": "c450214e-6f3b-410c-89a5-145514637137"
      },
      "source": [
        "Callisto_diameter = 2.* 2500.  # km\n",
        "Jupiter_diameter = 2. * 70000.   # km\n",
        "Earth_distance = 630e6  # km\n",
        "\n",
        "Callisto_size = rad_arcsec * (Callisto_diameter/Earth_distance)  # [arcsec]\n",
        "Jupiter_size = rad_arcsec * (Jupiter_diameter/Earth_distance)  # [arcsec]\n",
        "print('Jupiter angular size approx {:.3} [arcsec]'.format(Jupiter_size))\n",
        "print('Callisto angular size approx {:.3} [arcsec]'.format(Callisto_size))"
      ],
      "execution_count": null,
      "outputs": [
        {
          "output_type": "stream",
          "text": [
            "Jupiter angular size approx 45.8 [arcsec]\n",
            "Callisto angular size approx 1.64 [arcsec]\n"
          ],
          "name": "stdout"
        }
      ]
    },
    {
      "cell_type": "code",
      "metadata": {
        "id": "gE0bH7VI4hWs"
      },
      "source": [
        ""
      ],
      "execution_count": null,
      "outputs": []
    }
  ]
}