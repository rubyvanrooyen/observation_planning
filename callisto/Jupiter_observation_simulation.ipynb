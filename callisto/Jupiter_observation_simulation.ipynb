{
  "nbformat": 4,
  "nbformat_minor": 0,
  "metadata": {
    "colab": {
      "name": "Jupiter observation simulation.ipynb",
      "provenance": [],
      "authorship_tag": "ABX9TyM6cKsMZLVboQZ6h9ifXz7S",
      "include_colab_link": true
    },
    "kernelspec": {
      "name": "python3",
      "display_name": "Python 3"
    },
    "language_info": {
      "name": "python"
    }
  },
  "cells": [
    {
      "cell_type": "markdown",
      "metadata": {
        "id": "view-in-github",
        "colab_type": "text"
      },
      "source": [
        "<a href=\"https://colab.research.google.com/github/rubyvanrooyen/observation_planning/blob/main/callisto/Jupiter_observation_simulation.ipynb\" target=\"_parent\"><img src=\"https://colab.research.google.com/assets/colab-badge.svg\" alt=\"Open In Colab\"/></a>"
      ]
    },
    {
      "cell_type": "markdown",
      "metadata": {
        "id": "9cAl08QbvE1e"
      },
      "source": [
        "# Installation"
      ]
    },
    {
      "cell_type": "markdown",
      "metadata": {
        "id": "C-pXlwAf8eYf"
      },
      "source": [
        "Installing a feature branch for testing    \n",
        "`pip install \"git+ssh://git@github.com/user/your_repo.git@your_branch_name#egg=package_name\"`"
      ]
    },
    {
      "cell_type": "code",
      "metadata": {
        "id": "SXgCU0pTMn9x"
      },
      "source": [
        "#pip install --upgrade \"git+https://git@github.com/rubyvanrooyen/astrokat.git@noncelestial_observations\""
      ],
      "execution_count": 4,
      "outputs": []
    },
    {
      "cell_type": "code",
      "metadata": {
        "colab": {
          "base_uri": "https://localhost:8080/"
        },
        "id": "-uT3zPT08Z5n",
        "outputId": "af4f7112-2ead-4614-bd13-e1c7add5c85d"
      },
      "source": [
        "pip install --upgrade \"git+https://git@github.com/rubyvanrooyen/astrokat.git@noncelestial_observations#egg=astrokat\""
      ],
      "execution_count": 5,
      "outputs": [
        {
          "output_type": "stream",
          "text": [
            "Collecting astrokat\n",
            "  Cloning https://****@github.com/rubyvanrooyen/astrokat.git (to revision noncelestial_observations) to /tmp/pip-install-m5uui3kk/astrokat_96eb3a5c0c6e4745b7ea0c4438524193\n",
            "  Running command git clone -q 'https://****@github.com/rubyvanrooyen/astrokat.git' /tmp/pip-install-m5uui3kk/astrokat_96eb3a5c0c6e4745b7ea0c4438524193\n",
            "  Running command git checkout -b noncelestial_observations --track origin/noncelestial_observations\n",
            "  Switched to a new branch 'noncelestial_observations'\n",
            "  Branch 'noncelestial_observations' set up to track remote branch 'noncelestial_observations' from 'origin'.\n",
            "  Installing build dependencies ... \u001b[?25l\u001b[?25hdone\n",
            "  Getting requirements to build wheel ... \u001b[?25l\u001b[?25hdone\n",
            "  Installing backend dependencies ... \u001b[?25l\u001b[?25hdone\n",
            "    Preparing wheel metadata ... \u001b[?25l\u001b[?25hdone\n",
            "Requirement already satisfied: numpy in /usr/local/lib/python3.7/dist-packages (from astrokat) (1.19.5)\n",
            "Requirement already satisfied: astropy in /usr/local/lib/python3.7/dist-packages (from astrokat) (4.3.1)\n",
            "Requirement already satisfied: matplotlib in /usr/local/lib/python3.7/dist-packages (from astrokat) (3.2.2)\n",
            "Requirement already satisfied: pyyaml in /usr/local/lib/python3.7/dist-packages (from astrokat) (3.13)\n",
            "Collecting pyephem\n",
            "  Downloading pyephem-9.99.tar.gz (1.4 kB)\n",
            "Collecting katpoint\n",
            "  Downloading katpoint-0.10-py2.py3-none-any.whl (99 kB)\n",
            "\u001b[K     |████████████████████████████████| 99 kB 2.8 MB/s \n",
            "\u001b[?25hRequirement already satisfied: pyerfa>=1.7.3 in /usr/local/lib/python3.7/dist-packages (from astropy->astrokat) (2.0.0)\n",
            "Requirement already satisfied: importlib-metadata in /usr/local/lib/python3.7/dist-packages (from astropy->astrokat) (4.6.4)\n",
            "Requirement already satisfied: zipp>=0.5 in /usr/local/lib/python3.7/dist-packages (from importlib-metadata->astropy->astrokat) (3.5.0)\n",
            "Requirement already satisfied: typing-extensions>=3.6.4 in /usr/local/lib/python3.7/dist-packages (from importlib-metadata->astropy->astrokat) (3.7.4.3)\n",
            "Requirement already satisfied: future in /usr/local/lib/python3.7/dist-packages (from katpoint->astrokat) (0.16.0)\n",
            "Requirement already satisfied: ephem in /usr/local/lib/python3.7/dist-packages (from katpoint->astrokat) (4.0.0.2)\n",
            "Requirement already satisfied: python-dateutil>=2.1 in /usr/local/lib/python3.7/dist-packages (from matplotlib->astrokat) (2.8.2)\n",
            "Requirement already satisfied: cycler>=0.10 in /usr/local/lib/python3.7/dist-packages (from matplotlib->astrokat) (0.10.0)\n",
            "Requirement already satisfied: kiwisolver>=1.0.1 in /usr/local/lib/python3.7/dist-packages (from matplotlib->astrokat) (1.3.1)\n",
            "Requirement already satisfied: pyparsing!=2.0.4,!=2.1.2,!=2.1.6,>=2.0.1 in /usr/local/lib/python3.7/dist-packages (from matplotlib->astrokat) (2.4.7)\n",
            "Requirement already satisfied: six in /usr/local/lib/python3.7/dist-packages (from cycler>=0.10->matplotlib->astrokat) (1.15.0)\n",
            "Building wheels for collected packages: astrokat, pyephem\n",
            "  Building wheel for astrokat (PEP 517) ... \u001b[?25l\u001b[?25hdone\n",
            "  Created wheel for astrokat: filename=astrokat-0.1.dev749+noncelestial.observations.ee686da-py3-none-any.whl size=58075 sha256=640df4f6477fd22036a9cb6e40b5de291dff48e45b7ca9b7969254b0878f4019\n",
            "  Stored in directory: /tmp/pip-ephem-wheel-cache-fm3qj003/wheels/3a/b5/5b/ada51f93fa877bde58010882097420fc804822db7b9e7787bc\n",
            "  Building wheel for pyephem (setup.py) ... \u001b[?25l\u001b[?25hdone\n",
            "  Created wheel for pyephem: filename=pyephem-9.99-py3-none-any.whl size=1568 sha256=25d92095791149b1b26d46ce86b203f34339903a055f06ea467cac4be825e2e1\n",
            "  Stored in directory: /root/.cache/pip/wheels/30/12/37/6d3c470a337d412e8ac33b581cb2d67c825eaf063db830d74c\n",
            "Successfully built astrokat pyephem\n",
            "Installing collected packages: pyephem, katpoint, astrokat\n",
            "Successfully installed astrokat-0.1.dev749+noncelestial.observations.ee686da katpoint-0.10 pyephem-9.99\n"
          ],
          "name": "stdout"
        }
      ]
    },
    {
      "cell_type": "code",
      "metadata": {
        "colab": {
          "base_uri": "https://localhost:8080/"
        },
        "id": "4KmD4lOeLo6A",
        "outputId": "7cb91c3d-8f36-4921-ec89-152727ad22b4"
      },
      "source": [
        "!git clone --single-branch --branch noncelestial_observations https://github.com/rubyvanrooyen/astrokat.git"
      ],
      "execution_count": 6,
      "outputs": [
        {
          "output_type": "stream",
          "text": [
            "Cloning into 'astrokat'...\n",
            "remote: Enumerating objects: 3385, done.\u001b[K\n",
            "remote: Counting objects: 100% (1196/1196), done.\u001b[K\n",
            "remote: Compressing objects: 100% (576/576), done.\u001b[K\n",
            "remote: Total 3385 (delta 822), reused 947 (delta 618), pack-reused 2189\u001b[K\n",
            "Receiving objects: 100% (3385/3385), 6.15 MiB | 24.50 MiB/s, done.\n",
            "Resolving deltas: 100% (2335/2335), done.\n"
          ],
          "name": "stdout"
        }
      ]
    },
    {
      "cell_type": "code",
      "metadata": {
        "id": "X7mmoQpKDt7z"
      },
      "source": [
        "!ln -s /content/astrokat/scripts/astrokat-targets.py obsfileview.py"
      ],
      "execution_count": 7,
      "outputs": []
    },
    {
      "cell_type": "markdown",
      "metadata": {
        "id": "7NcybgwEvJR0"
      },
      "source": [
        "# Observation file"
      ]
    },
    {
      "cell_type": "code",
      "metadata": {
        "id": "DOXpggxv-rLS"
      },
      "source": [
        "import astrokat"
      ],
      "execution_count": 8,
      "outputs": []
    },
    {
      "cell_type": "code",
      "metadata": {
        "colab": {
          "base_uri": "https://localhost:8080/"
        },
        "id": "4ahuOdurqXfC",
        "outputId": "80f23276-f019-4f82-a789-f6c445fe57a0"
      },
      "source": [
        "!astrokat-targets.py --body Jupiter --cat-path astrokat/catalogues/ --cal-tags gain bp flux pol --text-only --lst --horizon 15. --datetime '2021-08-27 00:00'"
      ],
      "execution_count": 9,
      "outputs": [
        {
          "output_type": "stream",
          "text": [
            "\n",
            "Observation Table for 2021/8/27 00:00:00 (UTC)\n",
            "Times listed in LST for target rise and set times\n",
            "Target visible when above 14.999999999999998 degrees\n",
            "Sources         Class                           RA              Decl            Rise Time       Set Time        Separation      Notes           \n",
            "\u001b[0mJupiter         special                         21:53:38.98     -14:03:50.4     16:33:04.23     3:17:26.67      172.27          Separation from Sun\n",
            "\u001b[0m\u001b[93mJ0137+3309      radec polcal                    1:37:41.30      33:09:35.1      22:53:12.36     4:24:38.77      71.02 ***       Separation from Jupiter\n",
            "\u001b[0m\u001b[93mJ1939-6342      radec bpcal fluxcal             19:39:25.03     -63:42:45.6     11:35:42.04     3:47:08.84      55.01 ***                       \n",
            "\u001b[0m\u001b[0mJ2158-1501      radec gaincal                   21:58:06.28     -15:01:09.3     16:34:33.69     3:24:00.69      1.33                            \n",
            "\u001b[0m\u001b[0mJ2206-1835      radec bpcal                     22:06:10.42     -18:35:38.7     16:34:39.58     3:40:04.54      5.38                            \n",
            "\u001b[0m\n"
          ],
          "name": "stdout"
        }
      ]
    },
    {
      "cell_type": "code",
      "metadata": {
        "colab": {
          "base_uri": "https://localhost:8080/"
        },
        "id": "FSBBOXDoxAWk",
        "outputId": "ff873cf3-e789-4384-8957-c9b3bfb267c1"
      },
      "source": [
        "!astrokat-targets.py --body Jupiter --cat-path astrokat/catalogues/ --cal-tags gain bp flux pol --text-only --lst --horizon 15. --datetime '2021-09-12 00:00'"
      ],
      "execution_count": 10,
      "outputs": [
        {
          "output_type": "stream",
          "text": [
            "\n",
            "Observation Table for 2021/9/12 00:00:00 (UTC)\n",
            "Times listed in LST for target rise and set times\n",
            "Target visible when above 14.999999999999998 degrees\n",
            "Sources         Class                           RA              Decl            Rise Time       Set Time        Separation      Notes           \n",
            "\u001b[0mJupiter         special                         21:46:25.36     -14:41:24.5     16:24:16.76     3:11:37.92      154.92          Separation from Sun\n",
            "\u001b[0m\u001b[93mJ0137+3309      radec polcal                    1:37:41.30      33:09:35.1      22:53:13.14     4:24:38.76      72.78 ***       Separation from Jupiter\n",
            "\u001b[0m\u001b[93mJ1939-6342      radec bpcal fluxcal             19:39:25.03     -63:42:45.6     11:35:41.22     3:47:08.76      53.86 ***                       \n",
            "\u001b[0m\u001b[0mJ2158-1501      radec gaincal                   21:58:06.28     -15:01:09.3     16:34:33.69     3:24:00.72      2.65                            \n",
            "\u001b[0m\u001b[0mJ2206-1835      radec bpcal                     22:06:10.42     -18:35:38.7     16:34:39.58     3:40:04.59      6.03                            \n",
            "\u001b[0m\n"
          ],
          "name": "stdout"
        }
      ]
    },
    {
      "cell_type": "code",
      "metadata": {
        "colab": {
          "base_uri": "https://localhost:8080/"
        },
        "id": "WoTY4MU2zCSe",
        "outputId": "71f646a3-1ab8-40e0-e03c-620a8af4a594"
      },
      "source": [
        "!astrokat-targets.py --body Jupiter --cat-path astrokat/catalogues/ --cal-tags gain bp flux pol --text-only --lst --horizon 15. --datetime '2021-09-29 00:00'"
      ],
      "execution_count": 11,
      "outputs": [
        {
          "output_type": "stream",
          "text": [
            "\n",
            "Observation Table for 2021/9/29 00:00:00 (UTC)\n",
            "Times listed in LST for target rise and set times\n",
            "Target visible when above 14.999999999999998 degrees\n",
            "Sources         Class                           RA              Decl            Rise Time       Set Time        Separation      Notes           \n",
            "\u001b[0mJupiter         special                         21:41:04.29     -15:07:18.7     16:17:39.46     3:07:15.20      136.86          Separation from Sun\n",
            "\u001b[0m\u001b[93mJ0137+3309      radec polcal                    1:37:41.30      33:09:35.1      22:53:13.87     4:24:38.67      74.13 ***       Separation from Jupiter\n",
            "\u001b[0m\u001b[93mJ1939-6342      radec bpcal fluxcal             19:39:25.03     -63:42:45.6     11:35:40.37     3:47:08.41      53.02 ***                       \n",
            "\u001b[0m\u001b[0mJ2131-1207      radec gaincal                   21:31:35.26     -12:07:04.8     16:14:32.54     2:50:59.02      3.83                            \n",
            "\u001b[0m\u001b[0mJ2206-1835      radec bpcal                     22:06:10.42     -18:35:38.7     16:34:39.47     3:40:04.55      6.86                            \n",
            "\u001b[0m\n"
          ],
          "name": "stdout"
        }
      ]
    },
    {
      "cell_type": "code",
      "metadata": {
        "colab": {
          "base_uri": "https://localhost:8080/"
        },
        "id": "8JJgWLaZzCDr",
        "outputId": "ff55c0a7-36c5-44e5-e708-63c9ebc08359"
      },
      "source": [
        "!astrokat-targets.py --body Jupiter --cat-path astrokat/catalogues/ --cal-tags gain bp flux pol --text-only --lst --horizon 15. --datetime '2021-10-16 00:00'"
      ],
      "execution_count": 12,
      "outputs": [
        {
          "output_type": "stream",
          "text": [
            "\n",
            "Observation Table for 2021/10/16 00:00:00 (UTC)\n",
            "Times listed in LST for target rise and set times\n",
            "Target visible when above 14.999999999999998 degrees\n",
            "Sources         Class                           RA              Decl            Rise Time       Set Time        Separation      Notes           \n",
            "\u001b[0mJupiter         special                         21:39:06.43     -15:15:02.5     16:15:01.74     3:05:34.58      119.48          Separation from Sun\n",
            "\u001b[0m\u001b[93mJ0137+3309      radec polcal                    1:37:41.30      33:09:35.1      22:53:14.45     4:24:38.49      74.67 ***       Separation from Jupiter\n",
            "\u001b[0m\u001b[93mJ1939-6342      radec bpcal fluxcal             19:39:25.03     -63:42:45.6     11:35:39.61     3:47:07.86      52.69 ***                       \n",
            "\u001b[0m\u001b[0mJ2131-1207      radec gaincal                   21:31:35.26     -12:07:04.8     16:14:32.32     2:50:58.85      3.63                            \n",
            "\u001b[0m\u001b[0mJ2206-1835      radec bpcal                     22:06:10.42     -18:35:38.7     16:34:39.27     3:40:04.43      7.28                            \n",
            "\u001b[0m\n"
          ],
          "name": "stdout"
        }
      ]
    },
    {
      "cell_type": "markdown",
      "metadata": {
        "id": "F12sbxmP0lgL"
      },
      "source": [
        "```\n",
        "Sources         Class                           RA              Decl            Rise Time       Set Time        Separation      Notes           \n",
        "Jupiter         special                         21:53:38.98     -14:03:50.4     16:33:04.23     3:17:26.67      172.27          Separation from Sun\n",
        "Jupiter         special                         21:46:25.36     -14:41:24.5     16:24:16.76     3:11:37.92      154.92          Separation from Sun\n",
        "Jupiter         special                         21:41:04.29     -15:07:18.7     16:17:39.46     3:07:15.20      136.86          Separation from Sun\n",
        "Jupiter         special                         21:39:06.43     -15:15:02.5     16:15:01.74     3:05:34.58      119.48          Separation from Sun\n",
        "```\n",
        "rise: 16:30\n",
        "set: 03:00"
      ]
    },
    {
      "cell_type": "code",
      "metadata": {
        "id": "GNnHRNQEDt00"
      },
      "source": [
        "# inputs to fiddle\n",
        "start_time = '2021-08-27 18:00'\n",
        "start_time = '2021-09-12 17:00'\n",
        "start_time = '2021-09-29 16:00'\n",
        "start_time = '2021-10-16 14:30'\n",
        "obs_duration = str(8 * 3600.)  # seconds\n",
        "obs_file_name = 'jupiter_callisto.yaml'\n",
        "# Observation catalogue for proposal ID None\n",
        "with open(obs_file_name, 'w') as fin:\n",
        "    fin.write('# PI: Ruby van Rooyen\\n')\n",
        "    fin.write('# Contact details: ruby@sarao.ac.za\\n')\n",
        "    fin.write('#\\n')\n",
        "    fin.write('# No specifying instrument or correlator mode to allow use with any observation mode\\n')\n",
        "    fin.write('durations:\\n')\n",
        "    fin.write('  obs_duration: {}\\n'.format(obs_duration))\n",
        "    fin.write('  start_time: {}:00\\n'.format(start_time))\n",
        "#    fin.write('  start_time: {} 00:00:00\\n'.format(start_time[:10]))\n",
        "    fin.write('observation_loop:\\n')\n",
        "    fin.write('  - LST: 16:30-3:00\\n')\n",
        "    fin.write('    target_list:\\n')\n",
        "    fin.write('      - name=J0137+3309 | 3C48, radec=1:37:41.30 33:09:35.1, tags=polcal, duration=296.0, cadence=3600.0, model=(50.0 50000.0 0.524 1.738 -0.6396 0.0498)\\n')\n",
        "#     fin.write('      - name=J0408-6545 | 0408-658, radec=4:08:20.38 -65:45:09.1, tags=bpcal fluxcal, duration=296.0, cadence=3600.0, model=(145.0 18000.0 -0.979 3.366 -1.122 0.0861)\\n')\n",
        "    fin.write('      - name=J1939-6342 | 1934-638, radec=19:39:25.03 -63:42:45.6, tags=bpcal fluxcal, duration=296.0, cadence=3600.0, model=(408.0 8640.0 -30.77 26.49 -7.098 0.6053)\\n')\n",
        "#     fin.write('      - name=J2158-1501, radec=21:58:06.28 -15:01:09.3, tags=gaincal, duration=128.0\\n')\n",
        "    fin.write('      - name=J2206-1835 | 2203-188, radec=22:06:10.42 -18:35:38.7, tags=gaincal bpcal, duration=128.0, model=(145.0 99000.0 2.185 -0.7118 0.1563 -0.0215)\\n')\n",
        "    fin.write('      - name=Jupiter, special=special , tags=target, duration=904.0\\n')"
      ],
      "execution_count": 51,
      "outputs": []
    },
    {
      "cell_type": "markdown",
      "metadata": {
        "id": "VYUuyZ6FvQkZ"
      },
      "source": [
        "# Observation planning"
      ]
    },
    {
      "cell_type": "code",
      "metadata": {
        "colab": {
          "base_uri": "https://localhost:8080/"
        },
        "id": "HrqJqOKyHTCS",
        "outputId": "37242d36-971d-4018-f8e7-b6b460f2901e"
      },
      "source": [
        "!echo astrokat-targets.py --view {obs_file_name} --datetime '\"{start_time}\"' --text-only\n",
        "!astrokat-targets.py --view {obs_file_name} --datetime '{start_time}' --text-only"
      ],
      "execution_count": 52,
      "outputs": [
        {
          "output_type": "stream",
          "text": [
            "astrokat-targets.py --view jupiter_callisto.yaml --datetime \"2021-10-16 14:30\" --text-only\n",
            "\n",
            "Observation Table for 2021/10/16 14:30:00 (UTC)\n",
            "Times listed in UTC for target rise and set times\n",
            "Target visible when above 20.0 degrees\n",
            "Sources         Class                           RA              Decl            Rise Time       Set Time        Separation      Notes           \n",
            "\u001b[0mJupiter         special target                  21:39:06.43     -15:15:02.6     13:27:37        23:29:36        118.88          Separation from Sun\n",
            "\u001b[0m\u001b[93mJ0137+3309      radec polcal                    1:37:41.30      33:09:35.1      20:30:39        00:30:25        74.68 ***       Separation from Jupiter\n",
            "\u001b[0m\u001b[93mJ1939-6342      radec bpcal fluxcal             19:39:25.03     -63:42:45.6     09:20:34        23:39:30        52.69 ***                       \n",
            "\u001b[0m\u001b[0mJ2206-1835      radec gaincal bpcal             22:06:10.42     -18:35:38.7     13:47:29        00:03:44        7.28                            \n",
            "\u001b[0m\n"
          ],
          "name": "stdout"
        }
      ]
    },
    {
      "cell_type": "code",
      "metadata": {
        "id": "rxuQoLXgDt-n"
      },
      "source": [
        "import obsfileview"
      ],
      "execution_count": 53,
      "outputs": []
    },
    {
      "cell_type": "code",
      "metadata": {
        "id": "1ofTWN0ZN_8o"
      },
      "source": [
        "# Observation catalogue for proposal ID None\n",
        "with open(obs_file_name, 'a') as fin:\n",
        "   fin.write('      - name=Callisto, special=special , tags=target, duration=904.0\\n')"
      ],
      "execution_count": 54,
      "outputs": []
    },
    {
      "cell_type": "code",
      "metadata": {
        "colab": {
          "base_uri": "https://localhost:8080/",
          "height": 704
        },
        "id": "jEV32JLsKzXY",
        "outputId": "8dbef3c4-688e-485f-f00c-69a21b3d68a0"
      },
      "source": [
        "obsfileview.main(creation_time = start_time,\n",
        "                 viewfile=obs_file_name)"
      ],
      "execution_count": 55,
      "outputs": [
        {
          "output_type": "stream",
          "text": [
            "\n",
            "Observation Table for 2021/10/16 14:30:00 (UTC)\n",
            "Times listed in UTC for target rise and set times\n",
            "Target visible when above 20.0 degrees\n",
            "Sources         Class                           RA              Decl            Rise Time       Set Time        Separation      Notes           \n",
            "\u001b[0mJupiter         special target                  21:39:06.43     -15:15:02.6     13:27:37        23:29:36        118.88          Separation from Sun\n",
            "\u001b[0m\u001b[0mCallisto        special target                  21:39:43.61     -15:11:46.7     0:00:01.00      23:59:59.00                                     \n",
            "\u001b[0m\u001b[0mJ0137+3309      radec polcal                    1:37:41.30      33:09:35.1      20:30:39        00:30:25                                        \n",
            "\u001b[0m\u001b[0mJ1939-6342      radec bpcal fluxcal             19:39:25.03     -63:42:45.6     09:20:34        23:39:30                                        \n",
            "\u001b[0m\u001b[0mJ2206-1835      radec gaincal bpcal             22:06:10.42     -18:35:38.7     13:47:29        00:03:44                                        \n",
            "\u001b[0m\n"
          ],
          "name": "stdout"
        },
        {
          "output_type": "display_data",
          "data": {
            "image/png": "[encoded data removed]",
            "text/plain": [
              "<Figure size 1080x504 with 2 Axes>"
            ]
          },
          "metadata": {}
        }
      ]
    },
    {
      "cell_type": "code",
      "metadata": {
        "colab": {
          "base_uri": "https://localhost:8080/"
        },
        "id": "Fff2B3050qW8",
        "outputId": "55108dc1-80f1-4c1c-c105-83a4692534e7"
      },
      "source": [
        "!astrokat-observe.py --yaml {obs_file_name}"
      ],
      "execution_count": 56,
      "outputs": [
        {
          "output_type": "stream",
          "text": [
            "2021-08-18 17:57:27Z - Setting up telescope for observation\n",
            "2021-08-18 17:57:27Z - Observation start up\n",
            "2021-08-18 17:57:27Z - Running astrokat version - 0.1.dev749+noncelestial.observations.ee686da\n",
            "2021-08-18 17:57:27Z - Report: noise-diode off at 1629309453.446941\n",
            "2021-08-18 17:57:27Z - Found 5 target(s): 0 from 0 catalogue(s), 0 from default catalogue and 5 as target string(s)\n",
            "2021-10-16 14:30:00Z - BP calibrators are ['J1939-6342', 'J2206-1835']\n",
            "2021-10-16 14:30:00Z - GAIN calibrators are ['J2206-1835']\n",
            "2021-10-16 14:30:00Z - FLUX calibrators are ['J1939-6342']\n",
            "2021-10-16 14:30:00Z - POL calibrators are ['J0137+3309']\n",
            "2021-10-16 14:30:00Z - Observation targets are ['Jupiter', 'Callisto']\n",
            "2021-10-16 14:30:00Z - Waiting for observation setup\n",
            "2021-10-16 14:30:03Z - INIT\n",
            "2021-10-16 14:30:03Z - Slewing to first target\n",
            "2021-10-16 14:30:48Z - Slewed to J0137+3309 at azel (70.5, -40.1) deg\n",
            "2021-10-16 14:30:48Z - Tracked J0137+3309 for 0 seconds\n",
            "2021-10-16 14:30:48Z - Target J0137+3309 below 20.0 deg horizon, continuing\n",
            "2021-10-16 14:30:48Z - Initialising Track bpcal, fluxcal J1939-6342 for 296.0 sec\n",
            "2021-10-16 14:32:32Z - Slewed to J1939-6342 at azel (158.4, 51.7) deg\n",
            "2021-10-16 14:37:28Z - Tracked J1939-6342 for 296 seconds\n",
            "2021-10-16 14:37:28Z - Initialising Track gaincal, bpcal J2206-1835 for 128.0 sec\n",
            "2021-10-16 14:38:10Z - Slewed to J2206-1835 at azel (94.8, 29.8) deg\n",
            "2021-10-16 14:40:18Z - Tracked J2206-1835 for 128 seconds\n",
            "2021-10-16 14:40:18Z - Initialising Track target Jupiter for 904.0 sec\n",
            "2021-10-16 14:40:32Z - Slewed to Jupiter at azel (87.6, 34.8) deg\n",
            "2021-10-16 14:55:36Z - Tracked Jupiter for 904 seconds\n",
            "2021-10-16 14:55:36Z - Initialising Track target Callisto for 904.0 sec\n",
            "2021-10-16 14:55:40Z - Slewed to Callisto at azel (85.5, 37.9) deg\n",
            "2021-10-16 15:10:44Z - Tracked Callisto for 904 seconds\n",
            "2021-10-16 15:10:44Z - Target J0137+3309 below 20.0 deg horizon, continuing\n",
            "2021-10-16 15:10:44Z - Initialising Track gaincal, bpcal J2206-1835 for 128.0 sec\n",
            "2021-10-16 15:10:58Z - Slewed to J2206-1835 at azel (90.8, 37.0) deg\n",
            "2021-10-16 15:13:06Z - Tracked J2206-1835 for 128 seconds\n",
            "2021-10-16 15:13:06Z - Initialising Track target Jupiter for 904.0 sec\n",
            "2021-10-16 15:13:20Z - Slewed to Jupiter at azel (82.9, 41.8) deg\n",
            "2021-10-16 15:28:24Z - Tracked Jupiter for 904 seconds\n",
            "2021-10-16 15:28:24Z - Initialising Track target Callisto for 904.0 sec\n",
            "2021-10-16 15:28:28Z - Slewed to Callisto at azel (80.5, 44.9) deg\n",
            "2021-10-16 15:43:32Z - Tracked Callisto for 904 seconds\n",
            "2021-10-16 15:43:32Z - Target J0137+3309 below 20.0 deg horizon, continuing\n",
            "2021-10-16 15:43:32Z - Initialising Track bpcal, fluxcal J1939-6342 for 296.0 sec\n",
            "2021-10-16 15:44:29Z - Slewed to J1939-6342 at azel (170.0, 56.1) deg\n",
            "2021-10-16 15:49:25Z - Tracked J1939-6342 for 296 seconds\n",
            "2021-10-16 15:49:25Z - Initialising Track gaincal, bpcal J2206-1835 for 128.0 sec\n",
            "2021-10-16 15:50:18Z - Slewed to J2206-1835 at azel (85.6, 45.3) deg\n",
            "2021-10-16 15:52:26Z - Tracked J2206-1835 for 128 seconds\n",
            "2021-10-16 15:52:26Z - Initialising Track target Jupiter for 904.0 sec\n",
            "2021-10-16 15:52:41Z - Slewed to Jupiter at azel (76.3, 50.2) deg\n",
            "2021-10-16 16:07:45Z - Tracked Jupiter for 904 seconds\n",
            "2021-10-16 16:07:45Z - Initialising Track target Callisto for 904.0 sec\n",
            "2021-10-16 16:07:48Z - Slewed to Callisto at azel (73.2, 53.2) deg\n",
            "2021-10-16 16:22:52Z - Tracked Callisto for 904 seconds\n",
            "2021-10-16 16:22:52Z - Target J0137+3309 below 20.0 deg horizon, continuing\n",
            "2021-10-16 16:22:52Z - Initialising Track gaincal, bpcal J2206-1835 for 128.0 sec\n",
            "2021-10-16 16:23:08Z - Slewed to J2206-1835 at azel (80.3, 52.5) deg\n",
            "2021-10-16 16:25:16Z - Tracked J2206-1835 for 128 seconds\n",
            "2021-10-16 16:25:16Z - Initialising Track target Jupiter for 904.0 sec\n",
            "2021-10-16 16:25:32Z - Slewed to Jupiter at azel (69.2, 56.9) deg\n",
            "2021-10-16 16:40:36Z - Tracked Jupiter for 904 seconds\n",
            "2021-10-16 16:40:36Z - Initialising Track target Callisto for 904.0 sec\n",
            "2021-10-16 16:40:40Z - Slewed to Callisto at azel (65.2, 59.8) deg\n",
            "2021-10-16 16:55:44Z - Tracked Callisto for 904 seconds\n",
            "2021-10-16 16:55:44Z - Target J0137+3309 below 20.0 deg horizon, continuing\n",
            "2021-10-16 16:55:44Z - Initialising Track bpcal, fluxcal J1939-6342 for 296.0 sec\n",
            "2021-10-16 16:56:56Z - Slewed to J1939-6342 at azel (184.4, 56.9) deg\n",
            "2021-10-16 17:01:52Z - Tracked J1939-6342 for 296 seconds\n",
            "2021-10-16 17:01:52Z - Initialising Track gaincal, bpcal J2206-1835 for 128.0 sec\n",
            "2021-10-16 17:02:59Z - Slewed to J2206-1835 at azel (72.3, 60.6) deg\n",
            "2021-10-16 17:05:07Z - Tracked J2206-1835 for 128 seconds\n",
            "2021-10-16 17:05:07Z - Initialising Track target Jupiter for 904.0 sec\n",
            "2021-10-16 17:05:25Z - Slewed to Jupiter at azel (57.2, 64.6) deg\n",
            "2021-10-16 17:20:29Z - Tracked Jupiter for 904 seconds\n",
            "2021-10-16 17:20:29Z - Initialising Track target Callisto for 904.0 sec\n",
            "2021-10-16 17:20:32Z - Slewed to Callisto at azel (51.0, 67.1) deg\n",
            "2021-10-16 17:35:36Z - Tracked Callisto for 904 seconds\n",
            "2021-10-16 17:35:36Z - Target J0137+3309 below 20.0 deg horizon, continuing\n",
            "2021-10-16 17:35:36Z - Initialising Track gaincal, bpcal J2206-1835 for 128.0 sec\n",
            "2021-10-16 17:35:56Z - Slewed to J2206-1835 at azel (62.2, 67.4) deg\n",
            "2021-10-16 17:38:04Z - Tracked J2206-1835 for 128 seconds\n",
            "2021-10-16 17:38:04Z - Initialising Track target Jupiter for 904.0 sec\n",
            "2021-10-16 17:38:24Z - Slewed to Jupiter at azel (41.9, 70.0) deg\n",
            "2021-10-16 17:53:28Z - Tracked Jupiter for 904 seconds\n",
            "2021-10-16 17:53:28Z - Initialising Track target Callisto for 904.0 sec\n",
            "2021-10-16 17:53:32Z - Slewed to Callisto at azel (32.5, 71.9) deg\n",
            "2021-10-16 18:08:36Z - Tracked Callisto for 904 seconds\n",
            "2021-10-16 18:08:36Z - Target J0137+3309 below 20.0 deg horizon, continuing\n",
            "2021-10-16 18:08:36Z - Initialising Track bpcal, fluxcal J1939-6342 for 296.0 sec\n",
            "2021-10-16 18:10:15Z - Slewed to J1939-6342 at azel (197.6, 53.8) deg\n",
            "2021-10-16 18:15:11Z - Tracked J1939-6342 for 296 seconds\n",
            "2021-10-16 18:15:11Z - Initialising Track gaincal, bpcal J2206-1835 for 128.0 sec\n",
            "2021-10-16 18:16:39Z - Slewed to J2206-1835 at azel (42.1, 74.2) deg\n",
            "2021-10-16 18:18:47Z - Tracked J2206-1835 for 128 seconds\n",
            "2021-10-16 18:18:47Z - Initialising Track target Jupiter for 904.0 sec\n",
            "2021-10-16 18:19:12Z - Slewed to Jupiter at azel (12.3, 74.1) deg\n",
            "2021-10-16 18:34:16Z - Tracked Jupiter for 904 seconds\n",
            "2021-10-16 18:34:16Z - Initialising Track target Callisto for 904.0 sec\n",
            "2021-10-16 18:34:20Z - Slewed to Callisto at azel (359.0, 74.4) deg\n",
            "2021-10-16 18:49:24Z - Tracked Callisto for 904 seconds\n",
            "2021-10-16 18:49:24Z - Target J0137+3309 below 20.0 deg horizon, continuing\n",
            "2021-10-16 18:49:24Z - Initialising Track gaincal, bpcal J2206-1835 for 128.0 sec\n",
            "2021-10-16 18:49:47Z - Slewed to J2206-1835 at azel (11.3, 77.6) deg\n",
            "2021-10-16 18:51:55Z - Tracked J2206-1835 for 128 seconds\n",
            "2021-10-16 18:51:55Z - Initialising Track target Jupiter for 904.0 sec\n",
            "2021-10-16 18:52:18Z - Slewed to Jupiter at azel (343.0, 73.8) deg\n",
            "2021-10-16 19:07:22Z - Tracked Jupiter for 904 seconds\n",
            "2021-10-16 19:07:22Z - Initialising Track target Callisto for 904.0 sec\n",
            "2021-10-16 19:07:27Z - Slewed to Callisto at azel (331.4, 72.5) deg\n",
            "2021-10-16 19:22:31Z - Tracked Callisto for 904 seconds\n",
            "2021-10-16 19:22:31Z - Target J0137+3309 below 20.0 deg horizon, continuing\n",
            "2021-10-16 19:22:31Z - Initialising Track bpcal, fluxcal J1939-6342 for 296.0 sec\n",
            "2021-10-16 19:23:38Z - Slewed to J1939-6342 at azel (206.3, 47.7) deg\n",
            "2021-10-16 19:28:34Z - Tracked J1939-6342 for 296 seconds\n",
            "2021-10-16 19:28:34Z - Initialising Track gaincal, bpcal J2206-1835 for 128.0 sec\n",
            "2021-10-16 19:29:46Z - Slewed to J2206-1835 at azel (330.0, 76.1) deg\n",
            "2021-10-16 19:31:54Z - Tracked J2206-1835 for 128 seconds\n",
            "2021-10-16 19:31:54Z - Initialising Track target Jupiter for 904.0 sec\n",
            "2021-10-16 19:32:11Z - Slewed to Jupiter at azel (315.4, 69.3) deg\n",
            "2021-10-16 19:47:15Z - Tracked Jupiter for 904 seconds\n",
            "2021-10-16 19:47:15Z - Initialising Track target Callisto for 904.0 sec\n",
            "2021-10-16 19:47:19Z - Slewed to Callisto at azel (308.4, 66.9) deg\n",
            "2021-10-16 20:02:23Z - Tracked Callisto for 904 seconds\n",
            "2021-10-16 20:02:23Z - Target J0137+3309 below 20.0 deg horizon, continuing\n",
            "2021-10-16 20:02:23Z - Initialising Track gaincal, bpcal J2206-1835 for 128.0 sec\n",
            "2021-10-16 20:02:35Z - Slewed to J2206-1835 at azel (306.9, 71.2) deg\n",
            "2021-10-16 20:04:43Z - Tracked J2206-1835 for 128 seconds\n",
            "2021-10-16 20:04:43Z - Initialising Track target Jupiter for 904.0 sec\n",
            "2021-10-16 20:04:56Z - Slewed to Jupiter at azel (301.1, 63.7) deg\n",
            "2021-10-16 20:20:00Z - Tracked Jupiter for 904 seconds\n",
            "2021-10-16 20:20:00Z - Initialising Track target Callisto for 904.0 sec\n",
            "2021-10-16 20:20:04Z - Slewed to Callisto at azel (296.4, 60.9) deg\n",
            "2021-10-16 20:35:08Z - Tracked Callisto for 904 seconds\n",
            "2021-10-16 20:35:08Z - Initialising Track polcal J0137+3309 for 296.0 sec\n",
            "2021-10-16 20:36:05Z - Slewed to J0137+3309 at azel (25.6, 20.4) deg\n",
            "2021-10-16 20:41:01Z - Tracked J0137+3309 for 296 seconds\n",
            "2021-10-16 20:41:01Z - Initialising Track bpcal, fluxcal J1939-6342 for 296.0 sec\n",
            "2021-10-16 20:42:38Z - Slewed to J1939-6342 at azel (210.5, 39.6) deg\n",
            "2021-10-16 20:47:34Z - Tracked J1939-6342 for 296 seconds\n",
            "2021-10-16 20:47:34Z - Initialising Track gaincal, bpcal J2206-1835 for 128.0 sec\n",
            "2021-10-16 20:48:24Z - Slewed to J2206-1835 at azel (290.2, 62.6) deg\n",
            "2021-10-16 20:50:32Z - Tracked J2206-1835 for 128 seconds\n",
            "2021-10-16 20:50:32Z - Initialising Track target Jupiter for 904.0 sec\n",
            "2021-10-16 20:50:44Z - Slewed to Jupiter at azel (288.3, 54.8) deg\n",
            "2021-10-16 21:05:48Z - Tracked Jupiter for 904 seconds\n",
            "2021-10-16 21:05:48Z - Initialising Track target Callisto for 904.0 sec\n",
            "2021-10-16 21:05:52Z - Slewed to Callisto at azel (285.3, 51.7) deg\n",
            "2021-10-16 21:20:56Z - Tracked Callisto for 904 seconds\n",
            "2021-10-16 21:20:56Z - Initialising Track gaincal, bpcal J2206-1835 for 128.0 sec\n",
            "2021-10-16 21:21:07Z - Slewed to J2206-1835 at azel (282.5, 55.7) deg\n",
            "2021-10-16 21:23:15Z - Tracked J2206-1835 for 128 seconds\n",
            "2021-10-16 21:23:15Z - Initialising Track target Jupiter for 904.0 sec\n",
            "2021-10-16 21:23:27Z - Slewed to Jupiter at azel (281.8, 47.9) deg\n",
            "2021-10-16 21:38:31Z - Tracked Jupiter for 904 seconds\n",
            "2021-10-16 21:38:31Z - Initialising Track target Callisto for 904.0 sec\n",
            "2021-10-16 21:38:34Z - Slewed to Callisto at azel (279.4, 44.8) deg\n",
            "2021-10-16 21:53:38Z - Tracked Callisto for 904 seconds\n",
            "2021-10-16 21:53:38Z - Initialising Track polcal J0137+3309 for 296.0 sec\n",
            "2021-10-16 21:54:34Z - Slewed to J0137+3309 at azel (8.6, 25.4) deg\n",
            "2021-10-16 21:59:30Z - Tracked J0137+3309 for 296 seconds\n",
            "2021-10-16 21:59:30Z - Initialising Track bpcal, fluxcal J1939-6342 for 296.0 sec\n",
            "2021-10-16 22:00:59Z - Slewed to J1939-6342 at azel (210.8, 30.9) deg\n",
            "2021-10-16 22:05:55Z - Tracked J1939-6342 for 296 seconds\n",
            "2021-10-16 22:05:55Z - Initialising Track gaincal, bpcal J2206-1835 for 128.0 sec\n",
            "2021-10-16 22:06:38Z - Slewed to J2206-1835 at azel (274.9, 46.1) deg\n",
            "2021-10-16 22:08:46Z - Tracked J2206-1835 for 128 seconds\n",
            "2021-10-16 22:08:46Z - Initialising Track target Jupiter for 904.0 sec\n",
            "2021-10-16 22:08:57Z - Slewed to Jupiter at azel (274.6, 38.2) deg\n",
            "2021-10-16 22:24:01Z - Tracked Jupiter for 904 seconds\n",
            "2021-10-16 22:24:01Z - Scheduled observation time lapsed - ending observation\n",
            "2021-10-16 22:24:01Z - Observation loop statistics\n",
            "2021-10-16 22:24:01Z - Desired observation time 28800.00 sec (480.00 min)\n",
            "2021-10-16 22:24:01Z - Total observation time 28441.62 sec (474.03 min)\n",
            "2021-10-16 22:24:01Z - Targets observed :\n",
            "2021-10-16 22:24:01Z - Callisto observed for 10848.0 sec\n",
            "2021-10-16 22:24:01Z - J0137+3309 observed for 592.0 sec\n",
            "2021-10-16 22:24:01Z - J1939-6342 observed for 2072.0 sec\n",
            "2021-10-16 22:24:01Z - J2206-1835 observed for 1664.0 sec\n",
            "2021-10-16 22:24:01Z - Jupiter observed for 11752.0 sec\n",
            "2021-10-16 22:24:01Z - Observation clean up\n",
            "2021-10-16 22:24:01Z - Returning telescope to startup state\n",
            "2021-10-16 22:24:01Z - Report: noise-diode off at 1634423046.6188815\n"
          ],
          "name": "stdout"
        }
      ]
    },
    {
      "cell_type": "code",
      "metadata": {
        "id": "JUDNr6VQz01p",
        "colab": {
          "base_uri": "https://localhost:8080/"
        },
        "outputId": "a1e003f5-c7cb-472e-d493-9569b23ef9fc"
      },
      "source": [
        "10848+11752"
      ],
      "execution_count": 57,
      "outputs": [
        {
          "output_type": "execute_result",
          "data": {
            "text/plain": [
              "22600"
            ]
          },
          "metadata": {},
          "execution_count": 57
        }
      ]
    },
    {
      "cell_type": "code",
      "metadata": {
        "id": "8ZRKIyppY5yM"
      },
      "source": [
        ""
      ],
      "execution_count": 57,
      "outputs": []
    }
  ]
}