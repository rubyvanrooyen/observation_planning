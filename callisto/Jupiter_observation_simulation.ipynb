{
  "nbformat": 4,
  "nbformat_minor": 0,
  "metadata": {
    "colab": {
      "name": "Jupiter observation simulation.ipynb",
      "provenance": [],
      "authorship_tag": "ABX9TyNAiwAQFGltbGa+AGIRyyMG",
      "include_colab_link": true
    },
    "kernelspec": {
      "name": "python3",
      "display_name": "Python 3"
    },
    "language_info": {
      "name": "python"
    }
  },
  "cells": [
    {
      "cell_type": "markdown",
      "metadata": {
        "id": "view-in-github",
        "colab_type": "text"
      },
      "source": [
        "<a href=\"https://colab.research.google.com/github/rubyvanrooyen/observation_planning/blob/main/callisto/Jupiter_observation_simulation.ipynb\" target=\"_parent\"><img src=\"https://colab.research.google.com/assets/colab-badge.svg\" alt=\"Open In Colab\"/></a>"
      ]
    },
    {
      "cell_type": "markdown",
      "metadata": {
        "id": "9cAl08QbvE1e"
      },
      "source": [
        "# Installation"
      ]
    },
    {
      "cell_type": "markdown",
      "metadata": {
        "id": "C-pXlwAf8eYf"
      },
      "source": [
        "Installing a feature branch for testing    \n",
        "`pip install \"git+ssh://git@github.com/user/your_repo.git@your_branch_name#egg=package_name\"`"
      ]
    },
    {
      "cell_type": "code",
      "metadata": {
        "id": "SXgCU0pTMn9x"
      },
      "source": [
        "#pip install --upgrade \"git+https://git@github.com/rubyvanrooyen/astrokat.git@noncelestial_observations\""
      ],
      "execution_count": 1,
      "outputs": []
    },
    {
      "cell_type": "code",
      "metadata": {
        "colab": {
          "base_uri": "https://localhost:8080/"
        },
        "id": "-uT3zPT08Z5n",
        "outputId": "8fc22c5d-9d07-4811-94a4-287074bb86a9"
      },
      "source": [
        "pip install --upgrade \"git+https://git@github.com/rubyvanrooyen/astrokat.git@noncelestial_observations#egg=astrokat\""
      ],
      "execution_count": 2,
      "outputs": [
        {
          "output_type": "stream",
          "text": [
            "Collecting astrokat\n",
            "  Cloning https://****@github.com/rubyvanrooyen/astrokat.git (to revision noncelestial_observations) to /tmp/pip-install-o12h6h4y/astrokat_c2f1622eb8234e05a29c48852e77a9f2\n",
            "  Running command git clone -q 'https://****@github.com/rubyvanrooyen/astrokat.git' /tmp/pip-install-o12h6h4y/astrokat_c2f1622eb8234e05a29c48852e77a9f2\n",
            "  Running command git checkout -b noncelestial_observations --track origin/noncelestial_observations\n",
            "  Switched to a new branch 'noncelestial_observations'\n",
            "  Branch 'noncelestial_observations' set up to track remote branch 'noncelestial_observations' from 'origin'.\n",
            "  Installing build dependencies ... \u001b[?25l\u001b[?25hdone\n",
            "  Getting requirements to build wheel ... \u001b[?25l\u001b[?25hdone\n",
            "  Installing backend dependencies ... \u001b[?25l\u001b[?25hdone\n",
            "    Preparing wheel metadata ... \u001b[?25l\u001b[?25hdone\n",
            "Requirement already satisfied: astropy in /usr/local/lib/python3.7/dist-packages (from astrokat) (4.3.1)\n",
            "Requirement already satisfied: numpy in /usr/local/lib/python3.7/dist-packages (from astrokat) (1.19.5)\n",
            "Requirement already satisfied: matplotlib in /usr/local/lib/python3.7/dist-packages (from astrokat) (3.2.2)\n",
            "Collecting katpoint\n",
            "  Downloading katpoint-0.10-py2.py3-none-any.whl (99 kB)\n",
            "\u001b[K     |████████████████████████████████| 99 kB 2.7 MB/s \n",
            "\u001b[?25hCollecting pyephem\n",
            "  Downloading pyephem-9.99.tar.gz (1.4 kB)\n",
            "Requirement already satisfied: pyyaml in /usr/local/lib/python3.7/dist-packages (from astrokat) (3.13)\n",
            "Requirement already satisfied: pyerfa>=1.7.3 in /usr/local/lib/python3.7/dist-packages (from astropy->astrokat) (2.0.0)\n",
            "Requirement already satisfied: importlib-metadata in /usr/local/lib/python3.7/dist-packages (from astropy->astrokat) (4.6.3)\n",
            "Requirement already satisfied: typing-extensions>=3.6.4 in /usr/local/lib/python3.7/dist-packages (from importlib-metadata->astropy->astrokat) (3.7.4.3)\n",
            "Requirement already satisfied: zipp>=0.5 in /usr/local/lib/python3.7/dist-packages (from importlib-metadata->astropy->astrokat) (3.5.0)\n",
            "Requirement already satisfied: future in /usr/local/lib/python3.7/dist-packages (from katpoint->astrokat) (0.16.0)\n",
            "Requirement already satisfied: ephem in /usr/local/lib/python3.7/dist-packages (from katpoint->astrokat) (4.0.0.2)\n",
            "Requirement already satisfied: cycler>=0.10 in /usr/local/lib/python3.7/dist-packages (from matplotlib->astrokat) (0.10.0)\n",
            "Requirement already satisfied: pyparsing!=2.0.4,!=2.1.2,!=2.1.6,>=2.0.1 in /usr/local/lib/python3.7/dist-packages (from matplotlib->astrokat) (2.4.7)\n",
            "Requirement already satisfied: python-dateutil>=2.1 in /usr/local/lib/python3.7/dist-packages (from matplotlib->astrokat) (2.8.2)\n",
            "Requirement already satisfied: kiwisolver>=1.0.1 in /usr/local/lib/python3.7/dist-packages (from matplotlib->astrokat) (1.3.1)\n",
            "Requirement already satisfied: six in /usr/local/lib/python3.7/dist-packages (from cycler>=0.10->matplotlib->astrokat) (1.15.0)\n",
            "Building wheels for collected packages: astrokat, pyephem\n",
            "  Building wheel for astrokat (PEP 517) ... \u001b[?25l\u001b[?25hdone\n",
            "  Created wheel for astrokat: filename=astrokat-0.1.dev749+noncelestial.observations.ee686da-py3-none-any.whl size=58075 sha256=8011a911d770552cae04bfb69570cf7070d48d7c88ef98b405724e01cc2b71f5\n",
            "  Stored in directory: /tmp/pip-ephem-wheel-cache-vrl0185e/wheels/3a/b5/5b/ada51f93fa877bde58010882097420fc804822db7b9e7787bc\n",
            "  Building wheel for pyephem (setup.py) ... \u001b[?25l\u001b[?25hdone\n",
            "  Created wheel for pyephem: filename=pyephem-9.99-py3-none-any.whl size=1568 sha256=f5a12da03874fe6a0dbac9f6fa556dceb239511a75f9c93f3e8550b1fba4bac7\n",
            "  Stored in directory: /root/.cache/pip/wheels/30/12/37/6d3c470a337d412e8ac33b581cb2d67c825eaf063db830d74c\n",
            "Successfully built astrokat pyephem\n",
            "Installing collected packages: pyephem, katpoint, astrokat\n",
            "Successfully installed astrokat-0.1.dev749+noncelestial.observations.ee686da katpoint-0.10 pyephem-9.99\n"
          ],
          "name": "stdout"
        }
      ]
    },
    {
      "cell_type": "code",
      "metadata": {
        "colab": {
          "base_uri": "https://localhost:8080/"
        },
        "id": "4KmD4lOeLo6A",
        "outputId": "0e4a37b2-f6af-48ad-bb3c-02f90a1da8c0"
      },
      "source": [
        "!git clone --single-branch --branch noncelestial_observations https://github.com/rubyvanrooyen/astrokat.git"
      ],
      "execution_count": 8,
      "outputs": [
        {
          "output_type": "stream",
          "text": [
            "Cloning into 'astrokat'...\n",
            "remote: Enumerating objects: 3385, done.\u001b[K\n",
            "remote: Counting objects: 100% (1196/1196), done.\u001b[K\n",
            "remote: Compressing objects: 100% (576/576), done.\u001b[K\n",
            "remote: Total 3385 (delta 822), reused 947 (delta 618), pack-reused 2189\u001b[K\n",
            "Receiving objects: 100% (3385/3385), 6.15 MiB | 9.72 MiB/s, done.\n",
            "Resolving deltas: 100% (2335/2335), done.\n"
          ],
          "name": "stdout"
        }
      ]
    },
    {
      "cell_type": "code",
      "metadata": {
        "id": "X7mmoQpKDt7z",
        "colab": {
          "base_uri": "https://localhost:8080/"
        },
        "outputId": "f397ce01-3ca8-487b-bb49-ddd0d52f416a"
      },
      "source": [
        "!ln -s /content/astrokat/scripts/astrokat-targets.py obsfileview.py"
      ],
      "execution_count": 29,
      "outputs": [
        {
          "output_type": "stream",
          "text": [
            "ln: failed to create symbolic link 'obsfileview.py': File exists\n"
          ],
          "name": "stdout"
        }
      ]
    },
    {
      "cell_type": "markdown",
      "metadata": {
        "id": "7NcybgwEvJR0"
      },
      "source": [
        "# Observation file"
      ]
    },
    {
      "cell_type": "code",
      "metadata": {
        "id": "DOXpggxv-rLS"
      },
      "source": [
        "import astrokat"
      ],
      "execution_count": 3,
      "outputs": []
    },
    {
      "cell_type": "code",
      "metadata": {
        "colab": {
          "base_uri": "https://localhost:8080/"
        },
        "id": "4ahuOdurqXfC",
        "outputId": "c41abebd-91a3-4842-dc49-5f6324a9b030"
      },
      "source": [
        "!astrokat-targets.py --body Jupiter --cat-path astrokat/catalogues/ --cal-tags gain bp flux pol --text-only --lst --horizon 15. --datetime '2021-08-27 00:00'"
      ],
      "execution_count": 18,
      "outputs": [
        {
          "output_type": "stream",
          "text": [
            "\n",
            "Observation Table for 2021/8/27 00:00:00 (UTC)\n",
            "Times listed in LST for target rise and set times\n",
            "Target visible when above 14.999999999999998 degrees\n",
            "Sources         Class                           RA              Decl            Rise Time       Set Time        Separation      Notes           \n",
            "\u001b[0mJupiter         special                         21:53:38.98     -14:03:50.4     16:33:04.23     3:17:26.67      172.27          Separation from Sun\n",
            "\u001b[0m\u001b[93mJ0137+3309      radec polcal                    1:37:41.30      33:09:35.1      22:53:12.36     4:24:38.77      71.02 ***       Separation from Jupiter\n",
            "\u001b[0m\u001b[93mJ1939-6342      radec bpcal fluxcal             19:39:25.03     -63:42:45.6     11:35:42.04     3:47:08.84      55.01 ***                       \n",
            "\u001b[0m\u001b[0mJ2158-1501      radec gaincal                   21:58:06.28     -15:01:09.3     16:34:33.69     3:24:00.69      1.33                            \n",
            "\u001b[0m\u001b[0mJ2206-1835      radec bpcal                     22:06:10.42     -18:35:38.7     16:34:39.58     3:40:04.54      5.38                            \n",
            "\u001b[0m\n"
          ],
          "name": "stdout"
        }
      ]
    },
    {
      "cell_type": "code",
      "metadata": {
        "colab": {
          "base_uri": "https://localhost:8080/"
        },
        "id": "FSBBOXDoxAWk",
        "outputId": "dd5ce531-9018-4ef2-ab7d-9f795e4a094d"
      },
      "source": [
        "!astrokat-targets.py --body Jupiter --cat-path astrokat/catalogues/ --cal-tags gain bp flux pol --text-only --lst --horizon 15. --datetime '2021-09-12 00:00'"
      ],
      "execution_count": 23,
      "outputs": [
        {
          "output_type": "stream",
          "text": [
            "\n",
            "Observation Table for 2021/9/12 00:00:00 (UTC)\n",
            "Times listed in LST for target rise and set times\n",
            "Target visible when above 14.999999999999998 degrees\n",
            "Sources         Class                           RA              Decl            Rise Time       Set Time        Separation      Notes           \n",
            "\u001b[0mJupiter         special                         21:46:25.36     -14:41:24.5     16:24:16.76     3:11:37.92      154.92          Separation from Sun\n",
            "\u001b[0m\u001b[93mJ0137+3309      radec polcal                    1:37:41.30      33:09:35.1      22:53:13.14     4:24:38.76      72.78 ***       Separation from Jupiter\n",
            "\u001b[0m\u001b[93mJ1939-6342      radec bpcal fluxcal             19:39:25.03     -63:42:45.6     11:35:41.22     3:47:08.76      53.86 ***                       \n",
            "\u001b[0m\u001b[0mJ2158-1501      radec gaincal                   21:58:06.28     -15:01:09.3     16:34:33.69     3:24:00.72      2.65                            \n",
            "\u001b[0m\u001b[0mJ2206-1835      radec bpcal                     22:06:10.42     -18:35:38.7     16:34:39.58     3:40:04.59      6.03                            \n",
            "\u001b[0m\n"
          ],
          "name": "stdout"
        }
      ]
    },
    {
      "cell_type": "code",
      "metadata": {
        "colab": {
          "base_uri": "https://localhost:8080/"
        },
        "id": "WoTY4MU2zCSe",
        "outputId": "50208d75-8b3d-4a85-b9d0-d6869a297e9e"
      },
      "source": [
        "!astrokat-targets.py --body Jupiter --cat-path astrokat/catalogues/ --cal-tags gain bp flux pol --text-only --lst --horizon 15. --datetime '2021-09-29 00:00'"
      ],
      "execution_count": 24,
      "outputs": [
        {
          "output_type": "stream",
          "text": [
            "\n",
            "Observation Table for 2021/9/29 00:00:00 (UTC)\n",
            "Times listed in LST for target rise and set times\n",
            "Target visible when above 14.999999999999998 degrees\n",
            "Sources         Class                           RA              Decl            Rise Time       Set Time        Separation      Notes           \n",
            "\u001b[0mJupiter         special                         21:41:04.29     -15:07:18.7     16:17:39.46     3:07:15.20      136.86          Separation from Sun\n",
            "\u001b[0m\u001b[93mJ0137+3309      radec polcal                    1:37:41.30      33:09:35.1      22:53:13.87     4:24:38.67      74.13 ***       Separation from Jupiter\n",
            "\u001b[0m\u001b[93mJ1939-6342      radec bpcal fluxcal             19:39:25.03     -63:42:45.6     11:35:40.37     3:47:08.41      53.02 ***                       \n",
            "\u001b[0m\u001b[0mJ2131-1207      radec gaincal                   21:31:35.26     -12:07:04.8     16:14:32.54     2:50:59.02      3.83                            \n",
            "\u001b[0m\u001b[0mJ2206-1835      radec bpcal                     22:06:10.42     -18:35:38.7     16:34:39.47     3:40:04.55      6.86                            \n",
            "\u001b[0m\n"
          ],
          "name": "stdout"
        }
      ]
    },
    {
      "cell_type": "code",
      "metadata": {
        "colab": {
          "base_uri": "https://localhost:8080/"
        },
        "id": "8JJgWLaZzCDr",
        "outputId": "af341143-2841-423f-fcc2-729884a321ee"
      },
      "source": [
        "!astrokat-targets.py --body Jupiter --cat-path astrokat/catalogues/ --cal-tags gain bp flux pol --text-only --lst --horizon 15. --datetime '2021-10-16 00:00'"
      ],
      "execution_count": 25,
      "outputs": [
        {
          "output_type": "stream",
          "text": [
            "\n",
            "Observation Table for 2021/10/16 00:00:00 (UTC)\n",
            "Times listed in LST for target rise and set times\n",
            "Target visible when above 14.999999999999998 degrees\n",
            "Sources         Class                           RA              Decl            Rise Time       Set Time        Separation      Notes           \n",
            "\u001b[0mJupiter         special                         21:39:06.43     -15:15:02.5     16:15:01.74     3:05:34.58      119.48          Separation from Sun\n",
            "\u001b[0m\u001b[93mJ0137+3309      radec polcal                    1:37:41.30      33:09:35.1      22:53:14.45     4:24:38.49      74.67 ***       Separation from Jupiter\n",
            "\u001b[0m\u001b[93mJ1939-6342      radec bpcal fluxcal             19:39:25.03     -63:42:45.6     11:35:39.61     3:47:07.86      52.69 ***                       \n",
            "\u001b[0m\u001b[0mJ2131-1207      radec gaincal                   21:31:35.26     -12:07:04.8     16:14:32.32     2:50:58.85      3.63                            \n",
            "\u001b[0m\u001b[0mJ2206-1835      radec bpcal                     22:06:10.42     -18:35:38.7     16:34:39.27     3:40:04.43      7.28                            \n",
            "\u001b[0m\n"
          ],
          "name": "stdout"
        }
      ]
    },
    {
      "cell_type": "markdown",
      "metadata": {
        "id": "F12sbxmP0lgL"
      },
      "source": [
        "```\n",
        "Sources         Class                           RA              Decl            Rise Time       Set Time        Separation      Notes           \n",
        "Jupiter         special                         21:53:38.98     -14:03:50.4     16:33:04.23     3:17:26.67      172.27          Separation from Sun\n",
        "Jupiter         special                         21:46:25.36     -14:41:24.5     16:24:16.76     3:11:37.92      154.92          Separation from Sun\n",
        "Jupiter         special                         21:41:04.29     -15:07:18.7     16:17:39.46     3:07:15.20      136.86          Separation from Sun\n",
        "Jupiter         special                         21:39:06.43     -15:15:02.5     16:15:01.74     3:05:34.58      119.48          Separation from Sun\n",
        "```\n",
        "rise: 16:30\n",
        "set: 03:00"
      ]
    },
    {
      "cell_type": "code",
      "metadata": {
        "id": "GNnHRNQEDt00"
      },
      "source": [
        "# inputs to fiddle\n",
        "start_time = '2021-08-27 12:00'\n",
        "start_time = '2021-09-12 10:00'\n",
        "start_time = '2021-09-29 08:00'\n",
        "start_time = '2021-10-16 06:00'\n",
        "obs_duration = str(8 * 3600.)  # seconds\n",
        "obs_file_name = 'jupiter.yaml'\n",
        "# Observation catalogue for proposal ID None\n",
        "with open(obs_file_name, 'w') as fin:\n",
        "    fin.write('# PI: Ruby van Rooyen\\n')\n",
        "    fin.write('# Contact details: ruby@sarao.ac.za\\n')\n",
        "    fin.write('#\\n')\n",
        "    fin.write('# No specifying instrument or correlator mode to allow use with any observation mode\\n')\n",
        "    fin.write('durations:\\n')\n",
        "    fin.write('  obs_duration: {}\\n'.format(obs_duration))\n",
        "#    fin.write('  start_time: {}:00\\n'.format(start_time))\n",
        "    fin.write('  start_time: {} 00:00:00\\n'.format(start_time[:10]))\n",
        "    fin.write('observation_loop:\\n')\n",
        "    fin.write('  - LST: 16:30-3:00\\n')\n",
        "    fin.write('    target_list:\\n')\n",
        "    fin.write('      - name=J0137+3309 | 3C48, radec=1:37:41.30 33:09:35.1, tags=polcal, duration=296.0, cadence=3600.0, model=(50.0 50000.0 0.524 1.738 -0.6396 0.0498)\\n')\n",
        "#     fin.write('      - name=J0408-6545 | 0408-658, radec=4:08:20.38 -65:45:09.1, tags=bpcal fluxcal, duration=296.0, cadence=3600.0, model=(145.0 18000.0 -0.979 3.366 -1.122 0.0861)\\n')\n",
        "    fin.write('      - name=J1939-6342 | 1934-638, radec=19:39:25.03 -63:42:45.6, tags=bpcal fluxcal, duration=296.0, cadence=3600.0, model=(408.0 8640.0 -30.77 26.49 -7.098 0.6053)\\n')\n",
        "#     fin.write('      - name=J2158-1501, radec=21:58:06.28 -15:01:09.3, tags=gaincal, duration=128.0\\n')\n",
        "    fin.write('      - name=J2206-1835 | 2203-188, radec=22:06:10.42 -18:35:38.7, tags=gaincal bpcal, duration=128.0, model=(145.0 99000.0 2.185 -0.7118 0.1563 -0.0215)\\n')\n",
        "    fin.write('      - name=Jupiter, special=special , tags=target, duration=904.0\\n')"
      ],
      "execution_count": 66,
      "outputs": []
    },
    {
      "cell_type": "markdown",
      "metadata": {
        "id": "VYUuyZ6FvQkZ"
      },
      "source": [
        "# Observation planning"
      ]
    },
    {
      "cell_type": "code",
      "metadata": {
        "colab": {
          "base_uri": "https://localhost:8080/"
        },
        "id": "HrqJqOKyHTCS",
        "outputId": "80e4557b-24f7-4a80-8309-ccb28488ea8d"
      },
      "source": [
        "!echo astrokat-targets.py --view {obs_file_name} --datetime '\"{start_time}\"' --text-only\n",
        "!astrokat-targets.py --view {obs_file_name} --datetime '{start_time}' --text-only"
      ],
      "execution_count": 67,
      "outputs": [
        {
          "output_type": "stream",
          "text": [
            "astrokat-targets.py --view jupiter.yaml --datetime \"2021-10-16 06:00\" --text-only\n",
            "\n",
            "Observation Table for 2021/10/16 06:00:00 (UTC)\n",
            "Times listed in UTC for target rise and set times\n",
            "Target visible when above 20.0 degrees\n",
            "Sources         Class                           RA              Decl            Rise Time       Set Time        Separation      Notes           \n",
            "\u001b[0mJupiter         special target                  21:39:07.18     -15:15:07.2     13:31:34        23:33:33        119.23          Separation from Sun\n",
            "\u001b[0m\u001b[93mJ0137+3309      radec polcal                    1:37:41.30      33:09:35.1      20:30:39        00:30:25        74.67 ***       Separation from Jupiter\n",
            "\u001b[0m\u001b[93mJ1939-6342      radec bpcal fluxcal             19:39:25.03     -63:42:45.6     09:24:30        23:43:26        52.69 ***                       \n",
            "\u001b[0m\u001b[0mJ2206-1835      radec gaincal bpcal             22:06:10.42     -18:35:38.7     13:51:25        00:07:40        7.28                            \n",
            "\u001b[0m\n"
          ],
          "name": "stdout"
        }
      ]
    },
    {
      "cell_type": "code",
      "metadata": {
        "id": "rxuQoLXgDt-n"
      },
      "source": [
        "import obsfileview"
      ],
      "execution_count": 68,
      "outputs": []
    },
    {
      "cell_type": "code",
      "metadata": {
        "id": "1ofTWN0ZN_8o"
      },
      "source": [
        "# Observation catalogue for proposal ID None\n",
        "with open(obs_file_name, 'a') as fin:\n",
        "   fin.write('      - name=Callisto, special=special , tags=target, duration=904.0\\n')"
      ],
      "execution_count": 69,
      "outputs": []
    },
    {
      "cell_type": "code",
      "metadata": {
        "colab": {
          "base_uri": "https://localhost:8080/",
          "height": 684
        },
        "id": "jEV32JLsKzXY",
        "outputId": "4241f4cf-7eec-42d4-81e8-ba8af1f46c3a"
      },
      "source": [
        "obsfileview.main(creation_time = start_time,\n",
        "                 viewfile=obs_file_name)"
      ],
      "execution_count": 70,
      "outputs": [
        {
          "output_type": "stream",
          "text": [
            "\n",
            "Observation Table for 2021/10/16 06:00:00 (UTC)\n",
            "Times listed in UTC for target rise and set times\n",
            "Target visible when above 20.0 degrees\n",
            "Sources         Class                           RA              Decl            Rise Time       Set Time        Separation      Notes           \n",
            "\u001b[0mJupiter         special target                  21:39:07.18     -15:15:07.2     13:31:34        23:33:33        119.23          Separation from Sun\n",
            "\u001b[0m\u001b[0mCallisto        special target                  21:39:43.29     -15:11:50.9     0:00:01.00      23:59:59.00                                     \n",
            "\u001b[0m\u001b[0mJ0137+3309      radec polcal                    1:37:41.30      33:09:35.1      20:30:39        00:30:25                                        \n",
            "\u001b[0m\u001b[0mJ1939-6342      radec bpcal fluxcal             19:39:25.03     -63:42:45.6     09:24:30        23:43:26                                        \n",
            "\u001b[0m\u001b[0mJ2206-1835      radec gaincal bpcal             22:06:10.42     -18:35:38.7     13:51:25        00:07:40                                        \n",
            "\u001b[0m\n"
          ],
          "name": "stdout"
        },
        {
          "output_type": "display_data",
          "data": {
            "image/png": "[encoded data removed]",
            "text/plain": [
              "<Figure size 1080x504 with 2 Axes>"
            ]
          },
          "metadata": {
            "tags": []
          }
        }
      ]
    },
    {
      "cell_type": "code",
      "metadata": {
        "colab": {
          "base_uri": "https://localhost:8080/"
        },
        "id": "Fff2B3050qW8",
        "outputId": "e865a753-c32e-4515-db5a-74153d871baf"
      },
      "source": [
        "!astrokat-observe.py --yaml {obs_file_name}"
      ],
      "execution_count": 71,
      "outputs": [
        {
          "output_type": "stream",
          "text": [
            "2021-08-18 15:45:38Z - Setting up telescope for observation\n",
            "2021-08-18 15:45:38Z - Observation start up\n",
            "2021-08-18 15:45:38Z - Running astrokat version - 0.1.dev749+noncelestial.observations.ee686da\n",
            "2021-08-18 15:45:38Z - Report: noise-diode off at 1629301543.8226082\n",
            "2021-08-18 15:45:38Z - Found 5 target(s): 0 from 0 catalogue(s), 0 from default catalogue and 5 as target string(s)\n",
            "2021-10-16 00:00:00Z - Local LST outside LST range 16:30:00.00-3:00:00.00\n",
            "2021-10-16 00:00:00Z - Observation loop statistics\n",
            "2021-10-16 00:00:00Z - Desired observation time 28800.00 sec (480.00 min)\n",
            "2021-10-16 00:00:00Z - Total observation time 0.00 sec (0.00 min)\n",
            "2021-10-16 00:00:00Z - Targets observed :\n",
            "2021-10-16 00:00:00Z - Callisto observed for 0.0 sec\n",
            "2021-10-16 00:00:00Z - J0137+3309 observed for 0.0 sec\n",
            "2021-10-16 00:00:00Z - J1939-6342 observed for 0.0 sec\n",
            "2021-10-16 00:00:00Z - J2206-1835 observed for 0.0 sec\n",
            "2021-10-16 00:00:00Z - Jupiter observed for 0.0 sec\n",
            "2021-10-16 00:00:00Z - Observation clean up\n",
            "2021-10-16 00:00:00Z - Returning telescope to startup state\n",
            "2021-10-16 00:00:00Z - Report: noise-diode off at 1634342405.0\n"
          ],
          "name": "stdout"
        }
      ]
    },
    {
      "cell_type": "code",
      "metadata": {
        "id": "JUDNr6VQz01p"
      },
      "source": [
        ""
      ],
      "execution_count": 71,
      "outputs": []
    }
  ]
}