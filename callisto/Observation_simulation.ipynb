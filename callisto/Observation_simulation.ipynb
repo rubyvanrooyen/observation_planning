{
  "nbformat": 4,
  "nbformat_minor": 0,
  "metadata": {
    "colab": {
      "name": "Observation simulation.ipynb",
      "provenance": [],
      "collapsed_sections": [],
      "include_colab_link": true
    },
    "kernelspec": {
      "name": "python3",
      "display_name": "Python 3"
    },
    "language_info": {
      "name": "python"
    }
  },
  "cells": [
    {
      "cell_type": "markdown",
      "metadata": {
        "id": "view-in-github",
        "colab_type": "text"
      },
      "source": [
        "<a href=\"https://colab.research.google.com/github/rubyvanrooyen/observation_planning/blob/main/callisto/Observation_simulation.ipynb\" target=\"_parent\"><img src=\"https://colab.research.google.com/assets/colab-badge.svg\" alt=\"Open In Colab\"/></a>"
      ]
    },
    {
      "cell_type": "markdown",
      "metadata": {
        "id": "9cAl08QbvE1e"
      },
      "source": [
        "# Installation"
      ]
    },
    {
      "cell_type": "markdown",
      "metadata": {
        "id": "C-pXlwAf8eYf"
      },
      "source": [
        "Installing a feature branch for testing    \n",
        "`pip install \"git+ssh://git@github.com/user/your_repo.git@your_branch_name#egg=package_name\"`\n",
        "\n",
        "E.g.   \n",
        "`pip install --upgrade \"git+https://git@github.com/rubyvanrooyen/astrokat.git@noncelestial_observations#egg=astrokat\"`"
      ]
    },
    {
      "cell_type": "code",
      "metadata": {
        "colab": {
          "base_uri": "https://localhost:8080/"
        },
        "id": "9Pc1hNH2IUlN",
        "outputId": "e286e2da-6f8d-43c7-bbd4-597d3e38867c"
      },
      "source": [
        "!pip install git+https://github.com/ska-sa/astrokat.git"
      ],
      "execution_count": 9,
      "outputs": [
        {
          "output_type": "stream",
          "name": "stdout",
          "text": [
            "Collecting git+https://github.com/ska-sa/astrokat.git\n",
            "  Cloning https://github.com/ska-sa/astrokat.git to /tmp/pip-req-build-61m0b69l\n",
            "  Running command git clone -q https://github.com/ska-sa/astrokat.git /tmp/pip-req-build-61m0b69l\n",
            "  Installing build dependencies ... \u001b[?25l\u001b[?25hdone\n",
            "  Getting requirements to build wheel ... \u001b[?25l\u001b[?25hdone\n",
            "  Installing backend dependencies ... \u001b[?25l\u001b[?25hdone\n",
            "    Preparing wheel metadata ... \u001b[?25l\u001b[?25hdone\n",
            "Requirement already satisfied: matplotlib in /usr/local/lib/python3.7/dist-packages (from astrokat==0.1.dev856+master.7dd7c9e) (3.2.2)\n",
            "Requirement already satisfied: pyyaml in /usr/local/lib/python3.7/dist-packages (from astrokat==0.1.dev856+master.7dd7c9e) (3.13)\n",
            "Requirement already satisfied: pyephem in /usr/local/lib/python3.7/dist-packages (from astrokat==0.1.dev856+master.7dd7c9e) (9.99)\n",
            "Requirement already satisfied: astropy in /usr/local/lib/python3.7/dist-packages (from astrokat==0.1.dev856+master.7dd7c9e) (4.3.1)\n",
            "Requirement already satisfied: numpy in /usr/local/lib/python3.7/dist-packages (from astrokat==0.1.dev856+master.7dd7c9e) (1.19.5)\n",
            "Requirement already satisfied: katpoint<1.0 in /usr/local/lib/python3.7/dist-packages (from astrokat==0.1.dev856+master.7dd7c9e) (0.10)\n",
            "Requirement already satisfied: ephem in /usr/local/lib/python3.7/dist-packages (from katpoint<1.0->astrokat==0.1.dev856+master.7dd7c9e) (4.0.0.2)\n",
            "Requirement already satisfied: future in /usr/local/lib/python3.7/dist-packages (from katpoint<1.0->astrokat==0.1.dev856+master.7dd7c9e) (0.16.0)\n",
            "Requirement already satisfied: importlib-metadata in /usr/local/lib/python3.7/dist-packages (from astropy->astrokat==0.1.dev856+master.7dd7c9e) (4.8.1)\n",
            "Requirement already satisfied: pyerfa>=1.7.3 in /usr/local/lib/python3.7/dist-packages (from astropy->astrokat==0.1.dev856+master.7dd7c9e) (2.0.0)\n",
            "Requirement already satisfied: zipp>=0.5 in /usr/local/lib/python3.7/dist-packages (from importlib-metadata->astropy->astrokat==0.1.dev856+master.7dd7c9e) (3.5.0)\n",
            "Requirement already satisfied: typing-extensions>=3.6.4 in /usr/local/lib/python3.7/dist-packages (from importlib-metadata->astropy->astrokat==0.1.dev856+master.7dd7c9e) (3.7.4.3)\n",
            "Requirement already satisfied: cycler>=0.10 in /usr/local/lib/python3.7/dist-packages (from matplotlib->astrokat==0.1.dev856+master.7dd7c9e) (0.10.0)\n",
            "Requirement already satisfied: kiwisolver>=1.0.1 in /usr/local/lib/python3.7/dist-packages (from matplotlib->astrokat==0.1.dev856+master.7dd7c9e) (1.3.2)\n",
            "Requirement already satisfied: pyparsing!=2.0.4,!=2.1.2,!=2.1.6,>=2.0.1 in /usr/local/lib/python3.7/dist-packages (from matplotlib->astrokat==0.1.dev856+master.7dd7c9e) (2.4.7)\n",
            "Requirement already satisfied: python-dateutil>=2.1 in /usr/local/lib/python3.7/dist-packages (from matplotlib->astrokat==0.1.dev856+master.7dd7c9e) (2.8.2)\n",
            "Requirement already satisfied: six in /usr/local/lib/python3.7/dist-packages (from cycler>=0.10->matplotlib->astrokat==0.1.dev856+master.7dd7c9e) (1.15.0)\n"
          ]
        }
      ]
    },
    {
      "cell_type": "markdown",
      "metadata": {
        "id": "_7_VdsGBW2G1"
      },
      "source": [
        "If installing a feature branch, the git repo clone will address that branch installed   \n",
        "E.g.   \n",
        "`!git clone --single-branch --branch noncelestial_observations https://github.com/rubyvanrooyen/astrokat.git`"
      ]
    },
    {
      "cell_type": "code",
      "metadata": {
        "colab": {
          "base_uri": "https://localhost:8080/"
        },
        "id": "w3BgBj55IyPh",
        "outputId": "ac4a15b4-723a-4f7e-d78a-87e4c63c7996"
      },
      "source": [
        "!git clone https://github.com/rubyvanrooyen/astrokat.git"
      ],
      "execution_count": 12,
      "outputs": [
        {
          "output_type": "stream",
          "name": "stdout",
          "text": [
            "fatal: destination path 'astrokat' already exists and is not an empty directory.\n"
          ]
        }
      ]
    },
    {
      "cell_type": "code",
      "metadata": {
        "id": "X7mmoQpKDt7z",
        "colab": {
          "base_uri": "https://localhost:8080/"
        },
        "outputId": "aca3a3ae-8c18-4f56-de92-ca8f835a1861"
      },
      "source": [
        "!ln -s /content/astrokat/scripts/astrokat-targets.py obsfileview.py"
      ],
      "execution_count": 14,
      "outputs": [
        {
          "output_type": "stream",
          "name": "stdout",
          "text": [
            "ln: failed to create symbolic link 'obsfileview.py': File exists\n"
          ]
        }
      ]
    },
    {
      "cell_type": "markdown",
      "metadata": {
        "id": "7NcybgwEvJR0"
      },
      "source": [
        "# Observation file"
      ]
    },
    {
      "cell_type": "code",
      "metadata": {
        "id": "DOXpggxv-rLS"
      },
      "source": [
        "import astrokat"
      ],
      "execution_count": 15,
      "outputs": []
    },
    {
      "cell_type": "code",
      "metadata": {
        "colab": {
          "base_uri": "https://localhost:8080/"
        },
        "id": "IrZljPklf0jH",
        "outputId": "88501282-3167-4633-bce6-7ec49566d201"
      },
      "source": [
        "!astrokat-targets.py --body Jupiter --cat-path astrokat/catalogues/ --cal-tags gain bp flux pol --text-only --lst --horizon 15. --datetime '2021-09-30 00:00'"
      ],
      "execution_count": 29,
      "outputs": [
        {
          "output_type": "stream",
          "name": "stdout",
          "text": [
            "\n",
            "Observation Table for 2021/9/30 00:00:00 (UTC)\n",
            "Times listed in LST for target rise and set times\n",
            "Target visible when above 14.999999999999998 degrees\n",
            "Sources         Class                           RA              Decl            Rise Time       Set Time        Separation      Notes           \n",
            "\u001b[0mJupiter         special                         21:40:51.31     -15:08:17.5     16:17:23.05     3:07:04.44      135.82          Separation from Sun\n",
            "\u001b[0m\u001b[93mJ0137+3309      radec polcal                    1:37:41.30      33:09:35.1      22:53:13.91     4:24:38.66      74.18 ***       Separation from Jupiter\n",
            "\u001b[0m\u001b[93mJ1939-6342      radec bpcal fluxcal             19:39:25.03     -63:42:45.6     11:35:40.33     3:47:08.39      52.98 ***                       \n",
            "\u001b[0m\u001b[0mJ2131-1207      radec gaincal                   21:31:35.26     -12:07:04.8     16:14:32.53     2:50:59.02      3.81                            \n",
            "\u001b[0m\u001b[0mJ2206-1835      radec bpcal                     22:06:10.42     -18:35:38.7     16:34:39.47     3:40:04.55      6.90                            \n",
            "\u001b[0m\n"
          ]
        }
      ]
    },
    {
      "cell_type": "code",
      "metadata": {
        "colab": {
          "base_uri": "https://localhost:8080/"
        },
        "id": "4ahuOdurqXfC",
        "outputId": "a7617286-7c39-40d0-acd9-195eb717400b"
      },
      "source": [
        "!astrokat-targets.py --body Jupiter --cat-path astrokat/catalogues/ --cal-tags gain bp flux pol --text-only --lst --horizon 15. --datetime '2021-10-16 00:00'"
      ],
      "execution_count": 16,
      "outputs": [
        {
          "output_type": "stream",
          "name": "stdout",
          "text": [
            "\n",
            "Observation Table for 2021/10/16 00:00:00 (UTC)\n",
            "Times listed in LST for target rise and set times\n",
            "Target visible when above 14.999999999999998 degrees\n",
            "Sources         Class                           RA              Decl            Rise Time       Set Time        Separation      Notes           \n",
            "\u001b[0mJupiter         special                         21:39:06.43     -15:15:02.5     16:15:01.74     3:05:34.58      119.48          Separation from Sun\n",
            "\u001b[0m\u001b[93mJ0137+3309      radec polcal                    1:37:41.30      33:09:35.1      22:53:14.45     4:24:38.49      74.67 ***       Separation from Jupiter\n",
            "\u001b[0m\u001b[93mJ1939-6342      radec bpcal fluxcal             19:39:25.03     -63:42:45.6     11:35:39.61     3:47:07.86      52.69 ***                       \n",
            "\u001b[0m\u001b[0mJ2131-1207      radec gaincal                   21:31:35.26     -12:07:04.8     16:14:32.32     2:50:58.85      3.63                            \n",
            "\u001b[0m\u001b[0mJ2206-1835      radec bpcal                     22:06:10.42     -18:35:38.7     16:34:39.27     3:40:04.43      7.28                            \n",
            "\u001b[0m\n"
          ]
        }
      ]
    },
    {
      "cell_type": "code",
      "metadata": {
        "colab": {
          "base_uri": "https://localhost:8080/"
        },
        "id": "FSBBOXDoxAWk",
        "outputId": "0c263d78-ecfb-481c-84f9-1fea4a823d0a"
      },
      "source": [
        "!astrokat-targets.py --body Jupiter --cat-path astrokat/catalogues/ --cal-tags gain bp flux pol --text-only --lst --horizon 15. --datetime '2021-11-02 00:00'"
      ],
      "execution_count": 17,
      "outputs": [
        {
          "output_type": "stream",
          "name": "stdout",
          "text": [
            "\n",
            "Observation Table for 2021/11/2 00:00:00 (UTC)\n",
            "Times listed in LST for target rise and set times\n",
            "Target visible when above 14.999999999999998 degrees\n",
            "Sources         Class                           RA              Decl            Rise Time       Set Time        Separation      Notes           \n",
            "\u001b[0mJupiter         special                         21:40:52.83     -15:03:42.6     16:16:50.63     3:06:55.15      102.91          Separation from Sun\n",
            "\u001b[0m\u001b[93mJ0137+3309      radec polcal                    1:37:41.30      33:09:35.1      22:53:14.80     4:24:38.28      74.33 ***       Separation from Jupiter\n",
            "\u001b[0m\u001b[93mJ1939-6342      radec bpcal fluxcal             19:39:25.03     -63:42:45.6     11:35:38.97     3:47:07.10      52.93 ***                       \n",
            "\u001b[0m\u001b[0mJ2131-1207      radec gaincal                   21:31:35.26     -12:07:04.8     16:14:32.02     2:50:58.64      3.68                            \n",
            "\u001b[0m\u001b[0mJ2206-1835      radec bpcal                     22:06:10.42     -18:35:38.7     16:34:38.98     3:40:04.24      7.07                            \n",
            "\u001b[0m\n"
          ]
        }
      ]
    },
    {
      "cell_type": "code",
      "metadata": {
        "colab": {
          "base_uri": "https://localhost:8080/"
        },
        "id": "WoTY4MU2zCSe",
        "outputId": "fb25d905-d411-4f95-e72d-e759c02fb410"
      },
      "source": [
        "!astrokat-targets.py --body Jupiter --cat-path astrokat/catalogues/ --cal-tags gain bp flux pol --text-only --lst --horizon 15. --datetime '2021-11-18 00:00'"
      ],
      "execution_count": 18,
      "outputs": [
        {
          "output_type": "stream",
          "name": "stdout",
          "text": [
            "\n",
            "Observation Table for 2021/11/18 00:00:00 (UTC)\n",
            "Times listed in LST for target rise and set times\n",
            "Target visible when above 14.999999999999998 degrees\n",
            "Sources         Class                           RA              Decl            Rise Time       Set Time        Separation      Notes           \n",
            "\u001b[0mJupiter         special                         21:45:48.99     -14:36:25.4     16:22:28.22     3:10:49.48      88.02           Separation from Sun\n",
            "\u001b[0m\u001b[93mJ0137+3309      radec polcal                    1:37:41.30      33:09:35.1      22:53:15.03     4:24:38.07      73.22 ***       Separation from Jupiter\n",
            "\u001b[0m\u001b[93mJ1939-6342      radec bpcal fluxcal             19:39:25.03     -63:42:45.6     11:35:38.68     3:47:06.39      53.65 ***                       \n",
            "\u001b[0m\u001b[0mJ2158-1501      radec gaincal                   21:58:06.28     -15:01:09.3     16:34:32.84     3:24:00.16      3.17                            \n",
            "\u001b[0m\u001b[0mJ2206-1835      radec bpcal                     22:06:10.42     -18:35:38.7     16:34:38.72     3:40:04.07      6.40                            \n",
            "\u001b[0m\n"
          ]
        }
      ]
    },
    {
      "cell_type": "code",
      "metadata": {
        "colab": {
          "base_uri": "https://localhost:8080/"
        },
        "id": "8JJgWLaZzCDr",
        "outputId": "2218ecc8-a35d-46ca-b43e-59497bbfca38"
      },
      "source": [
        "!astrokat-targets.py --body Jupiter --cat-path astrokat/catalogues/ --cal-tags gain bp flux pol --text-only --lst --horizon 15. --datetime '2021-12-05 00:00'"
      ],
      "execution_count": 19,
      "outputs": [
        {
          "output_type": "stream",
          "name": "stdout",
          "text": [
            "\n",
            "Observation Table for 2021/12/5 00:00:00 (UTC)\n",
            "Times listed in LST for target rise and set times\n",
            "Target visible when above 14.999999999999998 degrees\n",
            "Sources         Class                           RA              Decl            Rise Time       Set Time        Separation      Notes           \n",
            "\u001b[0mJupiter         special                         21:54:04.02     -13:51:28.5     16:32:06.38     3:17:22.76      72.88           Separation from Sun\n",
            "\u001b[0m\u001b[93mJ0137+3309      radec polcal                    1:37:41.30      33:09:35.1      22:53:15.16     4:24:37.84      71.31 ***       Separation from Jupiter\n",
            "\u001b[0m\u001b[93mJ1939-6342      radec bpcal fluxcal             19:39:25.03     -63:42:45.6     11:35:38.73     3:47:05.74      54.90 ***                       \n",
            "\u001b[0m\u001b[0mJ2158-1501      radec gaincal                   21:58:06.28     -15:01:09.3     16:34:32.63     3:24:00.02      1.63                            \n",
            "\u001b[0m\u001b[0mJ2206-1835      radec bpcal                     22:06:10.42     -18:35:38.7     16:34:38.51     3:40:03.93      5.61                            \n",
            "\u001b[0m\n"
          ]
        }
      ]
    },
    {
      "cell_type": "markdown",
      "metadata": {
        "id": "F12sbxmP0lgL"
      },
      "source": [
        "```\n",
        "Sources         Class                           RA              Decl            Rise Time       Set Time        Separation      Notes           \n",
        "Jupiter         special                         21:53:38.98     -14:03:50.4     16:33:04.23     3:17:26.67      172.27          Separation from Sun\n",
        "Jupiter         special                         21:46:25.36     -14:41:24.5     16:24:16.76     3:11:37.92      154.92          Separation from Sun\n",
        "Jupiter         special                         21:41:04.29     -15:07:18.7     16:17:39.46     3:07:15.20      136.86          Separation from Sun\n",
        "Jupiter         special                         21:39:06.43     -15:15:02.5     16:15:01.74     3:05:34.58      119.48          Separation from Sun\n",
        "```\n",
        "rise: 16:30\n",
        "set: 03:00"
      ]
    },
    {
      "cell_type": "code",
      "metadata": {
        "id": "GNnHRNQEDt00"
      },
      "source": [
        "# inputs to fiddle\n",
        "start_time = '2021-08-27 18:00'\n",
        "start_time = '2021-09-13 17:00'\n",
        "start_time = '2021-09-30 16:00'\n",
        "start_time = '2021-10-16 14:30'\n",
        "start_time = '2021-11-02 13:30'\n",
        "start_time = '2021-11-18 12:30'\n",
        "start_time = '2021-12-05 12:30'\n",
        "\n",
        "#obs_duration = str(8 * 3600.)  # seconds\n",
        "obs_file_name = 'jupiter_callisto.yaml'\n",
        "# Observation catalogue for proposal ID None\n",
        "with open(obs_file_name, 'w') as fin:\n",
        "    fin.write('# PI: Ruby van Rooyen\\n')\n",
        "    fin.write('# Contact details: ruby@sarao.ac.za\\n')\n",
        "    fin.write('#\\n')\n",
        "    fin.write('# No specifying instrument or correlator mode to allow use with any observation mode\\n')\n",
        "    fin.write('durations:\\n')\n",
        "    fin.write('  obs_duration: {}\\n'.format(obs_duration))\n",
        "    fin.write('  start_time: {}:00\\n'.format(start_time))\n",
        "#    fin.write('  start_time: {} 00:00:00\\n'.format(start_time[:10]))\n",
        "    fin.write('observation_loop:\\n')\n",
        "    fin.write('  - LST: 16:30-3:00\\n')\n",
        "    fin.write('    target_list:\\n')\n",
        "    fin.write('      - name=J0137+3309 | 3C48, radec=1:37:41.30 33:09:35.1, tags=polcal, duration=296.0, cadence=3600.0, model=(50.0 50000.0 0.524 1.738 -0.6396 0.0498)\\n')\n",
        "#     fin.write('      - name=J0408-6545 | 0408-658, radec=4:08:20.38 -65:45:09.1, tags=bpcal fluxcal, duration=296.0, cadence=3600.0, model=(145.0 18000.0 -0.979 3.366 -1.122 0.0861)\\n')\n",
        "    fin.write('      - name=J1939-6342 | 1934-638, radec=19:39:25.03 -63:42:45.6, tags=bpcal fluxcal, duration=296.0, cadence=3600.0, model=(408.0 8640.0 -30.77 26.49 -7.098 0.6053)\\n')\n",
        "#     fin.write('      - name=J2158-1501, radec=21:58:06.28 -15:01:09.3, tags=gaincal, duration=128.0\\n')\n",
        "    fin.write('      - name=J2206-1835 | 2203-188, radec=22:06:10.42 -18:35:38.7, tags=gaincal bpcal, duration=128.0, model=(145.0 99000.0 2.185 -0.7118 0.1563 -0.0215)\\n')\n",
        "    fin.write('      - name=Jupiter, special=special , tags=target, duration=904.0\\n')"
      ],
      "execution_count": 73,
      "outputs": []
    },
    {
      "cell_type": "markdown",
      "metadata": {
        "id": "VYUuyZ6FvQkZ"
      },
      "source": [
        "# Observation planning"
      ]
    },
    {
      "cell_type": "code",
      "metadata": {
        "colab": {
          "base_uri": "https://localhost:8080/"
        },
        "id": "HrqJqOKyHTCS",
        "outputId": "eb44c2b9-ddfb-47e2-a96e-9b6b581ae689"
      },
      "source": [
        "!echo astrokat-targets.py --view {obs_file_name} --datetime '\"{start_time}\"' --text-only\n",
        "!astrokat-targets.py --view {obs_file_name} --datetime '{start_time}' --text-only"
      ],
      "execution_count": 74,
      "outputs": [
        {
          "output_type": "stream",
          "name": "stdout",
          "text": [
            "astrokat-targets.py --view jupiter_callisto.yaml --datetime \"2021-12-05 12:30\" --text-only\n",
            "\n",
            "Observation Table for 2021/12/5 12:30:00 (UTC)\n",
            "Times listed in UTC for target rise and set times\n",
            "Target visible when above 20.0 degrees\n",
            "Sources         Class                           RA              Decl            Rise Time       Set Time        Separation      Notes           \n",
            "\u001b[0mJupiter         special target                  21:54:03.47     -13:51:31.5     10:28:41        20:24:51        72.43           Separation from Sun\n",
            "\u001b[0m\u001b[93mJ0137+3309      radec polcal                    1:37:41.30      33:09:35.1      17:14:05        21:13:49        71.25 ***       Separation from Jupiter\n",
            "\u001b[0m\u001b[93mJ1939-6342      radec bpcal fluxcal             19:39:25.03     -63:42:45.6     06:03:58        20:22:52        54.95 ***                       \n",
            "\u001b[0m\u001b[0mJ2206-1835      radec gaincal bpcal             22:06:10.42     -18:35:38.7     10:30:53        20:47:08        5.60                            \n",
            "\u001b[0m\n"
          ]
        }
      ]
    },
    {
      "cell_type": "code",
      "metadata": {
        "id": "rxuQoLXgDt-n"
      },
      "source": [
        "import obsfileview"
      ],
      "execution_count": 75,
      "outputs": []
    },
    {
      "cell_type": "code",
      "metadata": {
        "id": "1ofTWN0ZN_8o"
      },
      "source": [
        "# Observation catalogue for proposal ID None\n",
        "with open(obs_file_name, 'a') as fin:\n",
        "   fin.write('      - name=Callisto, special=special , tags=target, duration=904.0\\n')"
      ],
      "execution_count": 76,
      "outputs": []
    },
    {
      "cell_type": "code",
      "metadata": {
        "colab": {
          "base_uri": "https://localhost:8080/",
          "height": 684
        },
        "id": "jEV32JLsKzXY",
        "outputId": "bdda5c4d-f077-4bc6-9579-789ff11f4cf7"
      },
      "source": [
        "obsfileview.main(creation_time = start_time,\n",
        "                 viewfile=obs_file_name)"
      ],
      "execution_count": 77,
      "outputs": [
        {
          "output_type": "stream",
          "name": "stdout",
          "text": [
            "\n",
            "Observation Table for 2021/12/5 12:30:00 (UTC)\n",
            "Times listed in UTC for target rise and set times\n",
            "Target visible when above 20.0 degrees\n",
            "Sources         Class                           RA              Decl            Rise Time       Set Time        Separation      Notes           \n",
            "\u001b[0mJupiter         special target                  21:54:03.47     -13:51:31.5     10:28:41        20:24:51        72.43           Separation from Sun\n",
            "\u001b[0m\u001b[0mCallisto        special target                  21:53:48.56     -13:52:39.6     0:00:01.00      23:59:59.00                                     \n",
            "\u001b[0m\u001b[0mJ0137+3309      radec polcal                    1:37:41.30      33:09:35.1      17:14:05        21:13:49                                        \n",
            "\u001b[0m\u001b[0mJ1939-6342      radec bpcal fluxcal             19:39:25.03     -63:42:45.6     06:03:58        20:22:52                                        \n",
            "\u001b[0m\u001b[0mJ2206-1835      radec gaincal bpcal             22:06:10.42     -18:35:38.7     10:30:53        20:47:08                                        \n",
            "\u001b[0m\n"
          ]
        },
        {
          "output_type": "display_data",
          "data": {
            "image/png": "[encoded data removed]",
            "text/plain": [
              "<Figure size 1080x504 with 2 Axes>"
            ]
          },
          "metadata": {}
        }
      ]
    },
    {
      "cell_type": "code",
      "metadata": {
        "colab": {
          "base_uri": "https://localhost:8080/"
        },
        "id": "Fff2B3050qW8",
        "outputId": "bd8abc5a-c597-4fff-c81f-0972479b6958"
      },
      "source": [
        "!astrokat-observe.py --yaml {obs_file_name}"
      ],
      "execution_count": 78,
      "outputs": [
        {
          "output_type": "stream",
          "name": "stdout",
          "text": [
            "2021-10-05 13:06:01Z - Setting up telescope for observation\n",
            "2021-10-05 13:06:01Z - Observation start up\n",
            "2021-10-05 13:06:01Z - Running astrokat version - 0.1.dev856+master.7dd7c9e\n",
            "2021-10-05 13:06:01Z - Report: noise-diode off at 1633439168.575787\n",
            "2021-10-05 13:06:03Z - Found 5 target(s): 0 from 0 catalogue(s), 0 from default catalogue and 5 as target string(s)\n",
            "2021-12-05 12:30:00Z - POL calibrators are ['J0137+3309']\n",
            "2021-12-05 12:30:00Z - GAIN calibrators are ['J2206-1835']\n",
            "2021-12-05 12:30:00Z - BP calibrators are ['J1939-6342', 'J2206-1835']\n",
            "2021-12-05 12:30:00Z - FLUX calibrators are ['J1939-6342']\n",
            "2021-12-05 12:30:00Z - Observation targets are ['Jupiter', 'Callisto']\n",
            "2021-12-05 12:30:00Z - Waiting for observation setup\n",
            "2021-12-05 12:30:03Z - INIT\n",
            "2021-12-05 12:30:03Z - Slewing to first target\n",
            "2021-12-05 12:30:48Z - Slewed to J0137+3309 at azel (64.7, -24.9) deg\n",
            "2021-12-05 12:30:48Z - Tracked J0137+3309 for 0 seconds\n",
            "2021-12-05 12:30:48Z - Target J0137+3309 below 20.0 deg horizon, continuing\n",
            "2021-12-05 12:30:48Z - Initialising Track bpcal, fluxcal J1939-6342 for 296.0 sec\n",
            "2021-12-05 12:32:21Z - Slewed to J1939-6342 at azel (170.7, 56.2) deg\n",
            "2021-12-05 12:37:17Z - Tracked J1939-6342 for 296 seconds\n",
            "2021-12-05 12:37:17Z - Initialising Track gaincal, bpcal J2206-1835 for 128.0 sec\n",
            "2021-12-05 12:38:11Z - Slewed to J2206-1835 at azel (85.0, 46.3) deg\n",
            "2021-12-05 12:40:19Z - Tracked J2206-1835 for 128 seconds\n",
            "2021-12-05 12:40:19Z - Initialising Track target Jupiter for 904.0 sec\n",
            "2021-12-05 12:40:33Z - Slewed to Jupiter at azel (76.3, 47.5) deg\n",
            "2021-12-05 12:55:37Z - Tracked Jupiter for 904 seconds\n",
            "2021-12-05 12:55:37Z - Initialising Track target Callisto for 904.0 sec\n",
            "2021-12-05 12:55:41Z - Slewed to Callisto at azel (73.4, 50.5) deg\n",
            "2021-12-05 13:10:45Z - Tracked Callisto for 904 seconds\n",
            "2021-12-05 13:10:45Z - Target J0137+3309 below 20.0 deg horizon, continuing\n",
            "2021-12-05 13:10:45Z - Initialising Track gaincal, bpcal J2206-1835 for 128.0 sec\n",
            "2021-12-05 13:11:00Z - Slewed to J2206-1835 at azel (79.5, 53.4) deg\n",
            "2021-12-05 13:13:08Z - Tracked J2206-1835 for 128 seconds\n",
            "2021-12-05 13:13:08Z - Initialising Track target Jupiter for 904.0 sec\n",
            "2021-12-05 13:13:23Z - Slewed to Jupiter at azel (69.6, 54.2) deg\n",
            "2021-12-05 13:28:27Z - Tracked Jupiter for 904 seconds\n",
            "2021-12-05 13:28:27Z - Initialising Track target Callisto for 904.0 sec\n",
            "2021-12-05 13:28:31Z - Slewed to Callisto at azel (65.8, 57.2) deg\n",
            "2021-12-05 13:43:35Z - Tracked Callisto for 904 seconds\n",
            "2021-12-05 13:43:35Z - Target J0137+3309 below 20.0 deg horizon, continuing\n",
            "2021-12-05 13:43:35Z - Initialising Track bpcal, fluxcal J1939-6342 for 296.0 sec\n",
            "2021-12-05 13:44:47Z - Slewed to J1939-6342 at azel (185.3, 56.8) deg\n",
            "2021-12-05 13:49:43Z - Tracked J1939-6342 for 296 seconds\n",
            "2021-12-05 13:49:43Z - Initialising Track gaincal, bpcal J2206-1835 for 128.0 sec\n",
            "2021-12-05 13:50:51Z - Slewed to J2206-1835 at azel (71.2, 61.6) deg\n",
            "2021-12-05 13:52:59Z - Tracked J2206-1835 for 128 seconds\n",
            "2021-12-05 13:52:59Z - Initialising Track target Jupiter for 904.0 sec\n",
            "2021-12-05 13:53:16Z - Slewed to Jupiter at azel (58.4, 62.0) deg\n",
            "2021-12-05 14:08:20Z - Tracked Jupiter for 904 seconds\n",
            "2021-12-05 14:08:20Z - Initialising Track target Callisto for 904.0 sec\n",
            "2021-12-05 14:08:23Z - Slewed to Callisto at azel (52.8, 64.6) deg\n",
            "2021-12-05 14:23:27Z - Tracked Callisto for 904 seconds\n",
            "2021-12-05 14:23:27Z - Target J0137+3309 below 20.0 deg horizon, continuing\n",
            "2021-12-05 14:23:27Z - Initialising Track gaincal, bpcal J2206-1835 for 128.0 sec\n",
            "2021-12-05 14:23:45Z - Slewed to J2206-1835 at azel (60.5, 68.2) deg\n",
            "2021-12-05 14:25:53Z - Tracked J2206-1835 for 128 seconds\n",
            "2021-12-05 14:25:53Z - Initialising Track target Jupiter for 904.0 sec\n",
            "2021-12-05 14:26:11Z - Slewed to Jupiter at azel (44.8, 67.5) deg\n",
            "2021-12-05 14:41:15Z - Tracked Jupiter for 904 seconds\n",
            "2021-12-05 14:41:15Z - Initialising Track target Callisto for 904.0 sec\n",
            "2021-12-05 14:41:18Z - Slewed to Callisto at azel (36.7, 69.6) deg\n",
            "2021-12-05 14:56:22Z - Tracked Callisto for 904 seconds\n",
            "2021-12-05 14:56:22Z - Target J0137+3309 below 20.0 deg horizon, continuing\n",
            "2021-12-05 14:56:22Z - Initialising Track bpcal, fluxcal J1939-6342 for 296.0 sec\n",
            "2021-12-05 14:57:58Z - Slewed to J1939-6342 at azel (198.2, 53.5) deg\n",
            "2021-12-05 15:02:54Z - Tracked J1939-6342 for 296 seconds\n",
            "2021-12-05 15:02:54Z - Initialising Track gaincal, bpcal J2206-1835 for 128.0 sec\n",
            "2021-12-05 15:04:25Z - Slewed to J2206-1835 at azel (39.0, 74.8) deg\n",
            "2021-12-05 15:06:33Z - Tracked J2206-1835 for 128 seconds\n",
            "2021-12-05 15:06:33Z - Initialising Track target Jupiter for 904.0 sec\n",
            "2021-12-05 15:06:52Z - Slewed to Jupiter at azel (19.2, 72.3) deg\n",
            "2021-12-05 15:21:56Z - Tracked Jupiter for 904 seconds\n",
            "2021-12-05 15:21:56Z - Initialising Track target Callisto for 904.0 sec\n",
            "2021-12-05 15:22:00Z - Slewed to Callisto at azel (7.3, 72.9) deg\n",
            "2021-12-05 15:37:04Z - Tracked Callisto for 904 seconds\n",
            "2021-12-05 15:37:04Z - Target J0137+3309 below 20.0 deg horizon, continuing\n",
            "2021-12-05 15:37:04Z - Initialising Track gaincal, bpcal J2206-1835 for 128.0 sec\n",
            "2021-12-05 15:37:20Z - Slewed to J2206-1835 at azel (6.6, 77.7) deg\n",
            "2021-12-05 15:39:28Z - Tracked J2206-1835 for 128 seconds\n",
            "2021-12-05 15:39:28Z - Initialising Track target Jupiter for 904.0 sec\n",
            "2021-12-05 15:39:44Z - Slewed to Jupiter at azel (352.2, 73.0) deg\n",
            "2021-12-05 15:54:48Z - Tracked Jupiter for 904 seconds\n",
            "2021-12-05 15:54:48Z - Initialising Track target Callisto for 904.0 sec\n",
            "2021-12-05 15:54:53Z - Slewed to Callisto at azel (340.5, 72.2) deg\n",
            "2021-12-05 16:09:57Z - Tracked Callisto for 904 seconds\n",
            "2021-12-05 16:09:57Z - Target J0137+3309 below 20.0 deg horizon, continuing\n",
            "2021-12-05 16:09:57Z - Initialising Track bpcal, fluxcal J1939-6342 for 296.0 sec\n",
            "2021-12-05 16:11:09Z - Slewed to J1939-6342 at azel (206.7, 47.3) deg\n",
            "2021-12-05 16:16:05Z - Tracked J1939-6342 for 296 seconds\n",
            "2021-12-05 16:16:05Z - Initialising Track gaincal, bpcal J2206-1835 for 128.0 sec\n",
            "2021-12-05 16:17:15Z - Slewed to J2206-1835 at azel (326.4, 75.6) deg\n",
            "2021-12-05 16:19:23Z - Tracked J2206-1835 for 128 seconds\n",
            "2021-12-05 16:19:23Z - Initialising Track target Jupiter for 904.0 sec\n",
            "2021-12-05 16:19:33Z - Slewed to Jupiter at azel (323.4, 69.6) deg\n",
            "2021-12-05 16:34:37Z - Tracked Jupiter for 904 seconds\n",
            "2021-12-05 16:34:37Z - Initialising Track target Callisto for 904.0 sec\n",
            "2021-12-05 16:34:40Z - Slewed to Callisto at azel (315.4, 67.5) deg\n",
            "2021-12-05 16:49:44Z - Tracked Callisto for 904 seconds\n",
            "2021-12-05 16:49:44Z - Target J0137+3309 below 20.0 deg horizon, continuing\n",
            "2021-12-05 16:49:44Z - Initialising Track gaincal, bpcal J2206-1835 for 128.0 sec\n",
            "2021-12-05 16:49:54Z - Slewed to J2206-1835 at azel (305.0, 70.5) deg\n",
            "2021-12-05 16:52:02Z - Tracked J2206-1835 for 128 seconds\n",
            "2021-12-05 16:52:02Z - Initialising Track target Jupiter for 904.0 sec\n",
            "2021-12-05 16:52:12Z - Slewed to Jupiter at azel (307.3, 64.7) deg\n",
            "2021-12-05 17:07:16Z - Tracked Jupiter for 904 seconds\n",
            "2021-12-05 17:07:16Z - Initialising Track target Callisto for 904.0 sec\n",
            "2021-12-05 17:07:20Z - Slewed to Callisto at azel (301.9, 62.0) deg\n",
            "2021-12-05 17:22:24Z - Tracked Callisto for 904 seconds\n",
            "2021-12-05 17:22:24Z - Initialising Track polcal J0137+3309 for 296.0 sec\n",
            "2021-12-05 17:23:18Z - Slewed to J0137+3309 at azel (24.8, 20.8) deg\n",
            "2021-12-05 17:28:14Z - Tracked J0137+3309 for 296 seconds\n",
            "2021-12-05 17:28:14Z - Initialising Track bpcal, fluxcal J1939-6342 for 296.0 sec\n",
            "2021-12-05 17:29:51Z - Slewed to J1939-6342 at azel (210.6, 39.2) deg\n",
            "2021-12-05 17:34:47Z - Tracked J1939-6342 for 296 seconds\n",
            "2021-12-05 17:34:47Z - Initialising Track gaincal, bpcal J2206-1835 for 128.0 sec\n",
            "2021-12-05 17:35:36Z - Slewed to J2206-1835 at azel (289.2, 61.8) deg\n",
            "2021-12-05 17:37:44Z - Tracked J2206-1835 for 128 seconds\n",
            "2021-12-05 17:37:44Z - Initialising Track target Jupiter for 904.0 sec\n",
            "2021-12-05 17:37:57Z - Slewed to Jupiter at azel (292.7, 56.1) deg\n",
            "2021-12-05 17:53:01Z - Tracked Jupiter for 904 seconds\n",
            "2021-12-05 17:53:01Z - Initialising Track target Callisto for 904.0 sec\n",
            "2021-12-05 17:53:04Z - Slewed to Callisto at azel (289.3, 53.1) deg\n",
            "2021-12-05 18:08:08Z - Tracked Callisto for 904 seconds\n",
            "2021-12-05 18:08:08Z - Initialising Track gaincal, bpcal J2206-1835 for 128.0 sec\n",
            "2021-12-05 18:08:21Z - Slewed to J2206-1835 at azel (281.8, 54.9) deg\n",
            "2021-12-05 18:10:29Z - Tracked J2206-1835 for 128 seconds\n",
            "2021-12-05 18:10:29Z - Initialising Track target Jupiter for 904.0 sec\n",
            "2021-12-05 18:10:41Z - Slewed to Jupiter at azel (285.5, 49.5) deg\n",
            "2021-12-05 18:25:45Z - Tracked Jupiter for 904 seconds\n",
            "2021-12-05 18:25:45Z - Initialising Track target Callisto for 904.0 sec\n",
            "2021-12-05 18:25:49Z - Slewed to Callisto at azel (282.8, 46.3) deg\n",
            "2021-12-05 18:40:53Z - Tracked Callisto for 904 seconds\n",
            "2021-12-05 18:40:53Z - Initialising Track polcal J0137+3309 for 296.0 sec\n",
            "2021-12-05 18:41:47Z - Slewed to J0137+3309 at azel (7.7, 25.5) deg\n",
            "2021-12-05 18:46:43Z - Tracked J0137+3309 for 296 seconds\n",
            "2021-12-05 18:46:43Z - Initialising Track bpcal, fluxcal J1939-6342 for 296.0 sec\n",
            "2021-12-05 18:48:11Z - Slewed to J1939-6342 at azel (210.7, 30.5) deg\n",
            "2021-12-05 18:53:07Z - Tracked J1939-6342 for 296 seconds\n",
            "2021-12-05 18:53:07Z - Initialising Track gaincal, bpcal J2206-1835 for 128.0 sec\n",
            "2021-12-05 18:53:50Z - Slewed to J2206-1835 at azel (274.4, 45.3) deg\n",
            "2021-12-05 18:55:58Z - Tracked J2206-1835 for 128 seconds\n",
            "2021-12-05 18:55:58Z - Initialising Track target Jupiter for 904.0 sec\n",
            "2021-12-05 18:56:07Z - Slewed to Jupiter at azel (277.7, 39.9) deg\n",
            "2021-12-05 19:11:11Z - Tracked Jupiter for 904 seconds\n",
            "2021-12-05 19:11:11Z - Initialising Track target Callisto for 904.0 sec\n",
            "2021-12-05 19:11:14Z - Slewed to Callisto at azel (275.6, 36.7) deg\n",
            "2021-12-05 19:26:18Z - Tracked Callisto for 904 seconds\n",
            "2021-12-05 19:26:18Z - Initialising Track gaincal, bpcal J2206-1835 for 128.0 sec\n",
            "2021-12-05 19:26:27Z - Slewed to J2206-1835 at azel (269.9, 38.2) deg\n",
            "2021-12-05 19:28:35Z - Tracked J2206-1835 for 128 seconds\n",
            "2021-12-05 19:28:35Z - Initialising Track target Jupiter for 904.0 sec\n",
            "2021-12-05 19:28:44Z - Slewed to Jupiter at azel (273.0, 32.9) deg\n",
            "2021-12-05 19:43:48Z - Tracked Jupiter for 904 seconds\n",
            "2021-12-05 19:43:48Z - Initialising Track target Callisto for 904.0 sec\n",
            "2021-12-05 19:43:52Z - Slewed to Callisto at azel (271.1, 29.7) deg\n",
            "2021-12-05 19:58:56Z - Tracked Callisto for 904 seconds\n",
            "2021-12-05 19:58:56Z - Initialising Track polcal J0137+3309 for 296.0 sec\n",
            "2021-12-05 19:59:46Z - Slewed to J0137+3309 at azel (349.6, 25.1) deg\n",
            "2021-12-05 20:04:42Z - Tracked J0137+3309 for 296 seconds\n",
            "2021-12-05 20:04:42Z - Initialising Track bpcal, fluxcal J1939-6342 for 296.0 sec\n",
            "2021-12-05 20:06:03Z - Slewed to J1939-6342 at azel (207.9, 22.2) deg\n",
            "2021-12-05 20:10:59Z - Tracked J1939-6342 for 296 seconds\n",
            "2021-12-05 20:10:59Z - Initialising Track gaincal, bpcal J2206-1835 for 128.0 sec\n",
            "2021-12-05 20:11:38Z - Slewed to J2206-1835 at azel (264.5, 28.6) deg\n",
            "2021-12-05 20:13:46Z - Tracked J2206-1835 for 128 seconds\n",
            "2021-12-05 20:13:46Z - Initialising Track target Jupiter for 904.0 sec\n",
            "2021-12-05 20:13:55Z - Slewed to Jupiter at azel (267.2, 23.1) deg\n",
            "2021-12-05 20:28:59Z - Tracked Jupiter for 904 seconds\n",
            "2021-12-05 20:28:59Z - Scheduled observation time lapsed - ending observation\n",
            "2021-12-05 20:28:59Z - Observation loop statistics\n",
            "2021-12-05 20:28:59Z - Desired observation time 28800.00 sec (480.00 min)\n",
            "2021-12-05 20:28:59Z - Total observation time 28739.42 sec (478.99 min)\n",
            "2021-12-05 20:28:59Z - Targets observed :\n",
            "2021-12-05 20:28:59Z - Callisto observed for 10848.0 sec\n",
            "2021-12-05 20:28:59Z - J0137+3309 observed for 888.0 sec\n",
            "2021-12-05 20:28:59Z - J1939-6342 observed for 2072.0 sec\n",
            "2021-12-05 20:28:59Z - J2206-1835 observed for 1664.0 sec\n",
            "2021-12-05 20:28:59Z - Jupiter observed for 11752.0 sec\n",
            "2021-12-05 20:28:59Z - Observation clean up\n",
            "2021-12-05 20:28:59Z - Returning telescope to startup state\n",
            "2021-12-05 20:28:59Z - Report: noise-diode off at 1638736144.4208684\n"
          ]
        }
      ]
    },
    {
      "cell_type": "code",
      "metadata": {
        "id": "JUDNr6VQz01p",
        "colab": {
          "base_uri": "https://localhost:8080/"
        },
        "outputId": "f3823b05-40a7-429c-ee55-e27eea2860af"
      },
      "source": [
        "10848+11752"
      ],
      "execution_count": 79,
      "outputs": [
        {
          "output_type": "execute_result",
          "data": {
            "text/plain": [
              "22600"
            ]
          },
          "metadata": {},
          "execution_count": 79
        }
      ]
    },
    {
      "cell_type": "code",
      "metadata": {
        "id": "8ZRKIyppY5yM"
      },
      "source": [
        ""
      ],
      "execution_count": 79,
      "outputs": []
    }
  ]
}