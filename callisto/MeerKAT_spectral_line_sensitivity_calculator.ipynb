{
  "nbformat": 4,
  "nbformat_minor": 0,
  "metadata": {
    "kernelspec": {
      "display_name": "Python 3",
      "language": "python",
      "name": "python3"
    },
    "language_info": {
      "codemirror_mode": {
        "name": "ipython",
        "version": 3
      },
      "file_extension": ".py",
      "mimetype": "text/x-python",
      "name": "python",
      "nbconvert_exporter": "python",
      "pygments_lexer": "ipython3",
      "version": "3.8.2"
    },
    "colab": {
      "name": "MeerKAT spectral line sensitivity calculator.ipynb",
      "provenance": [],
      "toc_visible": true,
      "include_colab_link": true
    }
  },
  "cells": [
    {
      "cell_type": "markdown",
      "metadata": {
        "id": "view-in-github",
        "colab_type": "text"
      },
      "source": [
        "<a href=\"https://colab.research.google.com/github/rubyvanrooyen/observation_planning/blob/main/callisto/MeerKAT_spectral_line_sensitivity_calculator.ipynb\" target=\"_parent\"><img src=\"https://colab.research.google.com/assets/colab-badge.svg\" alt=\"Open In Colab\"/></a>"
      ]
    },
    {
      "cell_type": "markdown",
      "metadata": {
        "id": "X-AtlCdfs1zV"
      },
      "source": [
        "# Spectral line sensitivity"
      ]
    },
    {
      "cell_type": "code",
      "metadata": {
        "id": "MaDJhbdlX--w",
        "colab": {
          "base_uri": "https://localhost:8080/"
        },
        "outputId": "5121faa5-1da0-4eae-d8cf-9b5b7f1719c4"
      },
      "source": [
        "%pylab inline\n",
        "import numpy as np\n",
        "from astropy import constants"
      ],
      "execution_count": 80,
      "outputs": [
        {
          "output_type": "stream",
          "text": [
            "Populating the interactive namespace from numpy and matplotlib\n"
          ],
          "name": "stdout"
        },
        {
          "output_type": "stream",
          "text": [
            "/usr/local/lib/python3.7/dist-packages/IPython/core/magics/pylab.py:161: UserWarning: pylab import has clobbered these variables: ['f']\n",
            "`%matplotlib` prevents importing * from pylab and numpy\n",
            "  \"\\n`%matplotlib` prevents importing * from pylab and numpy\"\n"
          ],
          "name": "stderr"
        }
      ]
    },
    {
      "cell_type": "markdown",
      "metadata": {
        "id": "mN1Jtb54s1zx"
      },
      "source": [
        "First, Tsys/eta as a function of frequency:"
      ]
    },
    {
      "cell_type": "code",
      "metadata": {
        "id": "MTZMkuk7s1zy",
        "colab": {
          "base_uri": "https://localhost:8080/",
          "height": 241
        },
        "outputId": "3a431a0b-1bdf-4187-d600-0d6125d84347"
      },
      "source": [
        "# Fitted values from recent work.\n",
        "specs = np.array([[ 881.           ,24.87730995],\n",
        "     [ 913.875        ,24.49771763],\n",
        "     [ 946.75         ,24.16024859],\n",
        "     [ 979.625        ,23.64646727],\n",
        "     [1012.5          ,24.07896985],\n",
        "     [1045.375        ,23.79283849],\n",
        "     [1078.25         ,22.70843003],\n",
        "     [1111.125        ,22.93770384],\n",
        "     [1144.           ,22.84885476],\n",
        "     [1176.875        ,22.12287765],\n",
        "     [1209.75         ,21.49206455],\n",
        "     [1242.625        ,21.16654511],\n",
        "     [1275.5          ,20.96656328],\n",
        "     [1308.375        ,20.6466135 ],\n",
        "     [1341.25         ,20.46467585],\n",
        "     [1374.125        ,20.35819618],\n",
        "     [1407.           ,20.33486544],\n",
        "     [1439.875        ,20.45917325],\n",
        "     [1472.75         ,20.46422681],\n",
        "     [1505.625        ,20.53214192],\n",
        "     [1538.5          ,21.29373981],\n",
        "     [1571.375        ,20.78716734],\n",
        "     [1604.25         ,20.91109069],\n",
        "     [1637.125        ,21.14846713],\n",
        "     [1670.           ,24.40091906]])\n",
        "\n",
        "fig, ax = plt.subplots(nrows=1, ncols=1,\n",
        "                       figsize=(17, 3),\n",
        "                       facecolor='white')\n",
        "ax.plot(specs[:,0],specs[:,1])\n",
        "ax.axvspan(1563.0, 1670., alpha=0.05, color='k')\n",
        "ax.axvline(x=1612.2, color='b', linestyle=':', alpha=0.3)\n",
        "ax.axvline(x=1665.4, color='b', linestyle=':', alpha=0.3)\n",
        "ax.axvline(x=1667.4, color='b', linestyle=':', alpha=0.3)\n",
        "ax.set_title('Measured MeerKAT Specs')\n",
        "ax.set_ylabel('$T_\\mathrm{sys}/\\eta$ [K]')\n",
        "i=ax.set_xlabel('Frequency [MHz]')\n",
        "plt.show()"
      ],
      "execution_count": 81,
      "outputs": [
        {
          "output_type": "display_data",
          "data": {
            "image/png": "[encoded data removed]",
            "text/plain": [
              "<Figure size 1224x216 with 1 Axes>"
            ]
          },
          "metadata": {}
        }
      ]
    },
    {
      "cell_type": "code",
      "metadata": {
        "id": "tHkszRkMs1z6",
        "colab": {
          "base_uri": "https://localhost:8080/"
        },
        "outputId": "78101cfb-3db8-4e84-e5d6-5db07bc61347"
      },
      "source": [
        "J = 1e26                                   # Jy to Watts conversion factor\n",
        "f = specs[:,0]*1e6                         # frequency axis above in Hz\n",
        "lam = constants.c.value/f                  # corresponding wavelengths in m\n",
        "f_OH = 1665.4*1e6                          # OH rest frequency in Hz\n",
        "D = 13.5                                   # Meters\n",
        "NPol = 2\n",
        "A = np.pi * (D/2)**2\n",
        "Tsys_eta = specs[:,1]\n",
        "\n",
        "Df = 54E6/32768                           # Channel width 32k mode in Hz (Bandwidth divided by channels)\n",
        "Df = Df*constants.c.value/f_OH/1000.\n",
        "print('32k mode channel width : {0:f} km/s @ line frequency {1:.2f} MHz'\n",
        "      .format(Df, f_OH/1e6))"
      ],
      "execution_count": 82,
      "outputs": [
        {
          "output_type": "stream",
          "text": [
            "32k mode channel width : 0.296651 km/s @ line frequency 1665.40 MHz\n"
          ],
          "name": "stdout"
        }
      ]
    },
    {
      "cell_type": "markdown",
      "metadata": {
        "collapsed": true,
        "id": "15dpBMens1z9"
      },
      "source": [
        "For reference, the calculations that went into this are:\n",
        "\n",
        "\\begin{align*}\n",
        "\\frac{\\Delta\\nu}{\\Delta V } = \\frac{\\nu_\\mathrm{H I}}{c} \n",
        "\\end{align*}\n",
        "\n",
        "$\\nu_\\mathrm{H I} = 1420405751.7667 \\,\\mathrm{Hz}$: H I-rest-frequency\n",
        "\n",
        "$c = 2.99792456\\cdot 10^5\\, \\mathrm{km}\\,\\mathrm{s}^{-1}$: Speed of light\n",
        "\n",
        "$\\Delta \\nu$: Difference between observed and rest frequency\n",
        "\n",
        "$\\Delta V$: Difference in recession velocity (between two adjacent channels)\n",
        "\n",
        "We obtain (for a bandwidth of 856 MHz and 4096 channels):\n",
        "\\begin{align*}\n",
        "\\Delta V = 44.108\\, \\mathrm{km}\\,\\mathrm{s}^{-1}\n",
        "\\end{align*}\n",
        "\\begin{align*}\n",
        "\\Delta\\nu = 208984 \\,\\mathrm{Hz}\n",
        "\\end{align*}\n",
        "\n",
        "The thermal 5-sigma rms intensity-sensitivity $\\sigma_\\mathrm{S}$ of a (naturally-weighted) image is found using \n",
        "\\begin{align*}5\\sigma_\\mathrm{S} = 5 \\frac{2 k_\\mathrm{B} T_\\mathrm{sys}}{A_\\mathrm{eff} [2N(N-1)\\Delta \\nu_\\mathrm{ RF}\\tau]^{1/2}}\n",
        "\\end{align*}\n",
        "\n",
        "$k_\\mathrm{B}$: Boltzmann-constant\n",
        "\n",
        "$T_\\mathrm{sys}$: System temperature\n",
        "\n",
        "$A_\\mathrm{eff}$: Effective Aperture (of an antenna)\n",
        "\n",
        "$N$: Number of antennas\n",
        "\n",
        "$\\Delta \\nu_\\mathrm{RF}$: Frequency interval (e.g. channel width)\n",
        "\n",
        "$\\tau$: Integration time\n",
        "\n",
        "The equations are from http://www.atnf.csiro.au/people/Tobias.Westmeier/tools_hihelpers.php, or https://ui.adsabs.harvard.edu/abs/2013tra..book.....W/abstract, respectively. Any flux density $S$/intensity (and with that the rms in intensity) can be converted to a column-density sensitivity using:\n",
        "\n",
        "\\begin{align*}\n",
        " T_\\mathrm{B} = \\frac{606 \\, S}{\\vartheta^{2}}\n",
        "\\end{align*}\n",
        "In this equation, the *HPBW* $\\vartheta$ of the synthesized beam is measured in arcseconds, and the flux density $S$ is measured in mJy, to calculate the brightness temperature $T_\\mathrm{B}$. We can then calculate the HI-column density $N_\\mathrm{H I}$ by integrating over the H I linewidth (measured in $\\mathrm{km}\\,\\mathrm{s}^{-1}$):\n",
        "\\begin{align*}\n",
        "N_{\\rm H\\,I} = 1.823 \\times 10^{18} \\! \\int \\! T_{\\rm B} \\, \\mathrm{d}V          \n",
        " \\end{align*}         \n"
      ]
    },
    {
      "cell_type": "code",
      "metadata": {
        "id": "qou6CF5is1z-",
        "colab": {
          "base_uri": "https://localhost:8080/"
        },
        "outputId": "022cc117-9402-4d1f-ac7e-688eba4f3d9a"
      },
      "source": [
        "# Parameters to adjust for the observation \n",
        "F_tap = 1.6          # The Robust/tapering factor.\n",
        "theta = 60.          # The synthesized beam HPBW in arcseconds  \n",
        "N_x = 3e16           # Target column Density in cm^{-2}\n",
        "#hours = 50           # Integration time in hours\n",
        "hours = 64           # Integration time in hours\n",
        "N = 58               # Number of Antennas\n",
        "#velocity_width = Df*constants.c.value/f_OH/1000. #4.0 # in km/s\n",
        "velocity_width = 4.0 # in km/s\n",
        "obs_freq = 1.6654e9   # Observation frequency in Hz\n",
        "\n",
        "nu = obs_freq/1e9  # GHz\n",
        "snr = 2.725 + (1.6*nu**-2.75)  # RMS confusion mJy/beam\n",
        "SN = snr             # Signal to Noise for detection\n",
        "print(SN)"
      ],
      "execution_count": 83,
      "outputs": [
        {
          "output_type": "stream",
          "text": [
            "3.1184992797447775\n"
          ],
          "name": "stdout"
        }
      ]
    },
    {
      "cell_type": "markdown",
      "metadata": {
        "id": "UAGn3sAAs10C"
      },
      "source": [
        "Use the cell below to compute the flux of a spectral feature:"
      ]
    },
    {
      "cell_type": "markdown",
      "metadata": {
        "id": "ihcBwp7dQB9R"
      },
      "source": [
        "$T_B = \\frac{\\lambda^2S_\\nu}{2k_B\\Omega_{bm}}$   \n",
        "$\\frac{T_B}{K} \\approx 1.360 \\times \\left(\\frac{\\lambda}{cm} \\right)^2 \\times \\frac{S_\\nu}{mJy} \\times \\frac{1}{\\theta^2}$\n",
        "\n",
        "At OH frequency 1.665 GHz\n",
        "$\\frac{T_B}{K} \\approx 440.633 \\times \\frac{S_\\nu}{mJy} \\times \\frac{1}{\\theta^2}$"
      ]
    },
    {
      "cell_type": "code",
      "metadata": {
        "id": "HdHwoJJBSTS3",
        "colab": {
          "base_uri": "https://localhost:8080/"
        },
        "outputId": "ab7b8832-c392-45ab-b9aa-a1c9cc494b8b"
      },
      "source": [
        "boltz_k = constants.k_B.value*1e7  # k=J/K => *e7 ergs/K\n",
        "light_c = constants.c.value*1e2  # c=m/s => *100 cm/\n",
        "wavelength = light_c/f_OH  # cm\n",
        "wavenr = f_OH/light_c  # cm-1\n",
        "\n",
        "# assuming a circular Gaussian beam\n",
        "mb_const = np.pi/(4.*np.log(2.))\n",
        "mb = mb_const * theta**2\n",
        "\n",
        "# T [K] = {L^2 * S}/{2k * beam}\n",
        "degrad=180./np.pi\n",
        "arcsecond_deg=3600.\n",
        "rad_arcsec = degrad * arcsecond_deg\n",
        "radtheta = theta/rad_arcsec\n",
        "# intensity from brightness temperature [erg/s/cm^2/Hz/sr]\n",
        "Jy = 1e23  # [erg/s/cm^2/Hz]\n",
        "# T [K] = const * wavelength**2 * (S /theta**2)\n",
        "const = (rad_arcsec**2/(2*boltz_k*mb_const*1000.*Jy))\n",
        "flux_factor = const*wavelength**2\n",
        "\n",
        "# (S /theta**2) [mJy/beam] = T / 440.633\n",
        "Tsky = 40  # K (minimum for detection @ 1.665 GHz over 50 hours)\n",
        "Tsky = 35  # K (minimum for detection @ 1.665 GHz over 64 hours)\n",
        "rmsmin = Tsky/flux_factor  # mJy/beam\n",
        "print(rmsmin)"
      ],
      "execution_count": 84,
      "outputs": [
        {
          "output_type": "stream",
          "text": [
            "0.07943121239748765\n"
          ],
          "name": "stdout"
        }
      ]
    },
    {
      "cell_type": "code",
      "metadata": {
        "id": "-7UbH60Cs10D"
      },
      "source": [
        "# point source sensitivity\n",
        "bw = f_OH/constants.c.value*velocity_width*1000.\n",
        "idx_ = np.argmin(np.abs(f - obs_freq))\n",
        "# fit with a second degree polynomial\n",
        "x = f[idx_-1:idx_+2]\n",
        "y = Tsys_eta[idx_-1:idx_+2]\n",
        "if len(x) < 3: p_o = 1\n",
        "else: p_o = 2\n",
        "c2p = polyfit(x, y, p_o) \n",
        "p2 = poly1d(c2p)\n",
        "Tsys_per_eta = p2(obs_freq)\n",
        "\n",
        "taumin = np.power((2 * constants.k_B.value * Tsys_per_eta * J)/(A * (rmsmin/1000.) * np.sqrt(NPol)),2) \\\n",
        "       / (N * (N-1) * bw)"
      ],
      "execution_count": 85,
      "outputs": []
    },
    {
      "cell_type": "code",
      "metadata": {
        "id": "Hqap3BpNjPBJ",
        "colab": {
          "base_uri": "https://localhost:8080/"
        },
        "outputId": "a9ae823f-7181-450c-81d0-65330c6280d4"
      },
      "source": [
        "print('Intensity corresponding to an molecular column density:\\n')\n",
        "\n",
        "string1 = 'OH'\\\n",
        "          ' with a column density of N_x = {0:2.4g},\\n'\\\n",
        "          '   observed at {1} arcseconds resolution (HPBW),\\n'\\\n",
        "          '   with a velocity width of {2:2.4g} km/s,\\n'\\\n",
        "          '   is observed with an intensity of {3:2.4g} mJy/beam.\\n'\n",
        "print(string1.format(N_x, theta, velocity_width, rmsmin))\n",
        "\n",
        "string2 = 'To detect this\\n'\\\n",
        "          '   at a {1:.0f}-sigma level (taper factor of {2:2.2g}),\\n'\\\n",
        "          '   we require a data cube with a natural rms of {3:2.4g} mJy/beam\\n'\\\n",
        "          '   (after regridding to {4:2.4g} km/s-wide channels).\\n'\n",
        "print(string2.format(N_x, SN, F_tap, rmsmin, velocity_width))\n",
        "\n",
        "print (\"T_sys/eta at %3.0f MHz is %2.1fK\"%(obs_freq/1e6, Tsys_per_eta) )\n",
        "print('   With this, to reach the required rms level, the required integration time is\\n'\\\n",
        "      '   {0:.0f}s or {1:.2f}h.'.format(taumin, taumin/3600.))"
      ],
      "execution_count": 86,
      "outputs": [
        {
          "output_type": "stream",
          "text": [
            "Intensity corresponding to an molecular column density:\n",
            "\n",
            "OH with a column density of N_x = 3e+16,\n",
            "   observed at 60.0 arcseconds resolution (HPBW),\n",
            "   with a velocity width of  4 km/s,\n",
            "   is observed with an intensity of 0.07943 mJy/beam.\n",
            "\n",
            "To detect this\n",
            "   at a 3-sigma level (taper factor of 1.6),\n",
            "   we require a data cube with a natural rms of 0.07943 mJy/beam\n",
            "   (after regridding to  4 km/s-wide channels).\n",
            "\n",
            "T_sys/eta at 1665 MHz is 23.9K\n",
            "   With this, to reach the required rms level, the required integration time is\n",
            "   230196s or 63.94h.\n"
          ],
          "name": "stdout"
        }
      ]
    },
    {
      "cell_type": "markdown",
      "metadata": {
        "id": "DILUIIqFs10K"
      },
      "source": [
        "Use the cell below to compute the image rms (single-channel), and resulting detection level:"
      ]
    },
    {
      "cell_type": "code",
      "metadata": {
        "id": "4OjTwfXBs10L",
        "colab": {
          "base_uri": "https://localhost:8080/"
        },
        "outputId": "916620f1-7317-4e1c-f674-c28d6b0d8102"
      },
      "source": [
        "sigma = SN\n",
        "tau = 3600 * hours\n",
        "print(\"Thermal rms in intensity using the radiometer equation:\")\n",
        "noise = 2 * constants.k_B.value * Tsys_per_eta / (A * np.sqrt(N * (N-1) * bw * tau)) * J / np.sqrt(NPol) \n",
        "print(\"  The Natural rms after {0:.1f}h on-source, over a velocity width of {2:2.4g} km/s, is {1:2.4g} mJy/beam.\"\n",
        "      .format(hours, noise*1e3, velocity_width)) \n",
        "print(\"  With a tapering penalty of {:.1f}, this becomes {:2.4g} mJy/beam.\"\n",
        "      .format(F_tap, F_tap*noise*1e3)) \n",
        "print(\"  The {:.0f}-sigma detection level is then {:2.4g} mJy/beam.\\n\"\n",
        "      .format(sigma, sigma*F_tap*noise*1e3))\n",
        "print(\"The sensitivity is {0:.2f} times the {1:.1f}-sigma threshold sensitivity for the detection of\"\n",
        "      .format(1000.*noise/rmsmin, SN))\n",
        "print(\"  HI at a column density of N_HI = {0:2.4g} atoms/sqcm at a resolution of {1} arcseconds (HPBW).\"\n",
        "      .format(N_x,theta))\n",
        "print(\"  The integration time of {0:.2f}h is {1:.2f} times the integration time of {2:.2f}h to reach the threshold sensitivity.\"\n",
        "      .format(hours, tau/taumin,taumin/3600.))"
      ],
      "execution_count": 87,
      "outputs": [
        {
          "output_type": "stream",
          "text": [
            "Thermal rms in intensity using the radiometer equation:\n",
            "  The Natural rms after 64.0h on-source, over a velocity width of  4 km/s, is 0.0794 mJy/beam.\n",
            "  With a tapering penalty of 1.6, this becomes 0.127 mJy/beam.\n",
            "  The 3-sigma detection level is then 0.3962 mJy/beam.\n",
            "\n",
            "The sensitivity is 1.00 times the 3.1-sigma threshold sensitivity for the detection of\n",
            "  HI at a column density of N_HI = 3e+16 atoms/sqcm at a resolution of 60.0 arcseconds (HPBW).\n",
            "  The integration time of 64.00h is 1.00 times the integration time of 63.94h to reach the threshold sensitivity.\n"
          ],
          "name": "stdout"
        }
      ]
    },
    {
      "cell_type": "code",
      "metadata": {
        "id": "q3v0hdI-fc5d"
      },
      "source": [
        ""
      ],
      "execution_count": 87,
      "outputs": []
    }
  ]
}