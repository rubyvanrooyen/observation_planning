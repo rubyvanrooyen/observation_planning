{
  "nbformat": 4,
  "nbformat_minor": 0,
  "metadata": {
    "colab": {
      "name": "Callisto katpoint planning.ipynb",
      "provenance": [],
      "authorship_tag": "ABX9TyNdOe1GFAvZPj93cQdrjWp6",
      "include_colab_link": true
    },
    "kernelspec": {
      "name": "python3",
      "display_name": "Python 3"
    },
    "language_info": {
      "name": "python"
    }
  },
  "cells": [
    {
      "cell_type": "markdown",
      "metadata": {
        "id": "view-in-github",
        "colab_type": "text"
      },
      "source": [
        "<a href=\"https://colab.research.google.com/github/rubyvanrooyen/observation_planning/blob/main/callisto/Callisto_katpoint_planning.ipynb\" target=\"_parent\"><img src=\"https://colab.research.google.com/assets/colab-badge.svg\" alt=\"Open In Colab\"/></a>"
      ]
    },
    {
      "cell_type": "code",
      "metadata": {
        "colab": {
          "base_uri": "https://localhost:8080/"
        },
        "id": "7XI3gIx7rAsw",
        "outputId": "4e2ed5e3-07d7-4025-d275-d149d61e36bb"
      },
      "source": [
        "!pip install katpoint"
      ],
      "execution_count": 5,
      "outputs": [
        {
          "output_type": "stream",
          "text": [
            "Collecting katpoint\n",
            "  Downloading katpoint-0.10-py2.py3-none-any.whl (99 kB)\n",
            "\u001b[?25l\r\u001b[K     |███▎                            | 10 kB 23.2 MB/s eta 0:00:01\r\u001b[K     |██████▋                         | 20 kB 28.8 MB/s eta 0:00:01\r\u001b[K     |█████████▉                      | 30 kB 18.6 MB/s eta 0:00:01\r\u001b[K     |█████████████▏                  | 40 kB 16.3 MB/s eta 0:00:01\r\u001b[K     |████████████████▌               | 51 kB 7.5 MB/s eta 0:00:01\r\u001b[K     |███████████████████▊            | 61 kB 8.6 MB/s eta 0:00:01\r\u001b[K     |███████████████████████         | 71 kB 8.0 MB/s eta 0:00:01\r\u001b[K     |██████████████████████████▍     | 81 kB 8.8 MB/s eta 0:00:01\r\u001b[K     |█████████████████████████████▋  | 92 kB 9.6 MB/s eta 0:00:01\r\u001b[K     |████████████████████████████████| 99 kB 5.0 MB/s \n",
            "\u001b[?25hRequirement already satisfied: ephem in /usr/local/lib/python3.7/dist-packages (from katpoint) (4.0.0.2)\n",
            "Requirement already satisfied: future in /usr/local/lib/python3.7/dist-packages (from katpoint) (0.16.0)\n",
            "Requirement already satisfied: numpy in /usr/local/lib/python3.7/dist-packages (from katpoint) (1.19.5)\n",
            "Installing collected packages: katpoint\n",
            "Successfully installed katpoint-0.10\n"
          ],
          "name": "stdout"
        }
      ]
    },
    {
      "cell_type": "code",
      "metadata": {
        "colab": {
          "base_uri": "https://localhost:8080/"
        },
        "id": "c7uzI5TqDIj0",
        "outputId": "366c4f6a-0866-431a-e193-a7da2ab1e3f5"
      },
      "source": [
        "!pip install git+https://github.com/ska-sa/astrokat.git"
      ],
      "execution_count": 6,
      "outputs": [
        {
          "output_type": "stream",
          "text": [
            "Collecting git+https://github.com/ska-sa/astrokat.git\n",
            "  Cloning https://github.com/ska-sa/astrokat.git to /tmp/pip-req-build-rlhbn6z5\n",
            "  Running command git clone -q https://github.com/ska-sa/astrokat.git /tmp/pip-req-build-rlhbn6z5\n",
            "  Installing build dependencies ... \u001b[?25l\u001b[?25hdone\n",
            "  Getting requirements to build wheel ... \u001b[?25l\u001b[?25hdone\n",
            "  Installing backend dependencies ... \u001b[?25l\u001b[?25hdone\n",
            "    Preparing wheel metadata ... \u001b[?25l\u001b[?25hdone\n",
            "Requirement already satisfied: katpoint in /usr/local/lib/python3.7/dist-packages (from astrokat==0.1.dev773+master.3ca200e) (0.10)\n",
            "Requirement already satisfied: numpy in /usr/local/lib/python3.7/dist-packages (from astrokat==0.1.dev773+master.3ca200e) (1.19.5)\n",
            "Requirement already satisfied: astropy in /usr/local/lib/python3.7/dist-packages (from astrokat==0.1.dev773+master.3ca200e) (4.3.1)\n",
            "Requirement already satisfied: matplotlib in /usr/local/lib/python3.7/dist-packages (from astrokat==0.1.dev773+master.3ca200e) (3.2.2)\n",
            "Requirement already satisfied: pyyaml in /usr/local/lib/python3.7/dist-packages (from astrokat==0.1.dev773+master.3ca200e) (3.13)\n",
            "Collecting pyephem\n",
            "  Downloading pyephem-9.99.tar.gz (1.4 kB)\n",
            "Requirement already satisfied: pyerfa>=1.7.3 in /usr/local/lib/python3.7/dist-packages (from astropy->astrokat==0.1.dev773+master.3ca200e) (2.0.0)\n",
            "Requirement already satisfied: importlib-metadata in /usr/local/lib/python3.7/dist-packages (from astropy->astrokat==0.1.dev773+master.3ca200e) (4.6.3)\n",
            "Requirement already satisfied: typing-extensions>=3.6.4 in /usr/local/lib/python3.7/dist-packages (from importlib-metadata->astropy->astrokat==0.1.dev773+master.3ca200e) (3.7.4.3)\n",
            "Requirement already satisfied: zipp>=0.5 in /usr/local/lib/python3.7/dist-packages (from importlib-metadata->astropy->astrokat==0.1.dev773+master.3ca200e) (3.5.0)\n",
            "Requirement already satisfied: ephem in /usr/local/lib/python3.7/dist-packages (from katpoint->astrokat==0.1.dev773+master.3ca200e) (4.0.0.2)\n",
            "Requirement already satisfied: future in /usr/local/lib/python3.7/dist-packages (from katpoint->astrokat==0.1.dev773+master.3ca200e) (0.16.0)\n",
            "Requirement already satisfied: pyparsing!=2.0.4,!=2.1.2,!=2.1.6,>=2.0.1 in /usr/local/lib/python3.7/dist-packages (from matplotlib->astrokat==0.1.dev773+master.3ca200e) (2.4.7)\n",
            "Requirement already satisfied: kiwisolver>=1.0.1 in /usr/local/lib/python3.7/dist-packages (from matplotlib->astrokat==0.1.dev773+master.3ca200e) (1.3.1)\n",
            "Requirement already satisfied: cycler>=0.10 in /usr/local/lib/python3.7/dist-packages (from matplotlib->astrokat==0.1.dev773+master.3ca200e) (0.10.0)\n",
            "Requirement already satisfied: python-dateutil>=2.1 in /usr/local/lib/python3.7/dist-packages (from matplotlib->astrokat==0.1.dev773+master.3ca200e) (2.8.2)\n",
            "Requirement already satisfied: six in /usr/local/lib/python3.7/dist-packages (from cycler>=0.10->matplotlib->astrokat==0.1.dev773+master.3ca200e) (1.15.0)\n",
            "Building wheels for collected packages: astrokat, pyephem\n",
            "  Building wheel for astrokat (PEP 517) ... \u001b[?25l\u001b[?25hdone\n",
            "  Created wheel for astrokat: filename=astrokat-0.1.dev773+master.3ca200e-py3-none-any.whl size=58721 sha256=fbbe2c38d449558735eec7b4225682330731b8dd597f362c2006d8047259de8f\n",
            "  Stored in directory: /tmp/pip-ephem-wheel-cache-jkqimxv0/wheels/48/68/38/460259a8276bb666804bc42ac8074a069b535a1a1cccda1237\n",
            "  Building wheel for pyephem (setup.py) ... \u001b[?25l\u001b[?25hdone\n",
            "  Created wheel for pyephem: filename=pyephem-9.99-py3-none-any.whl size=1568 sha256=909ee4a075d7e492c56eb62045913bafc3e6236a83dc27233d0ca26d7c1f8c51\n",
            "  Stored in directory: /root/.cache/pip/wheels/30/12/37/6d3c470a337d412e8ac33b581cb2d67c825eaf063db830d74c\n",
            "Successfully built astrokat pyephem\n",
            "Installing collected packages: pyephem, astrokat\n",
            "Successfully installed astrokat-0.1.dev773+master.3ca200e pyephem-9.99\n"
          ],
          "name": "stdout"
        }
      ]
    },
    {
      "cell_type": "code",
      "metadata": {
        "id": "vRoAoY2zzA57"
      },
      "source": [
        "import ephem, katpoint"
      ],
      "execution_count": 7,
      "outputs": []
    },
    {
      "cell_type": "code",
      "metadata": {
        "id": "fpr6r5EFFlVA"
      },
      "source": [
        "import numpy\n",
        "from astrokat import datetime2timestamp, timestamp2datetime\n",
        "import matplotlib\n",
        "import matplotlib.pyplot as plt\n",
        "import matplotlib.dates as mdates\n",
        "from matplotlib.font_manager import FontProperties\n",
        "from datetime import datetime, timedelta\n",
        "\n",
        "# source elevation over time (24H) plot\n",
        "def source_elevation(catalogue, ref_antenna):\n",
        "    \"\"\"Generate a plot of elevation over time for 24 hour period.\n",
        "    For all sources in provided catalogue at a specific location\n",
        "    Parameters\n",
        "    ----------\n",
        "    catalogue: katpoint.Catalogue\n",
        "    ref_antenna: katpoint.Antenna\n",
        "        A MeerKAT reference antenna\n",
        "    Returns\n",
        "    -------\n",
        "        matplotlib figure handle\n",
        "    \"\"\"\n",
        "    catalogue.antenna = ref_antenna\n",
        "    horizon = numpy.degrees(ref_antenna.observer.horizon)\n",
        "    # All times and timestamps assumed UTC, no special conversion to\n",
        "    # accommodate SAST allowed to prevent confusion\n",
        "    creation_date = catalogue.antenna.observer.date\n",
        "    creation_timestamp = datetime2timestamp(creation_date.datetime())\n",
        "    time_range = creation_timestamp + numpy.arange(0, 24.0 * 60.0 * 60.0, 360.0)\n",
        "    timestamps = [timestamp2datetime(ts) for ts in time_range]\n",
        "\n",
        "    fig = plt.figure(figsize=(15, 7), facecolor=\"white\")\n",
        "    ax = plt.subplot(111)\n",
        "    plt.subplots_adjust(right=0.8)\n",
        "    fontP = FontProperties()\n",
        "    fontP.set_size(\"small\")\n",
        "\n",
        "    for cnt, target in enumerate(catalogue.targets):\n",
        "        elev = []\n",
        "        for idx, timestamp in enumerate(timestamps):\n",
        "            catalogue.antenna.observer.date = ephem.Date(timestamp)\n",
        "            target.body.compute(catalogue.antenna.observer)\n",
        "            elev.append(numpy.degrees(target.body.alt))\n",
        "\n",
        "        label = \"{} \".format(target.name)\n",
        "        if \"radec\" in target.tags:\n",
        "            target.tags.remove(\"radec\")\n",
        "        if \"target\" in target.tags:\n",
        "            target.tags.remove(\"target\")\n",
        "        label += \", \".join(target.tags)\n",
        "\n",
        "        myplot, = plt.plot_date(timestamps,\n",
        "                                elev,\n",
        "                                fmt='.',\n",
        "                                linewidth=0,\n",
        "                                label=label)\n",
        "    ax.axhspan(15, horizon, facecolor=\"k\", alpha=0.1)\n",
        "    plt.grid()\n",
        "    plt.legend(loc='center left',\n",
        "               bbox_to_anchor=(1, 0.5),\n",
        "               prop={'size': 10},\n",
        "               numpoints=1)\n",
        "    plt.ylabel(\"Elevation (deg)\")\n",
        "    plt.ylim(15, 90)\n",
        "    plt.yticks(fontsize=10)\n",
        "\n",
        "    # fix tick positions for proper time axis display\n",
        "    utc_hrs = [timestamps[0] + timedelta(hours=hr) for hr in range(0, 25, 1)]\n",
        "    box = ax.get_position()\n",
        "    ax.set_position([box.x0, box.y0, box.width * 0.9, box.height])\n",
        "    ax.set_xlim(utc_hrs[0], utc_hrs[-1])\n",
        "    ax.xaxis.set_major_locator(mdates.HourLocator(byhour=range(24),\n",
        "                                                  interval=1))\n",
        "    locs = ax.get_xticks()\n",
        "    locs_labels = matplotlib.dates.num2date(locs)\n",
        "    locator = matplotlib.ticker.FixedLocator(locs)\n",
        "    ax.xaxis.set_major_locator(locator)\n",
        "    utc_timestamps = [locs_lbl.strftime(\"%H:%M\") for locs_lbl in locs_labels]\n",
        "\n",
        "    lst_timestamps = []\n",
        "    for locs_ts in locs_labels:\n",
        "        catalogue.antenna.observer.date = ephem.Date(locs_ts)\n",
        "        lst_time = \"{}\".format(catalogue.antenna.observer.sidereal_time())\n",
        "        lst_time_str = datetime.strptime(lst_time,\n",
        "                                         \"%H:%M:%S.%f\").strftime(\"%H:%M\")\n",
        "        lst_timestamps.append(lst_time_str)\n",
        "\n",
        "    ax.set_xticklabels(lst_timestamps,\n",
        "                       rotation=30,\n",
        "                       fontsize=10)\n",
        "    ax.set_xlabel(\"Local Sidereal Time\")\n",
        "\n",
        "    ax2 = ax.twiny()\n",
        "    box = ax2.get_position()\n",
        "    ax2.set_position([box.x0, box.y0, box.width * 0.9, box.height])\n",
        "    ax2.set_xlim(ax.get_xlim())\n",
        "    ax2.set_xticks(ax.get_xticks())\n",
        "    ax2.xaxis.set_major_locator(locator)\n",
        "    ax2.set_xticklabels(utc_timestamps,\n",
        "                        rotation=30,\n",
        "                        fontsize=10)\n",
        "    ax2.set_xlabel('Time (UTC) starting from {}'.format(datetime.utcfromtimestamp(\n",
        "        creation_timestamp).strftime('%Y-%m-%d %H:%M:%S')))\n",
        "\n",
        "    return fig"
      ],
      "execution_count": 33,
      "outputs": []
    },
    {
      "cell_type": "code",
      "metadata": {
        "colab": {
          "base_uri": "https://localhost:8080/"
        },
        "id": "QA3UrELirH5l",
        "outputId": "576b5746-12ac-4385-f0e5-532086d8a232"
      },
      "source": [
        "sources = ['J0137+3309 | 3C48, radec polcal, 1:37:41.30, +33:09:35.1, (50.0 50000.0 0.524 1.738 -0.6396 0.0498)',\n",
        "           'J1939-6342 | 1934-638, radec bpcal fluxcal delaycal, 19:39:25.03, -63:42:45.6, (408.0 8640.0 -30.77 26.49 -7.098 0.6053)',\n",
        "           'J2206-1835 | 2203-188, radec gaincal bpcal, 22:06:10.42, -18:35:38.7, (145.0 99000.0 2.185 -0.7118 0.1563 -0.0215)',\n",
        "           'Jupiter, special target',\n",
        "          ]\n",
        "obsfile = 'jupiter_callisto.csv'\n",
        "with open(obsfile, 'w') as fout:\n",
        "    for line in sources:\n",
        "        print(line)\n",
        "        fout.write(line+\"\\n\")"
      ],
      "execution_count": 10,
      "outputs": [
        {
          "output_type": "stream",
          "text": [
            "J0137+3309 | 3C48, radec polcal, 1:37:41.30, +33:09:35.1, (50.0 50000.0 0.524 1.738 -0.6396 0.0498)\n",
            "J1939-6342 | 1934-638, radec bpcal fluxcal delaycal, 19:39:25.03, -63:42:45.6, (408.0 8640.0 -30.77 26.49 -7.098 0.6053)\n",
            "J2206-1835 | 2203-188, radec gaincal bpcal, 22:06:10.42, -18:35:38.7, (145.0 99000.0 2.185 -0.7118 0.1563 -0.0215)\n",
            "Jupiter, special target\n"
          ],
          "name": "stdout"
        }
      ]
    },
    {
      "cell_type": "markdown",
      "metadata": {
        "id": "oD4SpMyqEYC-"
      },
      "source": [
        "Calibrators are identified using the transit pointing calculation notebook"
      ]
    },
    {
      "cell_type": "code",
      "metadata": {
        "id": "fLqILuDUrH9A"
      },
      "source": [
        "with open(obsfile, 'r') as fin:\n",
        "    catalogue = katpoint.Catalogue(fin)"
      ],
      "execution_count": 28,
      "outputs": []
    },
    {
      "cell_type": "code",
      "metadata": {
        "colab": {
          "base_uri": "https://localhost:8080/"
        },
        "id": "ytN9MWZVwa1N",
        "outputId": "b0914672-6da7-4b24-aed7-437c4aa3ae11"
      },
      "source": [
        "catalogue"
      ],
      "execution_count": 29,
      "outputs": [
        {
          "output_type": "execute_result",
          "data": {
            "text/plain": [
              "<katpoint.Catalogue targets=4 names=7 at 0x7f5e36ae5f10>"
            ]
          },
          "metadata": {
            "tags": []
          },
          "execution_count": 29
        }
      ]
    },
    {
      "cell_type": "code",
      "metadata": {
        "colab": {
          "base_uri": "https://localhost:8080/"
        },
        "id": "WSzZXsF2rH2Z",
        "outputId": "13249d3b-50c9-4c88-9ddb-eadc2ba662ca"
      },
      "source": [
        "creation_time = '2021-08-27 18:00'\n",
        "creation_time = '2021-08-28 18:00'\n",
        "creation_time = '2021-08-29 18:00'\n",
        "\n",
        "creation_time = '2021-09-12 17:00'\n",
        "creation_time = '2021-09-13 17:00'\n",
        "\n",
        "creation_time = '2021-09-29 16:00'\n",
        "creation_time = '2021-09-30 16:00'\n",
        "\n",
        "creation_time = '2021-10-16 14:30'\n",
        "creation_time = '2021-10-17 14:30'\n",
        "\n",
        "ref_antenna = katpoint.Antenna(\"ref, -30:42:39.8, 21:26:38.0, 1035.0, 0.0, , , 1.15\")\n",
        "ref_antenna.observer.horizon = ephem.degrees(str(15))\n",
        "ref_antenna.observer.date = ephem.Date(creation_time)\n",
        "\n",
        "print(ref_antenna.observer)"
      ],
      "execution_count": 95,
      "outputs": [
        {
          "output_type": "stream",
          "text": [
            "<ephem.Observer date='2021/10/17 14:30:00' epoch='2000/1/1 12:00:00' lon='21:26:38.0' lat='-30:42:39.8' elevation=1035.0m horizon=15:00:00.0 temp=15.0C pressure=0.0mBar>\n"
          ],
          "name": "stdout"
        }
      ]
    },
    {
      "cell_type": "code",
      "metadata": {
        "id": "hpA0NrjADJBz"
      },
      "source": [
        "sun = katpoint.Target(\"Sun, special\")\n",
        "sun.body.compute(ref_antenna.observer)"
      ],
      "execution_count": 96,
      "outputs": []
    },
    {
      "cell_type": "code",
      "metadata": {
        "id": "w9zLuE6HDI4Y"
      },
      "source": [
        "katpt_targets = catalogue.filter(['target', 'special'])"
      ],
      "execution_count": 97,
      "outputs": []
    },
    {
      "cell_type": "code",
      "metadata": {
        "colab": {
          "base_uri": "https://localhost:8080/"
        },
        "id": "qbX_ZByFDIuw",
        "outputId": "7adc315b-abcd-4026-e0ad-1152b8e73f8d"
      },
      "source": [
        "for cnt, target in enumerate(katpt_targets):\n",
        "    target.body.compute(ref_antenna.observer)\n",
        "    separation_angle = ephem.separation(sun.body, target.body)\n",
        "    print(cnt, target, target.body.alt)    "
      ],
      "execution_count": 98,
      "outputs": [
        {
          "output_type": "stream",
          "text": [
            "0 Jupiter, tags=special, no flux info 33:24:55.6\n"
          ],
          "name": "stdout"
        }
      ]
    },
    {
      "cell_type": "code",
      "metadata": {
        "colab": {
          "base_uri": "https://localhost:8080/",
          "height": 497
        },
        "id": "1ezO7WTTrIAZ",
        "outputId": "d27ee1fe-1fcd-4fe3-d72d-7de9feebd1b6"
      },
      "source": [
        "source_elevation(catalogue, ref_antenna)\n",
        "plt.savefig('elevation.png')\n",
        "plt.show()"
      ],
      "execution_count": 99,
      "outputs": [
        {
          "output_type": "display_data",
          "data": {
            "image/png": "[encoded data removed]",
            "text/plain": [
              "<Figure size 1080x504 with 2 Axes>"
            ]
          },
          "metadata": {
            "tags": []
          }
        }
      ]
    },
    {
      "cell_type": "markdown",
      "metadata": {
        "id": "qCTtbrPULpN5"
      },
      "source": [
        "```\n",
        "configure_obs()\n",
        "obs.sb.new(owner=\"ruby\")\n",
        "obs.sb.type=katuilib.ScheduleBlockTypes.OBSERVATION\n",
        "obs.sb.description=\"Atmospheric OH: Callisto/Jovian\"\n",
        "obs.sb.antenna_spec=\"available\"\n",
        "obs.sb.controlled_resources_spec=\"cbf,sdp\"\n",
        "obs.sb.instruction_set=\"run-obs-script /home/kat/katsdpscripts/observation/image.py /home/kat/katsdpcatalogues/jupiter_callisto.csv -t 904 -g 128 -b 296 -i 3600 -m 28800\"\n",
        "obs.sb.proposal_id=\"SSV-2021????-??-01\"\n",
        "obs.sb.horizon=15.0\n",
        "obs.sb.desired_start_time='2021-08-27 18:00'\n",
        "obs.sb.desired_start_time='2021-09-12 17:00'\n",
        "obs.sb.desired_start_time='2021-09-29 16:00'\n",
        "obs.sb.desired_start_time='2021-10-16 14:30'\n",
        "obs.sb.to_defined()\n",
        "obs.sb.to_approved()\n",
        "obs.sb.unload()\n",
        "```"
      ]
    },
    {
      "cell_type": "code",
      "metadata": {
        "id": "KvWzyMojrIMi"
      },
      "source": [
        ""
      ],
      "execution_count": 99,
      "outputs": []
    }
  ]
}