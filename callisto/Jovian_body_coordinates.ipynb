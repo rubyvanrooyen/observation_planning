{
  "nbformat": 4,
  "nbformat_minor": 0,
  "metadata": {
    "colab": {
      "name": "Jovian body coordinates.ipynb",
      "provenance": [],
      "include_colab_link": true
    },
    "kernelspec": {
      "name": "python3",
      "display_name": "Python 3"
    },
    "language_info": {
      "name": "python"
    }
  },
  "cells": [
    {
      "cell_type": "markdown",
      "metadata": {
        "id": "view-in-github",
        "colab_type": "text"
      },
      "source": [
        "<a href=\"https://colab.research.google.com/github/rubyvanrooyen/observation_planning/blob/main/callisto/Jovian_body_coordinates.ipynb\" target=\"_parent\"><img src=\"https://colab.research.google.com/assets/colab-badge.svg\" alt=\"Open In Colab\"/></a>"
      ]
    },
    {
      "cell_type": "code",
      "metadata": {
        "colab": {
          "base_uri": "https://localhost:8080/"
        },
        "id": "haL1SqdES2JH",
        "outputId": "c3f393c9-3e8d-4375-abcc-20bac4a9135c"
      },
      "source": [
        "#@title Date/Time fields\n",
        "date_input = '2021/06/07' #@param {type:\"date\"}\n",
        "time_input = '13:50:34' #@param {type:\"raw\"}\n",
        "\n",
        "#@title Date/Time fields\n",
        "jovian_body = 'Callisto' #@param [\"Jupiter\", \"Io\", \"Europa\", \"Ganymede\", \"Callisto\"]\n",
        "\n",
        "# unpack input\n",
        "print(f'observe jovian body {jovian_body}')\n",
        "date_time = f'{date_input} {time_input}'\n",
        "print(f'observation datetime set {date_time}')"
      ],
      "execution_count": null,
      "outputs": [
        {
          "output_type": "stream",
          "text": [
            "observe jovian body Callisto\n",
            "observation datetime set 2021/06/07 13:50:34\n"
          ],
          "name": "stdout"
        }
      ]
    },
    {
      "cell_type": "code",
      "metadata": {
        "id": "TQXd44hZKJVg"
      },
      "source": [
        "import ephem\n",
        "from datetime import datetime"
      ],
      "execution_count": null,
      "outputs": []
    },
    {
      "cell_type": "code",
      "metadata": {
        "id": "Utj3XBtmKJb4"
      },
      "source": [
        "# Observer\n",
        "MKT = ephem.Observer()\n",
        "MKT.lat = '-30:42:39.8'\n",
        "MKT.lon = '21:26:38.0'\n",
        "MKT.elevation = 1086.6\n",
        "MKT.horizon = ephem.degrees(20.0)\n",
        "MKT.epoch = ephem.J2000"
      ],
      "execution_count": null,
      "outputs": []
    },
    {
      "cell_type": "code",
      "metadata": {
        "colab": {
          "base_uri": "https://localhost:8080/"
        },
        "id": "_1H_Yyo_TU5x",
        "outputId": "b7bfc7ca-aad7-4b99-d342-5ed07ba442ce"
      },
      "source": [
        "obs_date = datetime.strptime(date_time, '%Y/%m/%d %H:%M:%S')\n",
        "MKT.date = ephem.Date(obs_date)\n",
        "\n",
        "if \"Jupiter\" in jovian_body:\n",
        "    solarbody = ephem.Jupiter(MKT)\n",
        "elif \"Io\" in jovian_body:\n",
        "    solarbody = ephem.Io(MKT)\n",
        "elif \"Europa\" in jovian_body:\n",
        "    solarbody = ephem.Europa(MKT)\n",
        "elif \"Ganymede\" in jovian_body:\n",
        "    solarbody = ephem.Ganymede(MKT)\n",
        "else:  # Callisto\n",
        "    solarbody = ephem.Callisto(MKT)\n",
        "\n",
        "print(f'(ra, dec) coordiantes for jovian body {solarbody.name} @ {date_time}: ({solarbody.ra}, {solarbody.dec})')"
      ],
      "execution_count": null,
      "outputs": [
        {
          "output_type": "stream",
          "text": [
            "(ra, dec) coordiantes for jovian body Callisto @ 2021/06/07 13:50:34: (22:17:24.68, -11:35:23.1)\n"
          ],
          "name": "stdout"
        }
      ]
    },
    {
      "cell_type": "code",
      "metadata": {
        "id": "0Y2JlXqr4ccq"
      },
      "source": [
        "datetimes = ['2020 Dec 21 08:40',\n",
        "  '2020 Dec 21 08:57',\n",
        "  '2020 Dec 21 09:15',\n",
        "  '2020 Dec 21 09:39',\n",
        "  '2020 Dec 21 09:57',\n",
        "  '2020 Dec 21 10:15',\n",
        "  '2020 Dec 21 10:39',\n",
        "  '2020 Dec 21 10:57',\n",
        "  '2020 Dec 21 11:15',\n",
        "  '2020 Dec 21 11:33',\n",
        "  '2020 Dec 21 11:58',\n",
        "  '2020 Dec 21 12:16',\n",
        "  '2020 Dec 21 12:35',\n",
        "  '2020 Dec 21 13:00',\n",
        "  '2020 Dec 21 13:18',\n",
        "  '2020 Dec 21 13:36',\n",
        "  '2020 Dec 21 14:00',\n",
        "  '2020 Dec 21 14:18',\n",
        "  '2020 Dec 21 14:36',\n",
        "  '2020 Dec 21 15:00',\n",
        "  '2020 Dec 21 15:18',\n",
        "  '2020 Dec 21 15:36',\n",
        "  '2020 Dec 21 16:00',\n",
        "  '2020 Dec 21 16:17',\n",
        "  '2020 Dec 21 16:35',\n",
        "  '2020 Dec 21 16:53',\n",
        "  '2020 Dec 21 17:17']"
      ],
      "execution_count": null,
      "outputs": []
    },
    {
      "cell_type": "code",
      "metadata": {
        "id": "Padr0DcgSyxN",
        "colab": {
          "base_uri": "https://localhost:8080/"
        },
        "outputId": "cb63700d-7030-45a4-fe20-6f34cca16698"
      },
      "source": [
        "import numpy as np\n",
        "ra = []\n",
        "dec = []\n",
        "for dt_ in datetimes:\n",
        "    obs_date = datetime.strptime(dt_, '%Y %b %d %H:%M')\n",
        "    MKT.date = ephem.Date(obs_date)\n",
        "    solarbody.compute(MKT)\n",
        "    ra.append(str(solarbody.ra))\n",
        "    dec.append(str(solarbody.dec))\n",
        "    print(f'(ra, dec) coordiantes for jovian body {solarbody.name} @ {dt_}: ({solarbody.ra}, {solarbody.dec})')\n"
      ],
      "execution_count": null,
      "outputs": [
        {
          "output_type": "stream",
          "text": [
            "(ra, dec) coordiantes for jovian body Callisto @ 2020 Dec 21 08:40: (20:11:10.54, -20:30:33.1)\n",
            "(ra, dec) coordiantes for jovian body Callisto @ 2020 Dec 21 08:57: (20:11:11.09, -20:30:31.4)\n",
            "(ra, dec) coordiantes for jovian body Callisto @ 2020 Dec 21 09:15: (20:11:11.70, -20:30:29.7)\n",
            "(ra, dec) coordiantes for jovian body Callisto @ 2020 Dec 21 09:39: (20:11:12.49, -20:30:27.3)\n",
            "(ra, dec) coordiantes for jovian body Callisto @ 2020 Dec 21 09:57: (20:11:13.09, -20:30:25.6)\n",
            "(ra, dec) coordiantes for jovian body Callisto @ 2020 Dec 21 10:15: (20:11:13.68, -20:30:23.8)\n",
            "(ra, dec) coordiantes for jovian body Callisto @ 2020 Dec 21 10:39: (20:11:14.47, -20:30:21.4)\n",
            "(ra, dec) coordiantes for jovian body Callisto @ 2020 Dec 21 10:57: (20:11:15.07, -20:30:19.7)\n",
            "(ra, dec) coordiantes for jovian body Callisto @ 2020 Dec 21 11:15: (20:11:15.66, -20:30:17.9)\n",
            "(ra, dec) coordiantes for jovian body Callisto @ 2020 Dec 21 11:33: (20:11:16.25, -20:30:16.1)\n",
            "(ra, dec) coordiantes for jovian body Callisto @ 2020 Dec 21 11:58: (20:11:17.07, -20:30:13.7)\n",
            "(ra, dec) coordiantes for jovian body Callisto @ 2020 Dec 21 12:16: (20:11:17.66, -20:30:11.9)\n",
            "(ra, dec) coordiantes for jovian body Callisto @ 2020 Dec 21 12:35: (20:11:18.28, -20:30:10.1)\n",
            "(ra, dec) coordiantes for jovian body Callisto @ 2020 Dec 21 13:00: (20:11:19.10, -20:30:07.6)\n",
            "(ra, dec) coordiantes for jovian body Callisto @ 2020 Dec 21 13:18: (20:11:19.68, -20:30:05.8)\n",
            "(ra, dec) coordiantes for jovian body Callisto @ 2020 Dec 21 13:36: (20:11:20.27, -20:30:04.0)\n",
            "(ra, dec) coordiantes for jovian body Callisto @ 2020 Dec 21 14:00: (20:11:21.06, -20:30:01.7)\n",
            "(ra, dec) coordiantes for jovian body Callisto @ 2020 Dec 21 14:18: (20:11:21.65, -20:29:59.9)\n",
            "(ra, dec) coordiantes for jovian body Callisto @ 2020 Dec 21 14:36: (20:11:22.23, -20:29:58.1)\n",
            "(ra, dec) coordiantes for jovian body Callisto @ 2020 Dec 21 15:00: (20:11:23.02, -20:29:55.7)\n",
            "(ra, dec) coordiantes for jovian body Callisto @ 2020 Dec 21 15:18: (20:11:23.60, -20:29:54.0)\n",
            "(ra, dec) coordiantes for jovian body Callisto @ 2020 Dec 21 15:36: (20:11:24.20, -20:29:52.2)\n",
            "(ra, dec) coordiantes for jovian body Callisto @ 2020 Dec 21 16:00: (20:11:24.98, -20:29:49.8)\n",
            "(ra, dec) coordiantes for jovian body Callisto @ 2020 Dec 21 16:17: (20:11:25.53, -20:29:48.1)\n",
            "(ra, dec) coordiantes for jovian body Callisto @ 2020 Dec 21 16:35: (20:11:26.12, -20:29:46.3)\n",
            "(ra, dec) coordiantes for jovian body Callisto @ 2020 Dec 21 16:53: (20:11:26.70, -20:29:44.6)\n",
            "(ra, dec) coordiantes for jovian body Callisto @ 2020 Dec 21 17:17: (20:11:27.49, -20:29:42.2)\n"
          ],
          "name": "stdout"
        }
      ]
    },
    {
      "cell_type": "code",
      "metadata": {
        "colab": {
          "base_uri": "https://localhost:8080/"
        },
        "id": "nDST9COl6jVs",
        "outputId": "d3439f67-2a73-4efb-cb31-0858f8ad1677"
      },
      "source": [
        "print(ra)\n",
        "print(dec)"
      ],
      "execution_count": null,
      "outputs": [
        {
          "output_type": "stream",
          "text": [
            "['20:11:10.54', '20:11:11.09', '20:11:11.70', '20:11:12.49', '20:11:13.09', '20:11:13.68', '20:11:14.47', '20:11:15.07', '20:11:15.66', '20:11:16.25', '20:11:17.07', '20:11:17.66', '20:11:18.28', '20:11:19.10', '20:11:19.68', '20:11:20.27', '20:11:21.06', '20:11:21.65', '20:11:22.23', '20:11:23.02', '20:11:23.60', '20:11:24.20', '20:11:24.98', '20:11:25.53', '20:11:26.12', '20:11:26.70', '20:11:27.49']\n",
            "['-20:30:33.1', '-20:30:31.4', '-20:30:29.7', '-20:30:27.3', '-20:30:25.6', '-20:30:23.8', '-20:30:21.4', '-20:30:19.7', '-20:30:17.9', '-20:30:16.1', '-20:30:13.7', '-20:30:11.9', '-20:30:10.1', '-20:30:07.6', '-20:30:05.8', '-20:30:04.0', '-20:30:01.7', '-20:29:59.9', '-20:29:58.1', '-20:29:55.7', '-20:29:54.0', '-20:29:52.2', '-20:29:49.8', '-20:29:48.1', '-20:29:46.3', '-20:29:44.6', '-20:29:42.2']\n"
          ],
          "name": "stdout"
        }
      ]
    },
    {
      "cell_type": "code",
      "metadata": {
        "id": "JuQbdXhc729_"
      },
      "source": [
        ""
      ],
      "execution_count": null,
      "outputs": []
    }
  ]
}