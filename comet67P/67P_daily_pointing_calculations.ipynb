{
  "nbformat": 4,
  "nbformat_minor": 0,
  "metadata": {
    "colab": {
      "name": "67P daily pointing calculations.ipynb",
      "provenance": [],
      "authorship_tag": "ABX9TyNKoFBO4BoQGlx1raI5ezLQ",
      "include_colab_link": true
    },
    "kernelspec": {
      "name": "python3",
      "display_name": "Python 3"
    },
    "language_info": {
      "name": "python"
    }
  },
  "cells": [
    {
      "cell_type": "markdown",
      "metadata": {
        "id": "view-in-github",
        "colab_type": "text"
      },
      "source": [
        "<a href=\"https://colab.research.google.com/github/rubyvanrooyen/observation_planning/blob/main/comet67P/67P_daily_pointing_calculations.ipynb\" target=\"_parent\"><img src=\"https://colab.research.google.com/assets/colab-badge.svg\" alt=\"Open In Colab\"/></a>"
      ]
    },
    {
      "cell_type": "markdown",
      "metadata": {
        "id": "-ftXe86JD8_W"
      },
      "source": [
        "# MeerKAT pointing calculations for comet 67P/Churyumov-Gerasimenko"
      ]
    },
    {
      "cell_type": "markdown",
      "metadata": {
        "id": "WNx7OntblyRm"
      },
      "source": [
        "## Library Installation"
      ]
    },
    {
      "cell_type": "markdown",
      "metadata": {
        "id": "HwL4yno_EmRl"
      },
      "source": [
        "Use `skyfield` python package and published data files downloaded from the Minor Planet Center.    \n",
        "https://rhodesmill.org/skyfield/kepler-orbits.html"
      ]
    },
    {
      "cell_type": "code",
      "metadata": {
        "id": "mbcnLtlZf09-",
        "colab": {
          "base_uri": "https://localhost:8080/"
        },
        "outputId": "7d053b43-e82f-4ae6-ad00-a60d1c830a05"
      },
      "source": [
        "!pip install skyfield"
      ],
      "execution_count": null,
      "outputs": [
        {
          "output_type": "stream",
          "text": [
            "Collecting skyfield\n",
            "\u001b[?25l  Downloading https://files.pythonhosted.org/packages/64/c3/d9d51275751d649aead4a107c9cc9a2745097281776c90a41ed36e4a83b2/skyfield-1.39.tar.gz (373kB)\n",
            "\u001b[K     |████████████████████████████████| 378kB 5.3MB/s \n",
            "\u001b[?25hRequirement already satisfied: certifi>=2017.4.17 in /usr/local/lib/python3.7/dist-packages (from skyfield) (2021.5.30)\n",
            "Collecting jplephem>=2.13\n",
            "\u001b[?25l  Downloading https://files.pythonhosted.org/packages/05/7f/846bfae2042034dfddbb49e3fb464b484c2d6d9931ca577f9ab6d88804d2/jplephem-2.16.tar.gz (40kB)\n",
            "\u001b[K     |████████████████████████████████| 40kB 4.6MB/s \n",
            "\u001b[?25hRequirement already satisfied: numpy in /usr/local/lib/python3.7/dist-packages (from skyfield) (1.19.5)\n",
            "Collecting sgp4>=2.2\n",
            "\u001b[?25l  Downloading https://files.pythonhosted.org/packages/9b/33/803edd5aa0a6ef80e9f35a9f5793ac4429218878072f36bb62f400e4096d/sgp4-2.20-cp37-cp37m-manylinux2010_x86_64.whl (258kB)\n",
            "\u001b[K     |████████████████████████████████| 266kB 35.4MB/s \n",
            "\u001b[?25hBuilding wheels for collected packages: skyfield, jplephem\n",
            "  Building wheel for skyfield (setup.py) ... \u001b[?25l\u001b[?25hdone\n",
            "  Created wheel for skyfield: filename=skyfield-1.39-cp37-none-any.whl size=417583 sha256=4d9e0f9eafa306d33aa3aa7e67128b7c7cf1a959e141e98b4cc521e4703e631a\n",
            "  Stored in directory: /root/.cache/pip/wheels/bb/a4/a6/2f7e3bc8ec08ffc7485c92d18dd726e0dbafc0f7a8b1519518\n",
            "  Building wheel for jplephem (setup.py) ... \u001b[?25l\u001b[?25hdone\n",
            "  Created wheel for jplephem: filename=jplephem-2.16-cp37-none-any.whl size=46796 sha256=ff40a3e1440cd531a59c4554906ffe27f9542f37064083792eeeee999dbf757a\n",
            "  Stored in directory: /root/.cache/pip/wheels/6c/fe/9f/25afac10d5ef069cde1a252301efdf05401cb9a4ce42356788\n",
            "Successfully built skyfield jplephem\n",
            "Installing collected packages: jplephem, sgp4, skyfield\n",
            "Successfully installed jplephem-2.16 sgp4-2.20 skyfield-1.39\n"
          ],
          "name": "stdout"
        }
      ]
    },
    {
      "cell_type": "markdown",
      "metadata": {
        "id": "RORuVUHIEtl0"
      },
      "source": [
        "Skyfield loads orbital elements from text files using the Pandas library."
      ]
    },
    {
      "cell_type": "code",
      "metadata": {
        "id": "2qsIC2iLi-Vp",
        "colab": {
          "base_uri": "https://localhost:8080/"
        },
        "outputId": "3d552685-f495-4c07-9f09-d6914de62bb9"
      },
      "source": [
        "!pip install pandas"
      ],
      "execution_count": null,
      "outputs": [
        {
          "output_type": "stream",
          "text": [
            "Requirement already satisfied: pandas in /usr/local/lib/python3.7/dist-packages (1.1.5)\n",
            "Requirement already satisfied: numpy>=1.15.4 in /usr/local/lib/python3.7/dist-packages (from pandas) (1.19.5)\n",
            "Requirement already satisfied: python-dateutil>=2.7.3 in /usr/local/lib/python3.7/dist-packages (from pandas) (2.8.1)\n",
            "Requirement already satisfied: pytz>=2017.2 in /usr/local/lib/python3.7/dist-packages (from pandas) (2018.9)\n",
            "Requirement already satisfied: six>=1.5 in /usr/local/lib/python3.7/dist-packages (from python-dateutil>=2.7.3->pandas) (1.15.0)\n"
          ],
          "name": "stdout"
        }
      ]
    },
    {
      "cell_type": "markdown",
      "metadata": {
        "id": "t-oXtNbjFCMh"
      },
      "source": [
        "Library functions used in calculations"
      ]
    },
    {
      "cell_type": "code",
      "metadata": {
        "id": "eWBdiFMtGYTM"
      },
      "source": [
        "from skyfield.constants import GM_SUN_Pitjeva_2005_km3_s2 as GM_SUN\n",
        "from skyfield.api import load, Topos\n",
        "from skyfield.api import S, E, wgs84\n",
        "from skyfield.data import mpc\n",
        "\n",
        "from datetime import timedelta, datetime, timezone\n",
        "\n",
        "from astropy import units as u\n",
        "from astropy.coordinates import SkyCoord, ICRS, AltAz\n",
        "from astropy.coordinates import Longitude, Latitude, EarthLocation\n",
        "from astropy.time import Time\n",
        "\n",
        "import numpy as np"
      ],
      "execution_count": null,
      "outputs": []
    },
    {
      "cell_type": "markdown",
      "metadata": {
        "id": "PixwjX00msr-"
      },
      "source": [
        "## Comet target definition\n",
        "Use Skyfield to map comet ephemeris to sky coordinates given date of interest"
      ]
    },
    {
      "cell_type": "code",
      "metadata": {
        "id": "ZArfIQtsnsTK"
      },
      "source": [
        "comet_name = '67P/Churyumov-Gerasimenko'\n",
        "year = 2021\n",
        "month = 7\n",
        "day = 25"
      ],
      "execution_count": null,
      "outputs": []
    },
    {
      "cell_type": "markdown",
      "metadata": {
        "id": "oZ15HbyBMA_H"
      },
      "source": [
        "Build a dataframe of comets"
      ]
    },
    {
      "cell_type": "code",
      "metadata": {
        "colab": {
          "base_uri": "https://localhost:8080/"
        },
        "id": "MOTSUE3LMD8f",
        "outputId": "d545d135-c409-495b-a74a-20daf5453acc"
      },
      "source": [
        "with load.open(mpc.COMET_URL) as f:\n",
        "    comets = mpc.load_comets_dataframe(f)\n",
        "# Keep only the most recent orbit for each comet,\n",
        "# and index by designation for fast lookup.\n",
        "comets = (comets.sort_values('reference')\n",
        "          .groupby('designation', as_index=False).last()\n",
        "          .set_index('designation', drop=False))\n",
        "\n",
        "print(len(comets), 'comets loaded')\n",
        "print(mpc.COMET_URL)"
      ],
      "execution_count": null,
      "outputs": [
        {
          "output_type": "stream",
          "text": [
            "[#################################] 100% CometEls.txt\n"
          ],
          "name": "stderr"
        },
        {
          "output_type": "stream",
          "text": [
            "899 comets loaded\n",
            "https://www.minorplanetcenter.net/iau/MPCORB/CometEls.txt\n"
          ],
          "name": "stdout"
        }
      ]
    },
    {
      "cell_type": "markdown",
      "metadata": {
        "id": "C3j2smLTMP5L"
      },
      "source": [
        "Read ephemeris of selected comet"
      ]
    },
    {
      "cell_type": "code",
      "metadata": {
        "colab": {
          "base_uri": "https://localhost:8080/"
        },
        "id": "UjBcKx46MUoi",
        "outputId": "d71336c7-eeaf-4306-9de0-358a21906207"
      },
      "source": [
        "ts = load.timescale()\n",
        "eph = load('de421.bsp')\n",
        "sun, earth = eph['sun'], eph['earth']\n",
        "\n",
        "ephem = comets.loc[comet_name]\n",
        "print(ephem)\n",
        "comet = sun + mpc.comet_orbit(ephem, ts, GM_SUN)\n",
        "print(comet)"
      ],
      "execution_count": null,
      "outputs": [
        {
          "output_type": "stream",
          "text": [
            "[#################################] 100% de421.bsp\n"
          ],
          "name": "stderr"
        },
        {
          "output_type": "stream",
          "text": [
            "designation                            67P/Churyumov-Gerasimenko\n",
            "perihelion_year                                             2021\n",
            "perihelion_month                                              11\n",
            "perihelion_day                                            2.0542\n",
            "perihelion_distance_au                                   1.21064\n",
            "eccentricity                                            0.649796\n",
            "argument_of_perihelion_degrees                           22.1261\n",
            "longitude_of_ascending_node_degrees                      36.3341\n",
            "inclination_degrees                                       3.8713\n",
            "magnitude_g                                                   11\n",
            "magnitude_k                                                    4\n",
            "reference                                          MPEC 2021-N06\n",
            "Name: 67P/Churyumov-Gerasimenko, dtype: object\n",
            "Sum of 2 vectors:\n",
            " 'de421.bsp' segment 0 SOLAR SYSTEM BARYCENTER -> 10 SUN\n",
            " _KeplerOrbit 10 SUN -> str\n"
          ],
          "name": "stdout"
        }
      ]
    },
    {
      "cell_type": "markdown",
      "metadata": {
        "id": "MxBhaoKvMlwI"
      },
      "source": [
        "Relating the coordinates to ephem definition and katpoint:\n",
        "\n",
        "* The position of a body is stored as the **Astrometric geocentric position**.\n",
        "The epoch defaults to `J2000` and hence no precession gets applied.\n",
        "These values are available as `a_ra` and `a_dec`.\n",
        "\n",
        "* To calculate where the object will \"appear\" for an observer at the center of the Earth, apply corrections for light-travel time (for solar system objects), gravitational deflection of light, nutation and aberration to the astrometric position.\n",
        "This position refers to the orientation of the Earth’s axes at the given date and time and hence are referred to as \"epoch-of-date\" coordinates;\n",
        "this will not be same as star atlas position. This position is stored as **Apparent geocentric position** and are available as `g_ra` and `g_dec`.\n",
        "\n",
        "* \n",
        "If an `Observer` (`Location`) is specified, parallax corrections are applied to `g_ra` and` g_dec`, to get the apparent position of the body as seen by the Observer on the surface of the Earth.\n",
        "This position is called the **Apparent topocentric position** and are stored as `ra` and `dec`.\n",
        "At the `Observer`‘s date and time, the `alt` and `az` properties defining the object's position in the sky is calculated."
      ]
    },
    {
      "cell_type": "code",
      "metadata": {
        "colab": {
          "base_uri": "https://localhost:8080/"
        },
        "id": "UIa_nau-i-QZ",
        "outputId": "1d71d613-003e-4009-c18c-32b9f4578cb1"
      },
      "source": [
        "t = ts.utc(year, month, day)\n",
        "\n",
        "# Astrometric geocentric position\n",
        "astrometric = earth.at(t).observe(comet)\n",
        "a_ra, a_dec, a_distance = astrometric.radec()\n",
        "print(f'Astrometric ({a_ra.hours}, {a_dec.degrees}) @ distance {a_distance.au} [AU]')\n",
        "\n",
        "# Apparent geocentric position\n",
        "apparent = astrometric.apparent()\n",
        "g_ra, g_dec, g_distance = astrometric.apparent().radec()\n",
        "print(f'Apparent ({g_ra.hours}, {g_dec.degrees}) @ distance {g_distance.au} [AU]')\n",
        "\n",
        "# Apparent topocentric position\n",
        "meerkat = earth + Topos('30.7130 S', '21.4430 E')\n",
        "# meerkat = earth + wgs84.latlon(30.7130 * S, 21.4430 * E)\n",
        "apparent = meerkat.at(t).observe(comet).apparent()\n",
        "ra, dec, distance = apparent.radec()\n",
        "print(f'Topocentric    ({ra.hours}, {dec.degrees}) @ distance {distance.au} [AU]')\n",
        "ra, dec, distance = apparent.radec('date')\n",
        "print(f'Topocentric    ({ra.hours}, {dec.degrees}) @ distance {distance.au} [AU]')\n",
        "print(f'Topocentric    ({ra}, {dec}) @ distance {distance.au} [AU]')\n",
        "\n",
        "alt, az, distance = apparent.altaz()\n",
        "print(f'Horizontal  ({alt.degrees}, {az.degrees}) @ distance {distance.au} [AU]')\n"
      ],
      "execution_count": null,
      "outputs": [
        {
          "output_type": "stream",
          "text": [
            "Astrometric (1.3405746072139022, 3.6709829908869906) @ distance 1.1681507571000782 [AU]\n",
            "Apparent (1.3406380670965705, 3.6718253477308873) @ distance 1.1681507571000782 [AU]\n",
            "Topocentric    (1.3407405475342773, 3.6729480437322075) @ distance 1.168131725488502 [AU]\n",
            "Topocentric    (1.3590883456849534, 3.784383379635797) @ distance 1.1681317254885029 [AU]\n",
            "Topocentric    (01h 21m 32.72s, +03deg 47' 03.8\") @ distance 1.1681317254885029 [AU]\n",
            "Horizontal  (26.470540271030934, 67.56911718392816) @ distance 1.1681317254885029 [AU]\n"
          ],
          "name": "stdout"
        }
      ]
    },
    {
      "cell_type": "code",
      "metadata": {
        "colab": {
          "base_uri": "https://localhost:8080/"
        },
        "id": "B3bKf-vi81Nj",
        "outputId": "80d8194c-57c5-4089-a282-1445e20f74f5"
      },
      "source": [
        "print(f'Comet {comet.target}')\n",
        "print(f'  Observation date {t.utc_strftime()}')\n",
        "print(f'  Astrometric ({a_ra}, {a_dec}) @ distance {a_distance.au} [AU]')\n",
        "print(f'  Apparent ({g_ra}, {g_dec}) @ distance {g_distance.au} [AU]')\n",
        "print(f'  Topocentric    ({ra}, {dec}) @ distance {distance.au} [AU]')\n",
        "print(f'  Horizontal  ({alt}, {az}) @ distance {distance.km/1e6} [M Km]')"
      ],
      "execution_count": null,
      "outputs": [
        {
          "output_type": "stream",
          "text": [
            "Comet 67P/Churyumov-Gerasimenko\n",
            "  Observation date 2021-07-25 00:00:00 UTC\n",
            "  Astrometric (01h 20m 26.07s, +03deg 40' 15.5\") @ distance 1.1681507571000782 [AU]\n",
            "  Apparent (01h 20m 26.30s, +03deg 40' 18.6\") @ distance 1.1681507571000782 [AU]\n",
            "  Topocentric    (01h 21m 32.72s, +03deg 47' 03.8\") @ distance 1.1681317254885029 [AU]\n",
            "  Horizontal  (26deg 28' 13.9\", 67deg 34' 08.8\") @ distance 174.75001883019692 [M Km]\n"
          ],
          "name": "stdout"
        }
      ]
    },
    {
      "cell_type": "markdown",
      "metadata": {
        "id": "kmwWIXLANaRX"
      },
      "source": [
        "Compare values against online view finder    \n",
        "https://theskylive.com/planetarium?objects=sun-moon-67p-c2020f3-mercury-venus-mars-jupiter-saturn-uranus-neptune-pluto&localdata=-30.96827%7C22.13303%7CCarnarvon+(ZA)%7CAfrica%2FJohannesburg%7C0&obj=67p&h=00&m=00&date=2021-07-07#ra|0.6986111111184528|dec|-0.1522222222222532|fov|50"
      ]
    },
    {
      "cell_type": "markdown",
      "metadata": {
        "id": "7efAiHQyNjD-"
      },
      "source": [
        "## Transit\n",
        "Find transit time and equatorial observation coordinates"
      ]
    },
    {
      "cell_type": "code",
      "metadata": {
        "id": "N4VITH2oId20"
      },
      "source": [
        "UTC = timezone(timedelta(hours=0))\n",
        "obs_date = datetime(year, month, day, 0, 0, 0, tzinfo=UTC)\n",
        "\n",
        "# nr seconds in day sampled at some decimation interval\n",
        "decimate = 30  # sec\n",
        "time_samples = range(0, 24*3600, decimate)  # sec\n",
        "\n",
        "Alts = []\n",
        "Datetimes = []\n",
        "for time_cnt in time_samples:\n",
        "    t = ts.from_datetime(obs_date + timedelta(seconds=time_cnt))\n",
        "    alt, az, distance = meerkat.at(t).observe(comet).apparent().altaz()\n",
        "\n",
        "    Alts.append(alt.degrees)\n",
        "    Datetimes.append(t.utc_datetime())"
      ],
      "execution_count": null,
      "outputs": []
    },
    {
      "cell_type": "code",
      "metadata": {
        "colab": {
          "base_uri": "https://localhost:8080/",
          "height": 329
        },
        "id": "s7gpA7bdOFZf",
        "outputId": "def575de-afae-4d4a-8294-8867d6bc3dac"
      },
      "source": [
        "import matplotlib.pyplot as plt\n",
        "import matplotlib\n",
        "dates = matplotlib.dates.date2num(Datetimes)\n",
        "\n",
        "plt.figure\n",
        "fig, ax = plt.subplots(nrows=1, ncols=1,\n",
        "                       figsize=(20, 5),  # W x H\n",
        "                       facecolor='white')\n",
        "ax.plot_date(dates, Alts, 'k,', alpha=0.7)\n",
        "ax.set_ylabel('Altitude [deg]')\n",
        "ax.set_xlabel('DateTime [UTC]')\n",
        "\n",
        "# beautify the x-labels\n",
        "plt.gcf().autofmt_xdate()\n",
        "plt.show()"
      ],
      "execution_count": null,
      "outputs": [
        {
          "output_type": "display_data",
          "data": {
            "image/png": "[encoded data removed]",
            "text/plain": [
              "<Figure size 1440x360 with 1 Axes>"
            ]
          },
          "metadata": {
            "tags": []
          }
        }
      ]
    },
    {
      "cell_type": "code",
      "metadata": {
        "id": "KR5ZSQi7eP5N"
      },
      "source": [
        "# transit\n",
        "transit_idx = np.argmax(Alts)\n",
        "# rise and set time\n",
        "if Alts[0] > 0:\n",
        "    set_idx = np.nonzero(np.array(Alts)<=0)[0][0]\n",
        "    rise_idx = set_idx + np.nonzero(np.array(Alts)[set_idx:]>=0)[0][0]\n",
        "else:\n",
        "    rise_idx = np.nonzero(np.array(Alts)>=0)[0][0]\n",
        "    set_idx = rise_idx + np.nonzero(np.array(Alts)[rise_idx:]<=0)[0][0]"
      ],
      "execution_count": null,
      "outputs": []
    },
    {
      "cell_type": "code",
      "metadata": {
        "colab": {
          "base_uri": "https://localhost:8080/"
        },
        "id": "JrYsjLPTl6qR",
        "outputId": "01a12a70-1bbf-40d6-8b14-56014c4b178b"
      },
      "source": [
        "rise_time = Datetimes[rise_idx]\n",
        "transit_time = Datetimes[transit_idx]\n",
        "set_time = Datetimes[set_idx]\n",
        "print(f'Time table for {t.utc_strftime()}')\n",
        "print(f'   Rising: {rise_time}')\n",
        "print(f'  Transit: {transit_time} @ {Alts[transit_idx]:.3f} [deg]')\n",
        "print(f'  Setting: {set_time}')"
      ],
      "execution_count": null,
      "outputs": [
        {
          "output_type": "stream",
          "text": [
            "Time table for 2021-07-25 23:59:30 UTC\n",
            "   Rising: 2021-07-25 21:52:30+00:00\n",
            "  Transit: 2021-07-25 03:43:30+00:00 @ 55.468 [deg]\n",
            "  Setting: 2021-07-25 09:34:30+00:00\n"
          ],
          "name": "stdout"
        }
      ]
    },
    {
      "cell_type": "markdown",
      "metadata": {
        "id": "K-S8cFr5mls4"
      },
      "source": [
        "# Skyfield observational coordinates"
      ]
    },
    {
      "cell_type": "code",
      "metadata": {
        "colab": {
          "base_uri": "https://localhost:8080/"
        },
        "id": "F6Y_7BMedA15",
        "outputId": "933d6376-bd6d-4fce-a06f-658654efeac0"
      },
      "source": [
        "t = ts.utc(year, month, day)\n",
        "date = t.utc_strftime(format='%Y-%m-%d')\n",
        "\n",
        "comet_coords = {}\n",
        "comet_coords[comet.target] = {'date': date}\n",
        "print(comet_coords)\n",
        "\n",
        "# geocentric astrometric coords (a_ra, a_dec, dt)\n",
        "comet_coords[comet.target]['astrometric'] = {'rise': None, 'transit': None, 'set': None}\n",
        "# topocentric apparent coords (alt, az, dist)\n",
        "comet_coords[comet.target]['skyfield'] = {'rise': None, 'transit': None, 'set': None, 'radius': None}"
      ],
      "execution_count": null,
      "outputs": [
        {
          "output_type": "stream",
          "text": [
            "{'67P/Churyumov-Gerasimenko': {'date': '2021-07-25'}}\n"
          ],
          "name": "stdout"
        }
      ]
    },
    {
      "cell_type": "code",
      "metadata": {
        "id": "LTpbdpuBmGNC"
      },
      "source": [
        "def comet_location(datetime_obj):\n",
        "    t = ts.from_datetime(datetime_obj)\n",
        "    astrometric = earth.at(t).observe(comet)\n",
        "    a_ra, a_dec, _ = astrometric.radec()\n",
        "    apparent = meerkat.at(t).observe(comet).apparent()\n",
        "    alt, az, distance = apparent.altaz()\n",
        "    return t, a_ra, a_dec, alt, az, distance"
      ],
      "execution_count": null,
      "outputs": []
    },
    {
      "cell_type": "code",
      "metadata": {
        "id": "D8SewM5xblhg"
      },
      "source": [
        "# rise\n",
        "t, ra, dec, alt, az, distance = comet_location(rise_time)\n",
        "dt = t.utc_strftime(format=\"%Y-%m-%d %H:%M:%S\")\n",
        "comet_coords[comet.target]['astrometric']['rise'] = (ra, dec, dt)\n",
        "comet_coords[comet.target]['skyfield']['rise'] = (alt.degrees, az.degrees, distance)\n",
        "# transit\n",
        "t, ra, dec, alt, az, distance = comet_location(transit_time)\n",
        "dt = t.utc_strftime(format=\"%Y-%m-%d %H:%M:%S\")\n",
        "comet_coords[comet.target]['astrometric']['transit'] = (ra, dec, dt)\n",
        "comet_coords[comet.target]['skyfield']['transit'] = (alt.degrees, az.degrees, distance)\n",
        "# set\n",
        "t, ra, dec, alt, az, distance = comet_location(set_time)\n",
        "dt = t.utc_strftime(format=\"%Y-%m-%d %H:%M:%S\")\n",
        "comet_coords[comet.target]['astrometric']['set'] = (ra, dec, dt)\n",
        "comet_coords[comet.target]['skyfield']['set'] = (alt.degrees, az.degrees, distance)\n",
        "\n",
        "# angular distance travelled\n",
        "t = ts.from_datetime(rise_time)\n",
        "comet_rising = meerkat.at(t).observe(comet)\n",
        "t = ts.from_datetime(set_time)\n",
        "comet_setting = meerkat.at(t).observe(comet)\n",
        "rho = comet_rising.separation_from(comet_setting)\n",
        "comet_coords[comet.target]['skyfield']['radius'] = rho.degrees"
      ],
      "execution_count": null,
      "outputs": []
    },
    {
      "cell_type": "markdown",
      "metadata": {
        "id": "xrvdMoqtmqud"
      },
      "source": [
        "# Ephem observational coordinates"
      ]
    },
    {
      "cell_type": "code",
      "metadata": {
        "id": "VEBQChnk3JLt"
      },
      "source": [
        "import ephem\n",
        "\n",
        "# Observer\n",
        "MKT = ephem.Observer()\n",
        "MKT.lat = '-30:42:39.8'\n",
        "MKT.lon = '21:26:38.0'\n",
        "MKT.elevation = 1086.6\n",
        "MKT.horizon = ephem.degrees('15.0')\n",
        "MKT.epoch = ephem.J2000"
      ],
      "execution_count": null,
      "outputs": []
    },
    {
      "cell_type": "code",
      "metadata": {
        "id": "rPvbeaAtwCwt"
      },
      "source": [
        "comet_coords[comet.target]['ephem'] = {'rise': None, 'transit': None, 'set': None, 'radius': None}\n",
        "\n",
        "comet_ = ephem.FixedBody()\n",
        "comet_.name = '67P'\n",
        "# rise\n",
        "comet_rising = ephem.FixedBody()\n",
        "comet_rising.name = '67P'\n",
        "ra, dec, dt = comet_coords[comet.target]['astrometric']['rise']\n",
        "ra_hms = ra.hms()\n",
        "ra_str = f'{int(ra_hms[0])}:{int(ra_hms[1])}:{ra_hms[2]:.3f}'\n",
        "comet_rising._ra = ephem.hours(ra_str)\n",
        "dec_dms = dec.signed_dms()\n",
        "dec_str = f'{dec_dms[0]*int(dec_dms[1])}:{int(dec_dms[2])}:{dec_dms[3]:.3f}'\n",
        "comet_rising._dec = ephem.degrees(dec_str)\n",
        "MKT.date = ephem.Date(dt)\n",
        "comet_rising.compute(MKT)\n",
        "comet_coords[comet.target]['ephem']['rise'] = (np.degrees(comet_rising.alt),\n",
        "                                               np.degrees(comet_rising.az),\n",
        "                                               None)\n",
        "# transit\n",
        "ra, dec, dt = comet_coords[comet.target]['astrometric']['transit']\n",
        "ra_hms = ra.hms()\n",
        "ra_str = f'{int(ra_hms[0])}:{int(ra_hms[1])}:{ra_hms[2]:.3f}'\n",
        "comet_._ra = ephem.hours(ra_str)\n",
        "dec_dms = dec.signed_dms()\n",
        "dec_str = f'{dec_dms[0]*int(dec_dms[1])}:{int(dec_dms[2])}:{dec_dms[3]:.3f}'\n",
        "comet_._dec = ephem.degrees(dec_str)\n",
        "MKT.date = ephem.Date(dt)\n",
        "comet_.compute(MKT)\n",
        "comet_coords[comet.target]['ephem']['transit'] = (np.degrees(comet_.alt),\n",
        "                                                  np.degrees(comet_.az),\n",
        "                                                  None)\n",
        "\n",
        "# set\n",
        "comet_setting = ephem.FixedBody()\n",
        "comet_setting.name = '67P'\n",
        "ra, dec, dt = comet_coords[comet.target]['astrometric']['set']\n",
        "ra_hms = ra.hms()\n",
        "ra_str = f'{int(ra_hms[0])}:{int(ra_hms[1])}:{ra_hms[2]:.3f}'\n",
        "comet_setting._ra = ephem.hours(ra_str)\n",
        "dec_dms = dec.signed_dms()\n",
        "dec_str = f'{dec_dms[0]*int(dec_dms[1])}:{int(dec_dms[2])}:{dec_dms[3]:.3f}'\n",
        "comet_setting._dec = ephem.degrees(dec_str)\n",
        "MKT.date = ephem.Date(dt)\n",
        "comet_setting.compute(MKT)\n",
        "comet_coords[comet.target]['ephem']['set'] = (np.degrees(comet_setting.alt),\n",
        "                                              np.degrees(comet_setting.az),\n",
        "                                              None)\n",
        "\n",
        "# angular distance travelled\n",
        "rho = np.degrees(ephem.separation(comet_rising, comet_setting))\n",
        "comet_coords[comet.target]['ephem']['radius'] = rho"
      ],
      "execution_count": null,
      "outputs": []
    },
    {
      "cell_type": "markdown",
      "metadata": {
        "id": "b3fV3hCimqOv"
      },
      "source": [
        "# Astropy observational coordinates"
      ]
    },
    {
      "cell_type": "code",
      "metadata": {
        "id": "frfjF5-b0kre"
      },
      "source": [
        "location = EarthLocation.from_geodetic(Longitude('21:26:38.0',\n",
        "                                                 u.degree,\n",
        "                                                 wrap_angle=180. * u.degree,\n",
        "                                                 copy=False),\n",
        "                                       Latitude('-30:42:39.8',\n",
        "                                                u.degree,\n",
        "                                                copy=False),\n",
        "                                       height=u.Quantity(1086.6,\n",
        "                                                         u.m,\n",
        "                                                         copy=False))"
      ],
      "execution_count": null,
      "outputs": []
    },
    {
      "cell_type": "code",
      "metadata": {
        "id": "qyACZQPX4N_u"
      },
      "source": [
        "comet_coords[comet.target]['astropy'] = {'rise': None, 'transit': None, 'set': None, 'radius': None}\n",
        "\n",
        "# rise\n",
        "ra, dec, dt = comet_coords[comet.target]['astrometric']['rise']\n",
        "comet_rising = SkyCoord(ra=ra.hours*u.hour, dec=dec.degrees*u.deg, frame='icrs')\n",
        "obs_time = Time(dt)\n",
        "observer = AltAz(location=location, obstime=obs_time)\n",
        "altaz = comet_rising.transform_to(observer)\n",
        "comet_coords[comet.target]['astropy']['rise'] = (altaz.alt.deg, altaz.az.deg, None)\n",
        "\n",
        "# transit\n",
        "ra, dec, dt = comet_coords[comet.target]['astrometric']['transit']\n",
        "comet_ = SkyCoord(ra=ra.hours*u.hour, dec=dec.degrees*u.deg, frame='icrs')\n",
        "obs_time = Time(dt)\n",
        "observer = AltAz(location=location, obstime=obs_time)\n",
        "altaz = comet_.transform_to(observer)\n",
        "comet_coords[comet.target]['astropy']['transit'] = (altaz.alt.deg, altaz.az.deg, None)\n",
        "\n",
        "# set\n",
        "ra, dec, dt = comet_coords[comet.target]['astrometric']['set']\n",
        "comet_setting = SkyCoord(ra=ra.hours*u.hour, dec=dec.degrees*u.deg, frame='icrs')\n",
        "obs_time = Time(dt)\n",
        "observer = AltAz(location=location, obstime=obs_time)\n",
        "altaz = comet_setting.transform_to(observer)\n",
        "comet_coords[comet.target]['astropy']['set'] = (altaz.alt.deg, altaz.az.deg, None)\n",
        "\n",
        "# angular distance travelled\n",
        "rho = comet_rising.separation(comet_setting).to(u.deg)\n",
        "comet_coords[comet.target]['astropy']['radius'] = rho.degree"
      ],
      "execution_count": null,
      "outputs": []
    },
    {
      "cell_type": "markdown",
      "metadata": {
        "id": "cqLry3wL6jwh"
      },
      "source": [
        "# Output"
      ]
    },
    {
      "cell_type": "markdown",
      "metadata": {
        "id": "mUEcSYvg6nJt"
      },
      "source": [
        "# Comparison\n",
        "Compare (alt, az) coord calc for `skyfield`, `ephem` and `astropy`"
      ]
    },
    {
      "cell_type": "code",
      "metadata": {
        "colab": {
          "base_uri": "https://localhost:8080/"
        },
        "id": "sq2ZMDY33-TV",
        "outputId": "e777d9e0-0932-40b9-d323-f173c6df7970"
      },
      "source": [
        "for comet_ in comet_coords:\n",
        "    print(comet_)\n",
        "    print(comet_coords[comet_]['date'])\n",
        "    for key0 in ['rise', 'transit', 'set']:\n",
        "        print(f\"{key0.capitalize()} time: {comet_coords[comet_]['astrometric'][key0][2]} UTC\")\n",
        "        ra = comet_coords[comet_]['astrometric'][key0][0]\n",
        "        dec = comet_coords[comet_]['astrometric'][key0][1]\n",
        "        print(f'  Equatorial ({ra}, {dec})')\n",
        "        for key1 in ['skyfield', 'ephem', 'astropy']:\n",
        "            alt = comet_coords[comet_][key1][key0][0]\n",
        "            az = comet_coords[comet_][key1][key0][1]\n",
        "            dist = comet_coords[comet_][key1][key0][2]\n",
        "            if dist is not None:\n",
        "                print(f'  Horizontal ({alt:.3f}, {az:.3f}) @ distance {dist.km/1e6:.3f} [mKm]')\n",
        "            else:\n",
        "                print(f'  Horizontal ({alt:.3f}, {az:.3f})')\n",
        "    for key1 in ['skyfield', 'ephem', 'astropy']:\n",
        "        rho = comet_coords[comet.target][key1]['radius']\n",
        "        print(f'Angular distance travelled during period visible {rho:.3f} [deg]')"
      ],
      "execution_count": null,
      "outputs": [
        {
          "output_type": "stream",
          "text": [
            "67P/Churyumov-Gerasimenko\n",
            "2021-07-25\n",
            "Rise time: 2021-07-25 21:52:30 UTC\n",
            "  Equatorial (01h 22m 30.55s, +03deg 52' 27.5\")\n",
            "  Horizontal (0.094, 85.305) @ distance 172.803 [mKm]\n",
            "  Horizontal (0.555, 85.304)\n",
            "  Horizontal (0.097, 85.304)\n",
            "Transit time: 2021-07-25 03:43:30 UTC\n",
            "  Equatorial (01h 20m 47.21s, +03deg 42' 19.9\")\n",
            "  Horizontal (55.468, 0.141) @ distance 174.415 [mKm]\n",
            "  Horizontal (55.482, 0.138)\n",
            "  Horizontal (55.471, 0.139)\n",
            "Set time: 2021-07-25 09:34:30 UTC\n",
            "  Equatorial (01h 21m 20.45s, +03deg 45' 35.4\")\n",
            "  Horizontal (-0.067, 274.466) @ distance 173.898 [mKm]\n",
            "  Horizontal (0.414, 274.465)\n",
            "  Horizontal (-0.066, 274.465)\n",
            "Angular distance travelled during period visible 0.316 [deg]\n",
            "Angular distance travelled during period visible 0.313 [deg]\n",
            "Angular distance travelled during period visible 0.313 [deg]\n"
          ],
          "name": "stdout"
        }
      ]
    },
    {
      "cell_type": "markdown",
      "metadata": {
        "id": "_jKAApmm6h1V"
      },
      "source": [
        "# Observation coords\n",
        "Summary for scheduling and documentation"
      ]
    },
    {
      "cell_type": "code",
      "metadata": {
        "id": "JxTqJvrgnC0x",
        "colab": {
          "base_uri": "https://localhost:8080/"
        },
        "outputId": "2fc35bc4-2669-4a35-f1e6-fb079e51ed9b"
      },
      "source": [
        "for comet_ in comet_coords:\n",
        "    for key0 in ['rise', 'transit', 'set']:\n",
        "        print(f\"{key0.capitalize()}\")\n",
        "        ra, dec, dt = comet_coords[comet_]['astrometric'][key0]\n",
        "        ra_hms = ra.hms()\n",
        "        ra_str = f'{int(ra_hms[0])}:{int(ra_hms[1])}:{ra_hms[2]:.3f}'\n",
        "        dec_dms = dec.signed_dms()\n",
        "        dec_str = f'{int(dec_dms[0])*int(dec_dms[1])}:{int(dec_dms[2])}:{dec_dms[3]:.3f}'\n",
        "        alt, az, dist = comet_coords[comet_]['skyfield'][key0]\n",
        "        rho = comet_coords[comet.target]['skyfield']['radius']\n",
        "        print(f\"  Time:  {dt} UTC\")\n",
        "        print(f'  RaDec: {ra_str}, {dec_str}')\n",
        "        print(f'  Alt:   {alt:.5f}')\n",
        "        print(f'  Dist:  {rho:.3f} [deg], {dist.au:.4f} [AU]')"
      ],
      "execution_count": null,
      "outputs": [
        {
          "output_type": "stream",
          "text": [
            "Rise\n",
            "  Time:  2021-07-25 21:52:30 UTC\n",
            "  RaDec: 1:22:30.554, 3:52:27.460\n",
            "  Alt:   0.09403\n",
            "  Dist:  0.316 [deg], 1.1551 [AU]\n",
            "Transit\n",
            "  Time:  2021-07-25 03:43:30 UTC\n",
            "  RaDec: 1:20:47.208, 3:42:19.909\n",
            "  Alt:   55.46798\n",
            "  Dist:  0.316 [deg], 1.1659 [AU]\n",
            "Set\n",
            "  Time:  2021-07-25 09:34:30 UTC\n",
            "  RaDec: 1:21:20.454, 3:45:35.448\n",
            "  Alt:   -0.06741\n",
            "  Dist:  0.316 [deg], 1.1624 [AU]\n"
          ],
          "name": "stdout"
        }
      ]
    },
    {
      "cell_type": "code",
      "metadata": {
        "id": "CIsMBQmP_AQj"
      },
      "source": [
        "def elev_calc(datetime_obj, risetime=False, settime=False):\n",
        "    UTC = timezone(timedelta(hours=0))\n",
        "    obs_date = datetime(datetime_obj.year, datetime_obj.month, datetime_obj.day, 0, 0, 0, tzinfo=UTC)\n",
        "    # nr seconds in day sampled at some decimation interval\n",
        "    decimate = 30  # sec\n",
        "    time_samples = range(0, 24*3600, decimate)  # sec\n",
        "    \n",
        "    Alts = []\n",
        "    Datetimes = []\n",
        "    for time_cnt in time_samples:\n",
        "        t = ts.from_datetime(obs_date + timedelta(seconds=time_cnt))\n",
        "        alt, az, distance = meerkat.at(t).observe(comet).apparent().altaz()\n",
        "\n",
        "        Alts.append(alt.degrees)\n",
        "        Datetimes.append(t.utc_datetime())\n",
        "\n",
        "    # transit\n",
        "    transit_idx = np.argmax(Alts)    \n",
        "    # rise and set time\n",
        "    if Alts[0] > 0:\n",
        "        set_idx = np.nonzero(np.array(Alts)<=0)[0][0]\n",
        "        rise_idx = set_idx + np.nonzero(np.array(Alts)[set_idx:]>=0)[0][0]\n",
        "    else:\n",
        "        rise_idx = np.nonzero(np.array(Alts)>=0)[0][0]\n",
        "        set_idx = rise_idx + np.nonzero(np.array(Alts)[rise_idx:]<=0)[0][0]\n",
        "    \n",
        "    if risetime:\n",
        "        return Datetimes[rise_idx]\n",
        "    elif settime:\n",
        "        return Datetimes[set_idx]\n",
        "    else:  # transit\n",
        "        return Datetimes[transit_idx]\n",
        "\n",
        "ra, dec, rise_time = comet_coords[comet.target]['astrometric']['rise']\n",
        "ra, dec, set_time = comet_coords[comet.target]['astrometric']['set']\n",
        "date_time_rise = datetime.strptime(rise_time, '%Y-%m-%d %H:%M:%S')\n",
        "date_time_set = datetime.strptime(set_time, '%Y-%m-%d %H:%M:%S')\n",
        "time_delta = date_time_set-date_time_rise\n",
        "if time_delta.total_seconds() < 0:\n",
        "    yesterday = date_time_rise - timedelta(days=1)\n",
        "    rise_time = elev_calc(yesterday, risetime=True).strftime(format=\"%Y-%m-%d %H:%M:%S\")\n",
        "\n",
        "date_time_rise = datetime.strptime(rise_time, '%Y-%m-%d %H:%M:%S')\n",
        "time_delta = date_time_set-date_time_rise"
      ],
      "execution_count": null,
      "outputs": []
    },
    {
      "cell_type": "code",
      "metadata": {
        "colab": {
          "base_uri": "https://localhost:8080/"
        },
        "id": "tF3YM3iKfWUu",
        "outputId": "c7421d63-bb21-46b3-da92-6131a7c3b077"
      },
      "source": [
        "ra, dec, dt = comet_coords[comet_]['astrometric']['transit']\n",
        "ra_hms = ra.hms()\n",
        "ra_str = f'{int(ra_hms[0])}:{int(ra_hms[1])}:{ra_hms[2]:.3f}'\n",
        "dec_dms = dec.signed_dms()\n",
        "dec_str = f'{int(dec_dms[0])*int(dec_dms[1])}:{int(dec_dms[2])}:{dec_dms[3]:.3f}'\n",
        "\n",
        "alt, az, dist = comet_coords[comet_]['skyfield']['transit']\n",
        "\n",
        "UTC = timezone(timedelta(hours=0))\n",
        "# angular distance travelled\n",
        "t = ts.from_datetime(datetime(date_time_rise.year, date_time_rise.month, date_time_rise.day, 0, 0, 0, tzinfo=UTC))\n",
        "comet_rising = meerkat.at(t).observe(comet)\n",
        "t = ts.from_datetime(datetime(date_time_set.year, date_time_set.month, date_time_set.day, 0, 0, 0, tzinfo=UTC))\n",
        "comet_setting = meerkat.at(t).observe(comet)\n",
        "rho = comet_rising.separation_from(comet_setting)\n",
        "\n",
        "print(f\"Date \\t   Time \\t RA \\t         Dec \\t         d (deg) \\t D [AU]\")\n",
        "print(f\"{dt} \\t {ra_str} \\t {dec_str} \\t {rho.degrees:.4f} \\t {dist.au:.4f}\")\n",
        "print(f\"Comet is visible for {time_delta.total_seconds()/3600.:.3f} hrs and deviates {rho.degrees:.4f} degrees ({rho.arcminutes():.3f} arcmin) from assigned pointing position during this time\")\n"
      ],
      "execution_count": null,
      "outputs": [
        {
          "output_type": "stream",
          "text": [
            "Date \t   Time \t RA \t         Dec \t         d (deg) \t D [AU]\n",
            "2021-07-25 03:43:30 \t 1:20:47.208 \t 3:42:19.909 \t 0.6061 \t 1.1659\n",
            "Comet is visible for 11.683 hrs and deviates 0.6061 degrees (36.366 arcmin) from assigned pointing position during this time\n"
          ],
          "name": "stdout"
        }
      ]
    },
    {
      "cell_type": "code",
      "metadata": {
        "id": "Wt9rVmHSioNw"
      },
      "source": [
        ""
      ],
      "execution_count": null,
      "outputs": []
    }
  ]
}