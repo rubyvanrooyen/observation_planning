{
  "nbformat": 4,
  "nbformat_minor": 0,
  "metadata": {
    "colab": {
      "name": "67P orbit from XEphem ephemeris.ipynb",
      "provenance": [],
      "toc_visible": true,
      "authorship_tag": "ABX9TyMNNQcm4tGBPLhyVUdyhLqQ",
      "include_colab_link": true
    },
    "kernelspec": {
      "name": "python3",
      "display_name": "Python 3"
    },
    "language_info": {
      "name": "python"
    }
  },
  "cells": [
    {
      "cell_type": "markdown",
      "metadata": {
        "id": "view-in-github",
        "colab_type": "text"
      },
      "source": [
        "<a href=\"https://colab.research.google.com/github/rubyvanrooyen/observation_planning/blob/main/comet67P/67P_orbit_from_XEphem_ephemeris.ipynb\" target=\"_parent\"><img src=\"https://colab.research.google.com/assets/colab-badge.svg\" alt=\"Open In Colab\"/></a>"
      ]
    },
    {
      "cell_type": "markdown",
      "metadata": {
        "id": "mKV_lxtMALZY"
      },
      "source": [
        "# Orbital plots for comet 67P/Churyumov-Gerasimenko"
      ]
    },
    {
      "cell_type": "markdown",
      "metadata": {
        "id": "E1oRZ92uTCXk"
      },
      "source": [
        "## Installations\n",
        "Use `skyfield` python package and published data files downloaded from the Minor Planet Center.    \n",
        "https://rhodesmill.org/skyfield/kepler-orbits.html"
      ]
    },
    {
      "cell_type": "code",
      "metadata": {
        "id": "jSaf3DnASk30"
      },
      "source": [
        "!pip install skyfield"
      ],
      "execution_count": null,
      "outputs": []
    },
    {
      "cell_type": "markdown",
      "metadata": {
        "id": "nAmLVlFWXtYJ"
      },
      "source": [
        "Skyfield loads orbital elements from text files using the Pandas library."
      ]
    },
    {
      "cell_type": "code",
      "metadata": {
        "id": "Uah2s-OaSmQI",
        "colab": {
          "base_uri": "https://localhost:8080/"
        },
        "outputId": "86362361-d8a4-4c70-eab0-fa35be19144a"
      },
      "source": [
        "!pip install pandas"
      ],
      "execution_count": 2,
      "outputs": [
        {
          "output_type": "stream",
          "text": [
            "Requirement already satisfied: pandas in /usr/local/lib/python3.7/dist-packages (1.1.5)\n",
            "Requirement already satisfied: python-dateutil>=2.7.3 in /usr/local/lib/python3.7/dist-packages (from pandas) (2.8.1)\n",
            "Requirement already satisfied: numpy>=1.15.4 in /usr/local/lib/python3.7/dist-packages (from pandas) (1.19.5)\n",
            "Requirement already satisfied: pytz>=2017.2 in /usr/local/lib/python3.7/dist-packages (from pandas) (2018.9)\n",
            "Requirement already satisfied: six>=1.5 in /usr/local/lib/python3.7/dist-packages (from python-dateutil>=2.7.3->pandas) (1.15.0)\n"
          ],
          "name": "stdout"
        }
      ]
    },
    {
      "cell_type": "markdown",
      "metadata": {
        "id": "nq4ZQozQto1F"
      },
      "source": [
        "MeerKAT observations uses `katpoint` objects and the `PyEphem` library"
      ]
    },
    {
      "cell_type": "code",
      "metadata": {
        "id": "L9QRv4pZt1LV",
        "colab": {
          "base_uri": "https://localhost:8080/"
        },
        "outputId": "372d9584-73d9-40ec-8b72-7acabbd93f94"
      },
      "source": [
        "!pip install katpoint"
      ],
      "execution_count": 3,
      "outputs": [
        {
          "output_type": "stream",
          "text": [
            "Collecting katpoint\n",
            "\u001b[?25l  Downloading https://files.pythonhosted.org/packages/1e/cf/046884bb78b838d76443f7c6a7ab3f432fc94c956352797f60f51dc861e5/katpoint-0.10-py2.py3-none-any.whl (99kB)\n",
            "\r\u001b[K     |███▎                            | 10kB 12.8MB/s eta 0:00:01\r\u001b[K     |██████▋                         | 20kB 17.4MB/s eta 0:00:01\r\u001b[K     |█████████▉                      | 30kB 20.2MB/s eta 0:00:01\r\u001b[K     |█████████████▏                  | 40kB 22.2MB/s eta 0:00:01\r\u001b[K     |████████████████▌               | 51kB 24.2MB/s eta 0:00:01\r\u001b[K     |███████████████████▊            | 61kB 25.8MB/s eta 0:00:01\r\u001b[K     |███████████████████████         | 71kB 27.2MB/s eta 0:00:01\r\u001b[K     |██████████████████████████▍     | 81kB 27.2MB/s eta 0:00:01\r\u001b[K     |█████████████████████████████▋  | 92kB 28.4MB/s eta 0:00:01\r\u001b[K     |████████████████████████████████| 102kB 8.8MB/s \n",
            "\u001b[?25hRequirement already satisfied: future in /usr/local/lib/python3.7/dist-packages (from katpoint) (0.16.0)\n",
            "Requirement already satisfied: ephem in /usr/local/lib/python3.7/dist-packages (from katpoint) (4.0.0.2)\n",
            "Requirement already satisfied: numpy in /usr/local/lib/python3.7/dist-packages (from katpoint) (1.19.5)\n",
            "Installing collected packages: katpoint\n",
            "Successfully installed katpoint-0.10\n"
          ],
          "name": "stdout"
        }
      ]
    },
    {
      "cell_type": "markdown",
      "metadata": {
        "id": "GQsT4OAJCvQ4"
      },
      "source": [
        "## Skyfield comet definition"
      ]
    },
    {
      "cell_type": "markdown",
      "metadata": {
        "id": "sFvLIq89YQvV"
      },
      "source": [
        "Build a dataframe of comets"
      ]
    },
    {
      "cell_type": "code",
      "metadata": {
        "colab": {
          "base_uri": "https://localhost:8080/"
        },
        "id": "DVCRkziCSvmj",
        "outputId": "07a360d5-57d7-4235-c19f-4611c04a28df"
      },
      "source": [
        "from skyfield.api import load\n",
        "from skyfield.data import mpc\n",
        "\n",
        "with load.open(mpc.COMET_URL) as f:\n",
        "    comets = mpc.load_comets_dataframe(f)\n",
        "\n",
        "print(len(comets), 'comets loaded')\n",
        "print(mpc.COMET_URL)"
      ],
      "execution_count": 9,
      "outputs": [
        {
          "output_type": "stream",
          "text": [
            "899 comets loaded\n",
            "https://www.minorplanetcenter.net/iau/MPCORB/CometEls.txt\n"
          ],
          "name": "stdout"
        }
      ]
    },
    {
      "cell_type": "code",
      "metadata": {
        "id": "fcTY3m8TS9kd"
      },
      "source": [
        "# Keep only the most recent orbit for each comet,\n",
        "# and index by designation for fast lookup.\n",
        "comets = (comets.sort_values('reference')\n",
        "          .groupby('designation', as_index=False).last()\n",
        "          .set_index('designation', drop=False))"
      ],
      "execution_count": 10,
      "outputs": []
    },
    {
      "cell_type": "code",
      "metadata": {
        "colab": {
          "base_uri": "https://localhost:8080/",
          "height": 589
        },
        "id": "2D4JDz69TiBZ",
        "outputId": "552e7c33-2f08-4670-b9ec-645527fd15f0"
      },
      "source": [
        "comets"
      ],
      "execution_count": 11,
      "outputs": [
        {
          "output_type": "execute_result",
          "data": {
            "text/html": [
              "<div>\n",
              "<style scoped>\n",
              "    .dataframe tbody tr th:only-of-type {\n",
              "        vertical-align: middle;\n",
              "    }\n",
              "\n",
              "    .dataframe tbody tr th {\n",
              "        vertical-align: top;\n",
              "    }\n",
              "\n",
              "    .dataframe thead th {\n",
              "        text-align: right;\n",
              "    }\n",
              "</style>\n",
              "<table border=\"1\" class=\"dataframe\">\n",
              "  <thead>\n",
              "    <tr style=\"text-align: right;\">\n",
              "      <th></th>\n",
              "      <th>designation</th>\n",
              "      <th>perihelion_year</th>\n",
              "      <th>perihelion_month</th>\n",
              "      <th>perihelion_day</th>\n",
              "      <th>perihelion_distance_au</th>\n",
              "      <th>eccentricity</th>\n",
              "      <th>argument_of_perihelion_degrees</th>\n",
              "      <th>longitude_of_ascending_node_degrees</th>\n",
              "      <th>inclination_degrees</th>\n",
              "      <th>magnitude_g</th>\n",
              "      <th>magnitude_k</th>\n",
              "      <th>reference</th>\n",
              "    </tr>\n",
              "    <tr>\n",
              "      <th>designation</th>\n",
              "      <th></th>\n",
              "      <th></th>\n",
              "      <th></th>\n",
              "      <th></th>\n",
              "      <th></th>\n",
              "      <th></th>\n",
              "      <th></th>\n",
              "      <th></th>\n",
              "      <th></th>\n",
              "      <th></th>\n",
              "      <th></th>\n",
              "      <th></th>\n",
              "    </tr>\n",
              "  </thead>\n",
              "  <tbody>\n",
              "    <tr>\n",
              "      <th>100P/Hartley</th>\n",
              "      <td>100P/Hartley</td>\n",
              "      <td>2022</td>\n",
              "      <td>8</td>\n",
              "      <td>10.9830</td>\n",
              "      <td>2.017170</td>\n",
              "      <td>0.412314</td>\n",
              "      <td>181.9888</td>\n",
              "      <td>37.6981</td>\n",
              "      <td>25.5648</td>\n",
              "      <td>9.0</td>\n",
              "      <td>4.0</td>\n",
              "      <td>MPEC 2013-O31</td>\n",
              "    </tr>\n",
              "    <tr>\n",
              "      <th>101P/Chernykh</th>\n",
              "      <td>101P/Chernykh</td>\n",
              "      <td>2020</td>\n",
              "      <td>1</td>\n",
              "      <td>12.6329</td>\n",
              "      <td>2.344628</td>\n",
              "      <td>0.595986</td>\n",
              "      <td>277.7044</td>\n",
              "      <td>116.2287</td>\n",
              "      <td>5.0527</td>\n",
              "      <td>10.0</td>\n",
              "      <td>4.8</td>\n",
              "      <td>MPEC 2020-FB5</td>\n",
              "    </tr>\n",
              "    <tr>\n",
              "      <th>102P/Shoemaker</th>\n",
              "      <td>102P/Shoemaker</td>\n",
              "      <td>2021</td>\n",
              "      <td>1</td>\n",
              "      <td>22.4082</td>\n",
              "      <td>2.069990</td>\n",
              "      <td>0.457095</td>\n",
              "      <td>20.5473</td>\n",
              "      <td>339.3658</td>\n",
              "      <td>25.8849</td>\n",
              "      <td>6.5</td>\n",
              "      <td>8.0</td>\n",
              "      <td>MPC 86232</td>\n",
              "    </tr>\n",
              "    <tr>\n",
              "      <th>103P/Hartley</th>\n",
              "      <td>103P/Hartley</td>\n",
              "      <td>2023</td>\n",
              "      <td>10</td>\n",
              "      <td>12.8107</td>\n",
              "      <td>1.066176</td>\n",
              "      <td>0.693281</td>\n",
              "      <td>181.2826</td>\n",
              "      <td>219.7326</td>\n",
              "      <td>13.6020</td>\n",
              "      <td>8.5</td>\n",
              "      <td>8.0</td>\n",
              "      <td>MPEC 2018-HA5</td>\n",
              "    </tr>\n",
              "    <tr>\n",
              "      <th>104P/Kowal</th>\n",
              "      <td>104P/Kowal</td>\n",
              "      <td>2022</td>\n",
              "      <td>1</td>\n",
              "      <td>11.1267</td>\n",
              "      <td>1.072861</td>\n",
              "      <td>0.665479</td>\n",
              "      <td>227.1260</td>\n",
              "      <td>207.3847</td>\n",
              "      <td>5.7200</td>\n",
              "      <td>16.0</td>\n",
              "      <td>4.0</td>\n",
              "      <td>MPC100283</td>\n",
              "    </tr>\n",
              "    <tr>\n",
              "      <th>...</th>\n",
              "      <td>...</td>\n",
              "      <td>...</td>\n",
              "      <td>...</td>\n",
              "      <td>...</td>\n",
              "      <td>...</td>\n",
              "      <td>...</td>\n",
              "      <td>...</td>\n",
              "      <td>...</td>\n",
              "      <td>...</td>\n",
              "      <td>...</td>\n",
              "      <td>...</td>\n",
              "      <td>...</td>\n",
              "    </tr>\n",
              "    <tr>\n",
              "      <th>P/2021 J3 (ATLAS)</th>\n",
              "      <td>P/2021 J3 (ATLAS)</td>\n",
              "      <td>2019</td>\n",
              "      <td>7</td>\n",
              "      <td>4.5182</td>\n",
              "      <td>4.904301</td>\n",
              "      <td>0.450806</td>\n",
              "      <td>125.7272</td>\n",
              "      <td>111.2261</td>\n",
              "      <td>14.5602</td>\n",
              "      <td>7.0</td>\n",
              "      <td>4.0</td>\n",
              "      <td>MPEC 2021-N06</td>\n",
              "    </tr>\n",
              "    <tr>\n",
              "      <th>P/2021 L2 (Leonard)</th>\n",
              "      <td>P/2021 L2 (Leonard)</td>\n",
              "      <td>2021</td>\n",
              "      <td>7</td>\n",
              "      <td>24.5739</td>\n",
              "      <td>1.938525</td>\n",
              "      <td>0.521741</td>\n",
              "      <td>51.5496</td>\n",
              "      <td>266.6779</td>\n",
              "      <td>21.0700</td>\n",
              "      <td>17.0</td>\n",
              "      <td>4.0</td>\n",
              "      <td>MPEC 2021-M74</td>\n",
              "    </tr>\n",
              "    <tr>\n",
              "      <th>P/2021 L4 (PANSTARRS)</th>\n",
              "      <td>P/2021 L4 (PANSTARRS)</td>\n",
              "      <td>2019</td>\n",
              "      <td>9</td>\n",
              "      <td>5.3092</td>\n",
              "      <td>2.787228</td>\n",
              "      <td>0.119425</td>\n",
              "      <td>234.7506</td>\n",
              "      <td>243.2235</td>\n",
              "      <td>16.9701</td>\n",
              "      <td>13.5</td>\n",
              "      <td>4.0</td>\n",
              "      <td>MPC xxxxx</td>\n",
              "    </tr>\n",
              "    <tr>\n",
              "      <th>P/2021 N1 (ZTF)</th>\n",
              "      <td>P/2021 N1 (ZTF)</td>\n",
              "      <td>2021</td>\n",
              "      <td>6</td>\n",
              "      <td>6.5490</td>\n",
              "      <td>0.961979</td>\n",
              "      <td>0.676234</td>\n",
              "      <td>21.1805</td>\n",
              "      <td>301.1451</td>\n",
              "      <td>11.5049</td>\n",
              "      <td>18.0</td>\n",
              "      <td>4.0</td>\n",
              "      <td>MPC xxxxx</td>\n",
              "    </tr>\n",
              "    <tr>\n",
              "      <th>P/2021 N2 (Fuls)</th>\n",
              "      <td>P/2021 N2 (Fuls)</td>\n",
              "      <td>2021</td>\n",
              "      <td>10</td>\n",
              "      <td>28.1838</td>\n",
              "      <td>3.826669</td>\n",
              "      <td>0.475630</td>\n",
              "      <td>174.6377</td>\n",
              "      <td>221.9347</td>\n",
              "      <td>12.9899</td>\n",
              "      <td>9.5</td>\n",
              "      <td>4.0</td>\n",
              "      <td>MPEC 2021-D07</td>\n",
              "    </tr>\n",
              "  </tbody>\n",
              "</table>\n",
              "<p>899 rows × 12 columns</p>\n",
              "</div>"
            ],
            "text/plain": [
              "                                 designation  ...      reference\n",
              "designation                                   ...               \n",
              "100P/Hartley                    100P/Hartley  ...  MPEC 2013-O31\n",
              "101P/Chernykh                  101P/Chernykh  ...  MPEC 2020-FB5\n",
              "102P/Shoemaker                102P/Shoemaker  ...      MPC 86232\n",
              "103P/Hartley                    103P/Hartley  ...  MPEC 2018-HA5\n",
              "104P/Kowal                        104P/Kowal  ...      MPC100283\n",
              "...                                      ...  ...            ...\n",
              "P/2021 J3 (ATLAS)          P/2021 J3 (ATLAS)  ...  MPEC 2021-N06\n",
              "P/2021 L2 (Leonard)      P/2021 L2 (Leonard)  ...  MPEC 2021-M74\n",
              "P/2021 L4 (PANSTARRS)  P/2021 L4 (PANSTARRS)  ...      MPC xxxxx\n",
              "P/2021 N1 (ZTF)              P/2021 N1 (ZTF)  ...      MPC xxxxx\n",
              "P/2021 N2 (Fuls)            P/2021 N2 (Fuls)  ...  MPEC 2021-D07\n",
              "\n",
              "[899 rows x 12 columns]"
            ]
          },
          "metadata": {
            "tags": []
          },
          "execution_count": 11
        }
      ]
    },
    {
      "cell_type": "code",
      "metadata": {
        "colab": {
          "base_uri": "https://localhost:8080/"
        },
        "id": "Zlul0EWkDC0a",
        "outputId": "3d710270-21db-4b23-decd-539dc11d001e"
      },
      "source": [
        "skyfield_comet67P = comets.loc['67P/Churyumov-Gerasimenko']\n",
        "print(skyfield_comet67P)"
      ],
      "execution_count": 12,
      "outputs": [
        {
          "output_type": "stream",
          "text": [
            "designation                            67P/Churyumov-Gerasimenko\n",
            "perihelion_year                                             2021\n",
            "perihelion_month                                              11\n",
            "perihelion_day                                            2.0542\n",
            "perihelion_distance_au                                   1.21064\n",
            "eccentricity                                            0.649796\n",
            "argument_of_perihelion_degrees                           22.1261\n",
            "longitude_of_ascending_node_degrees                      36.3341\n",
            "inclination_degrees                                       3.8713\n",
            "magnitude_g                                                   11\n",
            "magnitude_k                                                    4\n",
            "reference                                          MPEC 2021-N06\n",
            "Name: 67P/Churyumov-Gerasimenko, dtype: object\n"
          ],
          "name": "stdout"
        }
      ]
    },
    {
      "cell_type": "markdown",
      "metadata": {
        "id": "fuGm7oCtOUCE"
      },
      "source": [
        "## XEphem comet definition"
      ]
    },
    {
      "cell_type": "code",
      "metadata": {
        "colab": {
          "base_uri": "https://localhost:8080/"
        },
        "id": "hHC7qEcOCzcM",
        "outputId": "a4d309e2-ebf4-457f-c1db-8a1c37b3da7a"
      },
      "source": [
        "a = skyfield_comet67P.perihelion_distance_au\n",
        "P = a**(3./2.)\n",
        "motion = 1./P\n",
        "\n",
        "epoch=f'{skyfield_comet67P.perihelion_month}/{skyfield_comet67P.perihelion_day}/{skyfield_comet67P.perihelion_year}'\n",
        "comet67P_def = f'{skyfield_comet67P.name},e,{skyfield_comet67P.inclination_degrees},{skyfield_comet67P.longitude_of_ascending_node_degrees},{skyfield_comet67P.argument_of_perihelion_degrees},{skyfield_comet67P.perihelion_distance_au},{motion},{skyfield_comet67P.eccentricity},0.0000,{epoch},2000,g {skyfield_comet67P.magnitude_g}, {skyfield_comet67P.magnitude_k}'\n",
        "print(comet67P_def)"
      ],
      "execution_count": 14,
      "outputs": [
        {
          "output_type": "stream",
          "text": [
            "67P/Churyumov-Gerasimenko,e,3.8713,36.3341,22.1261,1.210644,0.7507153897030153,0.649796,0.0000,11/2.0542/2021,2000,g 11.0, 4.0\n"
          ],
          "name": "stdout"
        }
      ]
    },
    {
      "cell_type": "markdown",
      "metadata": {
        "id": "jVcu5c8iMXa4"
      },
      "source": [
        "Ephemeris from Minor Planet & Comet Ephemeris Service for object `67P/Churyumov-Gerasimenko`    \n",
        "https://www.minorplanetcenter.net/iau/MPEph/MPEph.html\n"
      ]
    },
    {
      "cell_type": "code",
      "metadata": {
        "id": "slQx43rxLml0"
      },
      "source": [
        "# From MPEC 2021-N06\n",
        "xephem_comet67P = '67P/Churyumov-Gerasimenko,e,3.8713,36.3348,22.1246,3.457120,0.1533319,0.649811,341.5921,07/05.0/2021,2000,g 11.0,4.0'"
      ],
      "execution_count": 15,
      "outputs": []
    },
    {
      "cell_type": "markdown",
      "metadata": {
        "id": "Z0EpPI2GNnXI"
      },
      "source": [
        "```\n",
        "# From MPEC 2021-N06  67P/Churyumov-Gerasimenko,e,3.8713,36.3348,22.1246,3.457120,0.1533319,0.649811,341.5921,07/05.0/2021,2000,g 11.0,4.0\n",
        "```\n",
        "\n",
        "```\n",
        "a = comet67P.perihelion_distance_au\n",
        "P = a**(3./2.)\n",
        "motion = 1./P (a = 3.457120; P = a**(3./2.); motion = 1./P = 0.15557088350169382)\n",
        "epoch=f'{comet67P.perihelion_month}/{comet67P.perihelion_day}/{comet67P.perihelion_year}\n",
        "\n",
        "67P/Churyumov-Gerasimenko,{comet67P.name}\n",
        "e,\n",
        "3.8712,{comet67P.inclination_degrees}\n",
        "36.3361,{comet67P.longitude_of_ascending_node_degrees}\n",
        "22.122,{comet67P.argument_of_perihelion_degrees}\n",
        "1.21064,{comet67P.perihelion_distance_au}\n",
        "0.7507191102938259,{motion}\n",
        "0.649832,{comet67P.eccentricity}\n",
        "0.0000,\n",
        "11/2.0436/2021,{epoch}\n",
        "2000,\n",
        "g 11.0,{comet67P.magnitude_g}\n",
        "4.0{comet67P.magnitude_k}\n",
        "```\n"
      ]
    },
    {
      "cell_type": "markdown",
      "metadata": {
        "id": "4FEPKojWBB2R"
      },
      "source": [
        "## Orbital element\n",
        "Creating a `katpoint` recognisable target as an `xephem` body (`katpoint.Target?` for docstring help)\n",
        "\n",
        "```\n",
        "The *xephem* body contains a string in XEphem EDB database format as the final field, with commas replaced by tildes.\n",
        "If the name list is empty, the target name is taken from the XEphem string instead.\n",
        "```"
      ]
    },
    {
      "cell_type": "code",
      "metadata": {
        "colab": {
          "base_uri": "https://localhost:8080/"
        },
        "id": "_eMlIESQPvDx",
        "outputId": "c01d5ce0-b854-4f5e-ac64-8e88fe191e7c"
      },
      "source": [
        "ts = load.timescale()\n",
        "eph = load('de421.bsp')\n",
        "sun, earth = eph['sun'], eph['earth']\n",
        "\n",
        "from skyfield.constants import GM_SUN_Pitjeva_2005_km3_s2 as GM_SUN\n",
        "comet = sun + mpc.comet_orbit(skyfield_comet67P, ts, GM_SUN)\n",
        "\n",
        "from skyfield.api import S, E, wgs84\n",
        "meerkat = earth + wgs84.latlon(30.7130 * S, 21.4430 * E)\n",
        "\n",
        "t = ts.utc(2021, 7, 25)\n",
        "#print(earth.at(t).observe(comet).radec())\n",
        "#print(earth.at(t).observe(comet).apparent().radec())\n",
        "#print(meerkat.at(t).observe(comet).radec())\n",
        "#print(meerkat.at(t).observe(comet).apparent().radec())\n",
        "print(meerkat.at(t).observe(comet).apparent().radec('date'))"
      ],
      "execution_count": 39,
      "outputs": [
        {
          "output_type": "stream",
          "text": [
            "(<Angle 01h 21m 32.72s>, <Angle +03deg 47' 03.8\">, <Distance 1.16813 au>)\n"
          ],
          "name": "stdout"
        }
      ]
    },
    {
      "cell_type": "code",
      "metadata": {
        "colab": {
          "base_uri": "https://localhost:8080/"
        },
        "id": "V0Pf_7UEOqrY",
        "outputId": "7a0f51bf-35e3-4d5d-ba8c-6159f189682f"
      },
      "source": [
        "import ephem\n",
        "yh = ephem.readdb(xephem_comet67P)\n",
        "print(yh)\n",
        "yh.compute('2021/7/25')\n",
        "print(yh.name)\n",
        "print(\"%s %s\" % (yh.ra, yh.dec))\n",
        "print(\"%s %s\" % (ephem.constellation(yh), yh.mag))"
      ],
      "execution_count": 40,
      "outputs": [
        {
          "output_type": "stream",
          "text": [
            "<ephem.EllipticalBody '67P/Churyumov-Gerasimenko' at 0x7f14d5752030>\n",
            "67P/Churyumov-Gerasimenko\n",
            "1:21:32.36 3:47:00.0\n",
            "('Psc', 'Pisces') 13.64\n"
          ],
          "name": "stdout"
        }
      ]
    },
    {
      "cell_type": "code",
      "metadata": {
        "colab": {
          "base_uri": "https://localhost:8080/"
        },
        "id": "aP7PQFiyOq6p",
        "outputId": "bb40b9a1-edcf-4a70-b6c4-3ccc5978b32b"
      },
      "source": [
        "import katpoint\n",
        "import numpy\n",
        "from datetime import datetime\n",
        "\n",
        "kat = katpoint.Antenna(\"ref, -30:42:39.8, 21:26:38.0, 1035.0, 0.0, , , 1.15\")\n",
        "observer = kat.observer\n",
        "observer.horizon = numpy.deg2rad(20)\n",
        "datetime_ = datetime(year=2021, month=7, day=25, hour=00, minute=00, second=00)\n",
        "observer.date = ephem.date(datetime_)\n",
        "print(observer)\n",
        "\n",
        "target_def = xephem_comet67P.replace(',', '~')\n",
        "target_str = f\"67P/Churyumov-Gerasimenko, xephem, {target_def}\"\n",
        "katpoint_comet67P = katpoint.Target(target_str)\n",
        "katpoint_comet67P.body.compute(observer)\n",
        "print(katpoint_comet67P.body.name, katpoint_comet67P.body.mag, katpoint_comet67P.body.ra, katpoint_comet67P.body.dec)"
      ],
      "execution_count": 57,
      "outputs": [
        {
          "output_type": "stream",
          "text": [
            "<ephem.Observer date='2021/7/25 00:00:00' epoch='2000/1/1 12:00:00' lon='21:26:38.0' lat='-30:42:39.8' elevation=1035.0m horizon=20:00:00.0 temp=15.0C pressure=0.0mBar>\n",
            "67P/Churyumov-Gerasimenko 13.64 1:21:32.72 3:47:04.1\n"
          ],
          "name": "stdout"
        }
      ]
    },
    {
      "cell_type": "markdown",
      "metadata": {
        "id": "1wzy1ojYCWfV"
      },
      "source": [
        "## Output"
      ]
    },
    {
      "cell_type": "code",
      "metadata": {
        "colab": {
          "base_uri": "https://localhost:8080/"
        },
        "id": "OFHng6ocCZ7y",
        "outputId": "c5b0cb44-5d59-4a0b-91a4-3c62d39869e3"
      },
      "source": [
        "print(skyfield_comet67P)\n",
        "print(xephem_comet67P)\n",
        "\n",
        "print('Ephem')\n",
        "print(yh.name)\n",
        "print(\"%s %s\" % (yh.ra, yh.dec))\n",
        "\n",
        "print('Skyfield')\n",
        "print(meerkat.at(t).observe(comet).radec('date'))\n",
        "\n",
        "print('katpoint')\n",
        "print(katpoint_comet67P.body.name, katpoint_comet67P.body.mag, katpoint_comet67P.body.ra, katpoint_comet67P.body.dec)"
      ],
      "execution_count": 60,
      "outputs": [
        {
          "output_type": "stream",
          "text": [
            "designation                            67P/Churyumov-Gerasimenko\n",
            "perihelion_year                                             2021\n",
            "perihelion_month                                              11\n",
            "perihelion_day                                            2.0542\n",
            "perihelion_distance_au                                   1.21064\n",
            "eccentricity                                            0.649796\n",
            "argument_of_perihelion_degrees                           22.1261\n",
            "longitude_of_ascending_node_degrees                      36.3341\n",
            "inclination_degrees                                       3.8713\n",
            "magnitude_g                                                   11\n",
            "magnitude_k                                                    4\n",
            "reference                                          MPEC 2021-N06\n",
            "Name: 67P/Churyumov-Gerasimenko, dtype: object\n",
            "67P/Churyumov-Gerasimenko,e,3.8713,36.3348,22.1246,3.457120,0.1533319,0.649811,341.5921,07/05.0/2021,2000,g 11.0,4.0\n",
            "Ephem\n",
            "67P/Churyumov-Gerasimenko\n",
            "1:21:32.36 3:47:00.0\n",
            "Skyfield\n",
            "(<Angle 01h 21m 32.48s>, <Angle +03deg 47' 00.8\">, <Distance 1.16813 au>)\n",
            "katpoint\n",
            "67P/Churyumov-Gerasimenko 13.64 1:21:32.72 3:47:04.1\n"
          ],
          "name": "stdout"
        }
      ]
    },
    {
      "cell_type": "markdown",
      "metadata": {
        "id": "a_KybGQ_BJG2"
      },
      "source": [
        "# Notes"
      ]
    },
    {
      "cell_type": "markdown",
      "metadata": {
        "id": "Ue5UTLyRzxGC"
      },
      "source": [
        "Definition of XEphem targets URL: http://www.clearskyinstitute.com/xephem/help/xephem.html#mozTocId468501"
      ]
    },
    {
      "cell_type": "markdown",
      "metadata": {
        "id": "9LBu5zne1KRT"
      },
      "source": [
        "7.1.2.1 General format rules    \n",
        "Each object occupies one line in the file.    \n",
        "The order of objects in a file does not matter.    \n",
        "Lines beginning with anything other than a-z, A-Z or 0-9 are ignored and may be used for comments.    \n",
        "Lines are separated into Fields using commas (,).    \n",
        "Fields may be further subdivided into Subfields with vertical bars (|).    \n",
        "All date fields may be in either of two forms:    \n",
        "month/day/year, where day may contain a fractional portion. examples: 1/1/1993 and 1/1.234/1993 . Note the format of dates in database files is always M/D/Y, regardless of the current XEphem Date format Preference setting; or    \n",
        "the year as real number as indicated by the presence of a decimal point, such as 1993.123."
      ]
    },
    {
      "cell_type": "markdown",
      "metadata": {
        "id": "TFlXDHNzirQw"
      },
      "source": [
        "```\n",
        "C/2002 Y1 (Juels-Holvorcem),e,103.7816,166.2194,128.8232,242.5695,0.0002609,0.99705756,0.0000,04/13.2508/2003,2000,g  6.5,4.0\n",
        "```\n",
        "\n",
        "* Field 1: Name\n",
        "* Field 2: Type, e = heliocentric elliptical orbit. If Field 2 is e the object type is elliptical heliocentric (eccentricity < 1) and the remaining fields are defined as follows\n",
        "* Field 3: i = inclination, degrees\n",
        "* Field 4: O = longitude of ascending node, degrees\n",
        "* Field 5: o = argument of perihelion, degrees\n",
        "* Field 6: a = mean distance (aka semi-major axis), AU\n",
        "* Field 7: n = mean daily motion, degrees per day (computed from a**3/2 if omitted)\n",
        "* Field 8: e = eccentricity, must be < 1\n",
        "* Field 9: M = mean anomaly, i.e., degrees from perihelion\n",
        "* Field 10: E = epoch date, i.e., time of M\n",
        "  * SubField 10A\tFirst date these elements are valid, optional\n",
        "  * SubField 10B\tLast date these elements are valid, optional\n",
        "* Field 11: D = the equinox year, i.e., time of i, O and o\n",
        "* Field 12: First component of magnitude model, either g from (g,k) or H from (H,G). Specify which by preceding the number with a \"g\" or an \"H\". In absence of either specifier the default is (H,G) model. See Magnitude models.\n",
        "* Field 13: Second component of magnitude model, either k or G\n",
        "* Field 14: s = angular size at 1 AU, arc seconds, optional\n"
      ]
    },
    {
      "cell_type": "markdown",
      "metadata": {
        "id": "Yyoa2fF6NVhw"
      },
      "source": [
        "Example provided for `katpoint` using C/2002 Y1 (Juels-Holvorcem)\n"
      ]
    },
    {
      "cell_type": "markdown",
      "metadata": {
        "id": "N5-ZGmkLs8fQ"
      },
      "source": [
        "When you load minor objects like comets and asteroids, the resulting object specifies the orbital elements that allow XEphem to predict its position.   \n",
        "If you lack a catalog from which to load an object, you can start by creating a raw body of one of the following types and filling in its elements.    \n",
        "Element attribute names start with underscores to distinguish them from the normal Body attributes that are set as the result of calling compute().\n",
        "```\n",
        "EllipticalBody elements:\n",
        "\n",
        "_inc — Inclination (°)\n",
        "_Om — Longitude of ascending node (°)\n",
        "_om — Argument of perihelion (°)\n",
        "_a — Mean distance from sun (AU)\n",
        "_M — Mean anomaly from the perihelion (°)\n",
        "_epoch_M — Date for measurement _M\n",
        "_size — Angular size (arcseconds at 1 AU)\n",
        "_e — Eccentricity\n",
        "_epoch — Epoch for _inc, _Om, and _om\n",
        "_H, _G — Parameters for the H/G magnitude model\n",
        "_g, _k — Parameters for the g/k magnitude model\n",
        "```"
      ]
    },
    {
      "cell_type": "code",
      "metadata": {
        "colab": {
          "base_uri": "https://localhost:8080/"
        },
        "id": "xVLS4Mf4LOFI",
        "outputId": "20f9ea07-8477-44e4-aca3-219c94bb381e"
      },
      "source": [
        "import ephem\n",
        "yh = ephem.readdb(\"C/2002 Y1 (Juels-Holvorcem),e,103.7816,\" +\n",
        "                  \"166.2194,128.8232,242.5695,0.0002609,0.99705756,0.0000,\" +\n",
        "                  \"04/13.2508/2003,2000,g  6.5,4.0\")\n",
        "yh.compute('2003/4/11')\n",
        "print(yh.name)\n",
        "print(\"%s %s\" % (yh.ra, yh.dec))\n",
        "print(\"%s %s\" % (ephem.constellation(yh), yh.mag))\n",
        "print(yh.writedb())\n",
        "\n",
        "print(yh._inc, yh._Om)"
      ],
      "execution_count": null,
      "outputs": [
        {
          "output_type": "stream",
          "text": [
            "C/2002 Y1 (Juels-Holvorcem)\n",
            "0:22:44.58 26:49:48.1\n",
            "('And', 'Andromeda') 5.96\n",
            "C/2002 Y1 (Juels-Hol,e,103.7816,166.2194,128.8232,242.5695,0,0.9970576,0, 4/13.2508/2003, 1/01/2000,g6.5,4,0\n",
            "103:46:53.8 166:13:09.9\n"
          ],
          "name": "stdout"
        }
      ]
    },
    {
      "cell_type": "markdown",
      "metadata": {
        "id": "SD1bPRiX0Jr4"
      },
      "source": [
        "```\n",
        "C/2002 Y1 (Juels-Holvorcem), e,    103.7816,    166.2194,  128.8232,   242.5695,  0.0002609, 0.99705756,   0.0000,  04/13.2508/2003, 2000,    g  6.5,          4.0    \n",
        "name                       , type, inclination, longitude, perihelion, distance,  motion,    eccentricity, anomaly, epoch,           equinox, First magnitude, Second magnitude\n",
        "```\n",
        "\n",
        "Information from    \n",
        "IAU database URL: https://www.minorplanetcenter.net/db_search/show_object?utf8=%E2%9C%93&object_id=C%2F2002+Y1    \n",
        "and URL: http://www.aerith.net/comet/catalog/2002Y1/2002Y1.html\n"
      ]
    },
    {
      "cell_type": "markdown",
      "metadata": {
        "id": "fLgQZlxXMgNi"
      },
      "source": [
        "You may have other parameters available for elliptical orbits that can be converted into these. The following relationships might be useful:\n",
        "```\n",
        "P = sqrt(a*a*a)\n",
        "p = O + o\n",
        "n = 0.9856076686/P\n",
        "T = E - M/n\n",
        "q = a*(1-e)\n",
        "AU = 149,597,870 km = 92,955,621 U.S. statute miles\n",
        "```\n",
        "where\n",
        "```\n",
        "P = the orbital period, years;\n",
        "p = longitude of perihelion, degrees\n",
        "T = epoch of perihelion (add multiples of P for desired range)\n",
        "q = perihelion distance, AU\n",
        "```\n",
        "Note that if you know T you can then set E = T and M = 0."
      ]
    },
    {
      "cell_type": "code",
      "metadata": {
        "colab": {
          "base_uri": "https://localhost:8080/"
        },
        "id": "CdPgdFWygn3t",
        "outputId": "b169149a-6218-4785-b164-f0721900713d"
      },
      "source": [
        "# distance and motion calculations\n",
        "a = 0.7138080 / (1. - 0.9971648)\n",
        "P = a**(3./2.)\n",
        "print(f'distance = {a}, motion = {1./P}')"
      ],
      "execution_count": null,
      "outputs": [
        {
          "output_type": "stream",
          "text": [
            "distance = 251.76636568848423, motion = 0.0002503245440563847\n"
          ],
          "name": "stdout"
        }
      ]
    },
    {
      "cell_type": "markdown",
      "metadata": {
        "id": "Wvm6WvizmCc7"
      },
      "source": [
        "# Elevation plots"
      ]
    },
    {
      "cell_type": "code",
      "metadata": {
        "id": "xJky3PKtBKFo"
      },
      "source": [
        ""
      ],
      "execution_count": null,
      "outputs": []
    },
    {
      "cell_type": "code",
      "metadata": {
        "id": "9L9oCNuUmEam"
      },
      "source": [
        ""
      ],
      "execution_count": null,
      "outputs": []
    }
  ]
}