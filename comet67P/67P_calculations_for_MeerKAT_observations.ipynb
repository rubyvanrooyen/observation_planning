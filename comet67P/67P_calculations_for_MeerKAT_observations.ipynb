{
  "nbformat": 4,
  "nbformat_minor": 0,
  "metadata": {
    "colab": {
      "name": "67P calculations for MeerKAT observations.ipynb",
      "provenance": [],
      "toc_visible": true,
      "authorship_tag": "ABX9TyOQL3APyuc1qmNkFL5Ll5dC",
      "include_colab_link": true
    },
    "kernelspec": {
      "name": "python3",
      "display_name": "Python 3"
    },
    "language_info": {
      "name": "python"
    }
  },
  "cells": [
    {
      "cell_type": "markdown",
      "metadata": {
        "id": "view-in-github",
        "colab_type": "text"
      },
      "source": [
        "<a href=\"https://colab.research.google.com/github/rubyvanrooyen/observation_planning/blob/main/comet67P/67P_calculations_for_MeerKAT_observations.ipynb\" target=\"_parent\"><img src=\"https://colab.research.google.com/assets/colab-badge.svg\" alt=\"Open In Colab\"/></a>"
      ]
    },
    {
      "cell_type": "code",
      "metadata": {
        "id": "k3Un_HOy8S4x"
      },
      "source": [
        "import matplotlib.pyplot as plt\n",
        "import numpy as np\n",
        "from astropy import units as u\n",
        "from astropy import constants as const"
      ],
      "execution_count": null,
      "outputs": []
    },
    {
      "cell_type": "markdown",
      "metadata": {
        "id": "hz-wIrSInMNI"
      },
      "source": [
        "# Comet angular diameter \n",
        "\n",
        "$d/2 = D\\tan(\\delta/2)$    \n",
        "with:\n",
        "* $\\delta$ the angular diameter ($\\delta/2$ the angular radius),\n",
        "* $D$ the distance to the object and\n",
        "* $d$ the actual diameter of the object ($d/2$ the object radius).\n",
        "\n",
        "Angular radius equals half of the angular diameter with \n",
        "$\\rho = \\arctan (r/D) \\approx \\frac{r}{D} \\mbox{ if } r \\ll D$"
      ]
    },
    {
      "cell_type": "code",
      "metadata": {
        "id": "otSNNznLmVsk",
        "colab": {
          "base_uri": "https://localhost:8080/"
        },
        "outputId": "ed032317-4dec-497a-f865-781b0cf99daf"
      },
      "source": [
        "def angular_size(D, r):\n",
        "    frac = r/D.to(u.km)\n",
        "    rho = np.arctan(frac)\n",
        "    d = 2.*rho\n",
        "    d = (2.*rho).to(u.arcsec)\n",
        "    print(f'Object with diameter {2.*r} has angular size {d:.3f} @ geocentric distance {D}')\n",
        "\n",
        "# nucleocentric distance\n",
        "r = 200 * u.km\n",
        "\n",
        "# geocentric distance\n",
        "D = 0.5 * u.au\n",
        "angular_size(D, r)\n",
        "\n",
        "# geocentric distance\n",
        "D = 1. * u.au\n",
        "angular_size(D, r)"
      ],
      "execution_count": null,
      "outputs": [
        {
          "output_type": "stream",
          "text": [
            "Object with diameter 400.0 km has angular size 1.103 arcsec @ geocentric distance 0.5 AU\n",
            "Object with diameter 400.0 km has angular size 0.552 arcsec @ geocentric distance 1.0 AU\n"
          ],
          "name": "stdout"
        }
      ]
    },
    {
      "cell_type": "markdown",
      "metadata": {
        "id": "Vdcj4fq8NJTu"
      },
      "source": [
        "Models for `OH` detected in comets indicates nucleocentric distances out to $2000\\,$km.\n",
        "From what I understand `67P` is not a very large comet and it seems to be $\\lt 200\\,$km, which is an order of magnitude smaller.\n",
        "\n",
        "It is a cruel irony that the MeerKAT resolution @ $1666\\,$MHz $\\approx 5''$, which would have the possibility of resolving the OH masers for a larger comet with nucleocentric distances $\\gt 1000\\,$km.\n",
        "\n",
        "As things stands for `67P` the comet is to small by an order of magnitude @ $1\\,$AU (which is where it seems to models and observations starts tracking the sublimation more regularly)."
      ]
    },
    {
      "cell_type": "code",
      "metadata": {
        "colab": {
          "base_uri": "https://localhost:8080/",
          "height": 388
        },
        "id": "l-zDZXMxFVc6",
        "outputId": "3dfa641d-4aa6-45f4-c165-05127df0646e"
      },
      "source": [
        "# map angular size with geocentric distance\n",
        "def distance_km(D, angular_size):\n",
        "    # separation distance\n",
        "    r = np.abs(D * np.tan(angular_size.to(u.rad)))\n",
        "    return r.to(u.km)\n",
        "\n",
        "# geocentric distance from 3AU to 0.5AU\n",
        "D = np.arange(3, -3, -0.1) * u.au\n",
        "\n",
        "# assuming 5'' resolution for MeerKAT @ 1665MHz\n",
        "# nucleocentric distance, r = 5''\n",
        "rho = 5. * u.arcsec\n",
        "# nucleocentric distance\n",
        "r_km = distance_km(D, rho)\n",
        "\n",
        "plt.figure\n",
        "fig, [ax0, ax1] = plt.subplots(nrows=1, ncols=2,\n",
        "                               figsize=(20, 5),  # W x H\n",
        "                               facecolor='white')\n",
        "ax0.plot(D, r_km, 'k')\n",
        "dist_lim = np.nonzero(r_km.value<2000.)[0]\n",
        "ax0.axvspan(D[dist_lim[0]].value, D[dist_lim[-1]].value, alpha=0.2, color='grey')\n",
        "ax0.set_title(\"Nucleucentric distance for 5'' separation during comet perihelion orbit\")\n",
        "ax0.set_ylabel('Cometary radius, r [km]')\n",
        "ax0.set_xlabel(f'Geocentric distance of comet orbit, $\\Delta$ [AU]')\n",
        "\n",
        "resolve_dist = np.max([D[dist_lim[0]].value, D[dist_lim[-1]].value])\n",
        "print(f'MeerKAT will start resolving masers with nucleocentric distance < 2000 [km] at geocentric distance {resolve_dist:.2} [AU]')\n",
        "\n",
        "\n",
        "# angular separation between poles 2*r = 5''\n",
        "d = 5. * u.arcsec\n",
        "# cometary polar separation\n",
        "d_km = distance_km(D, d)\n",
        "ax1.plot(D, d_km)\n",
        "dist_lim = np.nonzero(d_km.value<4000.)[0]\n",
        "ax1.axvspan(D[dist_lim[0]].value, D[dist_lim[-1]].value, alpha=0.2, color='grey')\n",
        "ax1.set_title(\"Polar distance for 5'' separation during comet perihelion orbit\")\n",
        "ax1.set_ylabel('Cometary diameter (coma)')\n",
        "ax1.set_xlabel('Geocentric distance of comet orbit')\n",
        "\n",
        "resolve_dist = np.max([D[dist_lim[0]].value, D[dist_lim[-1]].value])\n",
        "print(f'MeerKAT will start resolving N-S masers with polar separation distance < 2000 [km] at geocentric distance {resolve_dist:.2} [AU]')\n",
        "\n",
        "plt.show()"
      ],
      "execution_count": null,
      "outputs": [
        {
          "output_type": "stream",
          "text": [
            "MeerKAT will start resolving masers with nucleocentric distance < 2000 [km] at geocentric distance 0.5 [AU]\n",
            "MeerKAT will start resolving N-S masers with polar separation distance < 2000 [km] at geocentric distance 1.1 [AU]\n"
          ],
          "name": "stdout"
        },
        {
          "output_type": "display_data",
          "data": {
            "image/png": "[encoded data removed]",
            "text/plain": [
              "<Figure size 1440x360 with 2 Axes>"
            ]
          },
          "metadata": {
            "tags": []
          }
        }
      ]
    },
    {
      "cell_type": "markdown",
      "metadata": {
        "id": "fUzZ9diqssTt"
      },
      "source": [
        "# MeerKAT resolution and sensitivity\n",
        "\n",
        "The MeerKAT correlator channelizes the observation bandwidth into a number of resolution channels depending on mode.\n",
        "The MeerKAT narrow band mode outputs both full band data, as well as narrow $107\\,$MHz bandwidth observational data.\n",
        "All MeerKAT observations are therefore inherently spectral observations, including those intended for continuum imaging.\n",
        "\n",
        "Putting this definition into mathematical terms:\n",
        "$S(\\nu) = S_c + S_\\ell(\\nu, \\nu_0, A, \\Delta\\nu)$, with $\\Delta\\nu \\ll \\nu_0$   \n",
        "Here $S(\\nu)$ is the observed spectral energy distribution [Jy] at frequency $\\nu$ [Hz],\n",
        "$S_c$ is the continuum component of the spectral energy distribution [Jy] and \n",
        "$S_\\ell$ is the line component of the distribution [Jy].   \n",
        "$S_\\ell$ is a function that rapidly changes with frequency $\\nu$ and is characterized by the amplitude ($A$) [Jy], central frequency $\\nu_o$ [Hz] and width of the spectral line $\\Delta \\nu$ [Hz].\n",
        "\n",
        "Wideband (continuum) sensitivity can be seen as the \"instantaneous\" imaging sensitivity.\n",
        "The broader the band the better the theoretical sensitivity.\n",
        "Thus, having wideband $856\\,$MHz data for calibration vs using only the narrow band $107\\,$MHz total bandwidth will give approximately $3\\times$ improvement in sensitivity:\n",
        "$\\frac{\\sigma_{nb}}{\\sigma_{cont}} = \\sqrt{\\frac{856}{107}} \\approx 2.8$\n",
        "\n",
        "Spatial-frequency coverage and imaging properties change with frequency:\n",
        "\n",
        "* Angular-resolution increases at higher frequencies\n",
        "* Sensitivity to large scales decreases at higher frequencies\n",
        "* Wideband UV-covergae has few gaps and lower PSF sidelobe levels\n",
        "\n",
        "Spectral line imaging:\n",
        "* Image and deconvolve each channel separately (add them to form a continuum image).\n",
        "* During image-restoration, convolve mages from all channels with a common 'restoring beam' derived from the angular-resolution allowed by the lowest-frequency.\n",
        "* Source spectra can be derived from the smoothed restored images (at low angular resolution)\n",
        "* Imaging-fidelity is limited to the single-frequency UV-coverage\n",
        " * Reconstructions may not be consistent across frequency\n",
        "* Imaging sensitivity is limited to the single-channel sensitivity $\\sigma_{chan} = \\sigma_{cont} \\cdot \\sqrt{N_{chan}}$\n",
        " * Will not deconvolve sources that are below $\\sigma_{chan}$ but above $\\sigma_{cont}$\n"
      ]
    },
    {
      "cell_type": "markdown",
      "metadata": {
        "id": "65hIBU0__fdx"
      },
      "source": [
        "## Spectral resolution\n",
        "\n",
        "Spectral resolution for MeerKAT wideband and spectral line modes = $\\Delta v \\approx \\Delta f \\frac{c}{f}$\n",
        "with $\\Delta v$ the velocity span (km/s), $\\Delta f$ the channel width, $f$ the centre frequency and $c$ the speed of light in a vacuum.\n",
        "\n",
        "\n"
      ]
    },
    {
      "cell_type": "code",
      "metadata": {
        "colab": {
          "base_uri": "https://localhost:8080/"
        },
        "id": "ik4vKdBe__4R",
        "outputId": "5b6853d5-72bd-44fd-bfa5-2c0cef71d5ce"
      },
      "source": [
        "def velocity_resolution(bw, fc, nc):\n",
        "    # channel width\n",
        "    df = bw.to(u.Hz)/nc\n",
        "    # channel velocity resolution\n",
        "    dv = (df*const.c/fc.to(u.Hz)).to(u.km/u.s)\n",
        "    print(dv)\n",
        "    print(f'Bandwidth {bw} over {nc} channels for channel width {dv:.3f} at {fc}')\n",
        "\n",
        "# wideband (c856M4k)\n",
        "velocity_resolution(bw=856.*u.MHz,\n",
        "                    fc=1284.*u.MHz,\n",
        "                    nc=4096)\n",
        "\n",
        "# wideband (c856M4k)\n",
        "velocity_resolution(bw=856.*u.MHz,\n",
        "                    fc=1284.*u.MHz,\n",
        "                    nc=32768)\n",
        "\n",
        "# spectral line (c856M32k_n107M)\n",
        "velocity_resolution(bw=107.*u.MHz,\n",
        "                    fc=1.6654*u.GHz,\n",
        "                    nc=32768)"
      ],
      "execution_count": null,
      "outputs": [
        {
          "output_type": "stream",
          "text": [
            "48.79434537760417 km / s\n",
            "Bandwidth 856.0 MHz over 4096 channels for channel width 48.794 km / s at 1284.0 MHz\n",
            "6.099293172200521 km / s\n",
            "Bandwidth 856.0 MHz over 32768 channels for channel width 6.099 km / s at 1284.0 MHz\n",
            "0.5878086670698833 km / s\n",
            "Bandwidth 107.0 MHz over 32768 channels for channel width 0.588 km / s at 1.6654 GHz\n"
          ],
          "name": "stdout"
        }
      ]
    },
    {
      "cell_type": "markdown",
      "metadata": {
        "id": "H46TX-z72rKC"
      },
      "source": [
        "Spectral velocity resoltuion of $0.5\\,$km/s for the MeerKAT narrow band mode can easilty resolve the anticipated 3km/s (>2km/s) line width of the cometary masers.\n",
        "Spectral imaging will result in 6 channel averaging to image a $3\\,$km/s line."
      ]
    },
    {
      "cell_type": "code",
      "metadata": {
        "colab": {
          "base_uri": "https://localhost:8080/"
        },
        "id": "rulMiIf_2fba",
        "outputId": "1b711153-3b24-406d-feab-dbc442103a4c"
      },
      "source": [
        "print(f'Nchans={32768//6+1} for spectral line image of 3km/s line')"
      ],
      "execution_count": null,
      "outputs": [
        {
          "output_type": "stream",
          "text": [
            "Nchans=5462 for spectral line image of 3km/s line\n"
          ],
          "name": "stdout"
        }
      ]
    },
    {
      "cell_type": "markdown",
      "metadata": {
        "id": "e3v3s90J9nFN"
      },
      "source": [
        "\\begin{align*}\n",
        "\\frac{\\Delta\\nu}{\\Delta V } = \\frac{\\nu_\\mathrm{OH}}{c} \n",
        "\\end{align*}\n",
        "\n",
        "$\\nu_\\mathrm{OH} = 1665. \\,\\mathrm{MHz}$: OH maser main line frequecy\n",
        "\n",
        "$c = 2.99792456\\cdot 10^5\\, \\mathrm{km}\\,\\mathrm{s}^{-1}$: Speed of light\n",
        "\n",
        "$\\Delta \\nu$: Difference between observed and rest frequency\n",
        "\n",
        "$\\Delta V$: Difference in recession velocity (between two adjacent channels)\n",
        "\n",
        "We obtain (for a bandwidth of 856 MHz and 32768 channels):\n",
        "\\begin{align*}\n",
        "\\Delta V = 4.702\\, \\mathrm{km}\\,\\mathrm{s}^{-1}\n",
        "\\end{align*}"
      ]
    },
    {
      "cell_type": "code",
      "metadata": {
        "colab": {
          "base_uri": "https://localhost:8080/"
        },
        "id": "pKByvrJ3-glP",
        "outputId": "8c8b3327-c051-4e76-f511-1d4d34fb8bf1"
      },
      "source": [
        "f_OH = 1665.4*1e6  # OH rest frequency in Hz\n",
        "Df = 8.56E8/32768  # Channel width 32k mode in Hz (Bandwidth divided by channels)\n",
        "Df = Df*const.c.value/f_OH/1000.\n",
        "print('32k wideband mode channel width : {0:f} km/s @ line frequency {1:.2f} MHz'\n",
        "      .format(Df, f_OH/1e6))\n",
        "\n",
        "Df = 1.07E8/32768  # Channel width 32k mode in Hz (Bandwidth divided by channels)\n",
        "Df = Df*const.c.value/f_OH/1000.\n",
        "print('32k narrow band mode channel width : {0:f} km/s @ line frequency {1:.2f} MHz'\n",
        "      .format(Df, f_OH/1e6))"
      ],
      "execution_count": null,
      "outputs": [
        {
          "output_type": "stream",
          "text": [
            "32k wideband mode channel width : 4.702469 km/s @ line frequency 1665.40 MHz\n",
            "32k narrow band mode channel width : 0.587809 km/s @ line frequency 1665.40 MHz\n"
          ],
          "name": "stdout"
        }
      ]
    },
    {
      "cell_type": "markdown",
      "metadata": {
        "id": "Oql0RE4FA-mN"
      },
      "source": [
        "## Spatial resolution\n",
        "\n",
        "The FWHM of the synthesized beam (point spread function), which is the inverse Fourier transform of a (weighted) u-v sampling distribution.    \n",
        "The resolution in arcsec can be approximated as: FWHM (\") = 63 / max_baseline (km) / frequency (GHz)"
      ]
    },
    {
      "cell_type": "code",
      "metadata": {
        "colab": {
          "base_uri": "https://localhost:8080/"
        },
        "id": "Wc5SikgulXj8",
        "outputId": "7d08ecc7-0202-44e9-9798-eff782cfca42"
      },
      "source": [
        "# FWHM (\") = 63.073366 / max_baseline (km) / frequency (GHz)\n",
        "bmax=7.7*u.km\n",
        "fc=1.284*u.GHz\n",
        "FWHMsb = 63.073366 / bmax.value / fc.value * u.arcsec\n",
        "print(f'MeerKAT Resolution @ {fc} = {FWHMsb:.3}')\n",
        "\n",
        "fc=1.6654*u.GHz\n",
        "#FWHMsb = ((1.02 * 3600. * 180./np.pi * const.c.value / (1000.*1e9)) / bmax.value / fc.value) * u.arcsec\n",
        "FWHMsb = 63.073366 / bmax.value / fc.value * u.arcsec\n",
        "print(f'MeerKAT Resolution @ {fc} = {FWHMsb:.3}')"
      ],
      "execution_count": null,
      "outputs": [
        {
          "output_type": "stream",
          "text": [
            "MeerKAT Resolution @ 1.284 GHz = 6.38 arcsec\n",
            "MeerKAT Resolution @ 1.6654 GHz = 4.92 arcsec\n"
          ],
          "name": "stdout"
        }
      ]
    },
    {
      "cell_type": "code",
      "metadata": {
        "colab": {
          "base_uri": "https://localhost:8080/"
        },
        "id": "Da-b6EiGmVkV",
        "outputId": "246ad8e0-b38e-40cc-bf1e-fb1d9bb16e56"
      },
      "source": [
        "def spatial_resolution(fc,\n",
        "                       bmax=7.7*u.km):\n",
        "    wavelength = fc.to(u.nm, equivalencies=u.spectral())\n",
        "    baseline = bmax.to(u.m)/wavelength.to(u.m)\n",
        "    FWHMsb = 1.02/baseline * u.rad.to(u.arcsec) * u.arcsec\n",
        "    print(f'MeerKAT Resolution @ {fc} = {FWHMsb:.3}')\n",
        "\n",
        "spatial_resolution(fc=1284.*u.MHz)\n",
        "spatial_resolution(fc=1.6654*u.GHz)"
      ],
      "execution_count": null,
      "outputs": [
        {
          "output_type": "stream",
          "text": [
            "MeerKAT Resolution @ 1284.0 MHz = 6.38 arcsec\n",
            "MeerKAT Resolution @ 1.6654 GHz = 4.92 arcsec\n"
          ],
          "name": "stdout"
        }
      ]
    },
    {
      "cell_type": "markdown",
      "metadata": {
        "id": "rmXnvVA3XB_E"
      },
      "source": [
        "## Point source sensitivity\n",
        "\n",
        "Use radiometer equation to estimate detectability\n",
        "\n",
        "The theoretical thermal rms intensity-sensitivity $\\sigma_\\mathrm{S}$ of a (naturally-weighted) image is found using \n",
        "\\begin{align*}\\sigma_\\mathrm{S} = \\frac{2 k_\\mathrm{B} T_\\mathrm{sys}}{A_\\mathrm{eff} \\sqrt{N_\\mathrm{p} N_\\mathrm{a}(N_\\mathrm{a}-1) \\Delta\\nu \\Delta t}}\\ \\mathrm{[mJy/beam]}\n",
        "\\end{align*}\n",
        "\n",
        "with $k_\\mathrm{B}$ the Boltzmann-constant,\n",
        "$T_\\mathrm{sys}$ the system temperature,   \n",
        "$A_\\mathrm{eff} = \\eta_a A$ the effective aperture of an antenna, assuming apperture efficiency $\\eta_a$ at frequency $\\nu$,    \n",
        "$N_\\mathrm{p}$ the number of polarisations [$N_\\mathrm{p}=2$ for images in Stokes I, Q, U or V],    \n",
        "$N_\\mathrm{a}$ the number of antennas,    \n",
        "$\\Delta\\nu$ the RF observation bandwidth [Hz] for continuum or channel width/FWHM of line for spectral line imaging and    \n",
        "$\\Delta t$ the total on target integration time [sec].\n",
        "\n",
        "The equations are from http://www.atnf.csiro.au/people/Tobias.Westmeier/tools_hihelpers.php, or https://ui.adsabs.harvard.edu/abs/2013tra..book.....W/abstract, respectively."
      ]
    },
    {
      "cell_type": "code",
      "metadata": {
        "colab": {
          "base_uri": "https://localhost:8080/",
          "height": 241
        },
        "id": "qNeBG6pEtGNk",
        "outputId": "2fa13331-293d-4468-f2c7-02d226c5e15c"
      },
      "source": [
        "# Fitted values from recent work.\n",
        "specs = np.array([[ 881.           ,24.87730995],\n",
        "     [ 913.875        ,24.49771763],\n",
        "     [ 946.75         ,24.16024859],\n",
        "     [ 979.625        ,23.64646727],\n",
        "     [1012.5          ,24.07896985],\n",
        "     [1045.375        ,23.79283849],\n",
        "     [1078.25         ,22.70843003],\n",
        "     [1111.125        ,22.93770384],\n",
        "     [1144.           ,22.84885476],\n",
        "     [1176.875        ,22.12287765],\n",
        "     [1209.75         ,21.49206455],\n",
        "     [1242.625        ,21.16654511],\n",
        "     [1275.5          ,20.96656328],\n",
        "     [1308.375        ,20.6466135 ],\n",
        "     [1341.25         ,20.46467585],\n",
        "     [1374.125        ,20.35819618],\n",
        "     [1407.           ,20.33486544],\n",
        "     [1439.875        ,20.45917325],\n",
        "     [1472.75         ,20.46422681],\n",
        "     [1505.625        ,20.53214192],\n",
        "     [1538.5          ,21.29373981],\n",
        "     [1571.375        ,20.78716734],\n",
        "     [1604.25         ,20.91109069],\n",
        "     [1637.125        ,21.14846713],\n",
        "     [1670.           ,24.40091906]])\n",
        "\n",
        "fig, ax = plt.subplots(nrows=1, ncols=1,\n",
        "                       figsize=(17, 3),\n",
        "                       facecolor='white')\n",
        "ax.plot(specs[:,0],specs[:,1])\n",
        "ax.axvspan(1563.0, 1670., alpha=0.05, color='k')\n",
        "ax.axvline(x=1612.2, color='b', linestyle=':', alpha=0.3)\n",
        "ax.axvline(x=1665.4, color='b', linestyle=':', alpha=0.3)\n",
        "ax.axvline(x=1667.4, color='b', linestyle=':', alpha=0.3)\n",
        "ax.set_title('Measured MeerKAT Specs')\n",
        "ax.set_ylabel('$T_\\mathrm{sys}/\\eta$ [K]')\n",
        "i=ax.set_xlabel('Frequency [MHz]')\n",
        "plt.show()"
      ],
      "execution_count": null,
      "outputs": [
        {
          "output_type": "display_data",
          "data": {
            "image/png": "[encoded data removed]",
            "text/plain": [
              "<Figure size 1224x216 with 1 Axes>"
            ]
          },
          "metadata": {
            "tags": []
          }
        }
      ]
    },
    {
      "cell_type": "code",
      "metadata": {
        "id": "di_aKBA5tGDG"
      },
      "source": [
        "f = specs[:,0]*1e6  # frequency axis above in Hz\n",
        "Tsys_eta = specs[:,1]\n",
        "obs_freq = 1665.4*1e6  # OH rest frequency in Hz\n",
        "\n",
        "idx_ = np.argmin(np.abs(f - obs_freq))\n",
        "# fit with a second degree polynomial\n",
        "x = f[idx_-1:idx_+2]\n",
        "y = Tsys_eta[idx_-1:idx_+2]\n",
        "if len(x) < 3: p_o = 1\n",
        "else: p_o = 2\n",
        "c2p = np.polyfit(x, y, p_o) \n",
        "p2 = np.poly1d(c2p)\n",
        "Tsys_per_eta = p2(obs_freq)"
      ],
      "execution_count": null,
      "outputs": []
    },
    {
      "cell_type": "markdown",
      "metadata": {
        "id": "m_0QHeW0O_4h"
      },
      "source": [
        "Broadband receivers increase the \"instantaneous\" imaging sensitivity of an instrument.    \n",
        "\\begin{align*}\\sigma_\\mathrm{wb} \\propto \\frac{T_\\mathrm{sys}}{\\sqrt{N_\\mathrm{a}(N_\\mathrm{a}-1) \\Delta\\nu_\\mathrm{ RF} \\Delta t}}\n",
        "\\end{align*}\n",
        "\n",
        "Using MeerKAT narrowband mode will decrease the instantaneous bandwidth form 856MHz to 107MHz.\n",
        "The theoretical loss of sensitivity moving to the narrower bandwidth is $\\sqrt{\\frac{856\\,\\mathrm{MHz}}{107\\,\\mathrm{MHz}}}$, a factor 2.8 times decrease in sensitivity for the same integration time $\\Delta t$.\n",
        "In essence we are using one third or the bandwidth and therefore need 3 times longer integration time to achieve the wideband sensitivity.\n",
        "\\begin{align*}\\sigma_\\mathrm{nb} \\approx \\sqrt{8} \\times \\sigma_\\mathrm{wb}\n",
        "\\end{align*}\n",
        "\n",
        "For spectral line image the sensitivity requirements are even more stringent since each channel is deconvolved and imaged separately to form an image cube.\n",
        "(The individual channel images can be added to form a continuum image)\n",
        "Since the FWHM of the synthesized beam (PSF) is simply the inverse Fourier transform of a (weighted) UV sampling distribution, spectral line image fidelity is limited by the sparse sampling of a single frequency channel UV coverage.\n",
        "And the image sensitiviy is limited to the single channel sensitivity:\n",
        "\\begin{align*}\n",
        "\\sigma_\\mathrm{sp} \\propto \\frac{T_\\mathrm{sys}}{\\sqrt{N_\\mathrm{a}(N_\\mathrm{a}-1) \\Delta\\nu_\\mathrm{chan} \\Delta t}}\n",
        "\\end{align*}\n",
        "\\begin{align*}\n",
        "\\Delta\\nu_\\mathrm{chan} = \\Delta\\nu_\\mathrm{RF} / N_\\mathrm{chans}\n",
        "\\end{align*}\n",
        "\\begin{align*}\n",
        "\\sigma_\\mathrm{sp} = \\sigma_\\mathrm{nb} \\sqrt{N_\\mathrm{chans}} \\approx 74 \\times \\sigma_\\mathrm{nb} \\approx 222 \\times \\sigma_\\mathrm{wb}\n",
        "\\end{align*}\n"
      ]
    },
    {
      "cell_type": "code",
      "metadata": {
        "colab": {
          "base_uri": "https://localhost:8080/"
        },
        "id": "dEbZZE5s2NHG",
        "outputId": "3e33158d-3c3c-4707-af5d-009140d63968"
      },
      "source": [
        "boltz_k = const.k_B.value*1e7  # k=J/K => *e7 ergs/K\n",
        "D = 13.5  # m\n",
        "A = np.pi * (D/2)**2  # m^2\n",
        "N = 58 # nr of antennas\n",
        "NPol = 2\n",
        "\n",
        "hours = 1.\n",
        "dt = 3600. * hours  # on source integration time\n",
        "# intensity from brightness temperature [erg/s/cm^2/Hz/sr]\n",
        "Jy = 1e23  # [erg/s/cm^2/Hz]\n",
        "\n",
        "print(\"Thermal rms in intensity using the radiometer equation:\")\n",
        "wbw = 856e6  # Hz\n",
        "SNRwb = ((2. * boltz_k * Tsys_per_eta) / (A * np.sqrt(NPol * N * (N-1) * wbw * dt))) * Jy\n",
        "print(f\"Natural rms after {hours:.1f}h on-source, over instananeous bandwidth {wbw/1e6:.1f} MHz, is {SNRwb*1e3:2.4g} mJy/beam.\") \n",
        "\n",
        "nbw = 107e6  # Hz\n",
        "SNRnb = ((2. * boltz_k * Tsys_per_eta) / (A * np.sqrt(NPol * N * (N-1) * nbw * dt))) * Jy\n",
        "print(f\"Natural rms after {hours:.1f}h on-source, over instananeous bandwidth {nbw/1e6:.1f} MHz, is {SNRnb*1e3:2.4g} mJy/beam.\") \n",
        "print(f'SNRnb = 2.83*SNRwb = {2.83*SNRwb*1e3:2.4g} mJy/beam')"
      ],
      "execution_count": null,
      "outputs": [
        {
          "output_type": "stream",
          "text": [
            "Thermal rms in intensity using the radiometer equation:\n",
            "Natural rms after 1.0h on-source, over instananeous bandwidth 856.0 MHz, is 32.36 mJy/beam.\n",
            "Natural rms after 1.0h on-source, over instananeous bandwidth 107.0 MHz, is 91.53 mJy/beam.\n",
            "SNRnb = 2.83*SNRwb = 91.58 mJy/beam\n"
          ],
          "name": "stdout"
        }
      ]
    },
    {
      "cell_type": "code",
      "metadata": {
        "colab": {
          "base_uri": "https://localhost:8080/"
        },
        "id": "Ne3_1YS0u8Yf",
        "outputId": "81ec6b5f-7d50-46d3-ad5e-8b2a224fd5b1"
      },
      "source": [
        "velocity_width = 3.0  # in km/s\n",
        "nchans = 5462  # 32768/6 for 3km/s velocity width\n",
        "spbw = nbw/nchans  # Hz\n",
        "SNRsp = ((2. * boltz_k * Tsys_per_eta) / (A * np.sqrt(NPol * N * (N-1) * spbw * dt))) * Jy\n",
        "print(f\"Approx rms after {hours:.1f}h on-source per 6 channel average, is {SNRsp:2.4g} Jy/beam.\") \n",
        "print(f'SNRnb = 222*SNRwb = {3*74*SNRwb:2.4g} Jy/beam')\n",
        "\n",
        "fc = 1.6654*u.GHz\n",
        "dv = 3.0 * (u.km/u.s)\n",
        "#bw = f_OH/const.c.value*velocity_width*1000.\n",
        "bw = dv * fc.to(u.Hz) / const.c.to(u.km/u.s)\n",
        "SNRsp = ((2. * boltz_k * Tsys_per_eta) / (A * np.sqrt(NPol * N * (N-1) * bw.value * dt))) * Jy\n",
        "print(f\"Natural rms after {hours:.1f}h on-source, over a velocity width of {velocity_width:2.4g} km/s, is {SNRsp:2.4g} Jy/beam.\") "
      ],
      "execution_count": null,
      "outputs": [
        {
          "output_type": "stream",
          "text": [
            "Approx rms after 1.0h on-source per 6 channel average, is 6.765 Jy/beam.\n",
            "SNRnb = 222*SNRwb = 7.184 Jy/beam\n",
            "Natural rms after 1.0h on-source, over a velocity width of  3 km/s, is 7.334 Jy/beam.\n"
          ],
          "name": "stdout"
        }
      ]
    },
    {
      "cell_type": "code",
      "metadata": {
        "colab": {
          "base_uri": "https://localhost:8080/"
        },
        "id": "X4HORExyHGni",
        "outputId": "a789c044-78fc-42ba-e067-16a74a7393f4"
      },
      "source": [
        "print (\"T_sys/eta at %3.0f MHz is %2.1fK\"%(obs_freq/1e6, Tsys_per_eta) )\n",
        "Smin = 0.05  # Jy/beam\n",
        "newconst = (2. * boltz_k * Tsys_per_eta * Jy) / (A * np.sqrt(NPol * N * (N-1) * wbw))\n",
        "sqrt_dt = newconst / Smin\n",
        "taumin = sqrt_dt*sqrt_dt\n",
        "print(f'To achieve flux of {Smin} [Jy/beam] over {wbw/1e6:.1f} MHz bandwidth, requires integration time {taumin:.0f}s or {taumin/3600.:.2f}h')\n",
        "newconst = (2. * boltz_k * Tsys_per_eta * Jy) / (A * np.sqrt(NPol * N * (N-1) * nbw))\n",
        "sqrt_dt = newconst / Smin\n",
        "taumin = sqrt_dt*sqrt_dt\n",
        "print(f'To achieve flux of {Smin} [Jy/beam] over {nbw/1e6:.1f} MHz bandwidth, requires integration time {taumin:.0f}s or {taumin/3600.:.2f}h')\n",
        "newconst = (2. * boltz_k * Tsys_per_eta * Jy) / (A * np.sqrt(NPol * N * (N-1) * spbw))\n",
        "sqrt_dt = newconst / Smin\n",
        "taumin = sqrt_dt*sqrt_dt\n",
        "print(f'To achieve flux of {Smin} [Jy/beam] over {spbw/1e3:.1f} kHz bandwidth, requires integration time {taumin:.0f}s or {taumin/3600.:.2f}h')\n",
        "\n",
        "print()\n",
        "\n",
        "Smax = 0.2  # Jy/beam\n",
        "newconst = (2. * boltz_k * Tsys_per_eta * Jy) / (A * np.sqrt(NPol * N * (N-1) * wbw))\n",
        "sqrt_dt = newconst / Smax\n",
        "taumin = sqrt_dt*sqrt_dt\n",
        "print(f'To achieve flux of {Smax} [Jy/beam] over {wbw/1e6:.1f} MHz bandwidth, requires integration time {taumin:.0f}s or {taumin/3600.:.2f}h')\n",
        "newconst = (2. * boltz_k * Tsys_per_eta * Jy) / (A * np.sqrt(NPol * N * (N-1) * nbw))\n",
        "sqrt_dt = newconst / Smax\n",
        "taumin = sqrt_dt*sqrt_dt\n",
        "print(f'To achieve flux of {Smax} [Jy/beam] over {nbw/1e6:.1f} MHz bandwidth, requires integration time {taumin:.0f}s or {taumin/3600.:.2f}h')\n",
        "newconst = (2. * boltz_k * Tsys_per_eta * Jy) / (A * np.sqrt(NPol * N * (N-1) * spbw))\n",
        "sqrt_dt = newconst / Smax\n",
        "taumin = sqrt_dt*sqrt_dt\n",
        "print(f'To achieve flux of {Smax} [Jy/beam] over {spbw/1e3:.1f} kHz bandwidth, requires integration time {taumin:.0f}s or {taumin/3600.:.2f}h')\n"
      ],
      "execution_count": null,
      "outputs": [
        {
          "output_type": "stream",
          "text": [
            "T_sys/eta at 1665 MHz is 23.9K\n",
            "To achieve flux of 0.05 [Jy/beam] over 856.0 MHz bandwidth, requires integration time 1508s or 0.42h\n",
            "To achieve flux of 0.05 [Jy/beam] over 107.0 MHz bandwidth, requires integration time 12065s or 3.35h\n",
            "To achieve flux of 0.05 [Jy/beam] over 19.6 kHz bandwidth, requires integration time 65897103s or 18304.75h\n",
            "\n",
            "To achieve flux of 0.2 [Jy/beam] over 856.0 MHz bandwidth, requires integration time 94s or 0.03h\n",
            "To achieve flux of 0.2 [Jy/beam] over 107.0 MHz bandwidth, requires integration time 754s or 0.21h\n",
            "To achieve flux of 0.2 [Jy/beam] over 19.6 kHz bandwidth, requires integration time 4118569s or 1144.05h\n"
          ],
          "name": "stdout"
        }
      ]
    },
    {
      "cell_type": "markdown",
      "metadata": {
        "id": "Z3L-3ZRkKZDb"
      },
      "source": [
        "The beam-averaged brightness temperature measured by a given array depends on the synthesized beam, and is related to the flux density per beam:\n",
        "\\begin{align*}\n",
        " T_\\mathrm{B} = \\frac{\\lambda^2S_\\nu}{2k_\\mathrm{B}\\Omega_\\mathrm{bm}}\n",
        "\\end{align*}\n",
        "\\begin{align*}\n",
        " \\frac{T_\\mathrm{B}}{\\mathrm{K}} \\approx 1.360 \\times \\left(\\frac{\\lambda}{\\mathrm{cm}} \\right)^2 \\times \\frac{S_\\nu}{\\mathrm{mJy}} \\times \\frac{1}{\\vartheta^2}\n",
        "\\end{align*}\n",
        "At OH frequency 1.665 GHz\n",
        "$\\frac{T_\\mathrm{B}}{K} \\approx 440.633 \\times \\frac{S_\\nu}{\\mathrm{mJy}} \\times \\frac{1}{\\vartheta^2}$\n",
        "\n",
        "\\begin{align*}\n",
        " T_\\mathrm{B} = \\frac{441 \\, S}{\\vartheta^{2}} = F \\cdot S\n",
        "\\end{align*}\n",
        "In this equation, the *HPBW* $\\vartheta$ of the synthesized beam is measured in arcseconds, and the flux density $S$ is measured in mJy, to calculate the brightness temperature $T_\\mathrm{B}$.\n",
        "\n",
        "Angular size of a Gaussian beam $\\sim \\frac{1.5\\lambda}{B\\mathrm{max}}$.    \n",
        "The brightness temperature sensitivity can be obtained by substituting the RMS noise, $\\sigma_s$, for $S$.\n",
        "\n",
        "We can then calculate the OH-column density $N_\\mathrm{OH}$ by integrating over the OH linewidth (measured in $\\mathrm{km}\\,\\mathrm{s}^{-1}$):\n",
        "\\begin{align*}\n",
        "N_{\\rm OH} = 8.9 \\times 10^{12} \\! \\int \\! T_{\\rm B} \\, \\mathrm{d}V          \n",
        " \\end{align*}\n",
        "\n",
        " \\begin{align*}\n",
        "N_{\\rm OH} \\approx 8.9 \\times 10^{12} \\cdot (T_{\\rm B} \\Delta v)          \n",
        " \\end{align*}\n",
        "  \\begin{align*}\n",
        "S \\approx N_{\\rm OH} \\ \\vartheta^2 \\  / \\ (8.9 \\times 10^{12} * 441 * \\Delta v)          \n",
        " \\end{align*}"
      ]
    },
    {
      "cell_type": "code",
      "metadata": {
        "colab": {
          "base_uri": "https://localhost:8080/"
        },
        "id": "nwQ8WF2eo6NW",
        "outputId": "1ef43559-9c4e-45c1-c637-510fe1a85408"
      },
      "source": [
        "F_tap = 1.6  # The Robust/tapering factor.\n",
        "theta = 60.  # The synthesized beam HPBW in arcseconds  \n",
        "SN = 1.5  #5.  # Signal to Noise for detection\n",
        "N_oh = 4.1e12  # Target OH column Density in cm^{-2}\n",
        "velocity_width = 3.  # in km/s\n",
        "f_OH = 1665.4*1e6  # OH rest frequency in Hz\n",
        "J = 1e26  # Jy to Watts conversion factor\n",
        "D = 13.5  # m\n",
        "NPol = 2\n",
        "A = np.pi * (D/2)**2\n",
        "N = 58  # nr antennas\n",
        "\n",
        "col_flux = N_oh*theta**2/(8.9e12*441.*velocity_width)\n",
        "rmsmin = col_flux/(F_tap*SN)  # mJy/beam\n",
        "\n",
        "print('Intensity corresponding to an HI column density:\\n')\n",
        "string1 = 'OH'\\\n",
        "            ' with a column density of N_oh = {0:2.4g},\\n'\\\n",
        "            '   observed at {1} arcseconds resolution (HPBW),\\n'\\\n",
        "            '   with a velocity width of {2:2.4g} km/s,\\n'\\\n",
        "            '   is observed with an intensity of {3:2.4g} mJy/beam.\\n'\n",
        "string2 = 'To detect this\\n'\\\n",
        "            '   at a {1:.0f}-sigma level (taper factor of {2:2.2g}),\\n'\\\n",
        "            '   we require a data cube with a natural rms of {3:2.4g} mJy/beam\\n'\\\n",
        "            '   (after regridding to {4:2.4g} km/s-wide channels).\\n'\n",
        "print(string1.format(N_oh, theta, velocity_width, col_flux))\n",
        "print(string2.format(N_oh, SN, F_tap, rmsmin, velocity_width))"
      ],
      "execution_count": null,
      "outputs": [
        {
          "output_type": "stream",
          "text": [
            "Intensity corresponding to an HI column density:\n",
            "\n",
            "OH with a column density of N_oh = 4.1e+12,\n",
            "   observed at 60.0 arcseconds resolution (HPBW),\n",
            "   with a velocity width of  3 km/s,\n",
            "   is observed with an intensity of 1.254 mJy/beam.\n",
            "\n",
            "To detect this\n",
            "   at a 2-sigma level (taper factor of 1.6),\n",
            "   we require a data cube with a natural rms of 0.5223 mJy/beam\n",
            "   (after regridding to  3 km/s-wide channels).\n",
            "\n"
          ],
          "name": "stdout"
        }
      ]
    },
    {
      "cell_type": "code",
      "metadata": {
        "colab": {
          "base_uri": "https://localhost:8080/"
        },
        "id": "jb2n-dy_fQue",
        "outputId": "483fd2ea-b712-4de6-fdaf-5fea61d1b853"
      },
      "source": [
        "Tb = 441. * col_flux / theta**2\n",
        "print(f'Brightness temperature T = {Tb*1000.:.3f} [mK] for column flux density S = {col_flux:.5f} [mJy/beam]')\n",
        "Tb = 441. * rmsmin / theta**2\n",
        "print(f'Brightness temperature T = {Tb*1000.:.3f} [mK] for column flux density S = {rmsmin:.5f} [mJy/beam]')"
      ],
      "execution_count": null,
      "outputs": [
        {
          "output_type": "stream",
          "text": [
            "Brightness temperature T = 153.558 [mK] for column flux density S = 1.25354 [mJy/beam]\n",
            "Brightness temperature T = 63.983 [mK] for column flux density S = 0.52231 [mJy/beam]\n"
          ],
          "name": "stdout"
        }
      ]
    },
    {
      "cell_type": "code",
      "metadata": {
        "colab": {
          "base_uri": "https://localhost:8080/"
        },
        "id": "dbO4mOJ1xwLY",
        "outputId": "e97beea0-3ad1-4612-88ed-4174a5bb3ed6"
      },
      "source": [
        "bw = f_OH/const.c.value*velocity_width*1000.\n",
        "#bw = 856e6  # Hz\n",
        "Tsys_per_eta = Tsys_eta[np.argmin(np.abs(f - obs_freq))]\n",
        "taumin = np.power((2 * const.k_B.value * Tsys_per_eta * J)/(A * (rmsmin/1000.) * np.sqrt(NPol)),2)/(N * (N-1) * bw)\n",
        "print (\"T_sys/eta at %3.0f MHz is %2.1fK\"%(obs_freq/1e6,Tsys_per_eta) )\n",
        "print('   With this, to reach the required rms level, the required integration time is\\n'\\\n",
        "        '   {0:.0f}s or {1:.2f}h.'.format(taumin, taumin/3600.))"
      ],
      "execution_count": null,
      "outputs": [
        {
          "output_type": "stream",
          "text": [
            "T_sys/eta at 1665 MHz is 24.4K\n",
            "   With this, to reach the required rms level, the required integration time is\n",
            "   7371s or 2.05h.\n"
          ],
          "name": "stdout"
        }
      ]
    },
    {
      "cell_type": "code",
      "metadata": {
        "colab": {
          "base_uri": "https://localhost:8080/"
        },
        "id": "s21qnqffm0nj",
        "outputId": "850bbd0b-3f6f-4471-f480-1485382b7cde"
      },
      "source": [
        "# bw = f_OH/const.c.value*velocity_width*1000.\n",
        "bw = 107e6  # Hz\n",
        "Tsys_per_eta = Tsys_eta[np.argmin(np.abs(f - obs_freq))]\n",
        "taumin = np.power((2 * const.k_B.value * Tsys_per_eta * J)/(A * (rmsmin/1000.) * np.sqrt(NPol)),2)/(N * (N-1) * bw)\n",
        "print (\"T_sys/eta at %3.0f MHz is %2.1fK\"%(obs_freq/1e6,Tsys_per_eta) )\n",
        "print('   With this, to reach the required rms level, the required integration time is\\n'\\\n",
        "        '   {0:.0f}s or {1:.2f}h.'.format(taumin, taumin/3600.))"
      ],
      "execution_count": null,
      "outputs": [
        {
          "output_type": "stream",
          "text": [
            "T_sys/eta at 1665 MHz is 24.4K\n",
            "   With this, to reach the required rms level, the required integration time is\n",
            "   1s or 0.00h.\n"
          ],
          "name": "stdout"
        }
      ]
    },
    {
      "cell_type": "markdown",
      "metadata": {
        "id": "ftKS_WO6vaZO"
      },
      "source": [
        "For an interferometer, the noise level in the resulting data cubes (expressed in mJy) scales roughly as $S = (k*T_{sys})(A*N^2(N_p*\\Delta\\nu * \\Delta t)^{1/2})^{-1}$, where $T_sys$ is the system temperature, $A$ is the area of each antenna, $N$ is the number of antennas, $N_p$ is the number of polarizations, $\\Delta\\nu$ is the available bandwidth and $\\Delta t$ is the observing time. For continuum observations, $\\Delta\\nu$ is the full observation bandwidth, for spectral line observations, $\\Delta\\nu$ is the channel width/ line width."
      ]
    },
    {
      "cell_type": "code",
      "metadata": {
        "colab": {
          "base_uri": "https://localhost:8080/"
        },
        "id": "5pyEg3PGNXJv",
        "outputId": "84076235-9912-4217-9ae1-7afe380d4cc0"
      },
      "source": [
        "f_OH = 1665.4*1e6  # OH rest frequency in Hz\n",
        "Df = 8.56E8/32768  # Channel width 32k mode in Hz (Bandwidth divided by channels)\n",
        "print(Df, 'Hz')\n",
        "Df = Df*const.c.value/f_OH/1000.\n",
        "print('32k wideband mode channel width : {0:f} km/s @ line frequency {1:.2f} MHz'\n",
        "      .format(Df, f_OH/1e6))\n",
        "\n",
        "Df=4.702469  # km/s\n",
        "Df = 6  # km/s\n",
        "print(Df, 'km/s')\n",
        "Df = Df*1000.*f_OH/const.c.value\n",
        "print(Df, 'Hz')"
      ],
      "execution_count": null,
      "outputs": [
        {
          "output_type": "stream",
          "text": [
            "26123.046875 Hz\n",
            "32k wideband mode channel width : 4.702469 km/s @ line frequency 1665.40 MHz\n",
            "6 km/s\n",
            "33331.05864858015 Hz\n"
          ],
          "name": "stdout"
        }
      ]
    },
    {
      "cell_type": "markdown",
      "metadata": {
        "id": "ojswpn5LDiMw"
      },
      "source": [
        "Sensitivity calculations assuming mK -- gives microJy values -- we will not detect that so if the line is that weak, -- so assuming 4mJy"
      ]
    },
    {
      "cell_type": "code",
      "metadata": {
        "colab": {
          "base_uri": "https://localhost:8080/"
        },
        "id": "rG0k7VgiKbir",
        "outputId": "b32f2c4b-663e-4442-ef50-e13a5461a2be"
      },
      "source": [
        "taumin = 9099.90*3600.\n",
        "print(taumin/3600., 'hrs')\n",
        "print(taumin/(3600.*24.), 'days')\n",
        "print(taumin/(3600.*24.*30.), 'months')"
      ],
      "execution_count": null,
      "outputs": [
        {
          "output_type": "stream",
          "text": [
            "9099.9 hrs\n",
            "379.1625 days\n",
            "12.63875 months\n"
          ],
          "name": "stdout"
        }
      ]
    },
    {
      "cell_type": "code",
      "metadata": {
        "id": "FhZP5b07u3gw",
        "colab": {
          "base_uri": "https://localhost:8080/"
        },
        "outputId": "b25af688-517a-43a3-e634-431c1d028698"
      },
      "source": [
        "print(rmsmin, 'mJy/beam')\n",
        "rmsmin = 0.004\n",
        "print(rmsmin, 'mJy/beam')\n",
        "Df = 8.56E8/32768  # Channel width 32k mode in Hz (Bandwidth divided by channels)\n",
        "Df = Df*const.c.value/f_OH/1000.\n",
        "#Df = 9  # km/s\n",
        "print(Df, 'km/s')\n",
        "bw = Df*1000.*f_OH/const.c.value\n",
        "print(bw, 'Hz')# bw = f_OH/const.c.value*velocity_width*1000.\n",
        "#bw = 33331  # Hz\n",
        "Tsys_per_eta = Tsys_eta[np.argmin(np.abs(f - obs_freq))]\n",
        "taumin = np.power((2 * const.k_B.value * Tsys_per_eta * J)/(A * (rmsmin/1000.) * np.sqrt(NPol)),2)/(N * (N-1) * bw)\n",
        "print (\"T_sys/eta at %3.0f MHz is %2.1fK\"%(obs_freq/1e6,Tsys_per_eta) )\n",
        "print('   With this, to reach the required rms level, the required integration time is\\n'\\\n",
        "        '   {0:.0f}s or {1:.2f}h.'.format(taumin, taumin/3600.))\n",
        "\n",
        "print(taumin/3600., 'hrs')\n",
        "print(taumin/(3600.*24.), 'days')\n",
        "print(taumin/(3600.*24.*30.), 'months')"
      ],
      "execution_count": null,
      "outputs": [
        {
          "output_type": "stream",
          "text": [
            "0.5223063007974724 mJy/beam\n",
            "0.004 mJy/beam\n",
            "4.702469336559067 km/s\n",
            "26123.046875000004 Hz\n",
            "T_sys/eta at 1665 MHz is 24.4K\n",
            "   With this, to reach the required rms level, the required integration time is\n",
            "   80176562s or 22271.27h.\n",
            "22271.267312738055 hrs\n",
            "927.9694713640856 days\n",
            "30.932315712136187 months\n"
          ],
          "name": "stdout"
        }
      ]
    },
    {
      "cell_type": "code",
      "metadata": {
        "colab": {
          "base_uri": "https://localhost:8080/"
        },
        "id": "8ttjAh2vOXpA",
        "outputId": "bede8d72-cdbf-47e3-e826-947558625139"
      },
      "source": [
        "Smax = 0.004  # Jy/beam\n",
        "newconst = (2. * boltz_k * Tsys_per_eta * Jy) / (A * np.sqrt(NPol * N * (N-1) * wbw))\n",
        "sqrt_dt = newconst / Smax\n",
        "taumin = sqrt_dt*sqrt_dt\n",
        "print(f'To achieve flux of {Smax} [Jy/beam] over {wbw/1e6:.1f} MHz bandwidth, requires integration time {taumin:.0f}s or {taumin/3600.:.2f}h')\n",
        "newconst = (2. * boltz_k * Tsys_per_eta * Jy) / (A * np.sqrt(NPol * N * (N-1) * nbw))\n",
        "sqrt_dt = newconst / Smax\n",
        "taumin = sqrt_dt*sqrt_dt\n",
        "print(f'To achieve flux of {Smax} [Jy/beam] over {nbw/1e6:.1f} MHz bandwidth, requires integration time {taumin:.0f}s or {taumin/3600.:.2f}h')\n",
        "newconst = (2. * boltz_k * Tsys_per_eta * Jy) / (A * np.sqrt(NPol * N * (N-1) * spbw))\n",
        "sqrt_dt = newconst / Smax\n",
        "taumin = sqrt_dt*sqrt_dt\n",
        "print(f'To achieve flux of {Smax} [Jy/beam] over {spbw/1e3:.1f} kHz bandwidth, requires integration time {taumin:.0f}s or {taumin/3600.:.2f}h')\n"
      ],
      "execution_count": null,
      "outputs": [
        {
          "output_type": "stream",
          "text": [
            "To achieve flux of 0.004 [Jy/beam] over 856.0 MHz bandwidth, requires integration time 244679s or 67.97h\n",
            "To achieve flux of 0.004 [Jy/beam] over 107.0 MHz bandwidth, requires integration time 1957436s or 543.73h\n",
            "To achieve flux of 0.004 [Jy/beam] over 19.6 kHz bandwidth, requires integration time 10691513267s or 2969864.80h\n"
          ],
          "name": "stdout"
        }
      ]
    },
    {
      "cell_type": "markdown",
      "metadata": {
        "id": "hEFpjAJL8mFm"
      },
      "source": [
        "For calibration the 32k wide will give the best and quickest calibration/imaging solution, but narrow band only comes with 4k wide output along with the 32k narrow -- the channelisation for that is to wide\n",
        "\n",
        "(conservative approach)\n",
        "Using the imaging mode means we can schedule shorter 1h observations, filler observations. And to these frequently, which means we build up the data we need, the inversion of the line happens over weeks, so we can accumulate the data.\n",
        "Also, it is a more standard mode, so easier to accept and schedule.\n",
        "There are pipelines that can be used and standard flagging and calibration methods can be applied quickly.\n",
        "\n",
        "Once we have detection or close to perihelion -- which ever comes first, we can switch to narrowband mode to get the velocity resolution we need."
      ]
    }
  ]
}