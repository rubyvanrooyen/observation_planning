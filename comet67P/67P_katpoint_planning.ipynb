{
  "nbformat": 4,
  "nbformat_minor": 0,
  "metadata": {
    "colab": {
      "name": "67P katpoint planning.ipynb",
      "provenance": [],
      "include_colab_link": true
    },
    "kernelspec": {
      "name": "python3",
      "display_name": "Python 3"
    },
    "language_info": {
      "name": "python"
    }
  },
  "cells": [
    {
      "cell_type": "markdown",
      "metadata": {
        "id": "view-in-github",
        "colab_type": "text"
      },
      "source": [
        "<a href=\"https://colab.research.google.com/github/rubyvanrooyen/observation_planning/blob/main/comet67P/67P_katpoint_planning.ipynb\" target=\"_parent\"><img src=\"https://colab.research.google.com/assets/colab-badge.svg\" alt=\"Open In Colab\"/></a>"
      ]
    },
    {
      "cell_type": "code",
      "metadata": {
        "colab": {
          "base_uri": "https://localhost:8080/"
        },
        "id": "7XI3gIx7rAsw",
        "outputId": "76f89c2c-a810-4e09-df5f-f280fc6367ac"
      },
      "source": [
        "!pip install katpoint"
      ],
      "execution_count": 1,
      "outputs": [
        {
          "output_type": "stream",
          "name": "stdout",
          "text": [
            "Collecting katpoint\n",
            "  Downloading katpoint-0.10-py2.py3-none-any.whl (99 kB)\n",
            "\u001b[K     |████████████████████████████████| 99 kB 3.7 MB/s \n",
            "\u001b[?25hRequirement already satisfied: numpy in /usr/local/lib/python3.7/dist-packages (from katpoint) (1.19.5)\n",
            "Requirement already satisfied: ephem in /usr/local/lib/python3.7/dist-packages (from katpoint) (4.0.0.2)\n",
            "Requirement already satisfied: future in /usr/local/lib/python3.7/dist-packages (from katpoint) (0.16.0)\n",
            "Installing collected packages: katpoint\n",
            "Successfully installed katpoint-0.10\n"
          ]
        }
      ]
    },
    {
      "cell_type": "code",
      "metadata": {
        "colab": {
          "base_uri": "https://localhost:8080/"
        },
        "id": "c7uzI5TqDIj0",
        "outputId": "22834699-ade6-4dd7-88ea-12e6b743c44e"
      },
      "source": [
        "!pip install git+https://github.com/ska-sa/astrokat.git"
      ],
      "execution_count": 2,
      "outputs": [
        {
          "output_type": "stream",
          "name": "stdout",
          "text": [
            "Collecting git+https://github.com/ska-sa/astrokat.git\n",
            "  Cloning https://github.com/ska-sa/astrokat.git to /tmp/pip-req-build-a1_pfgcb\n",
            "  Running command git clone -q https://github.com/ska-sa/astrokat.git /tmp/pip-req-build-a1_pfgcb\n",
            "  Installing build dependencies ... \u001b[?25l\u001b[?25hdone\n",
            "  Getting requirements to build wheel ... \u001b[?25l\u001b[?25hdone\n",
            "  Installing backend dependencies ... \u001b[?25l\u001b[?25hdone\n",
            "    Preparing wheel metadata ... \u001b[?25l\u001b[?25hdone\n",
            "Collecting pyephem\n",
            "  Downloading pyephem-9.99.tar.gz (1.4 kB)\n",
            "Requirement already satisfied: katpoint<1.0 in /usr/local/lib/python3.7/dist-packages (from astrokat==0.1.dev856+master.7dd7c9e) (0.10)\n",
            "Requirement already satisfied: numpy in /usr/local/lib/python3.7/dist-packages (from astrokat==0.1.dev856+master.7dd7c9e) (1.19.5)\n",
            "Requirement already satisfied: astropy in /usr/local/lib/python3.7/dist-packages (from astrokat==0.1.dev856+master.7dd7c9e) (4.3.1)\n",
            "Requirement already satisfied: pyyaml in /usr/local/lib/python3.7/dist-packages (from astrokat==0.1.dev856+master.7dd7c9e) (3.13)\n",
            "Requirement already satisfied: matplotlib in /usr/local/lib/python3.7/dist-packages (from astrokat==0.1.dev856+master.7dd7c9e) (3.2.2)\n",
            "Requirement already satisfied: ephem in /usr/local/lib/python3.7/dist-packages (from katpoint<1.0->astrokat==0.1.dev856+master.7dd7c9e) (4.0.0.2)\n",
            "Requirement already satisfied: future in /usr/local/lib/python3.7/dist-packages (from katpoint<1.0->astrokat==0.1.dev856+master.7dd7c9e) (0.16.0)\n",
            "Requirement already satisfied: pyerfa>=1.7.3 in /usr/local/lib/python3.7/dist-packages (from astropy->astrokat==0.1.dev856+master.7dd7c9e) (2.0.0)\n",
            "Requirement already satisfied: importlib-metadata in /usr/local/lib/python3.7/dist-packages (from astropy->astrokat==0.1.dev856+master.7dd7c9e) (4.8.1)\n",
            "Requirement already satisfied: zipp>=0.5 in /usr/local/lib/python3.7/dist-packages (from importlib-metadata->astropy->astrokat==0.1.dev856+master.7dd7c9e) (3.5.0)\n",
            "Requirement already satisfied: typing-extensions>=3.6.4 in /usr/local/lib/python3.7/dist-packages (from importlib-metadata->astropy->astrokat==0.1.dev856+master.7dd7c9e) (3.7.4.3)\n",
            "Requirement already satisfied: python-dateutil>=2.1 in /usr/local/lib/python3.7/dist-packages (from matplotlib->astrokat==0.1.dev856+master.7dd7c9e) (2.8.2)\n",
            "Requirement already satisfied: cycler>=0.10 in /usr/local/lib/python3.7/dist-packages (from matplotlib->astrokat==0.1.dev856+master.7dd7c9e) (0.10.0)\n",
            "Requirement already satisfied: pyparsing!=2.0.4,!=2.1.2,!=2.1.6,>=2.0.1 in /usr/local/lib/python3.7/dist-packages (from matplotlib->astrokat==0.1.dev856+master.7dd7c9e) (2.4.7)\n",
            "Requirement already satisfied: kiwisolver>=1.0.1 in /usr/local/lib/python3.7/dist-packages (from matplotlib->astrokat==0.1.dev856+master.7dd7c9e) (1.3.2)\n",
            "Requirement already satisfied: six in /usr/local/lib/python3.7/dist-packages (from cycler>=0.10->matplotlib->astrokat==0.1.dev856+master.7dd7c9e) (1.15.0)\n",
            "Building wheels for collected packages: astrokat, pyephem\n",
            "  Building wheel for astrokat (PEP 517) ... \u001b[?25l\u001b[?25hdone\n",
            "  Created wheel for astrokat: filename=astrokat-0.1.dev856+master.7dd7c9e-py3-none-any.whl size=61363 sha256=d565e5a194aace2c39a98ea5adda02f1003553006591d3814265f3aaa5bae1d7\n",
            "  Stored in directory: /tmp/pip-ephem-wheel-cache-mby4gpw1/wheels/48/68/38/460259a8276bb666804bc42ac8074a069b535a1a1cccda1237\n",
            "  Building wheel for pyephem (setup.py) ... \u001b[?25l\u001b[?25hdone\n",
            "  Created wheel for pyephem: filename=pyephem-9.99-py3-none-any.whl size=1568 sha256=f35a6966695004c0d8086dc4a90145e49aee009edbff3f55df4a47309593a524\n",
            "  Stored in directory: /root/.cache/pip/wheels/30/12/37/6d3c470a337d412e8ac33b581cb2d67c825eaf063db830d74c\n",
            "Successfully built astrokat pyephem\n",
            "Installing collected packages: pyephem, astrokat\n",
            "Successfully installed astrokat-0.1.dev856+master.7dd7c9e pyephem-9.99\n"
          ]
        }
      ]
    },
    {
      "cell_type": "code",
      "metadata": {
        "id": "vRoAoY2zzA57"
      },
      "source": [
        "import ephem, katpoint"
      ],
      "execution_count": 3,
      "outputs": []
    },
    {
      "cell_type": "code",
      "metadata": {
        "colab": {
          "base_uri": "https://localhost:8080/"
        },
        "id": "WSzZXsF2rH2Z",
        "outputId": "c84699e5-040b-49aa-b9d9-fb2b1ae249bb"
      },
      "source": [
        "creation_time = '2021-09-23 23:00'\n",
        "\n",
        "ref_antenna = katpoint.Antenna(\"ref, -30:42:39.8, 21:26:38.0, 1035.0, 0.0, , , 1.15\")\n",
        "ref_antenna.observer.horizon = ephem.degrees(str(15))\n",
        "ref_antenna.observer.date = ephem.Date(creation_time)\n",
        "\n",
        "print(ref_antenna.observer)"
      ],
      "execution_count": 4,
      "outputs": [
        {
          "output_type": "stream",
          "name": "stdout",
          "text": [
            "<ephem.Observer date='2021/9/23 23:00:00' epoch='2000/1/1 12:00:00' lon='21:26:38.0' lat='-30:42:39.8' elevation=1035.0m horizon=15:00:00.0 temp=15.0C pressure=0.0mBar>\n"
          ]
        }
      ]
    },
    {
      "cell_type": "markdown",
      "metadata": {
        "id": "oD4SpMyqEYC-"
      },
      "source": [
        "Calibrators are identified using the transit pointing calculation notebook"
      ]
    },
    {
      "cell_type": "code",
      "metadata": {
        "colab": {
          "base_uri": "https://localhost:8080/"
        },
        "id": "QA3UrELirH5l",
        "outputId": "1144b009-7bc5-4478-8a8a-47f61f5d0721"
      },
      "source": [
        "sources = [           \n",
        "#           'J0108+0134, radec gaincal, 1:08:38.77, 1:35:00.3',\n",
        "           'J0431+2037, radec gaincal, 4:31:03.76, 20:37:34.3',\n",
        "           'J0408-6545 | 0408-658, radec fluxcal bpcal delaycal, 04:08:20.3782, -65:45:09.080',\n",
        "#           'J0318+1628, radec gaincal, 3:18:57.80, 16:28:32.7',\n",
        "#           'J0059+0006 | 0056-001, radec gaincal, 00:59:5.5149, +00:06:51.621',\n",
        "#           '3c39, radec target, 01:21:00.048, 03:44:20.72',\n",
        "          ]\n",
        "# From MPEC 2021-N06\n",
        "xephem_comet67P = '67P/Churyumov-Gerasimenko,e,3.8713,36.3348,22.1246,3.457120,0.1533319,0.649811,341.5921,07/05.0/2021,2000,g 11.0,4.0'\n",
        "comet_def = xephem_comet67P.replace(',', '~')\n",
        "comet_str = f\"67P/Churyumov-Gerasimenko, xephem, {comet_def}\"\n",
        "sources.append(comet_str)\n",
        "\n",
        "obsfile = 'comet67P_observe.csv'\n",
        "with open(obsfile, 'w') as fout:\n",
        "    for line in sources:\n",
        "        print(line)\n",
        "        fout.write(line+\"\\n\")"
      ],
      "execution_count": 5,
      "outputs": [
        {
          "output_type": "stream",
          "name": "stdout",
          "text": [
            "J0431+2037, radec gaincal, 4:31:03.76, 20:37:34.3\n",
            "J0408-6545 | 0408-658, radec fluxcal bpcal delaycal, 04:08:20.3782, -65:45:09.080\n",
            "67P/Churyumov-Gerasimenko, xephem, 67P/Churyumov-Gerasimenko~e~3.8713~36.3348~22.1246~3.457120~0.1533319~0.649811~341.5921~07/05.0/2021~2000~g 11.0~4.0\n"
          ]
        }
      ]
    },
    {
      "cell_type": "code",
      "metadata": {
        "id": "fLqILuDUrH9A"
      },
      "source": [
        "with open(obsfile, 'r') as fin:\n",
        "    catalogue = katpoint.Catalogue(fin)"
      ],
      "execution_count": 6,
      "outputs": []
    },
    {
      "cell_type": "code",
      "metadata": {
        "colab": {
          "base_uri": "https://localhost:8080/"
        },
        "id": "ytN9MWZVwa1N",
        "outputId": "1c5162b1-1cf6-48de-be63-2fb0fb19eb09"
      },
      "source": [
        "catalogue"
      ],
      "execution_count": 7,
      "outputs": [
        {
          "output_type": "execute_result",
          "data": {
            "text/plain": [
              "<katpoint.Catalogue targets=3 names=4 at 0x7ffa2a26b8d0>"
            ]
          },
          "metadata": {},
          "execution_count": 7
        }
      ]
    },
    {
      "cell_type": "code",
      "metadata": {
        "id": "hpA0NrjADJBz"
      },
      "source": [
        "sun = katpoint.Target(\"Sun, special\")\n",
        "sun.body.compute(ref_antenna.observer)"
      ],
      "execution_count": 8,
      "outputs": []
    },
    {
      "cell_type": "code",
      "metadata": {
        "id": "w9zLuE6HDI4Y"
      },
      "source": [
        "katpt_targets = catalogue.filter(['target', 'xephem'])"
      ],
      "execution_count": 9,
      "outputs": []
    },
    {
      "cell_type": "code",
      "metadata": {
        "colab": {
          "base_uri": "https://localhost:8080/"
        },
        "id": "qbX_ZByFDIuw",
        "outputId": "9ba7604e-8e58-4e9f-b690-c6e55a316069"
      },
      "source": [
        "for cnt, target in enumerate(katpt_targets):\n",
        "    target.body.compute(ref_antenna.observer)\n",
        "    separation_angle = ephem.separation(sun.body, target.body)\n",
        "    print(cnt, target, target.body.alt)    "
      ],
      "execution_count": 10,
      "outputs": [
        {
          "output_type": "stream",
          "name": "stdout",
          "text": [
            "0 67P/Churyumov-Gerasimenko, tags=xephem solarsys, no flux info 14:54:44.5\n"
          ]
        }
      ]
    },
    {
      "cell_type": "code",
      "metadata": {
        "id": "fpr6r5EFFlVA"
      },
      "source": [
        "import numpy\n",
        "from astrokat import datetime2timestamp, timestamp2datetime\n",
        "import matplotlib\n",
        "import matplotlib.pyplot as plt\n",
        "import matplotlib.dates as mdates\n",
        "from matplotlib.font_manager import FontProperties\n",
        "from datetime import datetime, timedelta\n",
        "\n",
        "# source elevation over time (24H) plot\n",
        "def source_elevation(catalogue, ref_antenna):\n",
        "    \"\"\"Generate a plot of elevation over time for 24 hour period.\n",
        "    For all sources in provided catalogue at a specific location\n",
        "    Parameters\n",
        "    ----------\n",
        "    catalogue: katpoint.Catalogue\n",
        "    ref_antenna: katpoint.Antenna\n",
        "        A MeerKAT reference antenna\n",
        "    Returns\n",
        "    -------\n",
        "        matplotlib figure handle\n",
        "    \"\"\"\n",
        "    catalogue.antenna = ref_antenna\n",
        "    horizon = numpy.degrees(ref_antenna.observer.horizon)\n",
        "    # All times and timestamps assumed UTC, no special conversion to\n",
        "    # accommodate SAST allowed to prevent confusion\n",
        "    creation_date = catalogue.antenna.observer.date\n",
        "    creation_timestamp = datetime2timestamp(creation_date.datetime())\n",
        "    time_range = creation_timestamp + numpy.arange(0, 24.0 * 60.0 * 60.0, 360.0)\n",
        "    timestamps = [timestamp2datetime(ts) for ts in time_range]\n",
        "\n",
        "    fig = plt.figure(figsize=(15, 7), facecolor=\"white\")\n",
        "    ax = plt.subplot(111)\n",
        "    plt.subplots_adjust(right=0.8)\n",
        "    fontP = FontProperties()\n",
        "    fontP.set_size(\"small\")\n",
        "\n",
        "    for cnt, target in enumerate(catalogue.targets):\n",
        "        elev = []\n",
        "        for idx, timestamp in enumerate(timestamps):\n",
        "            catalogue.antenna.observer.date = ephem.Date(timestamp)\n",
        "            target.body.compute(catalogue.antenna.observer)\n",
        "            elev.append(numpy.degrees(target.body.alt))\n",
        "\n",
        "        label = \"{} \".format(target.name)\n",
        "        if \"radec\" in target.tags:\n",
        "            target.tags.remove(\"radec\")\n",
        "        if \"target\" in target.tags:\n",
        "            target.tags.remove(\"target\")\n",
        "        label += \", \".join(target.tags)\n",
        "\n",
        "        myplot, = plt.plot_date(timestamps,\n",
        "                                elev,\n",
        "                                fmt='.',\n",
        "                                linewidth=0,\n",
        "                                label=label)\n",
        "    ax.axhspan(15, horizon, facecolor=\"k\", alpha=0.1)\n",
        "    plt.grid()\n",
        "    plt.legend(loc='center left',\n",
        "               bbox_to_anchor=(1, 0.5),\n",
        "               prop={'size': 10},\n",
        "               numpoints=1)\n",
        "    plt.ylabel(\"Elevation (deg)\")\n",
        "    plt.ylim(15, 90)\n",
        "    plt.yticks(fontsize=10)\n",
        "\n",
        "    # fix tick positions for proper time axis display\n",
        "    utc_hrs = [timestamps[0] + timedelta(hours=hr) for hr in range(0, 25, 1)]\n",
        "    box = ax.get_position()\n",
        "    ax.set_position([box.x0, box.y0, box.width * 0.9, box.height])\n",
        "    ax.set_xlim(utc_hrs[0], utc_hrs[-1])\n",
        "    ax.xaxis.set_major_locator(mdates.HourLocator(byhour=range(24),\n",
        "                                                  interval=1))\n",
        "    locs = ax.get_xticks()\n",
        "    locs_labels = matplotlib.dates.num2date(locs)\n",
        "    locator = matplotlib.ticker.FixedLocator(locs)\n",
        "    ax.xaxis.set_major_locator(locator)\n",
        "    utc_timestamps = [locs_lbl.strftime(\"%H:%M\") for locs_lbl in locs_labels]\n",
        "\n",
        "    lst_timestamps = []\n",
        "    for locs_ts in locs_labels:\n",
        "        catalogue.antenna.observer.date = ephem.Date(locs_ts)\n",
        "        lst_time = \"{}\".format(catalogue.antenna.observer.sidereal_time())\n",
        "        lst_time_str = datetime.strptime(lst_time,\n",
        "                                         \"%H:%M:%S.%f\").strftime(\"%H:%M\")\n",
        "        lst_timestamps.append(lst_time_str)\n",
        "\n",
        "    ax.set_xticklabels(lst_timestamps,\n",
        "                       rotation=30,\n",
        "                       fontsize=10)\n",
        "    ax.set_xlabel(\"Local Sidereal Time\")\n",
        "\n",
        "    ax2 = ax.twiny()\n",
        "    box = ax2.get_position()\n",
        "    ax2.set_position([box.x0, box.y0, box.width * 0.9, box.height])\n",
        "    ax2.set_xlim(ax.get_xlim())\n",
        "    ax2.set_xticks(ax.get_xticks())\n",
        "    ax2.xaxis.set_major_locator(locator)\n",
        "    ax2.set_xticklabels(utc_timestamps,\n",
        "                        rotation=30,\n",
        "                        fontsize=10)\n",
        "    ax2.set_xlabel('Time (UTC) starting from {}'.format(datetime.utcfromtimestamp(\n",
        "        creation_timestamp).strftime('%Y-%m-%d %H:%M:%S')))\n",
        "\n",
        "    return fig"
      ],
      "execution_count": 11,
      "outputs": []
    },
    {
      "cell_type": "code",
      "metadata": {
        "colab": {
          "base_uri": "https://localhost:8080/",
          "height": 497
        },
        "id": "1ezO7WTTrIAZ",
        "outputId": "4669f266-1fa4-4c1e-8a91-a52e58a2e5fe"
      },
      "source": [
        "source_elevation(catalogue, ref_antenna)\n",
        "plt.savefig('elevation.png')\n",
        "plt.show()"
      ],
      "execution_count": 13,
      "outputs": [
        {
          "output_type": "display_data",
          "data": {
            "image/png": "[encoded data removed]",
            "text/plain": [
              "<Figure size 1080x504 with 2 Axes>"
            ]
          },
          "metadata": {}
        }
      ]
    },
    {
      "cell_type": "markdown",
      "metadata": {
        "id": "qCTtbrPULpN5"
      },
      "source": [
        "```\n",
        "configure_obs()\n",
        "```\n",
        "```\n",
        "obs.sb.new(owner=\"ruby\")\n",
        "obs.sb.type=katuilib.ScheduleBlockTypes.OBSERVATION\n",
        "obs.sb.description=\"Cometary OH: 67P narrow band line filler observation\"\n",
        "obs.sb.antenna_spec=\"available\"\n",
        "obs.sb.controlled_resources_spec=\"cbf,sdp\"\n",
        "obs.sb.instruction_set=\"run-obs-script /home/kat/katsdpscripts/observation/image.py /home/kat/katsdpcatalogues/comet67P_observe.csv -t 900 -g 90 -b 300 -i 3600 -m 5400\"\n",
        "obs.sb.proposal_id=\"SSV-20210701-SA-01\"\n",
        "obs.sb.horizon=15.0\n",
        "obs.sb.desired_start_time= '2021-09-23 23:00'\n",
        "obs.sb.to_defined()\n",
        "obs.sb.to_approved()\n",
        "obs.sb.unload()\n",
        "```"
      ]
    },
    {
      "cell_type": "code",
      "metadata": {
        "id": "7ro_mKaVL5rR"
      },
      "source": [
        ""
      ],
      "execution_count": 12,
      "outputs": []
    }
  ]
}