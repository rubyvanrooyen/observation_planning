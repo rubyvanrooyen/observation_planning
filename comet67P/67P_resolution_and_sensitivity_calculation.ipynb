{
  "nbformat": 4,
  "nbformat_minor": 0,
  "metadata": {
    "colab": {
      "name": "67P resolution and sensitivity calculation.ipynb",
      "provenance": [],
      "toc_visible": true,
      "authorship_tag": "ABX9TyP6mL/s+6O7G9IHYRLT4GaQ",
      "include_colab_link": true
    },
    "kernelspec": {
      "name": "python3",
      "display_name": "Python 3"
    },
    "language_info": {
      "name": "python"
    }
  },
  "cells": [
    {
      "cell_type": "markdown",
      "metadata": {
        "id": "view-in-github",
        "colab_type": "text"
      },
      "source": [
        "<a href=\"https://colab.research.google.com/github/rubyvanrooyen/observation_planning/blob/main/comet67P/67P_resolution_and_sensitivity_calculation.ipynb\" target=\"_parent\"><img src=\"https://colab.research.google.com/assets/colab-badge.svg\" alt=\"Open In Colab\"/></a>"
      ]
    },
    {
      "cell_type": "code",
      "metadata": {
        "id": "kRaHYqlMZ77Z"
      },
      "source": [
        "from astropy import units as u\n",
        "from astropy import constants as const\n",
        "\n",
        "import numpy as np"
      ],
      "execution_count": null,
      "outputs": []
    },
    {
      "cell_type": "code",
      "metadata": {
        "id": "b8_6XxCfZ7_i"
      },
      "source": [
        "bandwidth = 54.*u.MHz\n",
        "numchans = 32768\n",
        "centerfreq = 1.6654*u.GHz"
      ],
      "execution_count": null,
      "outputs": []
    },
    {
      "cell_type": "markdown",
      "metadata": {
        "id": "jwNYyxe0dOjL"
      },
      "source": [
        "## Spectral resolution\n",
        "\n",
        "Spectral resolution for MeerKAT wideband and spectral line modes = $\\Delta v \\approx \\Delta f \\frac{c}{f}$\n",
        "with $\\Delta v$ the velocity span (km/s), $\\Delta f$ the channel width, $f$ the centre frequency and $c$ the speed of light in a vacuum."
      ]
    },
    {
      "cell_type": "code",
      "metadata": {
        "colab": {
          "base_uri": "https://localhost:8080/"
        },
        "id": "JMgMf8a4Z8G0",
        "outputId": "766df210-ace4-4309-cb08-0638cb5f165d"
      },
      "source": [
        "def velocity_resolution(bw, fc, nc):\n",
        "    # channel width\n",
        "    df = bw.to(u.Hz)/nc\n",
        "    # channel velocity resolution\n",
        "    dv = (df*const.c/fc.to(u.Hz)).to(u.km/u.s)\n",
        "    print(dv)\n",
        "    print(f'Bandwidth {bw} over {nc} channels for channel width {dv:.3f} at {fc}')\n",
        "\n",
        "velocity_resolution(bw=bandwidth,\n",
        "                    fc=centerfreq,\n",
        "                    nc=numchans)"
      ],
      "execution_count": null,
      "outputs": [
        {
          "output_type": "stream",
          "text": [
            "0.2966511030072308 km / s\n",
            "Bandwidth 54.0 MHz over 32768 channels for channel width 0.297 km / s at 1.6654 GHz\n"
          ],
          "name": "stdout"
        }
      ]
    },
    {
      "cell_type": "markdown",
      "metadata": {
        "id": "HQ2vHxXSjHch"
      },
      "source": [
        "## Spatial resolution\n",
        "\n",
        "The FWHM of the synthesized beam (point spread function), which is the inverse Fourier transform of a (weighted) u-v sampling distribution.    \n",
        "The resolution in arcsec can be approximated as: FWHM (\") = 63 / max_baseline (km) / frequency (GHz)"
      ]
    },
    {
      "cell_type": "code",
      "metadata": {
        "colab": {
          "base_uri": "https://localhost:8080/"
        },
        "id": "I3MujqXKZ8Kl",
        "outputId": "928e8979-df02-4bfb-ef0a-6a46b07f12e7"
      },
      "source": [
        "def spatial_resolution(fc,\n",
        "                       bmax=7.7*u.km):\n",
        "    wavelength = fc.to(u.nm, equivalencies=u.spectral())\n",
        "    baseline = bmax.to(u.m)/wavelength.to(u.m)\n",
        "    FWHMsb = 1.02/baseline * u.rad.to(u.arcsec) * u.arcsec\n",
        "    print(f'MeerKAT Resolution @ {fc} = {FWHMsb:.3}')\n",
        "\n",
        "spatial_resolution(fc=centerfreq)"
      ],
      "execution_count": null,
      "outputs": [
        {
          "output_type": "stream",
          "text": [
            "MeerKAT Resolution @ 1.6654 GHz = 4.92 arcsec\n"
          ],
          "name": "stdout"
        }
      ]
    },
    {
      "cell_type": "markdown",
      "metadata": {
        "id": "GzGg-RVxm5pJ"
      },
      "source": [
        "## Point source sensitivity\n",
        "\n",
        "Use radiometer equation to estimate detectability\n",
        "\n",
        "The theoretical thermal rms intensity-sensitivity $\\sigma_\\mathrm{S}$ of a (naturally-weighted) image is found using \n",
        "\\begin{align*}\\sigma_\\mathrm{S} = \\frac{2 k_\\mathrm{B} T_\\mathrm{sys}}{A_\\mathrm{eff} \\sqrt{N_\\mathrm{p} N_\\mathrm{a}(N_\\mathrm{a}-1) \\Delta\\nu \\Delta t}}\\ \\mathrm{[mJy/beam]}\n",
        "\\end{align*}\n",
        "\n",
        "with $k_\\mathrm{B}$ the Boltzmann-constant,\n",
        "$T_\\mathrm{sys}$ the system temperature,   \n",
        "$A_\\mathrm{eff} = \\eta_a A$ the effective aperture of an antenna, assuming apperture efficiency $\\eta_a$ at frequency $\\nu$,    \n",
        "$N_\\mathrm{p}$ the number of polarisations [$N_\\mathrm{p}=2$ for images in Stokes I, Q, U or V],    \n",
        "$N_\\mathrm{a}$ the number of antennas,    \n",
        "$\\Delta\\nu$ the RF observation bandwidth [Hz] for continuum or channel width/FWHM of line for spectral line imaging and    \n",
        "$\\Delta t$ the total on target integration time [sec].\n",
        "\n",
        "The equations are from http://www.atnf.csiro.au/people/Tobias.Westmeier/tools_hihelpers.php, or https://ui.adsabs.harvard.edu/abs/2013tra..book.....W/abstract, respectively."
      ]
    },
    {
      "cell_type": "code",
      "metadata": {
        "id": "ZHBg56RKmN2e"
      },
      "source": [
        "# Fitted values from recent work.\n",
        "specs = np.array([[ 881.           ,24.87730995],\n",
        "     [ 913.875        ,24.49771763],\n",
        "     [ 946.75         ,24.16024859],\n",
        "     [ 979.625        ,23.64646727],\n",
        "     [1012.5          ,24.07896985],\n",
        "     [1045.375        ,23.79283849],\n",
        "     [1078.25         ,22.70843003],\n",
        "     [1111.125        ,22.93770384],\n",
        "     [1144.           ,22.84885476],\n",
        "     [1176.875        ,22.12287765],\n",
        "     [1209.75         ,21.49206455],\n",
        "     [1242.625        ,21.16654511],\n",
        "     [1275.5          ,20.96656328],\n",
        "     [1308.375        ,20.6466135 ],\n",
        "     [1341.25         ,20.46467585],\n",
        "     [1374.125        ,20.35819618],\n",
        "     [1407.           ,20.33486544],\n",
        "     [1439.875        ,20.45917325],\n",
        "     [1472.75         ,20.46422681],\n",
        "     [1505.625        ,20.53214192],\n",
        "     [1538.5          ,21.29373981],\n",
        "     [1571.375        ,20.78716734],\n",
        "     [1604.25         ,20.91109069],\n",
        "     [1637.125        ,21.14846713],\n",
        "     [1670.           ,24.40091906]])\n",
        "     \n",
        "f = specs[:,0]*1e6  # frequency axis above in Hz\n",
        "Tsys_eta = specs[:,1]\n",
        "obs_freq = 1665.4*1e6  # OH rest frequency in Hz\n",
        "\n",
        "idx_ = np.argmin(np.abs(f - obs_freq))\n",
        "# fit with a second degree polynomial\n",
        "x = f[idx_-1:idx_+2]\n",
        "y = Tsys_eta[idx_-1:idx_+2]\n",
        "if len(x) < 3: p_o = 1\n",
        "else: p_o = 2\n",
        "c2p = np.polyfit(x, y, p_o) \n",
        "p2 = np.poly1d(c2p)\n",
        "Tsys_per_eta = p2(obs_freq)"
      ],
      "execution_count": null,
      "outputs": []
    },
    {
      "cell_type": "markdown",
      "metadata": {
        "id": "XQ37r86u8hn9"
      },
      "source": [
        "The beam-averaged brightness temperature measured by a given array depends on the synthesized beam, and is related to the flux density per beam:\n",
        "\\begin{align*}\n",
        " T_\\mathrm{B} = \\frac{\\lambda^2S_\\nu}{2k_\\mathrm{B}\\Omega_\\mathrm{bm}}\n",
        "\\end{align*}\n",
        "\\begin{align*}\n",
        " \\frac{T_\\mathrm{B}}{\\mathrm{K}} \\approx 1.360 \\times \\left(\\frac{\\lambda}{\\mathrm{cm}} \\right)^2 \\times \\frac{S_\\nu}{\\mathrm{mJy}} \\times \\frac{1}{\\vartheta^2}\n",
        "\\end{align*}\n",
        "At OH frequency 1.665 GHz\n",
        "$\\frac{T_\\mathrm{B}}{K} \\approx 440.633 \\times \\frac{S_\\nu}{\\mathrm{mJy}} \\times \\frac{1}{\\vartheta^2}$\n",
        "\n",
        "\\begin{align*}\n",
        " T_\\mathrm{B} = \\frac{441 \\, S}{\\vartheta^{2}} = F \\cdot S\n",
        "\\end{align*}\n",
        "In this equation, the *HPBW* $\\vartheta$ of the synthesized beam is measured in arcseconds, and the flux density $S$ is measured in mJy, to calculate the brightness temperature $T_\\mathrm{B}$.\n",
        "\n",
        "Angular size of a Gaussian beam $\\sim \\frac{1.5\\lambda}{B\\mathrm{max}}$.    \n",
        "The brightness temperature sensitivity can be obtained by substituting the RMS noise, $\\sigma_s$, for $S$.\n",
        "\n",
        "We can then calculate the OH-column density $N_\\mathrm{OH}$ by integrating over the OH linewidth (measured in $\\mathrm{km}\\,\\mathrm{s}^{-1}$):\n",
        "\\begin{align*}\n",
        "N_{\\rm OH} = 8.9 \\times 10^{12} \\! \\int \\! T_{\\rm B} \\, \\mathrm{d}V          \n",
        " \\end{align*}\n",
        "\n",
        " \\begin{align*}\n",
        "N_{\\rm OH} \\approx 8.9 \\times 10^{12} \\cdot (T_{\\rm B} \\Delta v)          \n",
        " \\end{align*}\n",
        "  \\begin{align*}\n",
        "S \\approx N_{\\rm OH} \\ \\vartheta^2 \\  / \\ (8.9 \\times 10^{12} * 441 * \\Delta v)          \n",
        " \\end{align*}"
      ]
    },
    {
      "cell_type": "code",
      "metadata": {
        "colab": {
          "base_uri": "https://localhost:8080/"
        },
        "id": "hFK6DyyIZ8V_",
        "outputId": "b7124850-5910-43d7-f33f-e2d9b46cc814"
      },
      "source": [
        "F_tap = 1.6  # The Robust/tapering factor.\n",
        "theta = 60.  # The synthesized beam HPBW in arcseconds  \n",
        "SN = 1.5  #5.  # Signal to Noise for detection\n",
        "N_oh = 4.1e12  # Target OH column Density in cm^{-2}\n",
        "velocity_width = 3.  # in km/s\n",
        "f_OH = 1665.4*1e6  # OH rest frequency in Hz\n",
        "J = 1e26  # Jy to Watts conversion factor\n",
        "D = 13.5  # m\n",
        "NPol = 2\n",
        "A = np.pi * (D/2)**2\n",
        "N = 58  # nr antennas\n",
        "\n",
        "col_flux = N_oh*theta**2/(8.9e12*441.*velocity_width)\n",
        "rmsmin = col_flux/(F_tap*SN)  # mJy/beam\n",
        "\n",
        "print('Intensity corresponding to an HI column density:\\n')\n",
        "string1 = 'OH'\\\n",
        "            ' with a column density of N_oh = {0:2.4g},\\n'\\\n",
        "            '   observed at {1} arcseconds resolution (HPBW),\\n'\\\n",
        "            '   with a velocity width of {2:2.4g} km/s,\\n'\\\n",
        "            '   is observed with an intensity of {3:2.4g} mJy/beam.\\n'\n",
        "string2 = 'To detect this\\n'\\\n",
        "            '   at a {1:.0f}-sigma level (taper factor of {2:2.2g}),\\n'\\\n",
        "            '   we require a data cube with a natural rms of {3:2.4g} mJy/beam\\n'\\\n",
        "            '   (after regridding to {4:2.4g} km/s-wide channels).\\n'\n",
        "print(string1.format(N_oh, theta, velocity_width, col_flux))\n",
        "print(string2.format(N_oh, SN, F_tap, rmsmin, velocity_width))"
      ],
      "execution_count": null,
      "outputs": [
        {
          "output_type": "stream",
          "text": [
            "Intensity corresponding to an HI column density:\n",
            "\n",
            "OH with a column density of N_oh = 4.1e+12,\n",
            "   observed at 60.0 arcseconds resolution (HPBW),\n",
            "   with a velocity width of  3 km/s,\n",
            "   is observed with an intensity of 1.254 mJy/beam.\n",
            "\n",
            "To detect this\n",
            "   at a 2-sigma level (taper factor of 1.6),\n",
            "   we require a data cube with a natural rms of 0.5223 mJy/beam\n",
            "   (after regridding to  3 km/s-wide channels).\n",
            "\n"
          ],
          "name": "stdout"
        }
      ]
    },
    {
      "cell_type": "code",
      "metadata": {
        "colab": {
          "base_uri": "https://localhost:8080/"
        },
        "id": "4IfA1UhLZ8Z4",
        "outputId": "7bb3e9ce-6bf6-4d7c-8180-d30e1420e291"
      },
      "source": [
        "bw = f_OH/const.c.value*velocity_width*1000.\n",
        "Tsys_per_eta = Tsys_eta[np.argmin(np.abs(f - obs_freq))]\n",
        "taumin = np.power((2 * const.k_B.value * Tsys_per_eta * J)/(A * (rmsmin/1000.) * np.sqrt(NPol)),2)/(N * (N-1) * bw)\n",
        "print (\"T_sys/eta at %3.0f MHz is %2.1fK\"%(obs_freq/1e6,Tsys_per_eta) )\n",
        "print('   With this, to reach the required rms level, the required integration time is\\n'\\\n",
        "        '   {0:.0f}s or {1:.2f}h.'.format(taumin, taumin/3600.))"
      ],
      "execution_count": null,
      "outputs": [
        {
          "output_type": "stream",
          "text": [
            "T_sys/eta at 1665 MHz is 24.4K\n",
            "   With this, to reach the required rms level, the required integration time is\n",
            "   7371s or 2.05h.\n"
          ],
          "name": "stdout"
        }
      ]
    },
    {
      "cell_type": "code",
      "metadata": {
        "id": "5BTIlnffZ8iK"
      },
      "source": [
        ""
      ],
      "execution_count": null,
      "outputs": []
    }
  ]
}