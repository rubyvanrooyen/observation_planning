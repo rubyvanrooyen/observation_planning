{
  "nbformat": 4,
  "nbformat_minor": 0,
  "metadata": {
    "colab": {
      "name": "67P calibrator selection.ipynb",
      "provenance": [],
      "authorship_tag": "ABX9TyOS4db//VEoBL1+Yz6RwFI0",
      "include_colab_link": true
    },
    "kernelspec": {
      "name": "python3",
      "display_name": "Python 3"
    },
    "language_info": {
      "name": "python"
    }
  },
  "cells": [
    {
      "cell_type": "markdown",
      "metadata": {
        "id": "view-in-github",
        "colab_type": "text"
      },
      "source": [
        "<a href=\"https://colab.research.google.com/github/rubyvanrooyen/observation_planning/blob/main/comet67P/67P_calibrator_selection.ipynb\" target=\"_parent\"><img src=\"https://colab.research.google.com/assets/colab-badge.svg\" alt=\"Open In Colab\"/></a>"
      ]
    },
    {
      "cell_type": "markdown",
      "metadata": {
        "id": "9cAl08QbvE1e"
      },
      "source": [
        "# Installation"
      ]
    },
    {
      "cell_type": "markdown",
      "metadata": {
        "id": "2tRFR40NNXKS"
      },
      "source": [
        "```\n",
        "pip install https://github.com/user/repo.git@branch\n",
        "```"
      ]
    },
    {
      "cell_type": "code",
      "metadata": {
        "colab": {
          "base_uri": "https://localhost:8080/"
        },
        "id": "FqM0g94UjgfC",
        "outputId": "826c1cce-6ed0-4816-9bb0-a77ecd920341"
      },
      "source": [
        "!pip install git+https://github.com/ska-sa/astrokat.git"
      ],
      "execution_count": 1,
      "outputs": [
        {
          "output_type": "stream",
          "name": "stdout",
          "text": [
            "Collecting git+https://github.com/ska-sa/astrokat.git\n",
            "  Cloning https://github.com/ska-sa/astrokat.git to /tmp/pip-req-build-1i7quhd6\n",
            "  Running command git clone -q https://github.com/ska-sa/astrokat.git /tmp/pip-req-build-1i7quhd6\n",
            "  Installing build dependencies ... \u001b[?25l\u001b[?25hdone\n",
            "  Getting requirements to build wheel ... \u001b[?25l\u001b[?25hdone\n",
            "  Installing backend dependencies ... \u001b[?25l\u001b[?25hdone\n",
            "    Preparing wheel metadata ... \u001b[?25l\u001b[?25hdone\n",
            "Requirement already satisfied: astropy in /usr/local/lib/python3.7/dist-packages (from astrokat==0.1.dev856+master.7dd7c9e) (4.3.1)\n",
            "Requirement already satisfied: matplotlib in /usr/local/lib/python3.7/dist-packages (from astrokat==0.1.dev856+master.7dd7c9e) (3.2.2)\n",
            "Collecting pyephem\n",
            "  Downloading pyephem-9.99.tar.gz (1.4 kB)\n",
            "Collecting katpoint<1.0\n",
            "  Downloading katpoint-0.10-py2.py3-none-any.whl (99 kB)\n",
            "\u001b[K     |████████████████████████████████| 99 kB 4.0 MB/s \n",
            "\u001b[?25hRequirement already satisfied: numpy in /usr/local/lib/python3.7/dist-packages (from astrokat==0.1.dev856+master.7dd7c9e) (1.19.5)\n",
            "Requirement already satisfied: pyyaml in /usr/local/lib/python3.7/dist-packages (from astrokat==0.1.dev856+master.7dd7c9e) (3.13)\n",
            "Requirement already satisfied: ephem in /usr/local/lib/python3.7/dist-packages (from katpoint<1.0->astrokat==0.1.dev856+master.7dd7c9e) (4.0.0.2)\n",
            "Requirement already satisfied: future in /usr/local/lib/python3.7/dist-packages (from katpoint<1.0->astrokat==0.1.dev856+master.7dd7c9e) (0.16.0)\n",
            "Requirement already satisfied: pyerfa>=1.7.3 in /usr/local/lib/python3.7/dist-packages (from astropy->astrokat==0.1.dev856+master.7dd7c9e) (2.0.0)\n",
            "Requirement already satisfied: importlib-metadata in /usr/local/lib/python3.7/dist-packages (from astropy->astrokat==0.1.dev856+master.7dd7c9e) (4.8.1)\n",
            "Requirement already satisfied: typing-extensions>=3.6.4 in /usr/local/lib/python3.7/dist-packages (from importlib-metadata->astropy->astrokat==0.1.dev856+master.7dd7c9e) (3.7.4.3)\n",
            "Requirement already satisfied: zipp>=0.5 in /usr/local/lib/python3.7/dist-packages (from importlib-metadata->astropy->astrokat==0.1.dev856+master.7dd7c9e) (3.5.0)\n",
            "Requirement already satisfied: python-dateutil>=2.1 in /usr/local/lib/python3.7/dist-packages (from matplotlib->astrokat==0.1.dev856+master.7dd7c9e) (2.8.2)\n",
            "Requirement already satisfied: pyparsing!=2.0.4,!=2.1.2,!=2.1.6,>=2.0.1 in /usr/local/lib/python3.7/dist-packages (from matplotlib->astrokat==0.1.dev856+master.7dd7c9e) (2.4.7)\n",
            "Requirement already satisfied: kiwisolver>=1.0.1 in /usr/local/lib/python3.7/dist-packages (from matplotlib->astrokat==0.1.dev856+master.7dd7c9e) (1.3.2)\n",
            "Requirement already satisfied: cycler>=0.10 in /usr/local/lib/python3.7/dist-packages (from matplotlib->astrokat==0.1.dev856+master.7dd7c9e) (0.10.0)\n",
            "Requirement already satisfied: six in /usr/local/lib/python3.7/dist-packages (from cycler>=0.10->matplotlib->astrokat==0.1.dev856+master.7dd7c9e) (1.15.0)\n",
            "Building wheels for collected packages: astrokat, pyephem\n",
            "  Building wheel for astrokat (PEP 517) ... \u001b[?25l\u001b[?25hdone\n",
            "  Created wheel for astrokat: filename=astrokat-0.1.dev856+master.7dd7c9e-py3-none-any.whl size=61363 sha256=cc4ce1b27ccce698caf297deec653605630f9f0482ab64ea4d4df1ac66737fcc\n",
            "  Stored in directory: /tmp/pip-ephem-wheel-cache-x306al1h/wheels/48/68/38/460259a8276bb666804bc42ac8074a069b535a1a1cccda1237\n",
            "  Building wheel for pyephem (setup.py) ... \u001b[?25l\u001b[?25hdone\n",
            "  Created wheel for pyephem: filename=pyephem-9.99-py3-none-any.whl size=1568 sha256=ac51a576caa3b6fd36ff39b86df1d76e72a3658cf935cb4ef3e9b9cf8b3d6e31\n",
            "  Stored in directory: /root/.cache/pip/wheels/30/12/37/6d3c470a337d412e8ac33b581cb2d67c825eaf063db830d74c\n",
            "Successfully built astrokat pyephem\n",
            "Installing collected packages: pyephem, katpoint, astrokat\n",
            "Successfully installed astrokat-0.1.dev856+master.7dd7c9e katpoint-0.10 pyephem-9.99\n"
          ]
        }
      ]
    },
    {
      "cell_type": "code",
      "metadata": {
        "colab": {
          "base_uri": "https://localhost:8080/"
        },
        "id": "8AXbClwImcmX",
        "outputId": "51489efb-516b-4e5e-cfda-adf7bc5f0f22"
      },
      "source": [
        "!git clone https://github.com/ska-sa/astrokat.git"
      ],
      "execution_count": 2,
      "outputs": [
        {
          "output_type": "stream",
          "name": "stdout",
          "text": [
            "Cloning into 'astrokat'...\n",
            "remote: Enumerating objects: 3864, done.\u001b[K\n",
            "remote: Counting objects: 100% (1326/1326), done.\u001b[K\n",
            "remote: Compressing objects: 100% (639/639), done.\u001b[K\n",
            "remote: Total 3864 (delta 908), reused 1060 (delta 685), pack-reused 2538\u001b[K\n",
            "Receiving objects: 100% (3864/3864), 6.23 MiB | 23.73 MiB/s, done.\n",
            "Resolving deltas: 100% (2684/2684), done.\n"
          ]
        }
      ]
    },
    {
      "cell_type": "code",
      "metadata": {
        "id": "tGHKxSr6mdgv"
      },
      "source": [
        "!ln -s /content/astrokat/scripts/astrokat-targets.py mkatcals.py"
      ],
      "execution_count": 3,
      "outputs": []
    },
    {
      "cell_type": "markdown",
      "metadata": {
        "id": "5uzrMOitmsDw"
      },
      "source": [
        "# Observation file"
      ]
    },
    {
      "cell_type": "code",
      "metadata": {
        "id": "yb25ejTom-0w"
      },
      "source": [
        "import astrokat\n",
        "import mkatcals"
      ],
      "execution_count": 4,
      "outputs": []
    },
    {
      "cell_type": "code",
      "metadata": {
        "colab": {
          "base_uri": "https://localhost:8080/"
        },
        "id": "OgCqREgkmtxj",
        "outputId": "36130f29-d1bb-4ce8-b1bf-e0d85d911387"
      },
      "source": [
        "!astrokat-targets.py  --datetime '2021-09-23 00:00:00' --xephem \"67P/Churyumov-Gerasimenko\" \"67P/Churyumov-Gerasimenko~e~3.8713~36.3348~22.1246~3.457120~0.1533319~0.649811~341.5921~07/05.0/2021~2000~g 11.0~4.0\" --cal-tags gain flux --lst --cat-path astrokat/catalogues/ --text-only --horizon 15."
      ],
      "execution_count": 5,
      "outputs": [
        {
          "output_type": "stream",
          "name": "stdout",
          "text": [
            "\n",
            "Observation Table for 2021/9/23 00:00:00 (UTC)\n",
            "Times listed in LST for target rise and set times\n",
            "Target visible when above 14.999999999999998 degrees\n",
            "Sources         Class                           RA              Decl            Rise Time       Set Time        Separation      Notes           \n",
            "\u001b[0m67P/Churyumov-Gerasimenkoxephem solarsys target          4:34:04.64      19:57:35.6      0:38:17.67      8:25:30.12      112.34          Separation from Sun\n",
            "\u001b[0m\u001b[93mJ0408-6545      radec bpcal fluxcal             4:08:20.38      -65:45:09.1     19:45:40.42     12:31:23.79     85.15 ***       Separation from 67P/Churyumov-Gerasimenko\n",
            "\u001b[0m\u001b[0mJ0431+2037      radec gaincal                   4:31:03.76      20:37:34.3      0:44:40.68      8:19:59.62      2.00                            \n",
            "\u001b[0m\n"
          ]
        }
      ]
    },
    {
      "cell_type": "code",
      "metadata": {
        "id": "zxN8ZHWgqDCk"
      },
      "source": [
        ""
      ],
      "execution_count": 6,
      "outputs": []
    }
  ]
}