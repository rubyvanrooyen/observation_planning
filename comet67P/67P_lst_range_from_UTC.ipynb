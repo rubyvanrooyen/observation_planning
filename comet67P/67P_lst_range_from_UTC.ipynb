{
  "nbformat": 4,
  "nbformat_minor": 0,
  "metadata": {
    "colab": {
      "name": "67P lst range from UTC.ipynb",
      "provenance": [],
      "authorship_tag": "ABX9TyNknnMBpyvPjRufM8DfXZ+1",
      "include_colab_link": true
    },
    "kernelspec": {
      "name": "python3",
      "display_name": "Python 3"
    },
    "language_info": {
      "name": "python"
    }
  },
  "cells": [
    {
      "cell_type": "markdown",
      "metadata": {
        "id": "view-in-github",
        "colab_type": "text"
      },
      "source": [
        "<a href=\"https://colab.research.google.com/github/rubyvanrooyen/observation_planning/blob/main/comet67P/67P_lst_range_from_UTC.ipynb\" target=\"_parent\"><img src=\"https://colab.research.google.com/assets/colab-badge.svg\" alt=\"Open In Colab\"/></a>"
      ]
    },
    {
      "cell_type": "code",
      "metadata": {
        "id": "t7oYuAHmbxcL"
      },
      "source": [
        ""
      ],
      "execution_count": null,
      "outputs": []
    },
    {
      "cell_type": "markdown",
      "metadata": {
        "id": "9X6GtW8BUBCg"
      },
      "source": [
        "# AstroKAT LST calculation tools\n",
        "\n",
        "Time calculations providing LST information relative to the MeerKAT telescope\n",
        "\n",
        "For more detail refer to the\n",
        "[MeerKAT LST tools](https://github.com/ska-sa/astrokat/wiki/MeerKAT-LST-tools)\n",
        "documentation on the\n",
        "[AstroKAT](https://github.com/ska-sa/astrokat/wiki)\n",
        "wiki page.\n"
      ]
    },
    {
      "cell_type": "markdown",
      "metadata": {
        "id": "3nTZav3jDD1N"
      },
      "source": [
        "## Installation and setup"
      ]
    },
    {
      "cell_type": "code",
      "metadata": {
        "id": "xA6fNhteSgtD",
        "colab": {
          "base_uri": "https://localhost:8080/"
        },
        "outputId": "668ef975-e4a0-40c8-da90-4fd1d8bd313d"
      },
      "source": [
        "!pip install git+https://github.com/ska-sa/astrokat.git"
      ],
      "execution_count": null,
      "outputs": [
        {
          "output_type": "stream",
          "text": [
            "Collecting git+https://github.com/ska-sa/astrokat.git\n",
            "  Cloning https://github.com/ska-sa/astrokat.git to /tmp/pip-req-build-ol6s4kea\n",
            "  Running command git clone -q https://github.com/ska-sa/astrokat.git /tmp/pip-req-build-ol6s4kea\n",
            "  Installing build dependencies ... \u001b[?25l\u001b[?25hdone\n",
            "  Getting requirements to build wheel ... \u001b[?25l\u001b[?25hdone\n",
            "  Installing backend dependencies ... \u001b[?25l\u001b[?25hdone\n",
            "    Preparing wheel metadata ... \u001b[?25l\u001b[?25hdone\n",
            "Collecting katpoint\n",
            "\u001b[?25l  Downloading https://files.pythonhosted.org/packages/1e/cf/046884bb78b838d76443f7c6a7ab3f432fc94c956352797f60f51dc861e5/katpoint-0.10-py2.py3-none-any.whl (99kB)\n",
            "\u001b[K     |████████████████████████████████| 102kB 8.1MB/s \n",
            "\u001b[?25hCollecting pyephem\n",
            "  Downloading https://files.pythonhosted.org/packages/8e/02/1eade827452880961bc4657df24f72e7a76d764abff3e666433e1c8d1980/pyephem-9.99.tar.gz\n",
            "Requirement already satisfied: astropy in /usr/local/lib/python3.7/dist-packages (from astrokat==0.1.dev741+master.ae30107) (4.2.1)\n",
            "Requirement already satisfied: matplotlib in /usr/local/lib/python3.7/dist-packages (from astrokat==0.1.dev741+master.ae30107) (3.2.2)\n",
            "Requirement already satisfied: numpy in /usr/local/lib/python3.7/dist-packages (from astrokat==0.1.dev741+master.ae30107) (1.19.5)\n",
            "Requirement already satisfied: pyyaml in /usr/local/lib/python3.7/dist-packages (from astrokat==0.1.dev741+master.ae30107) (3.13)\n",
            "Requirement already satisfied: ephem in /usr/local/lib/python3.7/dist-packages (from katpoint->astrokat==0.1.dev741+master.ae30107) (4.0.0.2)\n",
            "Requirement already satisfied: future in /usr/local/lib/python3.7/dist-packages (from katpoint->astrokat==0.1.dev741+master.ae30107) (0.16.0)\n",
            "Requirement already satisfied: pyerfa in /usr/local/lib/python3.7/dist-packages (from astropy->astrokat==0.1.dev741+master.ae30107) (2.0.0)\n",
            "Requirement already satisfied: pyparsing!=2.0.4,!=2.1.2,!=2.1.6,>=2.0.1 in /usr/local/lib/python3.7/dist-packages (from matplotlib->astrokat==0.1.dev741+master.ae30107) (2.4.7)\n",
            "Requirement already satisfied: cycler>=0.10 in /usr/local/lib/python3.7/dist-packages (from matplotlib->astrokat==0.1.dev741+master.ae30107) (0.10.0)\n",
            "Requirement already satisfied: kiwisolver>=1.0.1 in /usr/local/lib/python3.7/dist-packages (from matplotlib->astrokat==0.1.dev741+master.ae30107) (1.3.1)\n",
            "Requirement already satisfied: python-dateutil>=2.1 in /usr/local/lib/python3.7/dist-packages (from matplotlib->astrokat==0.1.dev741+master.ae30107) (2.8.1)\n",
            "Requirement already satisfied: six in /usr/local/lib/python3.7/dist-packages (from cycler>=0.10->matplotlib->astrokat==0.1.dev741+master.ae30107) (1.15.0)\n",
            "Building wheels for collected packages: astrokat\n",
            "  Building wheel for astrokat (PEP 517) ... \u001b[?25l\u001b[?25hdone\n",
            "  Created wheel for astrokat: filename=astrokat-0.1.dev741+master.ae30107-cp37-none-any.whl size=56291 sha256=78b1ba17c76a84d4753b17cccb4df3461036d98ef68fb184e3194c83986692cb\n",
            "  Stored in directory: /tmp/pip-ephem-wheel-cache-quw_iyxt/wheels/4c/42/c4/982808ef2b9b2d88f345d5e8b81c563a18023a782b006c3ec8\n",
            "Successfully built astrokat\n",
            "Building wheels for collected packages: pyephem\n",
            "  Building wheel for pyephem (setup.py) ... \u001b[?25l\u001b[?25hdone\n",
            "  Created wheel for pyephem: filename=pyephem-9.99-cp37-none-any.whl size=1570 sha256=dbce37929d90a1dad381b6c29fa1ce231eddace9479d326d87b84bf62e216554\n",
            "  Stored in directory: /root/.cache/pip/wheels/9d/c2/8d/c7117f6ac25cad94939c5dbbddbb4ba312e0b808edf11912a6\n",
            "Successfully built pyephem\n",
            "Installing collected packages: katpoint, pyephem, astrokat\n",
            "Successfully installed astrokat-0.1.dev741+master.ae30107 katpoint-0.10 pyephem-9.99\n"
          ],
          "name": "stdout"
        }
      ]
    },
    {
      "cell_type": "code",
      "metadata": {
        "id": "TG0ITwqkUeTw",
        "colab": {
          "base_uri": "https://localhost:8080/"
        },
        "outputId": "5457ea4b-8de1-494b-d26a-3fcabf4d990a"
      },
      "source": [
        "!git clone https://github.com/ska-sa/astrokat.git"
      ],
      "execution_count": null,
      "outputs": [
        {
          "output_type": "stream",
          "text": [
            "Cloning into 'astrokat'...\n",
            "remote: Enumerating objects: 3349, done.\u001b[K\n",
            "remote: Counting objects:   0% (1/811)\u001b[K\rremote: Counting objects:   1% (9/811)\u001b[K\rremote: Counting objects:   2% (17/811)\u001b[K\rremote: Counting objects:   3% (25/811)\u001b[K\rremote: Counting objects:   4% (33/811)\u001b[K\rremote: Counting objects:   5% (41/811)\u001b[K\rremote: Counting objects:   6% (49/811)\u001b[K\rremote: Counting objects:   7% (57/811)\u001b[K\rremote: Counting objects:   8% (65/811)\u001b[K\rremote: Counting objects:   9% (73/811)\u001b[K\rremote: Counting objects:  10% (82/811)\u001b[K\rremote: Counting objects:  11% (90/811)\u001b[K\rremote: Counting objects:  12% (98/811)\u001b[K\rremote: Counting objects:  13% (106/811)\u001b[K\rremote: Counting objects:  14% (114/811)\u001b[K\rremote: Counting objects:  15% (122/811)\u001b[K\rremote: Counting objects:  16% (130/811)\u001b[K\rremote: Counting objects:  17% (138/811)\u001b[K\rremote: Counting objects:  18% (146/811)\u001b[K\rremote: Counting objects:  19% (155/811)\u001b[K\rremote: Counting objects:  20% (163/811)\u001b[K\rremote: Counting objects:  21% (171/811)\u001b[K\rremote: Counting objects:  22% (179/811)\u001b[K\rremote: Counting objects:  23% (187/811)\u001b[K\rremote: Counting objects:  24% (195/811)\u001b[K\rremote: Counting objects:  25% (203/811)\u001b[K\rremote: Counting objects:  26% (211/811)\u001b[K\rremote: Counting objects:  27% (219/811)\u001b[K\rremote: Counting objects:  28% (228/811)\u001b[K\rremote: Counting objects:  29% (236/811)\u001b[K\rremote: Counting objects:  30% (244/811)\u001b[K\rremote: Counting objects:  31% (252/811)\u001b[K\rremote: Counting objects:  32% (260/811)\u001b[K\rremote: Counting objects:  33% (268/811)\u001b[K\rremote: Counting objects:  34% (276/811)\u001b[K\rremote: Counting objects:  35% (284/811)\u001b[K\rremote: Counting objects:  36% (292/811)\u001b[K\rremote: Counting objects:  37% (301/811)\u001b[K\rremote: Counting objects:  38% (309/811)\u001b[K\rremote: Counting objects:  39% (317/811)\u001b[K\rremote: Counting objects:  40% (325/811)\u001b[K\rremote: Counting objects:  41% (333/811)\u001b[K\rremote: Counting objects:  42% (341/811)\u001b[K\rremote: Counting objects:  43% (349/811)\u001b[K\rremote: Counting objects:  44% (357/811)\u001b[K\rremote: Counting objects:  45% (365/811)\u001b[K\rremote: Counting objects:  46% (374/811)\u001b[K\rremote: Counting objects:  47% (382/811)\u001b[K\rremote: Counting objects:  48% (390/811)\u001b[K\rremote: Counting objects:  49% (398/811)\u001b[K\rremote: Counting objects:  50% (406/811)\u001b[K\rremote: Counting objects:  51% (414/811)\u001b[K\rremote: Counting objects:  52% (422/811)\u001b[K\rremote: Counting objects:  53% (430/811)\u001b[K\rremote: Counting objects:  54% (438/811)\u001b[K\rremote: Counting objects:  55% (447/811)\u001b[K\rremote: Counting objects:  56% (455/811)\u001b[K\rremote: Counting objects:  57% (463/811)\u001b[K\rremote: Counting objects:  58% (471/811)\u001b[K\rremote: Counting objects:  59% (479/811)\u001b[K\rremote: Counting objects:  60% (487/811)\u001b[K\rremote: Counting objects:  61% (495/811)\u001b[K\rremote: Counting objects:  62% (503/811)\u001b[K\rremote: Counting objects:  63% (511/811)\u001b[K\rremote: Counting objects:  64% (520/811)\u001b[K\rremote: Counting objects:  65% (528/811)\u001b[K\rremote: Counting objects:  66% (536/811)\u001b[K\rremote: Counting objects:  67% (544/811)\u001b[K\rremote: Counting objects:  68% (552/811)\u001b[K\rremote: Counting objects:  69% (560/811)\u001b[K\rremote: Counting objects:  70% (568/811)\u001b[K\rremote: Counting objects:  71% (576/811)\u001b[K\rremote: Counting objects:  72% (584/811)\u001b[K\rremote: Counting objects:  73% (593/811)\u001b[K\rremote: Counting objects:  74% (601/811)\u001b[K\rremote: Counting objects:  75% (609/811)\u001b[K\rremote: Counting objects:  76% (617/811)\u001b[K\rremote: Counting objects:  77% (625/811)\u001b[K\rremote: Counting objects:  78% (633/811)\u001b[K\rremote: Counting objects:  79% (641/811)\u001b[K\rremote: Counting objects:  80% (649/811)\u001b[K\rremote: Counting objects:  81% (657/811)\u001b[K\rremote: Counting objects:  82% (666/811)\u001b[K\rremote: Counting objects:  83% (674/811)\u001b[K\rremote: Counting objects:  84% (682/811)\u001b[K\rremote: Counting objects:  85% (690/811)\u001b[K\rremote: Counting objects:  86% (698/811)\u001b[K\rremote: Counting objects:  87% (706/811)\u001b[K\rremote: Counting objects:  88% (714/811)\u001b[K\rremote: Counting objects:  89% (722/811)\u001b[K\rremote: Counting objects:  90% (730/811)\u001b[K\rremote: Counting objects:  91% (739/811)\u001b[K\rremote: Counting objects:  92% (747/811)\u001b[K\rremote: Counting objects:  93% (755/811)\u001b[K\rremote: Counting objects:  94% (763/811)\u001b[K\rremote: Counting objects:  95% (771/811)\u001b[K\rremote: Counting objects:  96% (779/811)\u001b[K\rremote: Counting objects:  97% (787/811)\u001b[K\rremote: Counting objects:  98% (795/811)\u001b[K\rremote: Counting objects:  99% (803/811)\u001b[K\rremote: Counting objects: 100% (811/811)\u001b[K\rremote: Counting objects: 100% (811/811), done.\u001b[K\n",
            "remote: Compressing objects: 100% (407/407), done.\u001b[K\n",
            "remote: Total 3349 (delta 528), reused 650 (delta 402), pack-reused 2538\u001b[K\n",
            "Receiving objects: 100% (3349/3349), 6.15 MiB | 29.44 MiB/s, done.\n",
            "Resolving deltas: 100% (2304/2304), done.\n"
          ],
          "name": "stdout"
        }
      ]
    },
    {
      "cell_type": "code",
      "metadata": {
        "id": "BhFucSNtUeCG"
      },
      "source": [
        "!ln -s /content/astrokat/scripts/astrokat-lst.py lstcals.py"
      ],
      "execution_count": null,
      "outputs": []
    },
    {
      "cell_type": "code",
      "metadata": {
        "id": "a75A8cUeUd_B"
      },
      "source": [
        "from datetime import datetime\n",
        "import astrokat\n",
        "import lstcals"
      ],
      "execution_count": null,
      "outputs": []
    },
    {
      "cell_type": "markdown",
      "metadata": {
        "id": "Fn_leHR59_v7"
      },
      "source": [
        "## MeerKAT LST for a given UTC date and time\n",
        "\n",
        "`astrokat-lst.py --date '2018-08-06 12:34'`"
      ]
    },
    {
      "cell_type": "code",
      "metadata": {
        "id": "vBQNCNM1bnQG"
      },
      "source": [
        ""
      ],
      "execution_count": null,
      "outputs": []
    },
    {
      "cell_type": "code",
      "metadata": {
        "id": "CHl7Qy706Bv3",
        "cellView": "form"
      },
      "source": [
        "date_input = '2021-07-25' #@param {type:\"date\"}\n",
        "hour =  4#@param {type:\"integer\"}\n",
        "minute =  8#@param {type:\"integer\"}"
      ],
      "execution_count": null,
      "outputs": []
    },
    {
      "cell_type": "code",
      "metadata": {
        "id": "gB1YkhNO_A1d",
        "colab": {
          "base_uri": "https://localhost:8080/"
        },
        "outputId": "a5e9471e-0575-4d06-81b2-1dfdc6618773"
      },
      "source": [
        "date_str = lstcals.longformat_date(f'{date_input} {hour:02}:{minute:02}')\n",
        "print(date_str)\n",
        "utc_datetime = datetime.strptime(date_str, \"%Y-%m-%d %H:%M\")\n",
        "print(lstcals.date2lst(utc_datetime))"
      ],
      "execution_count": null,
      "outputs": [
        {
          "output_type": "stream",
          "text": [
            "2021-07-25 04:08\n",
            "At 2021/7/25 04:08:00Z MeerKAT LST will be 1:46:08.75\n"
          ],
          "name": "stdout"
        }
      ]
    },
    {
      "cell_type": "code",
      "metadata": {
        "cellView": "form",
        "id": "FSODoHt2YMuM"
      },
      "source": [
        "date_input = '2021-07-25' #@param {type:\"date\"}\n",
        "hour =  8#@param {type:\"integer\"}\n",
        "minute =  8#@param {type:\"integer\"}"
      ],
      "execution_count": null,
      "outputs": []
    },
    {
      "cell_type": "code",
      "metadata": {
        "colab": {
          "base_uri": "https://localhost:8080/"
        },
        "id": "0fPRrF3uYMuN",
        "outputId": "a6593ba5-c319-44bb-83ab-4eac51e796f0"
      },
      "source": [
        "date_str = lstcals.longformat_date(f'{date_input} {hour:02}:{minute:02}')\n",
        "print(date_str)\n",
        "utc_datetime = datetime.strptime(date_str, \"%Y-%m-%d %H:%M\")\n",
        "print(lstcals.date2lst(utc_datetime))"
      ],
      "execution_count": null,
      "outputs": [
        {
          "output_type": "stream",
          "text": [
            "2021-07-25 08:08\n",
            "At 2021/7/25 08:08:00Z MeerKAT LST will be 5:46:48.17\n"
          ],
          "name": "stdout"
        }
      ]
    },
    {
      "cell_type": "markdown",
      "metadata": {
        "id": "5lobzhWlb2KM"
      },
      "source": [
        "# AstroKAT LST calculation tools\n",
        "\n",
        "Time calculations providing LST information relative to the MeerKAT telescope\n",
        "\n",
        "For more detail refer to the\n",
        "[MeerKAT LST tools](https://github.com/ska-sa/astrokat/wiki/MeerKAT-LST-tools)\n",
        "documentation on the\n",
        "[AstroKAT](https://github.com/ska-sa/astrokat/wiki)\n",
        "wiki page.\n"
      ]
    },
    {
      "cell_type": "markdown",
      "metadata": {
        "id": "d1I4RP9Lb2KN"
      },
      "source": [
        "## Installation and setup"
      ]
    },
    {
      "cell_type": "code",
      "metadata": {
        "colab": {
          "base_uri": "https://localhost:8080/"
        },
        "id": "D0ZIl-bVb2KN",
        "outputId": "fb1d621f-70e6-47f3-e1fc-8a27eb7a36d1"
      },
      "source": [
        "!pip install git+https://github.com/ska-sa/astrokat.git"
      ],
      "execution_count": null,
      "outputs": [
        {
          "output_type": "stream",
          "text": [
            "Collecting git+https://github.com/ska-sa/astrokat.git\n",
            "  Cloning https://github.com/ska-sa/astrokat.git to /tmp/pip-req-build-mxn2jbmp\n",
            "  Running command git clone -q https://github.com/ska-sa/astrokat.git /tmp/pip-req-build-mxn2jbmp\n",
            "  Installing build dependencies ... \u001b[?25l\u001b[?25hdone\n",
            "  Getting requirements to build wheel ... \u001b[?25l\u001b[?25hdone\n",
            "  Installing backend dependencies ... \u001b[?25l\u001b[?25hdone\n",
            "    Preparing wheel metadata ... \u001b[?25l\u001b[?25hdone\n",
            "Requirement already satisfied (use --upgrade to upgrade): astrokat==0.1.dev741+master.ae30107 from git+https://github.com/ska-sa/astrokat.git in /usr/local/lib/python3.7/dist-packages\n",
            "Requirement already satisfied: astropy in /usr/local/lib/python3.7/dist-packages (from astrokat==0.1.dev741+master.ae30107) (4.2.1)\n",
            "Requirement already satisfied: pyyaml in /usr/local/lib/python3.7/dist-packages (from astrokat==0.1.dev741+master.ae30107) (3.13)\n",
            "Requirement already satisfied: pyephem in /usr/local/lib/python3.7/dist-packages (from astrokat==0.1.dev741+master.ae30107) (9.99)\n",
            "Requirement already satisfied: numpy in /usr/local/lib/python3.7/dist-packages (from astrokat==0.1.dev741+master.ae30107) (1.19.5)\n",
            "Requirement already satisfied: matplotlib in /usr/local/lib/python3.7/dist-packages (from astrokat==0.1.dev741+master.ae30107) (3.2.2)\n",
            "Requirement already satisfied: katpoint in /usr/local/lib/python3.7/dist-packages (from astrokat==0.1.dev741+master.ae30107) (0.10)\n",
            "Requirement already satisfied: pyerfa in /usr/local/lib/python3.7/dist-packages (from astropy->astrokat==0.1.dev741+master.ae30107) (2.0.0)\n",
            "Requirement already satisfied: ephem in /usr/local/lib/python3.7/dist-packages (from pyephem->astrokat==0.1.dev741+master.ae30107) (4.0.0.2)\n",
            "Requirement already satisfied: kiwisolver>=1.0.1 in /usr/local/lib/python3.7/dist-packages (from matplotlib->astrokat==0.1.dev741+master.ae30107) (1.3.1)\n",
            "Requirement already satisfied: cycler>=0.10 in /usr/local/lib/python3.7/dist-packages (from matplotlib->astrokat==0.1.dev741+master.ae30107) (0.10.0)\n",
            "Requirement already satisfied: pyparsing!=2.0.4,!=2.1.2,!=2.1.6,>=2.0.1 in /usr/local/lib/python3.7/dist-packages (from matplotlib->astrokat==0.1.dev741+master.ae30107) (2.4.7)\n",
            "Requirement already satisfied: python-dateutil>=2.1 in /usr/local/lib/python3.7/dist-packages (from matplotlib->astrokat==0.1.dev741+master.ae30107) (2.8.1)\n",
            "Requirement already satisfied: future in /usr/local/lib/python3.7/dist-packages (from katpoint->astrokat==0.1.dev741+master.ae30107) (0.16.0)\n",
            "Requirement already satisfied: six in /usr/local/lib/python3.7/dist-packages (from cycler>=0.10->matplotlib->astrokat==0.1.dev741+master.ae30107) (1.15.0)\n",
            "Building wheels for collected packages: astrokat\n",
            "  Building wheel for astrokat (PEP 517) ... \u001b[?25l\u001b[?25hdone\n",
            "  Created wheel for astrokat: filename=astrokat-0.1.dev741+master.ae30107-cp37-none-any.whl size=56291 sha256=8ac4bb9ce1cab7c09e91b898e2117b4fcf6b3f92bb27bd6add7ec52fb0c59795\n",
            "  Stored in directory: /tmp/pip-ephem-wheel-cache-kx94qw5q/wheels/4c/42/c4/982808ef2b9b2d88f345d5e8b81c563a18023a782b006c3ec8\n",
            "Successfully built astrokat\n"
          ],
          "name": "stdout"
        }
      ]
    },
    {
      "cell_type": "code",
      "metadata": {
        "colab": {
          "base_uri": "https://localhost:8080/"
        },
        "id": "DOhYRmgQb2KN",
        "outputId": "60a6e187-675a-4187-b92d-6dc1029495d1"
      },
      "source": [
        "!git clone https://github.com/ska-sa/astrokat.git"
      ],
      "execution_count": null,
      "outputs": [
        {
          "output_type": "stream",
          "text": [
            "fatal: destination path 'astrokat' already exists and is not an empty directory.\n"
          ],
          "name": "stdout"
        }
      ]
    },
    {
      "cell_type": "code",
      "metadata": {
        "colab": {
          "base_uri": "https://localhost:8080/"
        },
        "id": "ErurHwybb2KO",
        "outputId": "d152bdb7-3c7a-4f10-96a1-484f24a4df72"
      },
      "source": [
        "!ln -s /content/astrokat/scripts/astrokat-lst.py lstcals.py"
      ],
      "execution_count": null,
      "outputs": [
        {
          "output_type": "stream",
          "text": [
            "ln: failed to create symbolic link 'lstcals.py': File exists\n"
          ],
          "name": "stdout"
        }
      ]
    },
    {
      "cell_type": "code",
      "metadata": {
        "id": "tuttjcKWb2KO"
      },
      "source": [
        "from datetime import datetime\n",
        "import astrokat\n",
        "import lstcals"
      ],
      "execution_count": null,
      "outputs": []
    },
    {
      "cell_type": "markdown",
      "metadata": {
        "id": "wVd39nwRb2KO"
      },
      "source": [
        "## MeerKAT LST for a given UTC date and time\n",
        "\n",
        "`astrokat-lst.py --date '2018-08-06 12:34'`"
      ]
    },
    {
      "cell_type": "code",
      "metadata": {
        "id": "ahsDwpYtb2KO"
      },
      "source": [
        ""
      ],
      "execution_count": null,
      "outputs": []
    },
    {
      "cell_type": "code",
      "metadata": {
        "cellView": "form",
        "id": "dTiBVyMyb2KO"
      },
      "source": [
        "date_input = '2021-07-25' #@param {type:\"date\"}\n",
        "hour =  4#@param {type:\"integer\"}\n",
        "minute =  8#@param {type:\"integer\"}"
      ],
      "execution_count": null,
      "outputs": []
    },
    {
      "cell_type": "code",
      "metadata": {
        "colab": {
          "base_uri": "https://localhost:8080/"
        },
        "id": "oZols_cpb2KO",
        "outputId": "904d636e-ebb0-48a1-c340-b15a3b9354d7"
      },
      "source": [
        "date_str = lstcals.longformat_date(f'{date_input} {hour:02}:{minute:02}')\n",
        "print(date_str)\n",
        "utc_datetime = datetime.strptime(date_str, \"%Y-%m-%d %H:%M\")\n",
        "print(lstcals.date2lst(utc_datetime))"
      ],
      "execution_count": null,
      "outputs": [
        {
          "output_type": "stream",
          "text": [
            "2021-07-25 04:08\n",
            "At 2021/7/25 04:08:00Z MeerKAT LST will be 1:46:08.75\n"
          ],
          "name": "stdout"
        }
      ]
    },
    {
      "cell_type": "code",
      "metadata": {
        "cellView": "form",
        "id": "qPirLBZeb2KO"
      },
      "source": [
        "date_input = '2021-07-25' #@param {type:\"date\"}\n",
        "hour =  8#@param {type:\"integer\"}\n",
        "minute =  8#@param {type:\"integer\"}"
      ],
      "execution_count": null,
      "outputs": []
    },
    {
      "cell_type": "code",
      "metadata": {
        "colab": {
          "base_uri": "https://localhost:8080/"
        },
        "id": "cxRrzDIzb2KP",
        "outputId": "661f9c5d-5b09-41d7-ea40-869fc6056f00"
      },
      "source": [
        "date_str = lstcals.longformat_date(f'{date_input} {hour:02}:{minute:02}')\n",
        "print(date_str)\n",
        "utc_datetime = datetime.strptime(date_str, \"%Y-%m-%d %H:%M\")\n",
        "print(lstcals.date2lst(utc_datetime))"
      ],
      "execution_count": null,
      "outputs": [
        {
          "output_type": "stream",
          "text": [
            "2021-07-25 08:08\n",
            "At 2021/7/25 08:08:00Z MeerKAT LST will be 5:46:48.17\n"
          ],
          "name": "stdout"
        }
      ]
    },
    {
      "cell_type": "markdown",
      "metadata": {
        "id": "JXt0jAavb4na"
      },
      "source": [
        "# AstroKAT LST calculation tools\n",
        "\n",
        "Time calculations providing LST information relative to the MeerKAT telescope\n",
        "\n",
        "For more detail refer to the\n",
        "[MeerKAT LST tools](https://github.com/ska-sa/astrokat/wiki/MeerKAT-LST-tools)\n",
        "documentation on the\n",
        "[AstroKAT](https://github.com/ska-sa/astrokat/wiki)\n",
        "wiki page.\n"
      ]
    },
    {
      "cell_type": "markdown",
      "metadata": {
        "id": "qKLMJsc6b4nb"
      },
      "source": [
        "## Installation and setup"
      ]
    },
    {
      "cell_type": "code",
      "metadata": {
        "colab": {
          "base_uri": "https://localhost:8080/"
        },
        "id": "2T_45euQb4nb",
        "outputId": "481751dc-99a1-47b9-e29a-69e0c24abfc9"
      },
      "source": [
        "!pip install git+https://github.com/ska-sa/astrokat.git"
      ],
      "execution_count": null,
      "outputs": [
        {
          "output_type": "stream",
          "text": [
            "Collecting git+https://github.com/ska-sa/astrokat.git\n",
            "  Cloning https://github.com/ska-sa/astrokat.git to /tmp/pip-req-build-kun8u2aw\n",
            "  Running command git clone -q https://github.com/ska-sa/astrokat.git /tmp/pip-req-build-kun8u2aw\n",
            "  Installing build dependencies ... \u001b[?25l\u001b[?25hdone\n",
            "  Getting requirements to build wheel ... \u001b[?25l\u001b[?25hdone\n",
            "  Installing backend dependencies ... \u001b[?25l\u001b[?25hdone\n",
            "    Preparing wheel metadata ... \u001b[?25l\u001b[?25hdone\n",
            "Requirement already satisfied (use --upgrade to upgrade): astrokat==0.1.dev741+master.ae30107 from git+https://github.com/ska-sa/astrokat.git in /usr/local/lib/python3.7/dist-packages\n",
            "Requirement already satisfied: katpoint in /usr/local/lib/python3.7/dist-packages (from astrokat==0.1.dev741+master.ae30107) (0.10)\n",
            "Requirement already satisfied: pyyaml in /usr/local/lib/python3.7/dist-packages (from astrokat==0.1.dev741+master.ae30107) (3.13)\n",
            "Requirement already satisfied: pyephem in /usr/local/lib/python3.7/dist-packages (from astrokat==0.1.dev741+master.ae30107) (9.99)\n",
            "Requirement already satisfied: astropy in /usr/local/lib/python3.7/dist-packages (from astrokat==0.1.dev741+master.ae30107) (4.2.1)\n",
            "Requirement already satisfied: numpy in /usr/local/lib/python3.7/dist-packages (from astrokat==0.1.dev741+master.ae30107) (1.19.5)\n",
            "Requirement already satisfied: matplotlib in /usr/local/lib/python3.7/dist-packages (from astrokat==0.1.dev741+master.ae30107) (3.2.2)\n",
            "Requirement already satisfied: ephem in /usr/local/lib/python3.7/dist-packages (from katpoint->astrokat==0.1.dev741+master.ae30107) (4.0.0.2)\n",
            "Requirement already satisfied: future in /usr/local/lib/python3.7/dist-packages (from katpoint->astrokat==0.1.dev741+master.ae30107) (0.16.0)\n",
            "Requirement already satisfied: pyerfa in /usr/local/lib/python3.7/dist-packages (from astropy->astrokat==0.1.dev741+master.ae30107) (2.0.0)\n",
            "Requirement already satisfied: pyparsing!=2.0.4,!=2.1.2,!=2.1.6,>=2.0.1 in /usr/local/lib/python3.7/dist-packages (from matplotlib->astrokat==0.1.dev741+master.ae30107) (2.4.7)\n",
            "Requirement already satisfied: cycler>=0.10 in /usr/local/lib/python3.7/dist-packages (from matplotlib->astrokat==0.1.dev741+master.ae30107) (0.10.0)\n",
            "Requirement already satisfied: kiwisolver>=1.0.1 in /usr/local/lib/python3.7/dist-packages (from matplotlib->astrokat==0.1.dev741+master.ae30107) (1.3.1)\n",
            "Requirement already satisfied: python-dateutil>=2.1 in /usr/local/lib/python3.7/dist-packages (from matplotlib->astrokat==0.1.dev741+master.ae30107) (2.8.1)\n",
            "Requirement already satisfied: six in /usr/local/lib/python3.7/dist-packages (from cycler>=0.10->matplotlib->astrokat==0.1.dev741+master.ae30107) (1.15.0)\n",
            "Building wheels for collected packages: astrokat\n",
            "  Building wheel for astrokat (PEP 517) ... \u001b[?25l\u001b[?25hdone\n",
            "  Created wheel for astrokat: filename=astrokat-0.1.dev741+master.ae30107-cp37-none-any.whl size=56291 sha256=cebe50c82115a65510a02f1276a97562a9f352671f5392585533aa716b9a5373\n",
            "  Stored in directory: /tmp/pip-ephem-wheel-cache-tk4kbxl6/wheels/4c/42/c4/982808ef2b9b2d88f345d5e8b81c563a18023a782b006c3ec8\n",
            "Successfully built astrokat\n"
          ],
          "name": "stdout"
        }
      ]
    },
    {
      "cell_type": "code",
      "metadata": {
        "colab": {
          "base_uri": "https://localhost:8080/"
        },
        "id": "1fQBxw9Ob4nb",
        "outputId": "b039899f-bda6-4e71-8480-3371ce82ab72"
      },
      "source": [
        "!git clone https://github.com/ska-sa/astrokat.git"
      ],
      "execution_count": null,
      "outputs": [
        {
          "output_type": "stream",
          "text": [
            "fatal: destination path 'astrokat' already exists and is not an empty directory.\n"
          ],
          "name": "stdout"
        }
      ]
    },
    {
      "cell_type": "code",
      "metadata": {
        "colab": {
          "base_uri": "https://localhost:8080/"
        },
        "id": "7d2oH2tjb4nb",
        "outputId": "79475ccc-6f5c-4ec4-def9-119bb2c1fe10"
      },
      "source": [
        "!ln -s /content/astrokat/scripts/astrokat-lst.py lstcals.py"
      ],
      "execution_count": null,
      "outputs": [
        {
          "output_type": "stream",
          "text": [
            "ln: failed to create symbolic link 'lstcals.py': File exists\n"
          ],
          "name": "stdout"
        }
      ]
    },
    {
      "cell_type": "code",
      "metadata": {
        "id": "Zkf8QsuAb4nc"
      },
      "source": [
        "from datetime import datetime\n",
        "import astrokat\n",
        "import lstcals"
      ],
      "execution_count": null,
      "outputs": []
    },
    {
      "cell_type": "markdown",
      "metadata": {
        "id": "kXctMVRIb7Jl"
      },
      "source": [
        "# AstroKAT LST calculation tools\n",
        "\n",
        "Time calculations providing LST information relative to the MeerKAT telescope\n",
        "\n",
        "For more detail refer to the\n",
        "[MeerKAT LST tools](https://github.com/ska-sa/astrokat/wiki/MeerKAT-LST-tools)\n",
        "documentation on the\n",
        "[AstroKAT](https://github.com/ska-sa/astrokat/wiki)\n",
        "wiki page.\n"
      ]
    },
    {
      "cell_type": "markdown",
      "metadata": {
        "id": "gHZRNru8b7Jl"
      },
      "source": [
        "## Installation and setup"
      ]
    },
    {
      "cell_type": "code",
      "metadata": {
        "colab": {
          "base_uri": "https://localhost:8080/"
        },
        "id": "Fvzs5nFVb7Jl",
        "outputId": "28cf3daf-0ac1-467c-a781-868f60bccddc"
      },
      "source": [
        "!pip install git+https://github.com/ska-sa/astrokat.git"
      ],
      "execution_count": null,
      "outputs": [
        {
          "output_type": "stream",
          "text": [
            "Collecting git+https://github.com/ska-sa/astrokat.git\n",
            "  Cloning https://github.com/ska-sa/astrokat.git to /tmp/pip-req-build-7fq4tke_\n",
            "  Running command git clone -q https://github.com/ska-sa/astrokat.git /tmp/pip-req-build-7fq4tke_\n",
            "  Installing build dependencies ... \u001b[?25l\u001b[?25hdone\n",
            "  Getting requirements to build wheel ... \u001b[?25l\u001b[?25hdone\n",
            "  Installing backend dependencies ... \u001b[?25l\u001b[?25hdone\n",
            "    Preparing wheel metadata ... \u001b[?25l\u001b[?25hdone\n",
            "Requirement already satisfied (use --upgrade to upgrade): astrokat==0.1.dev741+master.ae30107 from git+https://github.com/ska-sa/astrokat.git in /usr/local/lib/python3.7/dist-packages\n",
            "Requirement already satisfied: matplotlib in /usr/local/lib/python3.7/dist-packages (from astrokat==0.1.dev741+master.ae30107) (3.2.2)\n",
            "Requirement already satisfied: astropy in /usr/local/lib/python3.7/dist-packages (from astrokat==0.1.dev741+master.ae30107) (4.2.1)\n",
            "Requirement already satisfied: numpy in /usr/local/lib/python3.7/dist-packages (from astrokat==0.1.dev741+master.ae30107) (1.19.5)\n",
            "Requirement already satisfied: pyephem in /usr/local/lib/python3.7/dist-packages (from astrokat==0.1.dev741+master.ae30107) (9.99)\n",
            "Requirement already satisfied: katpoint in /usr/local/lib/python3.7/dist-packages (from astrokat==0.1.dev741+master.ae30107) (0.10)\n",
            "Requirement already satisfied: pyyaml in /usr/local/lib/python3.7/dist-packages (from astrokat==0.1.dev741+master.ae30107) (3.13)\n",
            "Requirement already satisfied: cycler>=0.10 in /usr/local/lib/python3.7/dist-packages (from matplotlib->astrokat==0.1.dev741+master.ae30107) (0.10.0)\n",
            "Requirement already satisfied: pyparsing!=2.0.4,!=2.1.2,!=2.1.6,>=2.0.1 in /usr/local/lib/python3.7/dist-packages (from matplotlib->astrokat==0.1.dev741+master.ae30107) (2.4.7)\n",
            "Requirement already satisfied: python-dateutil>=2.1 in /usr/local/lib/python3.7/dist-packages (from matplotlib->astrokat==0.1.dev741+master.ae30107) (2.8.1)\n",
            "Requirement already satisfied: kiwisolver>=1.0.1 in /usr/local/lib/python3.7/dist-packages (from matplotlib->astrokat==0.1.dev741+master.ae30107) (1.3.1)\n",
            "Requirement already satisfied: pyerfa in /usr/local/lib/python3.7/dist-packages (from astropy->astrokat==0.1.dev741+master.ae30107) (2.0.0)\n",
            "Requirement already satisfied: ephem in /usr/local/lib/python3.7/dist-packages (from pyephem->astrokat==0.1.dev741+master.ae30107) (4.0.0.2)\n",
            "Requirement already satisfied: future in /usr/local/lib/python3.7/dist-packages (from katpoint->astrokat==0.1.dev741+master.ae30107) (0.16.0)\n",
            "Requirement already satisfied: six in /usr/local/lib/python3.7/dist-packages (from cycler>=0.10->matplotlib->astrokat==0.1.dev741+master.ae30107) (1.15.0)\n",
            "Building wheels for collected packages: astrokat\n",
            "  Building wheel for astrokat (PEP 517) ... \u001b[?25l\u001b[?25hdone\n",
            "  Created wheel for astrokat: filename=astrokat-0.1.dev741+master.ae30107-cp37-none-any.whl size=56291 sha256=b9fca4e908116812bde80b11282a5dc9fa2fa990f589b19b634ffbc74f2448eb\n",
            "  Stored in directory: /tmp/pip-ephem-wheel-cache-tpxyprld/wheels/4c/42/c4/982808ef2b9b2d88f345d5e8b81c563a18023a782b006c3ec8\n",
            "Successfully built astrokat\n"
          ],
          "name": "stdout"
        }
      ]
    },
    {
      "cell_type": "code",
      "metadata": {
        "colab": {
          "base_uri": "https://localhost:8080/"
        },
        "id": "ZgVSQl22b7Jl",
        "outputId": "4bcbac00-6b82-4f30-b1ab-36fbaf5ab1fd"
      },
      "source": [
        "!git clone https://github.com/ska-sa/astrokat.git"
      ],
      "execution_count": null,
      "outputs": [
        {
          "output_type": "stream",
          "text": [
            "fatal: destination path 'astrokat' already exists and is not an empty directory.\n"
          ],
          "name": "stdout"
        }
      ]
    },
    {
      "cell_type": "code",
      "metadata": {
        "colab": {
          "base_uri": "https://localhost:8080/"
        },
        "id": "pIWdI6bCb7Jm",
        "outputId": "055b79af-f496-4a91-953e-7eb4b67475e5"
      },
      "source": [
        "!ln -s /content/astrokat/scripts/astrokat-lst.py lstcals.py"
      ],
      "execution_count": null,
      "outputs": [
        {
          "output_type": "stream",
          "text": [
            "ln: failed to create symbolic link 'lstcals.py': File exists\n"
          ],
          "name": "stdout"
        }
      ]
    },
    {
      "cell_type": "code",
      "metadata": {
        "id": "UVIpB8O_b7Jm"
      },
      "source": [
        "from datetime import datetime\n",
        "import astrokat\n",
        "import lstcals"
      ],
      "execution_count": null,
      "outputs": []
    },
    {
      "cell_type": "markdown",
      "metadata": {
        "id": "422FyjXib7Jm"
      },
      "source": [
        "## MeerKAT LST for a given UTC date and time\n",
        "\n",
        "`astrokat-lst.py --date '2018-08-06 12:34'`"
      ]
    },
    {
      "cell_type": "code",
      "metadata": {
        "id": "z1XOjkTWb7Jm"
      },
      "source": [
        ""
      ],
      "execution_count": null,
      "outputs": []
    },
    {
      "cell_type": "code",
      "metadata": {
        "cellView": "form",
        "id": "QaSsjaEQb7Jm"
      },
      "source": [
        "date_input = '2021-07-25' #@param {type:\"date\"}\n",
        "hour =  4#@param {type:\"integer\"}\n",
        "minute =  8#@param {type:\"integer\"}"
      ],
      "execution_count": null,
      "outputs": []
    },
    {
      "cell_type": "code",
      "metadata": {
        "colab": {
          "base_uri": "https://localhost:8080/"
        },
        "id": "GIprd3iLb7Jm",
        "outputId": "53e9c9af-efab-4856-b85b-27670dc171c3"
      },
      "source": [
        "date_str = lstcals.longformat_date(f'{date_input} {hour:02}:{minute:02}')\n",
        "print(date_str)\n",
        "utc_datetime = datetime.strptime(date_str, \"%Y-%m-%d %H:%M\")\n",
        "print(lstcals.date2lst(utc_datetime))"
      ],
      "execution_count": null,
      "outputs": [
        {
          "output_type": "stream",
          "text": [
            "2021-07-25 04:08\n",
            "At 2021/7/25 04:08:00Z MeerKAT LST will be 1:46:08.75\n"
          ],
          "name": "stdout"
        }
      ]
    },
    {
      "cell_type": "code",
      "metadata": {
        "cellView": "form",
        "id": "hfkeK27Db7Jm"
      },
      "source": [
        "date_input = '2021-07-25' #@param {type:\"date\"}\n",
        "hour =  8#@param {type:\"integer\"}\n",
        "minute =  8#@param {type:\"integer\"}"
      ],
      "execution_count": null,
      "outputs": []
    },
    {
      "cell_type": "code",
      "metadata": {
        "colab": {
          "base_uri": "https://localhost:8080/"
        },
        "id": "AranMlTXb7Jn",
        "outputId": "7dd86cdb-f742-4828-9bf3-8699b66fc1d3"
      },
      "source": [
        "date_str = lstcals.longformat_date(f'{date_input} {hour:02}:{minute:02}')\n",
        "print(date_str)\n",
        "utc_datetime = datetime.strptime(date_str, \"%Y-%m-%d %H:%M\")\n",
        "print(lstcals.date2lst(utc_datetime))"
      ],
      "execution_count": null,
      "outputs": [
        {
          "output_type": "stream",
          "text": [
            "2021-07-25 08:08\n",
            "At 2021/7/25 08:08:00Z MeerKAT LST will be 5:46:48.17\n"
          ],
          "name": "stdout"
        }
      ]
    },
    {
      "cell_type": "markdown",
      "metadata": {
        "id": "zMUJbzi_b4nc"
      },
      "source": [
        "## MeerKAT LST for a given UTC date and time\n",
        "\n",
        "`astrokat-lst.py --date '2018-08-06 12:34'`"
      ]
    },
    {
      "cell_type": "code",
      "metadata": {
        "id": "_N9qiD2Db4nc"
      },
      "source": [
        ""
      ],
      "execution_count": null,
      "outputs": []
    },
    {
      "cell_type": "code",
      "metadata": {
        "cellView": "form",
        "id": "zmsC_MXub4nc"
      },
      "source": [
        "date_input = '2021-07-25' #@param {type:\"date\"}\n",
        "hour =  4#@param {type:\"integer\"}\n",
        "minute =  8#@param {type:\"integer\"}"
      ],
      "execution_count": null,
      "outputs": []
    },
    {
      "cell_type": "code",
      "metadata": {
        "colab": {
          "base_uri": "https://localhost:8080/"
        },
        "id": "CSJY_MIfb4nc",
        "outputId": "6ea9bb28-6e4e-42c2-a761-af2846a59e20"
      },
      "source": [
        "date_str = lstcals.longformat_date(f'{date_input} {hour:02}:{minute:02}')\n",
        "print(date_str)\n",
        "utc_datetime = datetime.strptime(date_str, \"%Y-%m-%d %H:%M\")\n",
        "print(lstcals.date2lst(utc_datetime))"
      ],
      "execution_count": null,
      "outputs": [
        {
          "output_type": "stream",
          "text": [
            "2021-07-25 04:08\n",
            "At 2021/7/25 04:08:00Z MeerKAT LST will be 1:46:08.75\n"
          ],
          "name": "stdout"
        }
      ]
    },
    {
      "cell_type": "code",
      "metadata": {
        "cellView": "form",
        "id": "jZUsxYAwb4nc"
      },
      "source": [
        "date_input = '2021-07-25' #@param {type:\"date\"}\n",
        "hour =  8#@param {type:\"integer\"}\n",
        "minute =  8#@param {type:\"integer\"}"
      ],
      "execution_count": null,
      "outputs": []
    },
    {
      "cell_type": "code",
      "metadata": {
        "colab": {
          "base_uri": "https://localhost:8080/"
        },
        "id": "FGHNXWh8b4nc",
        "outputId": "4f003c44-260d-4502-e389-40a36a95cbff"
      },
      "source": [
        "date_str = lstcals.longformat_date(f'{date_input} {hour:02}:{minute:02}')\n",
        "print(date_str)\n",
        "utc_datetime = datetime.strptime(date_str, \"%Y-%m-%d %H:%M\")\n",
        "print(lstcals.date2lst(utc_datetime))"
      ],
      "execution_count": null,
      "outputs": [
        {
          "output_type": "stream",
          "text": [
            "2021-07-25 08:08\n",
            "At 2021/7/25 08:08:00Z MeerKAT LST will be 5:46:48.17\n"
          ],
          "name": "stdout"
        }
      ]
    }
  ]
}